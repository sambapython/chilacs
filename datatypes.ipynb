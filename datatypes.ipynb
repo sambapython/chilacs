{
 "cells": [
  {
   "cell_type": "code",
   "execution_count": 1,
   "id": "13601902",
   "metadata": {},
   "outputs": [
    {
     "name": "stdout",
     "output_type": "stream",
     "text": [
      "1000 <class 'int'>\n",
      "12.34 <class 'float'>\n",
      "True <class 'bool'>\n",
      "False <class 'bool'>\n",
      "None <class 'NoneType'>\n",
      "Hyderabad <class 'str'>\n",
      "[1000, 2000, 3000] <class 'list'>\n",
      "(1000, 2000, 3000) <class 'tuple'>\n",
      "{1000, 3000, 2000} <class 'set'>\n",
      "{'name': 'aja', 'city': ' HYD'} <class 'dict'>\n",
      "(1+2j) <class 'complex'>\n"
     ]
    }
   ],
   "source": [
    "a=1000\n",
    "print(a, type(a))\n",
    "a=12.34\n",
    "print(a, type(a))\n",
    "a=True\n",
    "print(a, type(a))\n",
    "a=False\n",
    "print(a, type(a))\n",
    "a=None\n",
    "print(a, type(a))\n",
    "a=\"Hyderabad\"\n",
    "print(a, type(a))\n",
    "a=[1000,2000,3000]\n",
    "print(a, type(a))\n",
    "a=(1000,2000,3000)\n",
    "print(a, type(a))\n",
    "a={1000,2000,3000}\n",
    "print(a, type(a))\n",
    "a={\"name\":\"aja\",\"city\":\" HYD\"}\n",
    "print(a, type(a))\n",
    "a=1+2j\n",
    "print(a, type(a))"
   ]
  },
  {
   "cell_type": "code",
   "execution_count": null,
   "id": "6aaec194",
   "metadata": {},
   "outputs": [],
   "source": [
    "a=1000\n",
    "b=a\n",
    "c=a+b\n",
    "d=\"HYD\"\n",
    "l=[1000,2000,3000]\n",
    "k=1000\n",
    "t=(a,b,c)\n",
    "t1=t\n",
    "m=k\n"
   ]
  },
  {
   "cell_type": "code",
   "execution_count": 2,
   "id": "36b54c7b",
   "metadata": {},
   "outputs": [
    {
     "name": "stdout",
     "output_type": "stream",
     "text": [
      "1000 <class 'int'>\n"
     ]
    }
   ],
   "source": [
    "a:int=1000 #:int type-hint\n",
    "print(a, type(a))"
   ]
  },
  {
   "cell_type": "code",
   "execution_count": 3,
   "id": "84a2198b",
   "metadata": {},
   "outputs": [
    {
     "name": "stdout",
     "output_type": "stream",
     "text": [
      "12.34 <class 'float'>\n"
     ]
    }
   ],
   "source": [
    "a:int=12.34 #:int type-hint\n",
    "print(a, type(a))"
   ]
  },
  {
   "cell_type": "code",
   "execution_count": 4,
   "id": "e8792021",
   "metadata": {},
   "outputs": [
    {
     "name": "stdout",
     "output_type": "stream",
     "text": [
      "1000\n"
     ]
    }
   ],
   "source": [
    "a=1000\n",
    "print(a)"
   ]
  },
  {
   "cell_type": "code",
   "execution_count": 5,
   "id": "36c8e9d6",
   "metadata": {},
   "outputs": [
    {
     "name": "stdout",
     "output_type": "stream",
     "text": [
      "1000 1845565390768 <class 'int'>\n"
     ]
    }
   ],
   "source": [
    "a=1000\n",
    "print(a, id(a), type(a))"
   ]
  },
  {
   "cell_type": "code",
   "execution_count": 6,
   "id": "451f33ea",
   "metadata": {},
   "outputs": [
    {
     "name": "stdout",
     "output_type": "stream",
     "text": [
      "1000 1845565389392\n",
      "1000 1845565389392\n"
     ]
    }
   ],
   "source": [
    "a=1000\n",
    "b=a\n",
    "print(a, id(a))\n",
    "print(b, id(b))"
   ]
  },
  {
   "cell_type": "code",
   "execution_count": 7,
   "id": "655d7cb6",
   "metadata": {},
   "outputs": [
    {
     "name": "stdout",
     "output_type": "stream",
     "text": [
      "1000\n"
     ]
    }
   ],
   "source": [
    "a=1000\n",
    "b=a\n",
    "a=2000\n",
    "print(b)"
   ]
  },
  {
   "cell_type": "code",
   "execution_count": 8,
   "id": "4cc33600",
   "metadata": {},
   "outputs": [
    {
     "name": "stdout",
     "output_type": "stream",
     "text": [
      "HYD <class 'str'>\n"
     ]
    }
   ],
   "source": [
    "d=\"HYD\"\n",
    "print(d, type(d))"
   ]
  },
  {
   "cell_type": "code",
   "execution_count": 9,
   "id": "a5e145a0",
   "metadata": {},
   "outputs": [
    {
     "name": "stdout",
     "output_type": "stream",
     "text": [
      "HYD <class 'str'>\n",
      "1000 <class 'int'>\n"
     ]
    }
   ],
   "source": [
    "d=\"HYD\"\n",
    "print(d, type(d))\n",
    "d=1000\n",
    "print(d, type(d))"
   ]
  },
  {
   "cell_type": "code",
   "execution_count": 1,
   "id": "c0ca962a",
   "metadata": {},
   "outputs": [
    {
     "name": "stdout",
     "output_type": "stream",
     "text": [
      "SHA-256 hash value: 4a44dc15364204a80fe80e9039455cc1608281820fe2b24f1e5233ade6af1dd5\n"
     ]
    }
   ],
   "source": [
    "import hashlib\n",
    "input_data = \"10\"\n",
    "hash_object = hashlib.sha256()\n",
    "hash_object.update(input_data.encode())\n",
    "hash_value = hash_object.hexdigest()\n",
    "print(f\"SHA-256 hash value: {hash_value}\")\n"
   ]
  },
  {
   "cell_type": "code",
   "execution_count": 2,
   "id": "8562721a",
   "metadata": {},
   "outputs": [
    {
     "name": "stdout",
     "output_type": "stream",
     "text": [
      "AJA\n"
     ]
    }
   ],
   "source": [
    "data = {\"name\":\"AJA\",\"address\":\"HYD\"}\n",
    "print(data[\"name\"])"
   ]
  },
  {
   "cell_type": "code",
   "execution_count": null,
   "id": "c7765cb1",
   "metadata": {},
   "outputs": [],
   "source": []
  }
 ],
 "metadata": {
  "kernelspec": {
   "display_name": "Python 3 (ipykernel)",
   "language": "python",
   "name": "python3"
  },
  "language_info": {
   "codemirror_mode": {
    "name": "ipython",
    "version": 3
   },
   "file_extension": ".py",
   "mimetype": "text/x-python",
   "name": "python",
   "nbconvert_exporter": "python",
   "pygments_lexer": "ipython3",
   "version": "3.11.3"
  }
 },
 "nbformat": 4,
 "nbformat_minor": 5
}
