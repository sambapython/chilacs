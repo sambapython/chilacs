{
 "cells": [
  {
   "cell_type": "code",
   "execution_count": 1,
   "id": "295a1e70",
   "metadata": {},
   "outputs": [
    {
     "name": "stdout",
     "output_type": "stream",
     "text": [
      "['__add__', '__class__', '__contains__', '__delattr__', '__dir__', '__doc__', '__eq__', '__format__', '__ge__', '__getattribute__', '__getitem__', '__getnewargs__', '__getstate__', '__gt__', '__hash__', '__init__', '__init_subclass__', '__iter__', '__le__', '__len__', '__lt__', '__mod__', '__mul__', '__ne__', '__new__', '__reduce__', '__reduce_ex__', '__repr__', '__rmod__', '__rmul__', '__setattr__', '__sizeof__', '__str__', '__subclasshook__', 'capitalize', 'casefold', 'center', 'count', 'encode', 'endswith', 'expandtabs', 'find', 'format', 'format_map', 'index', 'isalnum', 'isalpha', 'isascii', 'isdecimal', 'isdigit', 'isidentifier', 'islower', 'isnumeric', 'isprintable', 'isspace', 'istitle', 'isupper', 'join', 'ljust', 'lower', 'lstrip', 'maketrans', 'partition', 'removeprefix', 'removesuffix', 'replace', 'rfind', 'rindex', 'rjust', 'rpartition', 'rsplit', 'rstrip', 'split', 'splitlines', 'startswith', 'strip', 'swapcase', 'title', 'translate', 'upper', 'zfill']\n"
     ]
    }
   ],
   "source": [
    "s=\"HYD\"\n",
    "print(dir(s))"
   ]
  },
  {
   "cell_type": "code",
   "execution_count": 2,
   "id": "34962a13",
   "metadata": {},
   "outputs": [],
   "source": [
    "s.capitalize?"
   ]
  },
  {
   "cell_type": "code",
   "execution_count": 3,
   "id": "2bd367db",
   "metadata": {},
   "outputs": [
    {
     "name": "stdout",
     "output_type": "stream",
     "text": [
      "Hyderabad\n"
     ]
    }
   ],
   "source": [
    "s=\"hyderabad\"\n",
    "print(s.capitalize())"
   ]
  },
  {
   "cell_type": "code",
   "execution_count": 4,
   "id": "5f7f7169",
   "metadata": {},
   "outputs": [
    {
     "name": "stdout",
     "output_type": "stream",
     "text": [
      "Hyderabad\n"
     ]
    }
   ],
   "source": [
    "s=\"hyderaBAD\"\n",
    "print(s.capitalize())"
   ]
  },
  {
   "cell_type": "code",
   "execution_count": 5,
   "id": "d3798226",
   "metadata": {},
   "outputs": [
    {
     "name": "stdout",
     "output_type": "stream",
     "text": [
      "2hyderabad\n"
     ]
    }
   ],
   "source": [
    "s=\"2hyderaBAD\"\n",
    "print(s.capitalize())"
   ]
  },
  {
   "cell_type": "code",
   "execution_count": 7,
   "id": "edb9b257",
   "metadata": {},
   "outputs": [
    {
     "name": "stdout",
     "output_type": "stream",
     "text": [
      "BAD\n",
      "bad\n"
     ]
    }
   ],
   "source": [
    "s=\"bad\"\n",
    "print(s.upper())\n",
    "print(s.lower())"
   ]
  },
  {
   "cell_type": "code",
   "execution_count": 8,
   "id": "b1f8c69c",
   "metadata": {},
   "outputs": [
    {
     "name": "stdout",
     "output_type": "stream",
     "text": [
      "BAD234#$%\n",
      "bad234#$%\n"
     ]
    }
   ],
   "source": [
    "s=\"bad234#$%\"\n",
    "print(s.upper())\n",
    "print(s.lower())"
   ]
  },
  {
   "cell_type": "code",
   "execution_count": 9,
   "id": "c7688a0b",
   "metadata": {},
   "outputs": [
    {
     "name": "stdout",
     "output_type": "stream",
     "text": [
      "\n",
      "\n"
     ]
    }
   ],
   "source": [
    "s=\"\"\n",
    "print(s.lower())\n",
    "print(s.upper())"
   ]
  },
  {
   "cell_type": "code",
   "execution_count": 10,
   "id": "c01a35b9",
   "metadata": {},
   "outputs": [
    {
     "name": "stdout",
     "output_type": "stream",
     "text": [
      "13\n"
     ]
    }
   ],
   "source": [
    "s=\"apple;orange;grape;apple;grape;banana;grape\"\n",
    "print(s.index(\"grape\"))"
   ]
  },
  {
   "cell_type": "code",
   "execution_count": 1,
   "id": "744cab3c",
   "metadata": {},
   "outputs": [
    {
     "data": {
      "text/plain": [
       "'maketrans, translate, formatmap'"
      ]
     },
     "execution_count": 1,
     "metadata": {},
     "output_type": "execute_result"
    }
   ],
   "source": [
    "\"maketrans, translate, formatmap\""
   ]
  },
  {
   "cell_type": "code",
   "execution_count": 3,
   "id": "5b8b27b7",
   "metadata": {},
   "outputs": [
    {
     "name": "stdout",
     "output_type": "stream",
     "text": [
      "abcdabcdabcdabcd\n",
      "$%#d$%#d$%#d$%#d\n"
     ]
    }
   ],
   "source": [
    "s=\"abcdabcdabcdabcd\"\n",
    "#a=$, c=#\n",
    "#abc=$%#\n",
    "s1=s.replace(\"abc\",\"$%#\")\n",
    "print(s)\n",
    "print(s1)"
   ]
  },
  {
   "cell_type": "code",
   "execution_count": 5,
   "id": "871b9bc9",
   "metadata": {},
   "outputs": [
    {
     "name": "stdout",
     "output_type": "stream",
     "text": [
      "$b#d$b#d$b#d$b#d\n"
     ]
    }
   ],
   "source": [
    "s=\"abcdabcdabcdabcd\"\n",
    "s1=s.replace(\"a\",\"$\")\n",
    "s2=s1.replace(\"c\",\"#\")\n",
    "print(s2)"
   ]
  },
  {
   "cell_type": "code",
   "execution_count": 7,
   "id": "b53dbb03",
   "metadata": {},
   "outputs": [
    {
     "name": "stdout",
     "output_type": "stream",
     "text": [
      "$b#d$b#d$b#d$b#d\n"
     ]
    }
   ],
   "source": [
    "s=\"abcdabcdabcdabcd\"\n",
    "for cha, r_char in [(\"a\",\"$\"),(\"c\",\"#\")]:\n",
    "    s=s.replace(cha, r_char)\n",
    "print(s)"
   ]
  },
  {
   "cell_type": "code",
   "execution_count": 8,
   "id": "2b532ecd",
   "metadata": {},
   "outputs": [
    {
     "name": "stdout",
     "output_type": "stream",
     "text": [
      "$b#^$b#^$b#^$b#^\n"
     ]
    }
   ],
   "source": [
    "s=\"abcdabcdabcdabcd\"\n",
    "for cha, r_char in [(\"a\",\"$\"),(\"c\",\"#\"),(\"d\",\"^\")]:\n",
    "    s=s.replace(cha, r_char)\n",
    "print(s)"
   ]
  },
  {
   "cell_type": "code",
   "execution_count": 9,
   "id": "271d1c37",
   "metadata": {},
   "outputs": [
    {
     "data": {
      "text/plain": [
       "97"
      ]
     },
     "execution_count": 9,
     "metadata": {},
     "output_type": "execute_result"
    }
   ],
   "source": [
    "ord(\"a\")"
   ]
  },
  {
   "cell_type": "code",
   "execution_count": 10,
   "id": "63e3f48a",
   "metadata": {},
   "outputs": [
    {
     "data": {
      "text/plain": [
       "36"
      ]
     },
     "execution_count": 10,
     "metadata": {},
     "output_type": "execute_result"
    }
   ],
   "source": [
    "ord(\"$\")"
   ]
  },
  {
   "cell_type": "code",
   "execution_count": 11,
   "id": "21c8b8b7",
   "metadata": {},
   "outputs": [
    {
     "name": "stdout",
     "output_type": "stream",
     "text": [
      "$bcd$bcd$bcd$bcd\n"
     ]
    }
   ],
   "source": [
    "s=\"abcdabcdabcdabcd\"\n",
    "s1=s.translate({97:36})\n",
    "print(s1)"
   ]
  },
  {
   "cell_type": "code",
   "execution_count": 12,
   "id": "66df36ec",
   "metadata": {},
   "outputs": [
    {
     "data": {
      "text/plain": [
       "99"
      ]
     },
     "execution_count": 12,
     "metadata": {},
     "output_type": "execute_result"
    }
   ],
   "source": [
    "ord(\"c\")"
   ]
  },
  {
   "cell_type": "code",
   "execution_count": 13,
   "id": "fd583b13",
   "metadata": {},
   "outputs": [
    {
     "data": {
      "text/plain": [
       "35"
      ]
     },
     "execution_count": 13,
     "metadata": {},
     "output_type": "execute_result"
    }
   ],
   "source": [
    "ord(\"#\")"
   ]
  },
  {
   "cell_type": "code",
   "execution_count": 14,
   "id": "de0bfdae",
   "metadata": {},
   "outputs": [
    {
     "name": "stdout",
     "output_type": "stream",
     "text": [
      "$b#d$b#d$b#d$b#d\n"
     ]
    }
   ],
   "source": [
    "s=\"abcdabcdabcdabcd\"\n",
    "s1=s.translate({97:36, 99:35})\n",
    "print(s1)"
   ]
  },
  {
   "cell_type": "code",
   "execution_count": 15,
   "id": "cbe4eba9",
   "metadata": {},
   "outputs": [
    {
     "data": {
      "text/plain": [
       "{97: 36, 99: 35}"
      ]
     },
     "execution_count": 15,
     "metadata": {},
     "output_type": "execute_result"
    }
   ],
   "source": [
    "\"\".maketrans(\"ac\",\"$#\")"
   ]
  },
  {
   "cell_type": "code",
   "execution_count": 16,
   "id": "2e9a7976",
   "metadata": {},
   "outputs": [
    {
     "name": "stdout",
     "output_type": "stream",
     "text": [
      "$b#d$b#d$b#d$b#d\n"
     ]
    }
   ],
   "source": [
    "s=\"abcdabcdabcdabcd\"\n",
    "s1=s.translate(\"\".maketrans(\"ac\",\"$#\"))\n",
    "print(s1)"
   ]
  },
  {
   "cell_type": "code",
   "execution_count": 18,
   "id": "c837f66d",
   "metadata": {},
   "outputs": [
    {
     "name": "stdout",
     "output_type": "stream",
     "text": [
      "abcbcbcbcd\n"
     ]
    }
   ],
   "source": [
    "s=\"abcdabcdabcdabcd\"\n",
    "s1=s.replace(\"da\",'')\n",
    "print(s1)"
   ]
  },
  {
   "cell_type": "code",
   "execution_count": 19,
   "id": "1f901b7f",
   "metadata": {},
   "outputs": [
    {
     "name": "stdout",
     "output_type": "stream",
     "text": [
      "['abcd', 'abcd', 'abcd', 'abcd']\n"
     ]
    }
   ],
   "source": [
    "s=\"abcd:abcd:abcd:abcd\"\n",
    "l=[\"abcd\",\"abcd\",\"abcd\",\"abcd\"]\n",
    "s1=s.split(\":\")\n",
    "print(s1)"
   ]
  },
  {
   "cell_type": "code",
   "execution_count": 20,
   "id": "57ca03bd",
   "metadata": {},
   "outputs": [
    {
     "name": "stdout",
     "output_type": "stream",
     "text": [
      "abcd:abcd:abcd:abcd\n"
     ]
    }
   ],
   "source": [
    "k=['abcd', 'abcd', 'abcd', 'abcd']\n",
    "s=\":\".join(k)\n",
    "print(s)"
   ]
  },
  {
   "cell_type": "code",
   "execution_count": 21,
   "id": "b907c6c9",
   "metadata": {},
   "outputs": [
    {
     "name": "stdout",
     "output_type": "stream",
     "text": [
      "abcdabcdabcdabcd\n"
     ]
    }
   ],
   "source": [
    "s=\"abcd:abcd:abcd:abcd\"\n",
    "s1=\"\".join(s.split(\":\"))\n",
    "print(s1)"
   ]
  },
  {
   "cell_type": "code",
   "execution_count": 22,
   "id": "dadd1788",
   "metadata": {},
   "outputs": [
    {
     "name": "stdout",
     "output_type": "stream",
     "text": [
      "['abcd', 'abcd', 'abcd', 'abcd']\n",
      "['abcd', 'abcd', 'abcd', 'abcd']\n"
     ]
    }
   ],
   "source": [
    "s=\"abcd:abcd:abcd:abcd\"\n",
    "print(s.split(\":\"))\n",
    "print(s.rsplit(\":\"))"
   ]
  },
  {
   "cell_type": "code",
   "execution_count": 24,
   "id": "40914f37",
   "metadata": {},
   "outputs": [
    {
     "name": "stdout",
     "output_type": "stream",
     "text": [
      "['abcd', 'abcd', 'abcd:abcd']\n",
      "['abcd:abcd', 'abcd', 'abcd']\n"
     ]
    }
   ],
   "source": [
    "s=\"abcd:abcd:abcd:abcd\"\n",
    "print(s.split(\":\",2))\n",
    "print(s.rsplit(\":\",2))"
   ]
  },
  {
   "cell_type": "code",
   "execution_count": 26,
   "id": "0d3f33b9",
   "metadata": {},
   "outputs": [
    {
     "data": {
      "text/plain": [
       "'aBCdaBCdaBCdaBCd'"
      ]
     },
     "execution_count": 26,
     "metadata": {},
     "output_type": "execute_result"
    }
   ],
   "source": [
    "s=\"abcdabcdabcdabcd\"\n",
    "s.replace(\"bc\",\"BC\")"
   ]
  },
  {
   "cell_type": "code",
   "execution_count": 27,
   "id": "a61b9f6e",
   "metadata": {},
   "outputs": [
    {
     "data": {
      "text/plain": [
       "'aBCdaBCdabcdabcd'"
      ]
     },
     "execution_count": 27,
     "metadata": {},
     "output_type": "execute_result"
    }
   ],
   "source": [
    "s=\"abcdabcdabcdabcd\"\n",
    "s.replace(\"bc\",\"BC\",2)"
   ]
  },
  {
   "cell_type": "code",
   "execution_count": 28,
   "id": "f0afda88",
   "metadata": {},
   "outputs": [
    {
     "data": {
      "text/plain": [
       "'aBCdaBCdaBCdaBCd'"
      ]
     },
     "execution_count": 28,
     "metadata": {},
     "output_type": "execute_result"
    }
   ],
   "source": [
    "s=\"abcdabcdabcdabcd\"\n",
    "s.replace(\"bc\",\"BC\",-2)"
   ]
  },
  {
   "cell_type": "code",
   "execution_count": 29,
   "id": "89af7a31",
   "metadata": {},
   "outputs": [
    {
     "name": "stdout",
     "output_type": "stream",
     "text": [
      "aBCdaBCdaBCdaBCd\n"
     ]
    }
   ],
   "source": [
    "s=\"abcdabcdabcdabcd\"\n",
    "s1 = \"BC\".join(s.split(\"bc\"))\n",
    "print(s1)"
   ]
  },
  {
   "cell_type": "code",
   "execution_count": 30,
   "id": "f37b9447",
   "metadata": {},
   "outputs": [
    {
     "name": "stdout",
     "output_type": "stream",
     "text": [
      "aBCdaBCdabcdabcd\n"
     ]
    }
   ],
   "source": [
    "s=\"abcdabcdabcdabcd\"\n",
    "s1 = \"BC\".join(s.split(\"bc\",2))\n",
    "print(s1)"
   ]
  },
  {
   "cell_type": "code",
   "execution_count": 31,
   "id": "7263de73",
   "metadata": {},
   "outputs": [
    {
     "name": "stdout",
     "output_type": "stream",
     "text": [
      "abcdabcdaBCdaBCd\n"
     ]
    }
   ],
   "source": [
    "s=\"abcdabcdabcdabcd\"\n",
    "s1 = \"BC\".join(s.rsplit(\"bc\",2))\n",
    "print(s1)"
   ]
  },
  {
   "cell_type": "code",
   "execution_count": 32,
   "id": "77b948cd",
   "metadata": {},
   "outputs": [
    {
     "name": "stdout",
     "output_type": "stream",
     "text": [
      "4\n"
     ]
    }
   ],
   "source": [
    "s=\"abcdabcdabcdabcd\"\n",
    "print(s.count(\"bc\"))\n"
   ]
  },
  {
   "cell_type": "code",
   "execution_count": 33,
   "id": "fb1f59cc",
   "metadata": {},
   "outputs": [
    {
     "name": "stdout",
     "output_type": "stream",
     "text": [
      "0\n"
     ]
    }
   ],
   "source": [
    "s=\"abcdabcdabcdabcd\"\n",
    "print(s.count(\"BC\"))\n"
   ]
  },
  {
   "cell_type": "code",
   "execution_count": 34,
   "id": "56c74888",
   "metadata": {},
   "outputs": [
    {
     "name": "stdout",
     "output_type": "stream",
     "text": [
      "0\n"
     ]
    }
   ],
   "source": [
    "s=\"abcdabcdabcdabcd\"\n",
    "print(s.count(\"BC\"))"
   ]
  },
  {
   "cell_type": "code",
   "execution_count": 35,
   "id": "680f7a9f",
   "metadata": {},
   "outputs": [
    {
     "name": "stdout",
     "output_type": "stream",
     "text": [
      "0\n"
     ]
    }
   ],
   "source": [
    "s=\"abcdabcdabcdabcd\"\n",
    "print(s.count(\"Bc\"))"
   ]
  },
  {
   "cell_type": "code",
   "execution_count": 36,
   "id": "118c8554",
   "metadata": {},
   "outputs": [
    {
     "name": "stdout",
     "output_type": "stream",
     "text": [
      "abcdabcdabcdabcd\n",
      "ABCDABCDABCDABCD\n",
      "abcdabcdabcdabcd\n",
      "Abcdabcdabcdabcd\n",
      "ABCDABCdabCDABCD\n"
     ]
    }
   ],
   "source": [
    "s=\"abcdabcDABcdabcd\"\n",
    "print(s.lower())\n",
    "print(s.upper())\n",
    "print(s.casefold())\n",
    "print(s.capitalize())\n",
    "print(s.swapcase())"
   ]
  },
  {
   "cell_type": "code",
   "execution_count": 37,
   "id": "1394daed",
   "metadata": {},
   "outputs": [
    {
     "name": "stdout",
     "output_type": "stream",
     "text": [
      "abcdabcdabcdabcd\n",
      "abcdabcdabcdabcd\n"
     ]
    }
   ],
   "source": [
    "s=\"abcdabcDABcdabcd\"\n",
    "print(s.lower())\n",
    "print(s.casefold())"
   ]
  },
  {
   "cell_type": "code",
   "execution_count": 38,
   "id": "d20a672a",
   "metadata": {},
   "outputs": [
    {
     "data": {
      "text/plain": [
       "False"
      ]
     },
     "execution_count": 38,
     "metadata": {},
     "output_type": "execute_result"
    }
   ],
   "source": [
    "\"bc\"==\"Bc\""
   ]
  },
  {
   "cell_type": "code",
   "execution_count": 39,
   "id": "e6d4229e",
   "metadata": {},
   "outputs": [
    {
     "data": {
      "text/plain": [
       "True"
      ]
     },
     "execution_count": 39,
     "metadata": {},
     "output_type": "execute_result"
    }
   ],
   "source": [
    "\"bc\".lower()==\"Bc\".lower()"
   ]
  },
  {
   "cell_type": "code",
   "execution_count": 40,
   "id": "494d1dd8",
   "metadata": {},
   "outputs": [
    {
     "data": {
      "text/plain": [
       "True"
      ]
     },
     "execution_count": 40,
     "metadata": {},
     "output_type": "execute_result"
    }
   ],
   "source": [
    "\"bc\".upper()==\"Bc\".upper()"
   ]
  },
  {
   "cell_type": "code",
   "execution_count": 41,
   "id": "757c8df7",
   "metadata": {},
   "outputs": [
    {
     "data": {
      "text/plain": [
       "True"
      ]
     },
     "execution_count": 41,
     "metadata": {},
     "output_type": "execute_result"
    }
   ],
   "source": [
    "\"bc\".casefold()==\"Bc\".casefold()"
   ]
  },
  {
   "cell_type": "code",
   "execution_count": 42,
   "id": "9548be3b",
   "metadata": {},
   "outputs": [
    {
     "name": "stdout",
     "output_type": "stream",
     "text": [
      "enter name:dsfdsaERTdsfs\n",
      "dsfdsaERTdsfs\n"
     ]
    }
   ],
   "source": [
    "name=input(\"enter name:\")\n",
    "print(name)"
   ]
  },
  {
   "cell_type": "code",
   "execution_count": 43,
   "id": "fb92b9c3",
   "metadata": {},
   "outputs": [
    {
     "name": "stdout",
     "output_type": "stream",
     "text": [
      "enter name:asdsaERT\n",
      "asdsaert\n"
     ]
    }
   ],
   "source": [
    "name=input(\"enter name:\")\n",
    "print(name.lower())"
   ]
  },
  {
   "cell_type": "code",
   "execution_count": 44,
   "id": "7eca9c23",
   "metadata": {},
   "outputs": [
    {
     "data": {
      "text/plain": [
       "True"
      ]
     },
     "execution_count": 44,
     "metadata": {},
     "output_type": "execute_result"
    }
   ],
   "source": [
    "\"bc\".casefold()==\"Bc\".casefold()"
   ]
  },
  {
   "cell_type": "code",
   "execution_count": 45,
   "id": "d83e1dbb",
   "metadata": {},
   "outputs": [
    {
     "name": "stdout",
     "output_type": "stream",
     "text": [
      "4\n"
     ]
    }
   ],
   "source": [
    "s=\"abcdabcdabcdabcd\"\n",
    "print(s.casefold().count(\"Bc\".casefold()))"
   ]
  },
  {
   "cell_type": "code",
   "execution_count": 46,
   "id": "0cefe49a",
   "metadata": {},
   "outputs": [
    {
     "name": "stdout",
     "output_type": "stream",
     "text": [
      "0\n"
     ]
    }
   ],
   "source": [
    "s=\"abcdabcdabcdabcd\"\n",
    "print(s.count(\" \"))"
   ]
  },
  {
   "cell_type": "code",
   "execution_count": 47,
   "id": "f70466ef",
   "metadata": {},
   "outputs": [
    {
     "name": "stdout",
     "output_type": "stream",
     "text": [
      "17\n"
     ]
    }
   ],
   "source": [
    "s=\"abcdabcdabcdabcd\"\n",
    "print(s.count(\"\"))"
   ]
  },
  {
   "cell_type": "code",
   "execution_count": 48,
   "id": "20a96689",
   "metadata": {},
   "outputs": [
    {
     "name": "stdout",
     "output_type": "stream",
     "text": [
      "16\n"
     ]
    }
   ],
   "source": [
    "print(len(s))"
   ]
  },
  {
   "cell_type": "code",
   "execution_count": 50,
   "id": "f4b2a838",
   "metadata": {},
   "outputs": [
    {
     "name": "stdout",
     "output_type": "stream",
     "text": [
      "17\n",
      "$a$b$c$d$a$b$c$d$a$b$c$d$a$b$c$d$\n"
     ]
    }
   ],
   "source": [
    "s=\"abcdabcdabcdabcd\"\n",
    "print(s.count(\"\"))\n",
    "print(s.replace(\"\",\"$\"))"
   ]
  },
  {
   "cell_type": "code",
   "execution_count": 51,
   "id": "d06965f8",
   "metadata": {},
   "outputs": [],
   "source": [
    "# empty string.."
   ]
  },
  {
   "cell_type": "code",
   "execution_count": 1,
   "id": "d1d0858d",
   "metadata": {},
   "outputs": [
    {
     "name": "stdout",
     "output_type": "stream",
     "text": [
      "0\n",
      "38\n",
      "0\n",
      "38\n"
     ]
    }
   ],
   "source": [
    "s=\"apple;orange;apple;grape;apple;banana;apple\"\n",
    "print(s.find(\"apple\"))\n",
    "print(s.rfind(\"apple\"))\n",
    "print(s.index(\"apple\"))\n",
    "print(s.rindex(\"apple\"))"
   ]
  },
  {
   "cell_type": "code",
   "execution_count": 2,
   "id": "7e9bd679",
   "metadata": {},
   "outputs": [
    {
     "name": "stdout",
     "output_type": "stream",
     "text": [
      "-1\n",
      "-1\n"
     ]
    },
    {
     "ename": "ValueError",
     "evalue": "substring not found",
     "output_type": "error",
     "traceback": [
      "\u001b[1;31m---------------------------------------------------------------------------\u001b[0m",
      "\u001b[1;31mValueError\u001b[0m                                Traceback (most recent call last)",
      "Cell \u001b[1;32mIn[2], line 4\u001b[0m\n\u001b[0;32m      2\u001b[0m \u001b[38;5;28mprint\u001b[39m(s\u001b[38;5;241m.\u001b[39mfind(\u001b[38;5;124m\"\u001b[39m\u001b[38;5;124mApple\u001b[39m\u001b[38;5;124m\"\u001b[39m))\n\u001b[0;32m      3\u001b[0m \u001b[38;5;28mprint\u001b[39m(s\u001b[38;5;241m.\u001b[39mrfind(\u001b[38;5;124m\"\u001b[39m\u001b[38;5;124mApple\u001b[39m\u001b[38;5;124m\"\u001b[39m))\n\u001b[1;32m----> 4\u001b[0m \u001b[38;5;28mprint\u001b[39m(s\u001b[38;5;241m.\u001b[39mindex(\u001b[38;5;124m\"\u001b[39m\u001b[38;5;124mApple\u001b[39m\u001b[38;5;124m\"\u001b[39m))\n\u001b[0;32m      5\u001b[0m \u001b[38;5;28mprint\u001b[39m(s\u001b[38;5;241m.\u001b[39mrindex(\u001b[38;5;124m\"\u001b[39m\u001b[38;5;124mApple\u001b[39m\u001b[38;5;124m\"\u001b[39m))\n",
      "\u001b[1;31mValueError\u001b[0m: substring not found"
     ]
    }
   ],
   "source": [
    "s=\"apple;orange;apple;grape;apple;banana;apple\"\n",
    "print(s.find(\"Apple\"))\n",
    "print(s.rfind(\"Apple\"))\n",
    "print(s.index(\"Apple\"))\n",
    "print(s.rindex(\"Apple\"))"
   ]
  },
  {
   "cell_type": "code",
   "execution_count": 3,
   "id": "534a20ad",
   "metadata": {},
   "outputs": [
    {
     "name": "stdout",
     "output_type": "stream",
     "text": [
      "['isalnum', 'isalpha', 'isascii', 'isdecimal', 'isdigit', 'isidentifier', 'islower', 'isnumeric', 'isprintable', 'isspace', 'istitle', 'isupper']\n"
     ]
    }
   ],
   "source": [
    "s=\"df\"\n",
    "print([i for i in dir(s) if 'is' in i])"
   ]
  },
  {
   "cell_type": "code",
   "execution_count": 4,
   "id": "c63c0458",
   "metadata": {},
   "outputs": [
    {
     "data": {
      "text/plain": [
       "True"
      ]
     },
     "execution_count": 4,
     "metadata": {},
     "output_type": "execute_result"
    }
   ],
   "source": [
    "\"abcd1234\".isalnum()"
   ]
  },
  {
   "cell_type": "code",
   "execution_count": 5,
   "id": "ecae6515",
   "metadata": {},
   "outputs": [
    {
     "data": {
      "text/plain": [
       "True"
      ]
     },
     "execution_count": 5,
     "metadata": {},
     "output_type": "execute_result"
    }
   ],
   "source": [
    "\"abcd\".isalnum()"
   ]
  },
  {
   "cell_type": "code",
   "execution_count": 6,
   "id": "16f921f0",
   "metadata": {},
   "outputs": [
    {
     "data": {
      "text/plain": [
       "True"
      ]
     },
     "execution_count": 6,
     "metadata": {},
     "output_type": "execute_result"
    }
   ],
   "source": [
    "\"1234\".isalnum()"
   ]
  },
  {
   "cell_type": "code",
   "execution_count": 7,
   "id": "f385949c",
   "metadata": {},
   "outputs": [
    {
     "data": {
      "text/plain": [
       "False"
      ]
     },
     "execution_count": 7,
     "metadata": {},
     "output_type": "execute_result"
    }
   ],
   "source": [
    "\"abcd1234#$\".isalnum()"
   ]
  },
  {
   "cell_type": "code",
   "execution_count": 8,
   "id": "c2d42128",
   "metadata": {},
   "outputs": [
    {
     "data": {
      "text/plain": [
       "False"
      ]
     },
     "execution_count": 8,
     "metadata": {},
     "output_type": "execute_result"
    }
   ],
   "source": [
    "\"\".isalnum()"
   ]
  },
  {
   "cell_type": "code",
   "execution_count": 10,
   "id": "21de6a03",
   "metadata": {},
   "outputs": [
    {
     "name": "stdout",
     "output_type": "stream",
     "text": [
      "Enter string:abcd\n",
      "NO SPECIAL CHARS\n"
     ]
    }
   ],
   "source": [
    "s=input(\"Enter string:\")\n",
    "if s.isalnum():\n",
    "    print(\"NO SPECIAL CHARS\")\n",
    "else:\n",
    "    print(\"It has SPECIAL CHARS\")"
   ]
  },
  {
   "cell_type": "code",
   "execution_count": 11,
   "id": "7e36f987",
   "metadata": {},
   "outputs": [
    {
     "name": "stdout",
     "output_type": "stream",
     "text": [
      "Enter string:1234\n",
      "NO SPECIAL CHARS\n"
     ]
    }
   ],
   "source": [
    "s=input(\"Enter string:\")\n",
    "if s.isalnum():\n",
    "    print(\"NO SPECIAL CHARS\")\n",
    "else:\n",
    "    print(\"It has SPECIAL CHARS\")"
   ]
  },
  {
   "cell_type": "code",
   "execution_count": 12,
   "id": "84231d05",
   "metadata": {},
   "outputs": [
    {
     "name": "stdout",
     "output_type": "stream",
     "text": [
      "Enter string:1234wqreq\n",
      "NO SPECIAL CHARS\n"
     ]
    }
   ],
   "source": [
    "s=input(\"Enter string:\")\n",
    "if s.isalnum():\n",
    "    print(\"NO SPECIAL CHARS\")\n",
    "else:\n",
    "    print(\"It has SPECIAL CHARS\")"
   ]
  },
  {
   "cell_type": "code",
   "execution_count": 13,
   "id": "c6f2b75c",
   "metadata": {},
   "outputs": [
    {
     "name": "stdout",
     "output_type": "stream",
     "text": [
      "Enter string:123wer@#werr\n",
      "It has SPECIAL CHARS\n"
     ]
    }
   ],
   "source": [
    "s=input(\"Enter string:\")\n",
    "if s.isalnum():\n",
    "    print(\"NO SPECIAL CHARS\")\n",
    "else:\n",
    "    print(\"It has SPECIAL CHARS\")"
   ]
  },
  {
   "cell_type": "code",
   "execution_count": 14,
   "id": "411e71c4",
   "metadata": {},
   "outputs": [
    {
     "name": "stdout",
     "output_type": "stream",
     "text": [
      "Enter string:\n",
      "It has SPECIAL CHARS\n"
     ]
    }
   ],
   "source": [
    "s=input(\"Enter string:\")\n",
    "if s.isalnum():\n",
    "    print(\"NO SPECIAL CHARS\")\n",
    "else:\n",
    "    print(\"It has SPECIAL CHARS\")"
   ]
  },
  {
   "cell_type": "code",
   "execution_count": 15,
   "id": "a948c183",
   "metadata": {},
   "outputs": [
    {
     "name": "stdout",
     "output_type": "stream",
     "text": [
      "Enter string:\n",
      "NO SPECIAL CHARS\n"
     ]
    }
   ],
   "source": [
    "s=input(\"Enter string:\")\n",
    "if s:\n",
    "    if s.isalnum():\n",
    "        print(\"NO SPECIAL CHARS\")\n",
    "    else:\n",
    "        print(\"It has SPECIAL CHARS\")\n",
    "else:\n",
    "    print(\"NO SPECIAL CHARS\")"
   ]
  },
  {
   "cell_type": "code",
   "execution_count": 16,
   "id": "e39a42b0",
   "metadata": {},
   "outputs": [
    {
     "name": "stdout",
     "output_type": "stream",
     "text": [
      "Enter string:sada2121\n",
      "NO SPECIAL CHARS\n"
     ]
    }
   ],
   "source": [
    "s=input(\"Enter string:\")\n",
    "if s:\n",
    "    if s.isalnum():\n",
    "        print(\"NO SPECIAL CHARS\")\n",
    "    else:\n",
    "        print(\"It has SPECIAL CHARS\")\n",
    "else:\n",
    "    print(\"NO SPECIAL CHARS\")"
   ]
  },
  {
   "cell_type": "code",
   "execution_count": 17,
   "id": "16e1dc61",
   "metadata": {},
   "outputs": [
    {
     "name": "stdout",
     "output_type": "stream",
     "text": [
      "Enter string:sada#@$12\n",
      "It has SPECIAL CHARS\n"
     ]
    }
   ],
   "source": [
    "s=input(\"Enter string:\")\n",
    "if s:\n",
    "    if s.isalnum():\n",
    "        print(\"NO SPECIAL CHARS\")\n",
    "    else:\n",
    "        print(\"It has SPECIAL CHARS\")\n",
    "else:\n",
    "    print(\"NO SPECIAL CHARS\")"
   ]
  },
  {
   "cell_type": "code",
   "execution_count": 18,
   "id": "ff8f79e2",
   "metadata": {},
   "outputs": [
    {
     "name": "stdout",
     "output_type": "stream",
     "text": [
      "Enter string:\n",
      "It has special chars\n"
     ]
    }
   ],
   "source": [
    "s=input(\"Enter string:\")\n",
    "if s and s.isalnum():\n",
    "        print(\"NO SPECIAL CHARS\")\n",
    "else:\n",
    "    print(\"It has special chars\")"
   ]
  },
  {
   "cell_type": "code",
   "execution_count": 19,
   "id": "278b2958",
   "metadata": {},
   "outputs": [
    {
     "name": "stdout",
     "output_type": "stream",
     "text": [
      "Enter string:\n",
      "It has special chars\n"
     ]
    }
   ],
   "source": [
    "s=input(\"Enter string:\")\n",
    "if s or s.isalnum():\n",
    "        print(\"NO SPECIAL CHARS\")\n",
    "else:\n",
    "    print(\"It has special chars\")"
   ]
  },
  {
   "cell_type": "code",
   "execution_count": 20,
   "id": "ba444e5b",
   "metadata": {},
   "outputs": [
    {
     "name": "stdout",
     "output_type": "stream",
     "text": [
      "Enter string:\n",
      "It has special chars\n"
     ]
    }
   ],
   "source": [
    "s=input(\"Enter string:\")\n",
    "if s.isalnum() and s:\n",
    "        print(\"NO SPECIAL CHARS\")\n",
    "else:\n",
    "    print(\"It has special chars\")"
   ]
  },
  {
   "cell_type": "code",
   "execution_count": 21,
   "id": "5611b7bc",
   "metadata": {},
   "outputs": [
    {
     "data": {
      "text/plain": [
       "True"
      ]
     },
     "execution_count": 21,
     "metadata": {},
     "output_type": "execute_result"
    }
   ],
   "source": [
    "\"abcd\".isalpha()"
   ]
  },
  {
   "cell_type": "code",
   "execution_count": 22,
   "id": "6d1201eb",
   "metadata": {},
   "outputs": [
    {
     "data": {
      "text/plain": [
       "False"
      ]
     },
     "execution_count": 22,
     "metadata": {},
     "output_type": "execute_result"
    }
   ],
   "source": [
    "\"abcd123\".isalpha()"
   ]
  },
  {
   "cell_type": "code",
   "execution_count": 23,
   "id": "00860df4",
   "metadata": {},
   "outputs": [
    {
     "data": {
      "text/plain": [
       "False"
      ]
     },
     "execution_count": 23,
     "metadata": {},
     "output_type": "execute_result"
    }
   ],
   "source": [
    "\"a@3bcd\".isalpha()"
   ]
  },
  {
   "cell_type": "code",
   "execution_count": 24,
   "id": "4b42eced",
   "metadata": {},
   "outputs": [
    {
     "data": {
      "text/plain": [
       "False"
      ]
     },
     "execution_count": 24,
     "metadata": {},
     "output_type": "execute_result"
    }
   ],
   "source": [
    "\"\".isalpha()"
   ]
  },
  {
   "cell_type": "code",
   "execution_count": 25,
   "id": "6da131a6",
   "metadata": {},
   "outputs": [
    {
     "name": "stdout",
     "output_type": "stream",
     "text": [
      "True\n",
      "True\n",
      "True\n"
     ]
    }
   ],
   "source": [
    "s=\"123\"\n",
    "print(s.isdigit())\n",
    "print(s.isnumeric())\n",
    "print(s.isdecimal())"
   ]
  },
  {
   "cell_type": "code",
   "execution_count": 26,
   "id": "b852fea2",
   "metadata": {},
   "outputs": [
    {
     "name": "stdout",
     "output_type": "stream",
     "text": [
      "False\n",
      "False\n",
      "False\n"
     ]
    }
   ],
   "source": [
    "s=\"123.34\"\n",
    "print(s.isdigit())\n",
    "print(s.isnumeric())\n",
    "print(s.isdecimal())"
   ]
  },
  {
   "cell_type": "code",
   "execution_count": 30,
   "id": "f8757852",
   "metadata": {},
   "outputs": [],
   "source": [
    "s.isnumeric?"
   ]
  },
  {
   "cell_type": "code",
   "execution_count": 31,
   "id": "6ab2a752",
   "metadata": {},
   "outputs": [
    {
     "name": "stdout",
     "output_type": "stream",
     "text": [
      "2³\n"
     ]
    }
   ],
   "source": [
    "s=\"2\\u00b3\"\n",
    "print(s)"
   ]
  },
  {
   "cell_type": "code",
   "execution_count": 32,
   "id": "2dde587f",
   "metadata": {},
   "outputs": [
    {
     "name": "stdout",
     "output_type": "stream",
     "text": [
      "True\n",
      "True\n",
      "False\n"
     ]
    }
   ],
   "source": [
    "s=\"2³\"\n",
    "print(s.isdigit())\n",
    "print(s.isnumeric())\n",
    "print(s.isdecimal())"
   ]
  },
  {
   "cell_type": "code",
   "execution_count": 33,
   "id": "1fbd5206",
   "metadata": {},
   "outputs": [
    {
     "name": "stdout",
     "output_type": "stream",
     "text": [
      "True\n",
      "True\n"
     ]
    }
   ],
   "source": [
    "s=\"2³\"\n",
    "print(s.isdigit())\n",
    "print(s.isnumeric())"
   ]
  },
  {
   "cell_type": "code",
   "execution_count": 34,
   "id": "933351f7",
   "metadata": {},
   "outputs": [
    {
     "name": "stdout",
     "output_type": "stream",
     "text": [
      "False\n",
      "False\n"
     ]
    }
   ],
   "source": [
    "s=\"एक\"\n",
    "print(s.isdigit())\n",
    "print(s.isnumeric())"
   ]
  },
  {
   "cell_type": "code",
   "execution_count": 36,
   "id": "a6ad43e1",
   "metadata": {},
   "outputs": [
    {
     "name": "stdout",
     "output_type": "stream",
     "text": [
      "True\n",
      "True\n",
      "True\n"
     ]
    }
   ],
   "source": [
    "s=\"१\"\n",
    "print(s.isdigit())\n",
    "print(s.isnumeric())\n",
    "print(s.isdecimal())"
   ]
  },
  {
   "cell_type": "code",
   "execution_count": 38,
   "id": "6a4f4af5",
   "metadata": {},
   "outputs": [
    {
     "name": "stdout",
     "output_type": "stream",
     "text": [
      "False\n",
      "True\n",
      "False\n"
     ]
    }
   ],
   "source": [
    "s=\"四\"\n",
    "print(s.isdigit())\n",
    "print(s.isnumeric())\n",
    "print(s.isdecimal())"
   ]
  },
  {
   "cell_type": "code",
   "execution_count": 39,
   "id": "6612bc32",
   "metadata": {},
   "outputs": [
    {
     "name": "stdout",
     "output_type": "stream",
     "text": [
      "False\n",
      "False\n",
      "False\n"
     ]
    }
   ],
   "source": [
    "s=\"넷\"\n",
    "print(s.isdigit())\n",
    "print(s.isnumeric())\n",
    "print(s.isdecimal())"
   ]
  },
  {
   "cell_type": "code",
   "execution_count": 40,
   "id": "d7f1263f",
   "metadata": {},
   "outputs": [
    {
     "name": "stdout",
     "output_type": "stream",
     "text": [
      "四四\n"
     ]
    }
   ],
   "source": [
    "s=\"四\"\n",
    "s1=\"四\"\n",
    "print(s+s1)"
   ]
  },
  {
   "cell_type": "code",
   "execution_count": 41,
   "id": "493f9771",
   "metadata": {},
   "outputs": [
    {
     "name": "stdout",
     "output_type": "stream",
     "text": [
      "True\n",
      "False\n",
      "False\n",
      "False\n"
     ]
    }
   ],
   "source": [
    "#isupper  islower\n",
    "print(\"abcd\".islower())\n",
    "print(\"ABCD\".islower())\n",
    "print(\"abCD\".islower())\n",
    "print(\"\".islower())"
   ]
  },
  {
   "cell_type": "code",
   "execution_count": 42,
   "id": "8429dc43",
   "metadata": {},
   "outputs": [
    {
     "name": "stdout",
     "output_type": "stream",
     "text": [
      "['isalnum', 'isalpha', 'isascii', 'isdecimal', 'isdigit', 'isidentifier', 'islower', 'isnumeric', 'isprintable', 'isspace', 'istitle', 'isupper']\n"
     ]
    }
   ],
   "source": [
    "print([i for i in dir(s) if \"is\" in i])"
   ]
  },
  {
   "cell_type": "code",
   "execution_count": 44,
   "id": "dc2ffef3",
   "metadata": {},
   "outputs": [
    {
     "name": "stdout",
     "output_type": "stream",
     "text": [
      "[False, False, True, False, False, False, False, False, True, False, False, False]\n"
     ]
    }
   ],
   "source": [
    "print([getattr(\"\",i)() for i in dir(s) if \"is\" in i])"
   ]
  },
  {
   "cell_type": "code",
   "execution_count": 45,
   "id": "62071d75",
   "metadata": {},
   "outputs": [
    {
     "name": "stdout",
     "output_type": "stream",
     "text": [
      "[(False, 'isalnum'), (False, 'isalpha'), (True, 'isascii'), (False, 'isdecimal'), (False, 'isdigit'), (False, 'isidentifier'), (False, 'islower'), (False, 'isnumeric'), (True, 'isprintable'), (False, 'isspace'), (False, 'istitle'), (False, 'isupper')]\n"
     ]
    }
   ],
   "source": [
    "print([(getattr(\"\",i)(),i) for i in dir(s) if \"is\" in i])"
   ]
  },
  {
   "cell_type": "code",
   "execution_count": 46,
   "id": "e9cee458",
   "metadata": {},
   "outputs": [
    {
     "name": "stdout",
     "output_type": "stream",
     "text": [
      "True\n"
     ]
    }
   ],
   "source": [
    "print(\"12\".isascii())\n"
   ]
  },
  {
   "cell_type": "code",
   "execution_count": 47,
   "id": "333da177",
   "metadata": {},
   "outputs": [
    {
     "name": "stdout",
     "output_type": "stream",
     "text": [
      "False\n"
     ]
    }
   ],
   "source": [
    "s=\"१\"\n",
    "print(s.isascii())"
   ]
  },
  {
   "cell_type": "code",
   "execution_count": 48,
   "id": "a776f696",
   "metadata": {},
   "outputs": [
    {
     "name": "stdout",
     "output_type": "stream",
     "text": [
      "True\n"
     ]
    }
   ],
   "source": [
    "print(\"12\".isprintable())"
   ]
  },
  {
   "cell_type": "code",
   "execution_count": 49,
   "id": "a1a91b5c",
   "metadata": {},
   "outputs": [
    {
     "name": "stdout",
     "output_type": "stream",
     "text": [
      "False\n"
     ]
    }
   ],
   "source": [
    "print(\"\\n\".isprintable())"
   ]
  },
  {
   "cell_type": "code",
   "execution_count": 50,
   "id": "4366d586",
   "metadata": {},
   "outputs": [
    {
     "name": "stdout",
     "output_type": "stream",
     "text": [
      "False\n"
     ]
    }
   ],
   "source": [
    "print(\"\\t\".isprintable())"
   ]
  },
  {
   "cell_type": "code",
   "execution_count": 51,
   "id": "5ab80f8e",
   "metadata": {},
   "outputs": [
    {
     "ename": "SyntaxError",
     "evalue": "unterminated string literal (detected at line 1) (1739889646.py, line 1)",
     "output_type": "error",
     "traceback": [
      "\u001b[1;36m  Cell \u001b[1;32mIn[51], line 1\u001b[1;36m\u001b[0m\n\u001b[1;33m    print(\"\\\".isprintable())\u001b[0m\n\u001b[1;37m          ^\u001b[0m\n\u001b[1;31mSyntaxError\u001b[0m\u001b[1;31m:\u001b[0m unterminated string literal (detected at line 1)\n"
     ]
    }
   ],
   "source": [
    "print(\"\\\".isprintable())"
   ]
  },
  {
   "cell_type": "code",
   "execution_count": 52,
   "id": "2d11993a",
   "metadata": {},
   "outputs": [
    {
     "name": "stdout",
     "output_type": "stream",
     "text": [
      "True\n"
     ]
    }
   ],
   "source": [
    "print(\"\\\\\".isprintable())"
   ]
  },
  {
   "cell_type": "code",
   "execution_count": null,
   "id": "fcc8c155",
   "metadata": {},
   "outputs": [],
   "source": []
  }
 ],
 "metadata": {
  "kernelspec": {
   "display_name": "Python 3 (ipykernel)",
   "language": "python",
   "name": "python3"
  },
  "language_info": {
   "codemirror_mode": {
    "name": "ipython",
    "version": 3
   },
   "file_extension": ".py",
   "mimetype": "text/x-python",
   "name": "python",
   "nbconvert_exporter": "python",
   "pygments_lexer": "ipython3",
   "version": "3.11.3"
  }
 },
 "nbformat": 4,
 "nbformat_minor": 5
}
