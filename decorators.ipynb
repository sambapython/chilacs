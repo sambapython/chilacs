{
 "cells": [
  {
   "cell_type": "code",
   "execution_count": 1,
   "id": "9c934d27",
   "metadata": {},
   "outputs": [
    {
     "name": "stdout",
     "output_type": "stream",
     "text": [
      "2888049213824 <class 'function'>\n",
      "2888049213824 <class 'function'>\n",
      "HELLO\n",
      "HELLO\n"
     ]
    }
   ],
   "source": [
    "def fun():\n",
    "    return \"HELLO\"\n",
    "res=fun\n",
    "print(id(res), type(res))\n",
    "print(id(fun), type(fun))\n",
    "res1=fun()\n",
    "r1=res()\n",
    "print(res1)\n",
    "print(r1)"
   ]
  },
  {
   "cell_type": "code",
   "execution_count": 2,
   "id": "772e70e5",
   "metadata": {},
   "outputs": [
    {
     "name": "stdout",
     "output_type": "stream",
     "text": [
      "result= HELLO:30\n"
     ]
    }
   ],
   "source": [
    "def add(x,y):\n",
    "    return x+y\n",
    "def fun(a,b,c):\n",
    "    return \"HELLO:\"+str(a(b,c))\n",
    "res=fun(add, 10,20)\n",
    "print(\"result=\",res)"
   ]
  },
  {
   "cell_type": "code",
   "execution_count": 3,
   "id": "c75eee55",
   "metadata": {},
   "outputs": [
    {
     "name": "stdout",
     "output_type": "stream",
     "text": [
      "this is outer\n",
      "result= 20\n"
     ]
    }
   ],
   "source": [
    "def outer():\n",
    "    print(\"this is outer\")\n",
    "    def iner():\n",
    "        print(\"this is inner\")\n",
    "        return \"HELLO\"\n",
    "    return 20\n",
    "r1=outer()\n",
    "print(\"result=\",r1)"
   ]
  },
  {
   "cell_type": "code",
   "execution_count": 5,
   "id": "409c7994",
   "metadata": {},
   "outputs": [
    {
     "name": "stdout",
     "output_type": "stream",
     "text": [
      "this is outer\n",
      "this is inner\n",
      "r= HELLO\n",
      "result= 20\n"
     ]
    }
   ],
   "source": [
    "def outer():\n",
    "    print(\"this is outer\")\n",
    "    def inner():\n",
    "        print(\"this is inner\")\n",
    "        return \"HELLO\"\n",
    "    r=inner()\n",
    "    print(\"r=\",r)\n",
    "    return 20\n",
    "r1=outer()\n",
    "print(\"result=\",r1)"
   ]
  },
  {
   "cell_type": "code",
   "execution_count": 6,
   "id": "64c324f3",
   "metadata": {},
   "outputs": [
    {
     "name": "stdout",
     "output_type": "stream",
     "text": [
      "this is outer\n",
      "result= <function outer.<locals>.inner at 0x000002A06D34A980>\n"
     ]
    }
   ],
   "source": [
    "def outer():\n",
    "    print(\"this is outer\")\n",
    "    def inner():\n",
    "        print(\"this is inner\")\n",
    "        return \"HELLO\"\n",
    "    return inner\n",
    "r1=outer()\n",
    "print(\"result=\",r1)"
   ]
  },
  {
   "cell_type": "code",
   "execution_count": 7,
   "id": "53c13f21",
   "metadata": {},
   "outputs": [
    {
     "name": "stdout",
     "output_type": "stream",
     "text": [
      "this is outer\n",
      "result= <function outer.<locals>.inner at 0x000002A06D349F80>\n",
      "this is inner\n",
      "result1= HELLO\n"
     ]
    }
   ],
   "source": [
    "def outer():\n",
    "    print(\"this is outer\")\n",
    "    def inner():\n",
    "        print(\"this is inner\")\n",
    "        return \"HELLO\"\n",
    "    return inner\n",
    "r1=outer()# r1=inner\n",
    "print(\"result=\",r1)\n",
    "res=r1()\n",
    "print(\"result1=\",res)"
   ]
  },
  {
   "cell_type": "code",
   "execution_count": 8,
   "id": "f5ec9d46",
   "metadata": {},
   "outputs": [
    {
     "name": "stdout",
     "output_type": "stream",
     "text": [
      "a=1,v=2\n",
      "result:3\n"
     ]
    }
   ],
   "source": [
    "def add(x,y):\n",
    "    return x+y\n",
    "\n",
    "#CLOSURE\n",
    "def outer(f):\n",
    "    def inner(a,b):\n",
    "        print(f\"a={a},v={b}\")\n",
    "        return \"result:\"+str(f(a,b))\n",
    "    return inner\n",
    "r1=outer(add)\n",
    "res=r1(1,2)\n",
    "print(res)"
   ]
  },
  {
   "cell_type": "code",
   "execution_count": 9,
   "id": "2f343698",
   "metadata": {},
   "outputs": [
    {
     "name": "stdout",
     "output_type": "stream",
     "text": [
      "result= 3\n"
     ]
    }
   ],
   "source": [
    "#CLOSURE\n",
    "def outer(f):\n",
    "    def inner(a,b):\n",
    "        print(f\"a={a},v={b}\")\n",
    "        return \"result:\"+str(f(a,b))\n",
    "    return inner\n",
    "\n",
    "def add(x,y):\n",
    "    return x+y\n",
    "\n",
    "r1=add(1,2)\n",
    "print(\"result=\",r1)"
   ]
  },
  {
   "cell_type": "code",
   "execution_count": 10,
   "id": "58ec38bb",
   "metadata": {},
   "outputs": [
    {
     "name": "stdout",
     "output_type": "stream",
     "text": [
      "a=1,v=2\n",
      "result= result:3\n"
     ]
    }
   ],
   "source": [
    "#CLOSURE\n",
    "def outer(f):\n",
    "    def inner(a,b):\n",
    "        print(f\"a={a},v={b}\")\n",
    "        return \"result:\"+str(f(a,b))\n",
    "    return inner\n",
    "\n",
    "@outer  #decorator\n",
    "def add(x,y):\n",
    "    return x+y\n",
    "\n",
    "r1=add(1,2)#outer(add)(1,2)\n",
    "print(\"result=\",r1)"
   ]
  },
  {
   "cell_type": "code",
   "execution_count": null,
   "id": "8135de1e",
   "metadata": {},
   "outputs": [],
   "source": []
  }
 ],
 "metadata": {
  "kernelspec": {
   "display_name": "Python 3 (ipykernel)",
   "language": "python",
   "name": "python3"
  },
  "language_info": {
   "codemirror_mode": {
    "name": "ipython",
    "version": 3
   },
   "file_extension": ".py",
   "mimetype": "text/x-python",
   "name": "python",
   "nbconvert_exporter": "python",
   "pygments_lexer": "ipython3",
   "version": "3.11.3"
  }
 },
 "nbformat": 4,
 "nbformat_minor": 5
}
