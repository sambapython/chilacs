{
 "cells": [
  {
   "cell_type": "code",
   "execution_count": 1,
   "id": "e152a5aa",
   "metadata": {},
   "outputs": [
    {
     "name": "stdout",
     "output_type": "stream",
     "text": [
      "Enter a value:12\n",
      "Enter a value:34\n",
      "Operarations\n",
      "1.add\n",
      "2.substraction\n",
      "3.Multiplication\n",
      "4.Division\n",
      "Enter an option:23\n",
      "23\n"
     ]
    }
   ],
   "source": [
    "a=input(\"Enter a value:\")\n",
    "b=input(\"Enter a value:\")\n",
    "print(\"Operarations\")\n",
    "print(\"1.add\")\n",
    "print(\"2.substraction\")\n",
    "print(\"3.Multiplication\")\n",
    "print(\"4.Division\")\n",
    "option = input(\"Enter an option:\")\n",
    "print(option)"
   ]
  },
  {
   "cell_type": "code",
   "execution_count": 2,
   "id": "45eb4167",
   "metadata": {},
   "outputs": [
    {
     "name": "stdout",
     "output_type": "stream",
     "text": [
      "Enter a value:12\n",
      "Enter a value:34\n",
      "Operarations\n",
      "\t1.add\n",
      "2.substraction\n",
      "3.Multiplication\n",
      "4.Division\n",
      "Enter an option:s\n",
      "s\n"
     ]
    }
   ],
   "source": [
    "a=input(\"Enter a value:\")\n",
    "b=input(\"Enter a value:\")\n",
    "print(\"Operarations\")\n",
    "print(\"\\t1.add\")\n",
    "print(\"2.substraction\")\n",
    "print(\"3.Multiplication\")\n",
    "print(\"4.Division\")\n",
    "option = input(\"Enter an option:\")\n",
    "print(option)"
   ]
  },
  {
   "cell_type": "code",
   "execution_count": 3,
   "id": "132103a4",
   "metadata": {},
   "outputs": [
    {
     "name": "stdout",
     "output_type": "stream",
     "text": [
      "Enter a value:12\n",
      "Enter a value:34\n",
      "Operarations\n",
      "\t1.add\n",
      "\t2.substraction\n",
      "\t3.Multiplication\n",
      "\t4.Division\n",
      "Enter an option:3\n",
      "3\n"
     ]
    }
   ],
   "source": [
    "a=input(\"Enter a value:\")\n",
    "b=input(\"Enter a value:\")\n",
    "print(\"Operarations\")\n",
    "print(\"\\t1.add\")\n",
    "print(\"\\t2.substraction\")\n",
    "print(\"\\t3.Multiplication\")\n",
    "print(\"\\t4.Division\")\n",
    "option = input(\"Enter an option:\")\n",
    "print(option)"
   ]
  },
  {
   "cell_type": "code",
   "execution_count": 4,
   "id": "67319298",
   "metadata": {},
   "outputs": [
    {
     "name": "stdout",
     "output_type": "stream",
     "text": [
      "Enter a value:12\n",
      "Enter a value:34\n",
      "Operarations\t1.add\t2.substraction\t3.Multiplication\t4.Division\n",
      "Enter an option:sd\n",
      "sd\n"
     ]
    }
   ],
   "source": [
    "a=input(\"Enter a value:\")\n",
    "b=input(\"Enter a value:\")\n",
    "print(\"Operarations\\t1.add\\t2.substraction\\t3.Multiplication\\t4.Division\")\n",
    "option = input(\"Enter an option:\")\n",
    "print(option)"
   ]
  },
  {
   "cell_type": "code",
   "execution_count": 5,
   "id": "6ac2b6a7",
   "metadata": {},
   "outputs": [
    {
     "name": "stdout",
     "output_type": "stream",
     "text": [
      "Enter a value:12\n",
      "Enter a value:34\n",
      "Operarations\n",
      "\t1.add\t2.substraction\t3.Multiplication\t4.Division\n",
      "Enter an option:s\n",
      "s\n"
     ]
    }
   ],
   "source": [
    "a=input(\"Enter a value:\")\n",
    "b=input(\"Enter a value:\")\n",
    "print(\"Operarations\\n\\t1.add\\t2.substraction\\t3.Multiplication\\t4.Division\")\n",
    "option = input(\"Enter an option:\")\n",
    "print(option)"
   ]
  },
  {
   "cell_type": "code",
   "execution_count": 6,
   "id": "ac3f5279",
   "metadata": {},
   "outputs": [
    {
     "name": "stdout",
     "output_type": "stream",
     "text": [
      "Enter a value:12\n",
      "Enter a value:34\n",
      "Operarations\n",
      "\t1.add\n",
      "\t2.substraction\n",
      "\t3.Multiplication\n",
      "\t4.Division\n",
      "Enter an option:sd\n",
      "sd\n"
     ]
    }
   ],
   "source": [
    "a=input(\"Enter a value:\")\n",
    "b=input(\"Enter a value:\")\n",
    "print(\"Operarations\\n\\t1.add\\n\\t2.substraction\\n\\t3.Multiplication\\n\\t4.Division\")\n",
    "option = input(\"Enter an option:\")\n",
    "print(option)"
   ]
  },
  {
   "cell_type": "code",
   "execution_count": 7,
   "id": "2422fa54",
   "metadata": {},
   "outputs": [
    {
     "name": "stdout",
     "output_type": "stream",
     "text": [
      "2\n"
     ]
    }
   ],
   "source": [
    "s=\"ab\"\n",
    "print(len(s))"
   ]
  },
  {
   "cell_type": "code",
   "execution_count": 8,
   "id": "e4449c13",
   "metadata": {},
   "outputs": [
    {
     "name": "stdout",
     "output_type": "stream",
     "text": [
      "2\n"
     ]
    }
   ],
   "source": [
    "s=\"$%\"\n",
    "print(len(s))"
   ]
  },
  {
   "cell_type": "code",
   "execution_count": 9,
   "id": "77598ae1",
   "metadata": {},
   "outputs": [
    {
     "name": "stdout",
     "output_type": "stream",
     "text": [
      "2\n"
     ]
    }
   ],
   "source": [
    "s=\"+-\"\n",
    "print(len(s))"
   ]
  },
  {
   "cell_type": "code",
   "execution_count": 10,
   "id": "270cff62",
   "metadata": {},
   "outputs": [
    {
     "name": "stdout",
     "output_type": "stream",
     "text": [
      "2\n"
     ]
    }
   ],
   "source": [
    "s=\"$t\"\n",
    "print(len(s))"
   ]
  },
  {
   "cell_type": "code",
   "execution_count": 11,
   "id": "0d98c704",
   "metadata": {},
   "outputs": [
    {
     "name": "stdout",
     "output_type": "stream",
     "text": [
      "1\n"
     ]
    }
   ],
   "source": [
    "s=\"\\t\"\n",
    "print(len(s))"
   ]
  },
  {
   "cell_type": "code",
   "execution_count": 12,
   "id": "42529e8d",
   "metadata": {},
   "outputs": [
    {
     "name": "stdout",
     "output_type": "stream",
     "text": [
      "2\n"
     ]
    }
   ],
   "source": [
    "s=\"/t\"\n",
    "print(len(s))"
   ]
  },
  {
   "cell_type": "code",
   "execution_count": 13,
   "id": "cd08b9f9",
   "metadata": {},
   "outputs": [
    {
     "name": "stdout",
     "output_type": "stream",
     "text": [
      "\thello\n"
     ]
    }
   ],
   "source": [
    "print(\"\\thello\")"
   ]
  },
  {
   "cell_type": "code",
   "execution_count": 14,
   "id": "2f5e29b9",
   "metadata": {},
   "outputs": [
    {
     "name": "stdout",
     "output_type": "stream",
     "text": [
      "\\thello\n"
     ]
    }
   ],
   "source": [
    "print(\"\\\\thello\")"
   ]
  },
  {
   "cell_type": "code",
   "execution_count": 15,
   "id": "743c1d1e",
   "metadata": {},
   "outputs": [
    {
     "name": "stdout",
     "output_type": "stream",
     "text": [
      "\\thello\n"
     ]
    }
   ],
   "source": [
    "print(r\"\\thello\")"
   ]
  },
  {
   "cell_type": "code",
   "execution_count": 16,
   "id": "00a91102",
   "metadata": {},
   "outputs": [
    {
     "name": "stdout",
     "output_type": "stream",
     "text": [
      "Operarations\n",
      "\t1.add\n",
      "\t2.substraction\n",
      "\t3.Multiplication\n",
      "\t4.Division\n"
     ]
    }
   ],
   "source": [
    "print(\"Operarations\\n\\t1.add\\n\\t2.substraction\\n\\t3.Multiplication\\n\\t4.Division\")"
   ]
  },
  {
   "cell_type": "code",
   "execution_count": 17,
   "id": "0219042a",
   "metadata": {},
   "outputs": [
    {
     "name": "stdout",
     "output_type": "stream",
     "text": [
      "Operarations\\n\\t1.add\\n\\t2.substraction\\n\\t3.Multiplication\\n\\t4.Division\n"
     ]
    }
   ],
   "source": [
    "print(r\"Operarations\\n\\t1.add\\n\\t2.substraction\\n\\t3.Multiplication\\n\\t4.Division\")"
   ]
  },
  {
   "cell_type": "code",
   "execution_count": 18,
   "id": "5d73e44c",
   "metadata": {},
   "outputs": [
    {
     "name": "stdout",
     "output_type": "stream",
     "text": [
      "Enter a value:12\n",
      "Enter a value:34\n",
      "Operarations\n",
      "\t1.add\n",
      "\t2.substraction\n",
      "\t3.Multiplication\n",
      "\t4.Division\n",
      "Enter an option:2\n",
      "2\n"
     ]
    }
   ],
   "source": [
    "a=input(\"Enter a value:\")\n",
    "b=input(\"Enter a value:\")\n",
    "print(\"Operarations\\n\\t1.add\\n\\t2.substraction\\n\\t3.Multiplication\\n\\t4.Division\")\n",
    "option = input(\"Enter an option:\")\n",
    "print(option)#2\n",
    "if option==1:\n",
    "    print(a+b)\n",
    "if option==2:\n",
    "    print(a-b)\n",
    "if option==3:\n",
    "    print(a*b)\n",
    "if option==4:\n",
    "    print(a/b)\n"
   ]
  },
  {
   "cell_type": "code",
   "execution_count": 19,
   "id": "a82204dd",
   "metadata": {},
   "outputs": [
    {
     "data": {
      "text/plain": [
       "False"
      ]
     },
     "execution_count": 19,
     "metadata": {},
     "output_type": "execute_result"
    }
   ],
   "source": [
    "\"2\"==2"
   ]
  },
  {
   "cell_type": "code",
   "execution_count": 20,
   "id": "b9e45749",
   "metadata": {},
   "outputs": [
    {
     "name": "stdout",
     "output_type": "stream",
     "text": [
      "Enter a value:12\n",
      "Enter a value:34\n",
      "Operarations\n",
      "\t1.add\n",
      "\t2.substraction\n",
      "\t3.Multiplication\n",
      "\t4.Division\n",
      "Enter an option:1\n",
      "1\n",
      "1234\n"
     ]
    }
   ],
   "source": [
    "a=input(\"Enter a value:\")\n",
    "b=input(\"Enter a value:\")\n",
    "print(\"Operarations\\n\\t1.add\\n\\t2.substraction\\n\\t3.Multiplication\\n\\t4.Division\")\n",
    "option = input(\"Enter an option:\")\n",
    "print(option)#2\n",
    "if option==\"1\":\n",
    "    print(a+b)\n",
    "if option==\"2\":\n",
    "    print(a-b)\n",
    "if option==\"3\":\n",
    "    print(a*b)\n",
    "if option==\"4\":\n",
    "    print(a/b)\n"
   ]
  },
  {
   "cell_type": "code",
   "execution_count": 21,
   "id": "8b89cd81",
   "metadata": {},
   "outputs": [
    {
     "name": "stdout",
     "output_type": "stream",
     "text": [
      "Enter a value:12\n",
      "Enter a value:34\n",
      "Operarations\n",
      "\t1.add\n",
      "\t2.substraction\n",
      "\t3.Multiplication\n",
      "\t4.Division\n",
      "Enter an option:2\n",
      "2\n",
      "-22.0\n"
     ]
    }
   ],
   "source": [
    "a=float(input(\"Enter a value:\"))\n",
    "b=float(input(\"Enter a value:\"))\n",
    "print(\"Operarations\\n\\t1.add\\n\\t2.substraction\\n\\t3.Multiplication\\n\\t4.Division\")\n",
    "option = input(\"Enter an option:\")\n",
    "print(option)#2\n",
    "if option==\"1\":\n",
    "    print(a+b)\n",
    "if option==\"2\":\n",
    "    print(a-b)\n",
    "if option==\"3\":\n",
    "    print(a*b)\n",
    "if option==\"4\":\n",
    "    print(a/b)\n"
   ]
  },
  {
   "cell_type": "code",
   "execution_count": 22,
   "id": "9c604e98",
   "metadata": {},
   "outputs": [
    {
     "name": "stdout",
     "output_type": "stream",
     "text": [
      "Enter a value:12\n",
      "Enter a value:34\n",
      "Operarations\n",
      "\t1.add\n",
      "\t2.substraction\n",
      "\t3.Multiplication\n",
      "\t4.Division\n",
      "Enter an option:1\n",
      "1\n",
      "46.0\n"
     ]
    }
   ],
   "source": [
    "a=float(input(\"Enter a value:\"))\n",
    "b=float(input(\"Enter a value:\"))\n",
    "print(\"Operarations\\n\\t1.add\\n\\t2.substraction\\n\\t3.Multiplication\\n\\t4.Division\")\n",
    "option = input(\"Enter an option:\")\n",
    "print(option)#2\n",
    "if option==\"1\":\n",
    "    print(a+b)\n",
    "if option==\"2\":\n",
    "    print(a-b)\n",
    "if option==\"3\":\n",
    "    print(a*b)\n",
    "if option==\"4\":\n",
    "    print(a/b)\n"
   ]
  },
  {
   "cell_type": "code",
   "execution_count": 23,
   "id": "244d86e5",
   "metadata": {},
   "outputs": [
    {
     "name": "stdout",
     "output_type": "stream",
     "text": [
      "Enter a value:12\n",
      "Enter a value:34\n",
      "Operarations\n",
      "\t1.add\n",
      "\t2.substraction\n",
      "\t3.Multiplication\n",
      "\t4.Division\n",
      "Enter an option:3\n",
      "3\n",
      "408.0\n"
     ]
    }
   ],
   "source": [
    "a=float(input(\"Enter a value:\"))\n",
    "b=float(input(\"Enter a value:\"))\n",
    "print(\"Operarations\\n\\t1.add\\n\\t2.substraction\\n\\t3.Multiplication\\n\\t4.Division\")\n",
    "option = input(\"Enter an option:\")\n",
    "print(option)#2\n",
    "if option==\"1\":\n",
    "    print(a+b)\n",
    "if option==\"2\":\n",
    "    print(a-b)\n",
    "if option==\"3\":\n",
    "    print(a*b)\n",
    "if option==\"4\":\n",
    "    print(a/b)\n"
   ]
  },
  {
   "cell_type": "code",
   "execution_count": 24,
   "id": "2ed40fa3",
   "metadata": {},
   "outputs": [
    {
     "name": "stdout",
     "output_type": "stream",
     "text": [
      "Enter a value:12\n",
      "Enter a value:34\n",
      "Operarations\n",
      "\t1.add\n",
      "\t2.substraction\n",
      "\t3.Multiplication\n",
      "\t4.Division\n",
      "Enter an option:4\n",
      "4\n",
      "0.35294117647058826\n"
     ]
    }
   ],
   "source": [
    "a=float(input(\"Enter a value:\"))\n",
    "b=float(input(\"Enter a value:\"))\n",
    "print(\"Operarations\\n\\t1.add\\n\\t2.substraction\\n\\t3.Multiplication\\n\\t4.Division\")\n",
    "option = input(\"Enter an option:\")\n",
    "print(option)#2\n",
    "if option==\"1\":\n",
    "    print(a+b)\n",
    "if option==\"2\":\n",
    "    print(a-b)\n",
    "if option==\"3\":\n",
    "    print(a*b)\n",
    "if option==\"4\":\n",
    "    print(a/b)\n"
   ]
  },
  {
   "cell_type": "code",
   "execution_count": 25,
   "id": "50d78d86",
   "metadata": {},
   "outputs": [
    {
     "name": "stdout",
     "output_type": "stream",
     "text": [
      "Enter a value:12\n",
      "Enter a value:34\n",
      "Operarations\n",
      "\t1.add\n",
      "\t2.substraction\n",
      "\t3.Multiplication\n",
      "\t4.Division\n",
      "Enter an option:5\n",
      "5\n"
     ]
    }
   ],
   "source": [
    "a=float(input(\"Enter a value:\"))\n",
    "b=float(input(\"Enter a value:\"))\n",
    "print(\"Operarations\\n\\t1.add\\n\\t2.substraction\\n\\t3.Multiplication\\n\\t4.Division\")\n",
    "option = input(\"Enter an option:\")\n",
    "print(option)#5\n",
    "if option==\"1\":\n",
    "    print(a+b)\n",
    "if option==\"2\":\n",
    "    print(a-b)\n",
    "if option==\"3\":\n",
    "    print(a*b)\n",
    "if option==\"4\":\n",
    "    print(a/b)\n"
   ]
  },
  {
   "cell_type": "code",
   "execution_count": 26,
   "id": "050e3d25",
   "metadata": {},
   "outputs": [
    {
     "name": "stdout",
     "output_type": "stream",
     "text": [
      "Enter a value:12\n",
      "Enter a value:34\n",
      "Operarations\n",
      "\t1.add\n",
      "\t2.substraction\n",
      "\t3.Multiplication\n",
      "\t4.Division\n",
      "Enter an option:1\n",
      "1\n",
      "46.0\n",
      "DONE\n"
     ]
    }
   ],
   "source": [
    "a=float(input(\"Enter a value:\"))\n",
    "b=float(input(\"Enter a value:\"))\n",
    "print(\"Operarations\\n\\t1.add\\n\\t2.substraction\\n\\t3.Multiplication\\n\\t4.Division\")\n",
    "option = input(\"Enter an option:\")\n",
    "print(option)#5\n",
    "if option==\"1\":\n",
    "    print(a+b)\n",
    "if option==\"2\":\n",
    "    print(a-b)\n",
    "if option==\"3\":\n",
    "    print(a*b)\n",
    "if option==\"4\":\n",
    "    print(a/b)\n",
    "print(\"DONE\")"
   ]
  },
  {
   "cell_type": "code",
   "execution_count": 27,
   "id": "1b563c4c",
   "metadata": {},
   "outputs": [
    {
     "name": "stdout",
     "output_type": "stream",
     "text": [
      "Enter a value:12\n",
      "Enter a value:34\n",
      "Operarations\n",
      "\t1.add\n",
      "\t2.substraction\n",
      "\t3.Multiplication\n",
      "\t4.Division\n",
      "Enter an option:2\n",
      "2\n",
      "-22.0\n",
      "DONE\n"
     ]
    }
   ],
   "source": [
    "a=float(input(\"Enter a value:\"))\n",
    "b=float(input(\"Enter a value:\"))\n",
    "print(\"Operarations\\n\\t1.add\\n\\t2.substraction\\n\\t3.Multiplication\\n\\t4.Division\")\n",
    "option = input(\"Enter an option:\")\n",
    "print(option)#2\n",
    "if option==\"1\":#False\n",
    "    print(a+b)\n",
    "elif option==\"2\":#True\n",
    "    print(a-b)\n",
    "elif option==\"3\":\n",
    "    print(a*b)\n",
    "elif option==\"4\":\n",
    "    print(a/b)\n",
    "print(\"DONE\")"
   ]
  },
  {
   "cell_type": "code",
   "execution_count": 28,
   "id": "910fd6d4",
   "metadata": {},
   "outputs": [
    {
     "name": "stdout",
     "output_type": "stream",
     "text": [
      "Enter a value:5\n",
      "Enter a value:23\n",
      "Operarations\n",
      "\t1.add\n",
      "\t2.substraction\n",
      "\t3.Multiplication\n",
      "\t4.Division\n",
      "Enter an option:5\n",
      "5\n",
      "DONE\n"
     ]
    }
   ],
   "source": [
    "a=float(input(\"Enter a value:\"))\n",
    "b=float(input(\"Enter a value:\"))\n",
    "print(\"Operarations\\n\\t1.add\\n\\t2.substraction\\n\\t3.Multiplication\\n\\t4.Division\")\n",
    "option = input(\"Enter an option:\")\n",
    "print(option)#5\n",
    "if option==\"1\":#False\n",
    "    print(a+b)\n",
    "elif option==\"2\":#False\n",
    "    print(a-b)\n",
    "elif option==\"3\":#False\n",
    "    print(a*b)\n",
    "elif option==\"4\":#False\n",
    "    print(a/b)\n",
    "print(\"DONE\")"
   ]
  },
  {
   "cell_type": "code",
   "execution_count": 29,
   "id": "2a3db148",
   "metadata": {},
   "outputs": [
    {
     "name": "stdout",
     "output_type": "stream",
     "text": [
      "Enter a value:23\n",
      "Enter a value:45\n",
      "Operarations\n",
      "\t1.add\n",
      "\t2.substraction\n",
      "\t3.Multiplication\n",
      "\t4.Division\n",
      "Enter an option:5\n",
      "5\n",
      "INVALID OPTION..\n",
      "DONE\n"
     ]
    }
   ],
   "source": [
    "a=float(input(\"Enter a value:\"))\n",
    "b=float(input(\"Enter a value:\"))\n",
    "print(\"Operarations\\n\\t1.add\\n\\t2.substraction\\n\\t3.Multiplication\\n\\t4.Division\")\n",
    "option = input(\"Enter an option:\")\n",
    "print(option)#5\n",
    "if option==\"1\":#False\n",
    "    print(a+b)\n",
    "elif option==\"2\":#False\n",
    "    print(a-b)\n",
    "elif option==\"3\":#False\n",
    "    print(a*b)\n",
    "elif option==\"4\":#False\n",
    "    print(a/b)\n",
    "else:\n",
    "    print(\"INVALID OPTION..\")\n",
    "print(\"DONE\")"
   ]
  },
  {
   "cell_type": "code",
   "execution_count": 30,
   "id": "6b9cdd82",
   "metadata": {},
   "outputs": [
    {
     "name": "stdout",
     "output_type": "stream",
     "text": [
      "Enter a value:23\n",
      "Enter a value:45\n",
      "Operarations\n",
      "\t1.add\n",
      "\t2.substraction\n",
      "\t3.Multiplication\n",
      "\t4.Division\n",
      "Enter an option:4\n",
      "4\n",
      "0.5111111111111111\n",
      "DONE\n"
     ]
    }
   ],
   "source": [
    "a=float(input(\"Enter a value:\"))\n",
    "b=float(input(\"Enter a value:\"))\n",
    "print(\"Operarations\\n\\t1.add\\n\\t2.substraction\\n\\t3.Multiplication\\n\\t4.Division\")\n",
    "option = input(\"Enter an option:\")\n",
    "print(option)#4\n",
    "if option==\"1\":#False\n",
    "    print(a+b)\n",
    "elif option==\"2\":#False\n",
    "    print(a-b)\n",
    "elif option==\"3\":#False\n",
    "    print(a*b)\n",
    "elif option==\"4\":#True\n",
    "    print(a/b)\n",
    "else:\n",
    "    print(\"INVALID OPTION..\")\n",
    "print(\"DONE\")"
   ]
  },
  {
   "cell_type": "code",
   "execution_count": null,
   "id": "1f274684",
   "metadata": {},
   "outputs": [],
   "source": []
  }
 ],
 "metadata": {
  "kernelspec": {
   "display_name": "Python 3 (ipykernel)",
   "language": "python",
   "name": "python3"
  },
  "language_info": {
   "codemirror_mode": {
    "name": "ipython",
    "version": 3
   },
   "file_extension": ".py",
   "mimetype": "text/x-python",
   "name": "python",
   "nbconvert_exporter": "python",
   "pygments_lexer": "ipython3",
   "version": "3.11.3"
  }
 },
 "nbformat": 4,
 "nbformat_minor": 5
}
