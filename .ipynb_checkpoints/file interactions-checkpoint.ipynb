{
 "cells": [
  {
   "cell_type": "code",
   "execution_count": 1,
   "id": "1e9e146e",
   "metadata": {},
   "outputs": [
    {
     "name": "stdout",
     "output_type": "stream",
     "text": [
      "The Hyderabad National Book Fair is an annual event that features book stalls, literary sessions, and activities for children. The 2025 New Delhi World Book Fair (NDWBF) will be held from February 1–9, 2025\n"
     ]
    }
   ],
   "source": [
    "data=\"The Hyderabad National Book Fair is an annual event that features book stalls, literary sessions, and activities for children. The 2025 New Delhi World Book Fair (NDWBF) will be held from February 1–9, 2025\"\n",
    "print(data)"
   ]
  },
  {
   "cell_type": "code",
   "execution_count": 2,
   "id": "26dce2c4",
   "metadata": {},
   "outputs": [
    {
     "data": {
      "text/plain": [
       "206"
      ]
     },
     "execution_count": 2,
     "metadata": {},
     "output_type": "execute_result"
    }
   ],
   "source": [
    "data=\"The Hyderabad National Book Fair is an annual event that features book stalls, literary sessions, and activities for children. The 2025 New Delhi World Book Fair (NDWBF) will be held from February 1–9, 2025\"\n",
    "f=open(\"data.txt\",\"w\")\n",
    "f.write(data)"
   ]
  },
  {
   "cell_type": "code",
   "execution_count": 3,
   "id": "dbc97391",
   "metadata": {},
   "outputs": [
    {
     "name": "stdout",
     "output_type": "stream",
     "text": [
      "206\n"
     ]
    }
   ],
   "source": [
    "print(len(data))"
   ]
  },
  {
   "cell_type": "code",
   "execution_count": 4,
   "id": "502171f0",
   "metadata": {},
   "outputs": [],
   "source": [
    "f.flush()"
   ]
  },
  {
   "cell_type": "code",
   "execution_count": null,
   "id": "991993d5",
   "metadata": {},
   "outputs": [],
   "source": [
    "data=\"The Hyderabad National Book Fair is an annual event that features book stalls, literary sessions, and activities for children. The 2025 New Delhi World Book Fair (NDWBF) will be held from February 1–9, 2025\"\n",
    "f=open(\"data.txt\",\"w\")\n",
    "for i in range(100000000):\n",
    "    f.write(data)\n",
    "f.flush()"
   ]
  },
  {
   "cell_type": "code",
   "execution_count": 5,
   "id": "c8d26e3d",
   "metadata": {},
   "outputs": [
    {
     "data": {
      "text/plain": [
       "20600000000"
      ]
     },
     "execution_count": 5,
     "metadata": {},
     "output_type": "execute_result"
    }
   ],
   "source": [
    "100000000*206"
   ]
  },
  {
   "cell_type": "code",
   "execution_count": 6,
   "id": "cbe277bc",
   "metadata": {},
   "outputs": [
    {
     "data": {
      "text/plain": [
       "164800000000"
      ]
     },
     "execution_count": 6,
     "metadata": {},
     "output_type": "execute_result"
    }
   ],
   "source": [
    "20600000000*8"
   ]
  },
  {
   "cell_type": "code",
   "execution_count": 7,
   "id": "c8a82f36",
   "metadata": {},
   "outputs": [
    {
     "data": {
      "text/plain": [
       "19.185245037078857"
      ]
     },
     "execution_count": 7,
     "metadata": {},
     "output_type": "execute_result"
    }
   ],
   "source": [
    "164800000000/(8*1024*1024*1024)"
   ]
  },
  {
   "cell_type": "code",
   "execution_count": null,
   "id": "2f829da2",
   "metadata": {},
   "outputs": [],
   "source": [
    "data=\"The Hyderabad National Book Fair is an annual event that features book stalls, literary sessions, and activities for children. The 2025 New Delhi World Book Fair (NDWBF) will be held from February 1–9, 2025\"\n",
    "f=open(\"data.txt\",\"w\")\n",
    "for i in range(100000000):\n",
    "    f.write(data)\n",
    "    f.flush()"
   ]
  },
  {
   "cell_type": "markdown",
   "id": "cff40622",
   "metadata": {},
   "source": [
    "###### "
   ]
  },
  {
   "cell_type": "code",
   "execution_count": 8,
   "id": "0bce2fe4",
   "metadata": {},
   "outputs": [
    {
     "data": {
      "text/plain": [
       "1648"
      ]
     },
     "execution_count": 8,
     "metadata": {},
     "output_type": "execute_result"
    }
   ],
   "source": [
    "206*8"
   ]
  },
  {
   "cell_type": "code",
   "execution_count": 11,
   "id": "39f96e82",
   "metadata": {},
   "outputs": [],
   "source": [
    "#20GB fake employee data..\n",
    "f=open(\"data.csv\",\"w\")\n",
    "f.write(\"EMPID,name,email,phone,salary\\n\")\n",
    "f.write(\"123,samba,samba@gmail.com,2345234567,426789\\n\")\n",
    "f.write(\"124,samba1,samba1@gmail.com,3345234567,526789\\n\")\n",
    "f.write(\"125,samba2,samba2@gmail.com,4345234567,626789\\n\")\n",
    "f.flush()\n"
   ]
  },
  {
   "cell_type": "code",
   "execution_count": 13,
   "id": "31916a99",
   "metadata": {},
   "outputs": [],
   "source": [
    "from faker import Faker"
   ]
  },
  {
   "cell_type": "code",
   "execution_count": 14,
   "id": "f94a387e",
   "metadata": {},
   "outputs": [],
   "source": [
    "fak = Faker()"
   ]
  },
  {
   "cell_type": "code",
   "execution_count": 15,
   "id": "087fc330",
   "metadata": {},
   "outputs": [
    {
     "name": "stdout",
     "output_type": "stream",
     "text": [
      "['__annotations__', '__class__', '__deepcopy__', '__delattr__', '__dict__', '__dir__', '__doc__', '__eq__', '__format__', '__ge__', '__getattr__', '__getattribute__', '__getitem__', '__getstate__', '__gt__', '__hash__', '__init__', '__init_subclass__', '__le__', '__lt__', '__module__', '__ne__', '__new__', '__reduce__', '__reduce_ex__', '__repr__', '__setattr__', '__setstate__', '__sizeof__', '__str__', '__subclasshook__', '__weakref__', '_factories', '_factory_map', '_locales', '_map_provider_method', '_select_factory', '_select_factory_choice', '_select_factory_distribution', '_unique_proxy', '_weights', 'aba', 'add_provider', 'address', 'administrative_unit', 'am_pm', 'android_platform_token', 'ascii_company_email', 'ascii_email', 'ascii_free_email', 'ascii_safe_email', 'bank_country', 'basic_phone_number', 'bban', 'binary', 'boolean', 'bothify', 'bs', 'building_number', 'cache_pattern', 'catch_phrase', 'century', 'chrome', 'city', 'city_prefix', 'city_suffix', 'color', 'color_name', 'company', 'company_email', 'company_suffix', 'coordinate', 'country', 'country_calling_code', 'country_code', 'credit_card_expire', 'credit_card_full', 'credit_card_number', 'credit_card_provider', 'credit_card_security_code', 'cryptocurrency', 'cryptocurrency_code', 'cryptocurrency_name', 'csv', 'currency', 'currency_code', 'currency_name', 'currency_symbol', 'current_country', 'current_country_code', 'date', 'date_between', 'date_between_dates', 'date_object', 'date_of_birth', 'date_this_century', 'date_this_decade', 'date_this_month', 'date_this_year', 'date_time', 'date_time_ad', 'date_time_between', 'date_time_between_dates', 'date_time_this_century', 'date_time_this_decade', 'date_time_this_month', 'date_time_this_year', 'day_of_month', 'day_of_week', 'del_arguments', 'dga', 'domain_name', 'domain_word', 'dsv', 'ean', 'ean13', 'ean8', 'ein', 'email', 'emoji', 'enum', 'factories', 'file_extension', 'file_name', 'file_path', 'firefox', 'first_name', 'first_name_female', 'first_name_male', 'first_name_nonbinary', 'fixed_width', 'format', 'free_email', 'free_email_domain', 'future_date', 'future_datetime', 'generator_attrs', 'get_arguments', 'get_formatter', 'get_providers', 'hex_color', 'hexify', 'hostname', 'http_method', 'iana_id', 'iban', 'image', 'image_url', 'internet_explorer', 'invalid_ssn', 'ios_platform_token', 'ipv4', 'ipv4_network_class', 'ipv4_private', 'ipv4_public', 'ipv6', 'isbn10', 'isbn13', 'iso8601', 'items', 'itin', 'job', 'json', 'json_bytes', 'language_code', 'language_name', 'last_name', 'last_name_female', 'last_name_male', 'last_name_nonbinary', 'latitude', 'latlng', 'lexify', 'license_plate', 'linux_platform_token', 'linux_processor', 'local_latlng', 'locale', 'locales', 'localized_ean', 'localized_ean13', 'localized_ean8', 'location_on_land', 'longitude', 'mac_address', 'mac_platform_token', 'mac_processor', 'md5', 'military_apo', 'military_dpo', 'military_ship', 'military_state', 'mime_type', 'month', 'month_name', 'msisdn', 'name', 'name_female', 'name_male', 'name_nonbinary', 'nic_handle', 'nic_handles', 'null_boolean', 'numerify', 'opera', 'paragraph', 'paragraphs', 'parse', 'password', 'past_date', 'past_datetime', 'phone_number', 'port_number', 'postalcode', 'postalcode_in_state', 'postalcode_plus4', 'postcode', 'postcode_in_state', 'prefix', 'prefix_female', 'prefix_male', 'prefix_nonbinary', 'pricetag', 'profile', 'provider', 'providers', 'psv', 'pybool', 'pydecimal', 'pydict', 'pyfloat', 'pyint', 'pyiterable', 'pylist', 'pyobject', 'pyset', 'pystr', 'pystr_format', 'pystruct', 'pytimezone', 'pytuple', 'random', 'random_choices', 'random_digit', 'random_digit_not_null', 'random_digit_not_null_or_empty', 'random_digit_or_empty', 'random_element', 'random_elements', 'random_int', 'random_letter', 'random_letters', 'random_lowercase_letter', 'random_number', 'random_sample', 'random_uppercase_letter', 'randomize_nb_elements', 'rgb_color', 'rgb_css_color', 'ripe_id', 'safari', 'safe_color_name', 'safe_domain_name', 'safe_email', 'safe_hex_color', 'sbn9', 'secondary_address', 'seed', 'seed_instance', 'seed_locale', 'sentence', 'sentences', 'set_arguments', 'set_formatter', 'sha1', 'sha256', 'simple_profile', 'slug', 'ssn', 'state', 'state_abbr', 'street_address', 'street_name', 'street_suffix', 'suffix', 'suffix_female', 'suffix_male', 'suffix_nonbinary', 'swift', 'swift11', 'swift8', 'tar', 'text', 'texts', 'time', 'time_delta', 'time_object', 'time_series', 'timezone', 'tld', 'tsv', 'unique', 'unix_device', 'unix_partition', 'unix_time', 'upc_a', 'upc_e', 'uri', 'uri_extension', 'uri_page', 'uri_path', 'url', 'user_agent', 'user_name', 'uuid4', 'weights', 'windows_platform_token', 'word', 'words', 'xml', 'year', 'zip', 'zipcode', 'zipcode_in_state', 'zipcode_plus4']\n"
     ]
    }
   ],
   "source": [
    "print(dir(fak))"
   ]
  },
  {
   "cell_type": "code",
   "execution_count": 17,
   "id": "80fb0967",
   "metadata": {},
   "outputs": [
    {
     "data": {
      "text/plain": [
       "'Nicholas Obrien'"
      ]
     },
     "execution_count": 17,
     "metadata": {},
     "output_type": "execute_result"
    }
   ],
   "source": [
    "fak.name()"
   ]
  },
  {
   "cell_type": "code",
   "execution_count": 18,
   "id": "8b48d923",
   "metadata": {},
   "outputs": [
    {
     "data": {
      "text/plain": [
       "'Thomas Stokes'"
      ]
     },
     "execution_count": 18,
     "metadata": {},
     "output_type": "execute_result"
    }
   ],
   "source": [
    "fak.name()"
   ]
  },
  {
   "cell_type": "code",
   "execution_count": 19,
   "id": "afa2b24a",
   "metadata": {},
   "outputs": [
    {
     "data": {
      "text/plain": [
       "'Jeanette Harrison'"
      ]
     },
     "execution_count": 19,
     "metadata": {},
     "output_type": "execute_result"
    }
   ],
   "source": [
    "fak.name()"
   ]
  },
  {
   "cell_type": "code",
   "execution_count": 20,
   "id": "7d8df7eb",
   "metadata": {},
   "outputs": [
    {
     "data": {
      "text/plain": [
       "'Christopher Wade'"
      ]
     },
     "execution_count": 20,
     "metadata": {},
     "output_type": "execute_result"
    }
   ],
   "source": [
    "fak.name()"
   ]
  },
  {
   "cell_type": "code",
   "execution_count": 21,
   "id": "dba89a46",
   "metadata": {},
   "outputs": [],
   "source": [
    "#300000, 4500000\n",
    "import random"
   ]
  },
  {
   "cell_type": "code",
   "execution_count": 23,
   "id": "59176cf5",
   "metadata": {},
   "outputs": [
    {
     "data": {
      "text/plain": [
       "3275978"
      ]
     },
     "execution_count": 23,
     "metadata": {},
     "output_type": "execute_result"
    }
   ],
   "source": [
    "random.randint(300000, 4500000)"
   ]
  },
  {
   "cell_type": "code",
   "execution_count": 24,
   "id": "15e2e250",
   "metadata": {},
   "outputs": [
    {
     "data": {
      "text/plain": [
       "4153642"
      ]
     },
     "execution_count": 24,
     "metadata": {},
     "output_type": "execute_result"
    }
   ],
   "source": [
    "random.randint(300000, 4500000)"
   ]
  },
  {
   "cell_type": "code",
   "execution_count": 25,
   "id": "cacd6573",
   "metadata": {},
   "outputs": [
    {
     "data": {
      "text/plain": [
       "'sancheznatasha@example.com'"
      ]
     },
     "execution_count": 25,
     "metadata": {},
     "output_type": "execute_result"
    }
   ],
   "source": [
    "fak.email()"
   ]
  },
  {
   "cell_type": "code",
   "execution_count": 26,
   "id": "304bc662",
   "metadata": {},
   "outputs": [
    {
     "data": {
      "text/plain": [
       "'+1-817-004-8459x361'"
      ]
     },
     "execution_count": 26,
     "metadata": {},
     "output_type": "execute_result"
    }
   ],
   "source": [
    "fak.phone_number()"
   ]
  },
  {
   "cell_type": "code",
   "execution_count": 27,
   "id": "82ec9b2a",
   "metadata": {},
   "outputs": [],
   "source": [
    "#20GB fake employee data..\n",
    "from faker import Faker\n",
    "import random\n",
    "fak = Faker()\n",
    "f=open(\"data.csv\",\"w\")\n",
    "f.write(\"EMPID,name,email,phone,salary\\n\")\n",
    "for i in range(10):\n",
    "    row = f\"AJACS{i},{fak.name()},{fak.email()},{fak.phone_number()},{random.randint(300000, 4500000)}\\n\"\n",
    "    f.write(row)\n",
    "    f.flush()\n"
   ]
  },
  {
   "cell_type": "code",
   "execution_count": 1,
   "id": "3044170b",
   "metadata": {},
   "outputs": [],
   "source": [
    "#f.close  f.flush\n",
    "f=open(\"data1.txt\",\"w\")\n"
   ]
  },
  {
   "cell_type": "code",
   "execution_count": 2,
   "id": "7d6ae222",
   "metadata": {},
   "outputs": [
    {
     "data": {
      "text/plain": [
       "9"
      ]
     },
     "execution_count": 2,
     "metadata": {},
     "output_type": "execute_result"
    }
   ],
   "source": [
    "f.write(\"some data\")"
   ]
  },
  {
   "cell_type": "code",
   "execution_count": 3,
   "id": "a6a3ef51",
   "metadata": {},
   "outputs": [],
   "source": [
    "f.close()"
   ]
  },
  {
   "cell_type": "code",
   "execution_count": 4,
   "id": "7e95a16f",
   "metadata": {},
   "outputs": [
    {
     "ename": "ValueError",
     "evalue": "I/O operation on closed file.",
     "output_type": "error",
     "traceback": [
      "\u001b[1;31m---------------------------------------------------------------------------\u001b[0m",
      "\u001b[1;31mValueError\u001b[0m                                Traceback (most recent call last)",
      "Cell \u001b[1;32mIn[4], line 1\u001b[0m\n\u001b[1;32m----> 1\u001b[0m f\u001b[38;5;241m.\u001b[39mwrite(\u001b[38;5;124m\"\u001b[39m\u001b[38;5;124msome data\u001b[39m\u001b[38;5;124m\"\u001b[39m)\n",
      "\u001b[1;31mValueError\u001b[0m: I/O operation on closed file."
     ]
    }
   ],
   "source": [
    "f.write(\"some data\")"
   ]
  },
  {
   "cell_type": "code",
   "execution_count": 5,
   "id": "1752e55c",
   "metadata": {},
   "outputs": [],
   "source": [
    "#f.close  f.flush\n",
    "f=open(\"data1.txt\",\"w\")\n",
    "f.write(\"some data\")\n",
    "f.flush()"
   ]
  },
  {
   "cell_type": "code",
   "execution_count": 6,
   "id": "5d73aa96",
   "metadata": {},
   "outputs": [],
   "source": [
    "f=open(\"list memory management - Copy.PNG\",\"w\")"
   ]
  },
  {
   "cell_type": "code",
   "execution_count": 7,
   "id": "cb87a77c",
   "metadata": {},
   "outputs": [],
   "source": [
    "f=open(\"data1.txt\",\"w\")\n",
    "f.write(\"some more data\")\n",
    "f.flush()"
   ]
  },
  {
   "cell_type": "code",
   "execution_count": 8,
   "id": "781bdfd3",
   "metadata": {},
   "outputs": [],
   "source": [
    "f.write(\"some more and more data\")\n",
    "f.close()"
   ]
  },
  {
   "cell_type": "code",
   "execution_count": 9,
   "id": "1a8d693d",
   "metadata": {},
   "outputs": [],
   "source": [
    "f=open(\"data1.txt\",\"a\")\n",
    "f.write(\"\\n HELLO\")\n",
    "f.close()"
   ]
  },
  {
   "cell_type": "code",
   "execution_count": 10,
   "id": "3ceb63f8",
   "metadata": {},
   "outputs": [],
   "source": [
    "f=open(\"data2.txt\",\"a\")"
   ]
  },
  {
   "cell_type": "code",
   "execution_count": 11,
   "id": "e653162a",
   "metadata": {},
   "outputs": [
    {
     "ename": "FileNotFoundError",
     "evalue": "[Errno 2] No such file or directory: 'data10.txt'",
     "output_type": "error",
     "traceback": [
      "\u001b[1;31m---------------------------------------------------------------------------\u001b[0m",
      "\u001b[1;31mFileNotFoundError\u001b[0m                         Traceback (most recent call last)",
      "Cell \u001b[1;32mIn[11], line 1\u001b[0m\n\u001b[1;32m----> 1\u001b[0m f\u001b[38;5;241m=\u001b[39m\u001b[38;5;28mopen\u001b[39m(\u001b[38;5;124m\"\u001b[39m\u001b[38;5;124mdata10.txt\u001b[39m\u001b[38;5;124m\"\u001b[39m,\u001b[38;5;124m\"\u001b[39m\u001b[38;5;124mr\u001b[39m\u001b[38;5;124m\"\u001b[39m)\n",
      "File \u001b[1;32m~\\anaconda3\\Lib\\site-packages\\IPython\\core\\interactiveshell.py:284\u001b[0m, in \u001b[0;36m_modified_open\u001b[1;34m(file, *args, **kwargs)\u001b[0m\n\u001b[0;32m    277\u001b[0m \u001b[38;5;28;01mif\u001b[39;00m file \u001b[38;5;129;01min\u001b[39;00m {\u001b[38;5;241m0\u001b[39m, \u001b[38;5;241m1\u001b[39m, \u001b[38;5;241m2\u001b[39m}:\n\u001b[0;32m    278\u001b[0m     \u001b[38;5;28;01mraise\u001b[39;00m \u001b[38;5;167;01mValueError\u001b[39;00m(\n\u001b[0;32m    279\u001b[0m         \u001b[38;5;124mf\u001b[39m\u001b[38;5;124m\"\u001b[39m\u001b[38;5;124mIPython won\u001b[39m\u001b[38;5;124m'\u001b[39m\u001b[38;5;124mt let you open fd=\u001b[39m\u001b[38;5;132;01m{\u001b[39;00mfile\u001b[38;5;132;01m}\u001b[39;00m\u001b[38;5;124m by default \u001b[39m\u001b[38;5;124m\"\u001b[39m\n\u001b[0;32m    280\u001b[0m         \u001b[38;5;124m\"\u001b[39m\u001b[38;5;124mas it is likely to crash IPython. If you know what you are doing, \u001b[39m\u001b[38;5;124m\"\u001b[39m\n\u001b[0;32m    281\u001b[0m         \u001b[38;5;124m\"\u001b[39m\u001b[38;5;124myou can use builtins\u001b[39m\u001b[38;5;124m'\u001b[39m\u001b[38;5;124m open.\u001b[39m\u001b[38;5;124m\"\u001b[39m\n\u001b[0;32m    282\u001b[0m     )\n\u001b[1;32m--> 284\u001b[0m \u001b[38;5;28;01mreturn\u001b[39;00m io_open(file, \u001b[38;5;241m*\u001b[39margs, \u001b[38;5;241m*\u001b[39m\u001b[38;5;241m*\u001b[39mkwargs)\n",
      "\u001b[1;31mFileNotFoundError\u001b[0m: [Errno 2] No such file or directory: 'data10.txt'"
     ]
    }
   ],
   "source": [
    "f=open(\"data10.txt\",\"r\")\n"
   ]
  },
  {
   "cell_type": "code",
   "execution_count": 12,
   "id": "934c9a1d",
   "metadata": {},
   "outputs": [
    {
     "name": "stdout",
     "output_type": "stream",
     "text": [
      "Many Hindus believe that the Kumbh Mela originated in times immemorial \n",
      "and is attested in the Hindu Puranas about Samudra Manthana (lit. churning of the ocean) \n",
      "found in the Puranas. Historians, in contrast, reject these claims as none of the ancient or\n",
      " medieval era texts that mention the Samudra Manthana legend ever link it to a \"mela\" or festival. \n",
      "According to Giorgio Bonazzoli, a scholar of Sanskrit Puranas, these are anachronistic explanations, \n",
      "an adaptation of early legends to a later practice by a \"small circle of adherents\" \n",
      "who have sought the roots of a highly popular pilgrimage and festiva\n"
     ]
    }
   ],
   "source": [
    "f=open(\"data1.txt\",\"r\")\n",
    "data=f.read()\n",
    "f.close()\n",
    "print(data)"
   ]
  },
  {
   "cell_type": "code",
   "execution_count": 14,
   "id": "89c25f91",
   "metadata": {},
   "outputs": [
    {
     "ename": "UnicodeDecodeError",
     "evalue": "'charmap' codec can't decode byte 0x81 in position 5: character maps to <undefined>",
     "output_type": "error",
     "traceback": [
      "\u001b[1;31m---------------------------------------------------------------------------\u001b[0m",
      "\u001b[1;31mUnicodeDecodeError\u001b[0m                        Traceback (most recent call last)",
      "Cell \u001b[1;32mIn[14], line 2\u001b[0m\n\u001b[0;32m      1\u001b[0m f\u001b[38;5;241m=\u001b[39m\u001b[38;5;28mopen\u001b[39m(\u001b[38;5;124m\"\u001b[39m\u001b[38;5;124mdata2.txt\u001b[39m\u001b[38;5;124m\"\u001b[39m,\u001b[38;5;124m\"\u001b[39m\u001b[38;5;124mr\u001b[39m\u001b[38;5;124m\"\u001b[39m)\n\u001b[1;32m----> 2\u001b[0m data\u001b[38;5;241m=\u001b[39mf\u001b[38;5;241m.\u001b[39mread()\n\u001b[0;32m      3\u001b[0m f\u001b[38;5;241m.\u001b[39mclose()\n\u001b[0;32m      4\u001b[0m \u001b[38;5;28mprint\u001b[39m(data)\n",
      "File \u001b[1;32m~\\anaconda3\\Lib\\encodings\\cp1252.py:23\u001b[0m, in \u001b[0;36mIncrementalDecoder.decode\u001b[1;34m(self, input, final)\u001b[0m\n\u001b[0;32m     22\u001b[0m \u001b[38;5;28;01mdef\u001b[39;00m \u001b[38;5;21mdecode\u001b[39m(\u001b[38;5;28mself\u001b[39m, \u001b[38;5;28minput\u001b[39m, final\u001b[38;5;241m=\u001b[39m\u001b[38;5;28;01mFalse\u001b[39;00m):\n\u001b[1;32m---> 23\u001b[0m     \u001b[38;5;28;01mreturn\u001b[39;00m codecs\u001b[38;5;241m.\u001b[39mcharmap_decode(\u001b[38;5;28minput\u001b[39m,\u001b[38;5;28mself\u001b[39m\u001b[38;5;241m.\u001b[39merrors,decoding_table)[\u001b[38;5;241m0\u001b[39m]\n",
      "\u001b[1;31mUnicodeDecodeError\u001b[0m: 'charmap' codec can't decode byte 0x81 in position 5: character maps to <undefined>"
     ]
    }
   ],
   "source": [
    "f=open(\"data2.txt\",\"r\")\n",
    "data=f.read()\n",
    "f.close()\n",
    "print(data)"
   ]
  },
  {
   "cell_type": "code",
   "execution_count": 15,
   "id": "124e59af",
   "metadata": {},
   "outputs": [],
   "source": [
    "open?"
   ]
  },
  {
   "cell_type": "code",
   "execution_count": 17,
   "id": "66e53e4e",
   "metadata": {},
   "outputs": [
    {
     "name": "stdout",
     "output_type": "stream",
     "text": [
      "कुम्भ मेला भारत में आयोजित होने वाला एक विशाल मेला है, जिसमें करोड़ों श्रद्धालु हर बारहवें वर्ष प्रयाग, हरिद्वार, उज्जैन और नासिक में से किसी एक स्थान पर एकत्र होते हैं और नदी में पवित्र स्नान करते हैं\n"
     ]
    }
   ],
   "source": [
    "f=open(\"data2.txt\",\"r\",encoding=\"utf-8\")\n",
    "data=f.read()\n",
    "f.close()\n",
    "print(data)"
   ]
  },
  {
   "cell_type": "code",
   "execution_count": 18,
   "id": "2a791dc5",
   "metadata": {},
   "outputs": [
    {
     "name": "stdout",
     "output_type": "stream",
     "text": [
      "कुम्भ मेला भारत में आयोजित होने वाला एक विशाल मेला है, जिसमें करोड़ों श्रद्धालु हर बारहवें वर्ष प्रयाग, हरिद्वार, उज्जैन और नासिक में से किसी एक स्थान पर एकत्र होते हैं और नदी में पवित्र स्नान करते हैं\n"
     ]
    }
   ],
   "source": [
    "f=open(file=\"data2.txt\",mode=\"r\",encoding=\"utf-8\")\n",
    "data=f.read()\n",
    "f.close()\n",
    "print(data)"
   ]
  },
  {
   "cell_type": "code",
   "execution_count": 19,
   "id": "62ab0612",
   "metadata": {},
   "outputs": [
    {
     "name": "stdout",
     "output_type": "stream",
     "text": [
      "Many Hindus believe that the Kumbh Mela originated in times immemorial \n",
      "and is attested in the Hindu Puranas about Samudra Manthana (lit. churning of the ocean) \n",
      "found in the Puranas. Historians, in contrast, reject these claims as none of the ancient or\n",
      " medieval era texts that mention the Samudra Manthana legend ever link it to a \"mela\" or festival. \n",
      "According to Giorgio Bonazzoli, a scholar of Sanskrit Puranas, these are anachronistic explanations, \n",
      "an adaptation of early legends to a later practice by a \"small circle of adherents\" \n",
      "who have sought the roots of a highly popular pilgrimage and festiva\n"
     ]
    }
   ],
   "source": [
    "f=open(\"data1.txt\",\"r\",encoding=\"utf-8\")\n",
    "data=f.read()\n",
    "f.close()\n",
    "print(data)"
   ]
  },
  {
   "cell_type": "code",
   "execution_count": 20,
   "id": "46dfa186",
   "metadata": {},
   "outputs": [
    {
     "name": "stdout",
     "output_type": "stream",
     "text": [
      "Many Hindu\n"
     ]
    }
   ],
   "source": [
    "f=open(\"data1.txt\",\"r\",encoding=\"utf-8\")\n",
    "data=f.read(10)\n",
    "print(data)"
   ]
  },
  {
   "cell_type": "code",
   "execution_count": 21,
   "id": "242292c1",
   "metadata": {},
   "outputs": [
    {
     "name": "stdout",
     "output_type": "stream",
     "text": [
      "s believe \n"
     ]
    }
   ],
   "source": [
    "data1=f.read(10)\n",
    "print(data1)"
   ]
  },
  {
   "cell_type": "code",
   "execution_count": 22,
   "id": "d2a5b82a",
   "metadata": {},
   "outputs": [
    {
     "data": {
      "text/plain": [
       "'that the K'"
      ]
     },
     "execution_count": 22,
     "metadata": {},
     "output_type": "execute_result"
    }
   ],
   "source": [
    "f.read(10)"
   ]
  },
  {
   "cell_type": "code",
   "execution_count": 23,
   "id": "ad6984bd",
   "metadata": {},
   "outputs": [
    {
     "data": {
      "text/plain": [
       "'umbh Mela originated in times immemorial \\nand is attested in the Hindu Puranas about Samudra Manthana (lit. churning of the ocean) \\nfound in the Puranas. Historians, in contrast, reject these claims as none of the ancient or\\n medieval era texts that mention the Samudra Manthana legend ever link it to a \"mela\" or festival. \\nAccording to Giorgio Bonazzoli, a scholar of Sanskrit Puranas, these are anachronistic explanations, \\nan adaptation of early legends to a later practice by a \"small circle of adherents\" \\nwho have sought the roots of a highly popular pilgrimage and festiva'"
      ]
     },
     "execution_count": 23,
     "metadata": {},
     "output_type": "execute_result"
    }
   ],
   "source": [
    "f.read(1000)"
   ]
  },
  {
   "cell_type": "code",
   "execution_count": 24,
   "id": "48f5813f",
   "metadata": {},
   "outputs": [
    {
     "data": {
      "text/plain": [
       "''"
      ]
     },
     "execution_count": 24,
     "metadata": {},
     "output_type": "execute_result"
    }
   ],
   "source": [
    "f.read(20)"
   ]
  },
  {
   "cell_type": "code",
   "execution_count": 25,
   "id": "8fded048",
   "metadata": {},
   "outputs": [
    {
     "data": {
      "text/plain": [
       "''"
      ]
     },
     "execution_count": 25,
     "metadata": {},
     "output_type": "execute_result"
    }
   ],
   "source": [
    "f.read(10)"
   ]
  },
  {
   "cell_type": "code",
   "execution_count": 26,
   "id": "0e10533e",
   "metadata": {},
   "outputs": [
    {
     "name": "stdout",
     "output_type": "stream",
     "text": [
      "Many Hindu\n",
      "s believe \n",
      "that the K\n",
      "umbh Mela \n",
      "originated\n",
      " in times \n",
      "immemorial\n",
      " \n",
      "and is a\n",
      "ttested in\n",
      " the Hindu\n",
      " Puranas a\n",
      "bout Samud\n",
      "ra Manthan\n",
      "a (lit. ch\n",
      "urning of \n",
      "the ocean)\n",
      " \n",
      "found in\n",
      " the Puran\n",
      "as. Histor\n",
      "ians, in c\n",
      "ontrast, r\n",
      "eject thes\n",
      "e claims a\n",
      "s none of \n",
      "the ancien\n",
      "t or\n",
      " medi\n",
      "eval era t\n",
      "exts that \n",
      "mention th\n",
      "e Samudra \n",
      "Manthana l\n",
      "egend ever\n",
      " link it t\n",
      "o a \"mela\"\n",
      " or festiv\n",
      "al. \n",
      "Accor\n",
      "ding to Gi\n",
      "orgio Bona\n",
      "zzoli, a s\n",
      "cholar of \n",
      "Sanskrit P\n",
      "uranas, th\n",
      "ese are an\n",
      "achronisti\n",
      "c explanat\n",
      "ions, \n",
      "an \n",
      "adaptation\n",
      " of early \n",
      "legends to\n",
      " a later p\n",
      "ractice by\n",
      " a \"small \n",
      "circle of \n",
      "adherents\"\n",
      " \n",
      "who have\n",
      " sought th\n",
      "e roots of\n",
      " a highly \n",
      "popular pi\n",
      "lgrimage a\n",
      "nd festiva\n",
      "\n"
     ]
    }
   ],
   "source": [
    "f=open(\"data1.txt\",\"r\",encoding=\"utf-8\")\n",
    "while True:\n",
    "    data=f.read(10)\n",
    "    if data:\n",
    "        print(data)\n",
    "    else:\n",
    "        break\n",
    "f.close()\n",
    "print(data)"
   ]
  },
  {
   "cell_type": "code",
   "execution_count": 27,
   "id": "5643e6b4",
   "metadata": {},
   "outputs": [
    {
     "name": "stdout",
     "output_type": "stream",
     "text": [
      "Many Hindus believe that the Kumbh Mela originated in times immemorial \n",
      "\n",
      "and is attested in the Hindu Puranas about Samudra Manthana (lit. churning of the ocean) \n",
      "\n",
      "found in the Puranas. Historians, in contrast, reject these claims as none of the ancient or\n",
      "\n",
      " medieval era texts that mention the Samudra Manthana legend ever link it to a \"mela\" or festival. \n",
      "\n",
      "According to Giorgio Bonazzoli, a scholar of Sanskrit Puranas, these are anachronistic explanations, \n",
      "\n",
      "an adaptation of early legends to a later practice by a \"small circle of adherents\" \n",
      "\n",
      "who have sought the roots of a highly popular pilgrimage and festiva\n",
      "\n"
     ]
    }
   ],
   "source": [
    "f=open(\"data1.txt\",\"r\",encoding=\"utf-8\")\n",
    "while True:\n",
    "    data=f.readline()\n",
    "    if data:\n",
    "        print(data)\n",
    "    else:\n",
    "        break\n",
    "f.close()\n",
    "print(data)"
   ]
  },
  {
   "cell_type": "code",
   "execution_count": 28,
   "id": "992a283f",
   "metadata": {},
   "outputs": [
    {
     "ename": "ValueError",
     "evalue": "I/O operation on closed file.",
     "output_type": "error",
     "traceback": [
      "\u001b[1;31m---------------------------------------------------------------------------\u001b[0m",
      "\u001b[1;31mValueError\u001b[0m                                Traceback (most recent call last)",
      "Cell \u001b[1;32mIn[28], line 1\u001b[0m\n\u001b[1;32m----> 1\u001b[0m f\u001b[38;5;241m.\u001b[39mreadline()\n",
      "\u001b[1;31mValueError\u001b[0m: I/O operation on closed file."
     ]
    }
   ],
   "source": [
    "f.readline()"
   ]
  },
  {
   "cell_type": "code",
   "execution_count": 29,
   "id": "0ff04c7a",
   "metadata": {},
   "outputs": [
    {
     "name": "stdout",
     "output_type": "stream",
     "text": [
      "['Many Hindus believe that the Kumbh Mela originated in times immemorial \\n', 'and is attested in the Hindu Puranas about Samudra Manthana (lit. churning of the ocean) \\n', 'found in the Puranas. Historians, in contrast, reject these claims as none of the ancient or\\n', ' medieval era texts that mention the Samudra Manthana legend ever link it to a \"mela\" or festival. \\n', 'According to Giorgio Bonazzoli, a scholar of Sanskrit Puranas, these are anachronistic explanations, \\n', 'an adaptation of early legends to a later practice by a \"small circle of adherents\" \\n', 'who have sought the roots of a highly popular pilgrimage and festiva']\n"
     ]
    }
   ],
   "source": [
    "f=open(\"data1.txt\",\"r\",encoding=\"utf-8\")\n",
    "data = f.readlines()\n",
    "print(data)"
   ]
  },
  {
   "cell_type": "code",
   "execution_count": 30,
   "id": "38308b93",
   "metadata": {},
   "outputs": [
    {
     "name": "stdout",
     "output_type": "stream",
     "text": [
      "Many Hindus believe that the Kumbh Mela originated in times immemorial \n",
      "\n",
      "and is attested in the Hindu Puranas about Samudra Manthana (lit. churning of the ocean) \n",
      "\n",
      "found in the Puranas. Historians, in contrast, reject these claims as none of the ancient or\n",
      "\n",
      " medieval era texts that mention the Samudra Manthana legend ever link it to a \"mela\" or festival. \n",
      "\n",
      "According to Giorgio Bonazzoli, a scholar of Sanskrit Puranas, these are anachronistic explanations, \n",
      "\n",
      "an adaptation of early legends to a later practice by a \"small circle of adherents\" \n",
      "\n",
      "who have sought the roots of a highly popular pilgrimage and festiva\n"
     ]
    }
   ],
   "source": [
    "f=open(\"data1.txt\",\"r\",encoding=\"utf-8\")\n",
    "for line in f:\n",
    "    print(line)"
   ]
  },
  {
   "cell_type": "code",
   "execution_count": null,
   "id": "9a77ab42",
   "metadata": {},
   "outputs": [],
   "source": []
  }
 ],
 "metadata": {
  "kernelspec": {
   "display_name": "Python 3 (ipykernel)",
   "language": "python",
   "name": "python3"
  },
  "language_info": {
   "codemirror_mode": {
    "name": "ipython",
    "version": 3
   },
   "file_extension": ".py",
   "mimetype": "text/x-python",
   "name": "python",
   "nbconvert_exporter": "python",
   "pygments_lexer": "ipython3",
   "version": "3.11.3"
  }
 },
 "nbformat": 4,
 "nbformat_minor": 5
}
