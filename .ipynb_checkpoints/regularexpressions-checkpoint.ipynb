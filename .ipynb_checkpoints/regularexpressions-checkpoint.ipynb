{
 "cells": [
  {
   "cell_type": "code",
   "execution_count": 1,
   "id": "945c1893-3dee-415c-994c-41eeeeab47bc",
   "metadata": {},
   "outputs": [],
   "source": [
    "import re"
   ]
  },
  {
   "cell_type": "code",
   "execution_count": 2,
   "id": "8dd706cd-fc31-4924-89a3-9b82718ffa0b",
   "metadata": {},
   "outputs": [
    {
     "name": "stdout",
     "output_type": "stream",
     "text": [
      "id,name,phone,email\n",
      "1,name1,9786754567,one12ER@gamil.com\n",
      "2,name2,9786754568,one52ER@gamil.org\n",
      "3,name3,9786754577,One12ER@gamil.co.in\n",
      "4,name4,9786754597,TWe12ER@gamil.gov.in\n"
     ]
    }
   ],
   "source": [
    "data=open(\"data.txt\").read()\n",
    "for line in data.splitlines():\n",
    "    print(line)"
   ]
  },
  {
   "cell_type": "code",
   "execution_count": 3,
   "id": "3eb1d3c3-5c23-4e99-822d-688f7ded3726",
   "metadata": {},
   "outputs": [
    {
     "name": "stdout",
     "output_type": "stream",
     "text": [
      "phone\n",
      "9786754567\n",
      "9786754568\n",
      "9786754577\n",
      "9786754597\n"
     ]
    }
   ],
   "source": [
    "data=open(\"data.txt\").read()\n",
    "for line in data.splitlines():\n",
    "    print(line.split(\",\")[2])"
   ]
  },
  {
   "cell_type": "code",
   "execution_count": 4,
   "id": "db11a4ab-0ba0-47c0-a9fd-cbe9e98b6989",
   "metadata": {},
   "outputs": [
    {
     "name": "stdout",
     "output_type": "stream",
     "text": [
      "email\n",
      "one12ER@gamil.com\n",
      "one52ER@gamil.org\n",
      "One12ER@gamil.co.in\n",
      "TWe12ER@gamil.gov.in\n"
     ]
    }
   ],
   "source": [
    "data=open(\"data.txt\").read()\n",
    "for line in data.splitlines():\n",
    "    print(line.split(\",\")[-1])"
   ]
  },
  {
   "cell_type": "code",
   "execution_count": 5,
   "id": "bc7516ec-32a0-459c-86dc-6bcee4cd983b",
   "metadata": {},
   "outputs": [
    {
     "name": "stdout",
     "output_type": "stream",
     "text": [
      "one12ER@gamil.com\n",
      "9786754568\n",
      "One12ER@gamil.co.in\n",
      "TWe12ER@gamil.gov.in\n"
     ]
    }
   ],
   "source": [
    "data=open(\"data.txt\").read()\n",
    "for line in data.splitlines():\n",
    "    print(line.split(\",\")[-1])"
   ]
  },
  {
   "cell_type": "code",
   "execution_count": 6,
   "id": "fffaf1fd-9668-4baf-a8a4-bef2f13ce4cb",
   "metadata": {},
   "outputs": [
    {
     "name": "stdout",
     "output_type": "stream",
     "text": [
      "['9786754567', '9786754568', '9786754577', '9786754597']\n"
     ]
    }
   ],
   "source": [
    "import re\n",
    "print(re.findall(\"[0-9]{10}\",data))"
   ]
  },
  {
   "cell_type": "code",
   "execution_count": 7,
   "id": "1b760138-20f0-4d29-848f-c2c9c20bcbb4",
   "metadata": {},
   "outputs": [
    {
     "name": "stdout",
     "output_type": "stream",
     "text": [
      "[]\n"
     ]
    }
   ],
   "source": [
    "import re\n",
    "print(re.findall(\"abcdefgh\",data))"
   ]
  },
  {
   "cell_type": "code",
   "execution_count": 8,
   "id": "26b36285-6221-415e-b6c1-9c19678ad946",
   "metadata": {},
   "outputs": [
    {
     "name": "stdout",
     "output_type": "stream",
     "text": [
      "['a', 'a', 'c', 'a', 'a', 'a', 'a', 'c', 'a', 'a']\n"
     ]
    }
   ],
   "source": [
    "import re\n",
    "print(re.findall(\"[abc]\",data))"
   ]
  },
  {
   "cell_type": "code",
   "execution_count": 9,
   "id": "57e6fbf8-d2a4-4cdf-a9e3-727d85aedad0",
   "metadata": {},
   "outputs": [
    {
     "name": "stdout",
     "output_type": "stream",
     "text": [
      "['name1']\n"
     ]
    }
   ],
   "source": [
    "import re\n",
    "print(re.findall(\"name1\",data))"
   ]
  },
  {
   "cell_type": "code",
   "execution_count": 10,
   "id": "fc73a201-aaf3-4ce9-bef4-7c98cd4fb0f0",
   "metadata": {},
   "outputs": [
    {
     "name": "stdout",
     "output_type": "stream",
     "text": [
      "['name', 'name', 'name', 'name']\n"
     ]
    }
   ],
   "source": [
    "import re\n",
    "print(re.findall(\"name\",data))"
   ]
  },
  {
   "cell_type": "code",
   "execution_count": 11,
   "id": "5e3c33af-ec46-4e70-9b5d-64b77455d930",
   "metadata": {},
   "outputs": [
    {
     "name": "stdout",
     "output_type": "stream",
     "text": [
      "['a', 'a', 'c', 'a', 'a', 'a', 'a', 'c', 'a', 'a']\n"
     ]
    }
   ],
   "source": [
    "import re\n",
    "print(re.findall(\"[abc]\",data))"
   ]
  },
  {
   "cell_type": "code",
   "execution_count": 13,
   "id": "ae8240e7-9aab-4982-9ad8-932a97cbb5ca",
   "metadata": {},
   "outputs": [
    {
     "name": "stdout",
     "output_type": "stream",
     "text": [
      "['ac']\n"
     ]
    }
   ],
   "source": [
    "import re\n",
    "data=open(\"data.txt\").read()\n",
    "print(re.findall(\"[abc][abc]\",data))"
   ]
  },
  {
   "cell_type": "code",
   "execution_count": 14,
   "id": "a29d7563-9a74-4d90-a9ca-7edf34998e7a",
   "metadata": {},
   "outputs": [
    {
     "name": "stdout",
     "output_type": "stream",
     "text": [
      "[]\n"
     ]
    }
   ],
   "source": [
    "import re\n",
    "data=open(\"data.txt\").read()\n",
    "print(re.findall(\"[abc][abc][abc]\",data))"
   ]
  },
  {
   "cell_type": "code",
   "execution_count": 15,
   "id": "eebfed4e-9e73-4290-b472-8508b882d14a",
   "metadata": {},
   "outputs": [
    {
     "name": "stdout",
     "output_type": "stream",
     "text": [
      "['acb']\n"
     ]
    }
   ],
   "source": [
    "import re\n",
    "data=open(\"data.txt\").read()\n",
    "print(re.findall(\"[abc][abc][abc]\",data))"
   ]
  },
  {
   "cell_type": "code",
   "execution_count": 16,
   "id": "d6d4ee72-68aa-486c-8bd4-2218b069cebb",
   "metadata": {},
   "outputs": [
    {
     "name": "stdout",
     "output_type": "stream",
     "text": [
      "['nam', 'eac', 'one', 'gam', 'com', 'one', 'gam', 'org', 'nam', 'nam', 'gam', 'nam', 'gam', 'gov']\n"
     ]
    }
   ],
   "source": [
    "import re\n",
    "data=open(\"data.txt\").read()\n",
    "print(re.findall(\"[a-z][a-z][a-z]\",data))"
   ]
  },
  {
   "cell_type": "code",
   "execution_count": 17,
   "id": "1766bc14-35d1-41e9-95e7-1a692fcfbac4",
   "metadata": {},
   "outputs": [
    {
     "name": "stdout",
     "output_type": "stream",
     "text": [
      "['978', '675', '456', '978', '675', '456', '978', '675', '457', '978', '675', '459']\n"
     ]
    }
   ],
   "source": [
    "import re\n",
    "data=open(\"data.txt\").read()\n",
    "print(re.findall(\"[0-9][0-9][0-9]\",data))"
   ]
  },
  {
   "cell_type": "code",
   "execution_count": 18,
   "id": "4f9a8561-2194-4a67-99ae-e16d73ba3a04",
   "metadata": {},
   "outputs": [
    {
     "name": "stdout",
     "output_type": "stream",
     "text": [
      "['9786754567', '9786754568', '9786754577', '9786754597']\n"
     ]
    }
   ],
   "source": [
    "import re\n",
    "data=open(\"data.txt\").read()\n",
    "print(re.findall(\"[0-9][0-9][0-9][0-9][0-9][0-9][0-9][0-9][0-9][0-9]\",data))"
   ]
  },
  {
   "cell_type": "code",
   "execution_count": 19,
   "id": "28fc64e5-dbe2-46ef-9f9a-b4fca437398e",
   "metadata": {},
   "outputs": [
    {
     "name": "stdout",
     "output_type": "stream",
     "text": [
      "['9786754567', '9786754568', '9786754577', '9786754597']\n"
     ]
    }
   ],
   "source": [
    "import re\n",
    "data=open(\"data.txt\").read()\n",
    "print(re.findall(\"[0-9]{10}\",data))"
   ]
  },
  {
   "cell_type": "code",
   "execution_count": 20,
   "id": "ef4f938a-d4b6-4f2f-8c04-16e82c7ab3c5",
   "metadata": {},
   "outputs": [
    {
     "name": "stdout",
     "output_type": "stream",
     "text": [
      "['9786754567', '9786754568', '9786754577', '9786754597']\n"
     ]
    }
   ],
   "source": [
    "import re\n",
    "data=open(\"data.txt\").read()\n",
    "print(re.findall(\"[0-9]{5,10}\",data))"
   ]
  },
  {
   "cell_type": "code",
   "execution_count": 21,
   "id": "429e0b5a-3f73-483a-9973-868d8fc40cec",
   "metadata": {},
   "outputs": [
    {
     "name": "stdout",
     "output_type": "stream",
     "text": [
      "['9786754567', '9786754568', '9786754577', '132456', '9786754597']\n"
     ]
    }
   ],
   "source": [
    "import re\n",
    "data=open(\"data.txt\").read()\n",
    "print(re.findall(\"[0-9]{5,10}\",data))"
   ]
  },
  {
   "cell_type": "code",
   "execution_count": 23,
   "id": "a0cb8608-59b7-41ec-b6fe-6737ab16d01b",
   "metadata": {},
   "outputs": [
    {
     "name": "stdout",
     "output_type": "stream",
     "text": [
      "1,nameacb1,9786754567,one12ER@gamil.com\n",
      "one52ER@gamil.org,2,name2,9786754568\n",
      "9786754577,3,name3,One12ER@gamil.co.in\n",
      "nam132456e4,4,9786754597,TWe12ER@gamil.gov.in\n",
      "['1', '', '', '', '', '', '', '', '', '1', '', '9', '7', '8', '6', '7', '5', '4', '5', '6', '7', '', '', '', '', '1', '2', '', '', '', '', '', '', '', '', '', '', '', '', '', '', '', '', '5', '2', '', '', '', '', '', '', '', '', '', '', '', '', '', '2', '', '', '', '', '', '2', '', '9', '7', '8', '6', '7', '5', '4', '5', '6', '8', '', '9', '7', '8', '6', '7', '5', '4', '5', '7', '7', '', '3', '', '', '', '', '', '3', '', '', '', '', '1', '2', '', '', '', '', '', '', '', '', '', '', '', '', '', '', '', '', '', '', '1', '3', '2', '4', '5', '6', '', '4', '', '4', '', '9', '7', '8', '6', '7', '5', '4', '5', '9', '7', '', '', '', '', '1', '2', '', '', '', '', '', '', '', '', '', '', '', '', '', '', '', '']\n"
     ]
    }
   ],
   "source": [
    "import re\n",
    "data=open(\"data.txt\").read()\n",
    "print(data)\n",
    "print(re.findall(\"[0-9]?\",data))#{0,1}"
   ]
  },
  {
   "cell_type": "code",
   "execution_count": 24,
   "id": "77ec875c-ba22-4f7a-93b4-beca03ba3fce",
   "metadata": {},
   "outputs": [
    {
     "name": "stdout",
     "output_type": "stream",
     "text": [
      "1,nameacb1,9786754567,one12ER@gamil.com\n",
      "one52ER@gamil.org,2,name2,9786754568\n",
      "9786754577,3,name3,One12ER@gamil.co.in\n",
      "nam132456e4,4,9786754597,TWe12ER@gamil.gov.in\n",
      "['1', '1', '9786754567', '12', '52', '2', '2', '9786754568', '9786754577', '3', '3', '12', '132456', '4', '4', '9786754597', '12']\n"
     ]
    }
   ],
   "source": [
    "import re\n",
    "data=open(\"data.txt\").read()\n",
    "print(data)\n",
    "print(re.findall(\"[0-9]+\",data))#{1,}"
   ]
  },
  {
   "cell_type": "code",
   "execution_count": 25,
   "id": "fd842b9e-60e0-48e0-aeae-ffa6136fc3cb",
   "metadata": {},
   "outputs": [
    {
     "name": "stdout",
     "output_type": "stream",
     "text": [
      "1,nameacb1,9786754567,one12ER@gamil.com\n",
      "one52ER@gamil.org,2,name2,9786754568\n",
      "9786754577,3,name3,One12ER@gamil.co.in\n",
      "nam132456e4,4,9786754597,TWe12ER@gamil.gov.in\n",
      "['1', '', '', '', '', '', '', '', '', '1', '', '9786754567', '', '', '', '', '12', '', '', '', '', '', '', '', '', '', '', '', '', '', '', '', '', '52', '', '', '', '', '', '', '', '', '', '', '', '', '', '2', '', '', '', '', '', '2', '', '9786754568', '', '9786754577', '', '3', '', '', '', '', '', '3', '', '', '', '', '12', '', '', '', '', '', '', '', '', '', '', '', '', '', '', '', '', '', '', '132456', '', '4', '', '4', '', '9786754597', '', '', '', '', '12', '', '', '', '', '', '', '', '', '', '', '', '', '', '', '', '']\n"
     ]
    }
   ],
   "source": [
    "import re\n",
    "data=open(\"data.txt\").read()\n",
    "print(data)\n",
    "print(re.findall(\"[0-9]*\",data))#{0,}"
   ]
  },
  {
   "cell_type": "code",
   "execution_count": 27,
   "id": "0dfa3c78-98d3-4134-beea-2887284a7661",
   "metadata": {},
   "outputs": [
    {
     "name": "stdout",
     "output_type": "stream",
     "text": [
      "1,NAMEnameacb1,9786754567,one12ER@gamil.com\n",
      "one52ER@gamil.org,2,name2,9786754568\n",
      "9786754577,3,name3,One12ER@gamil.co.in\n",
      "nam132456e4,4,9786754597,TWe12ER@gamil.gov.in\n",
      "['nameacb', 'one', 'gamil', 'com', 'one', 'gamil', 'org', 'name', 'name', 'ne', 'gamil', 'co', 'in', 'nam', 'e', 'e', 'gamil', 'gov', 'in']\n"
     ]
    }
   ],
   "source": [
    "import re\n",
    "data=open(\"data.txt\").read()\n",
    "print(data)\n",
    "print(re.findall(\"[a-z]+\",data))"
   ]
  },
  {
   "cell_type": "code",
   "execution_count": 28,
   "id": "6d4dafe9-4317-4f48-b48a-48e3b74b08dc",
   "metadata": {},
   "outputs": [
    {
     "name": "stdout",
     "output_type": "stream",
     "text": [
      "1,NAMEnameacb1,9786754567,one12ER@gamil.com\n",
      "one52ER@gamil.org,2,name2,9786754568\n",
      "9786754577,3,name3,One12ER@gamil.co.in\n",
      "nam132456e4,4,9786754597,TWe12ER@gamil.gov.in\n",
      "['NAMEnameacb', 'one', 'ER', 'gamil', 'com', 'one', 'ER', 'gamil', 'org', 'name', 'name', 'One', 'ER', 'gamil', 'co', 'in', 'nam', 'e', 'TWe', 'ER', 'gamil', 'gov', 'in']\n"
     ]
    }
   ],
   "source": [
    "import re\n",
    "data=open(\"data.txt\").read()\n",
    "print(data)\n",
    "print(re.findall(\"[a-zA-Z]+\",data))"
   ]
  },
  {
   "cell_type": "code",
   "execution_count": 29,
   "id": "13d721da-b385-49e5-9aff-cb018e6601b8",
   "metadata": {},
   "outputs": [
    {
     "name": "stdout",
     "output_type": "stream",
     "text": [
      "1,NAMEnameacb1,9786754567,one12ER@gamil.com\n",
      "one52ER@gamil.org,2,name2,9786754568\n",
      "9786754577,3,name3,One12ER@gamil.co.in\n",
      "nam132456e4,4,9786754597,TWe12ER@gamil.gov.in\n",
      "['NAMEnameacb', 'one', 'ER', 'gamil', 'com', 'one', 'ER', 'gamil', 'org', 'name', 'name', 'One', 'ER', 'gamil', 'co', 'in', 'nam', 'e', 'TWe', 'ER', 'gamil', 'gov', 'in']\n"
     ]
    }
   ],
   "source": [
    "import re\n",
    "data=open(\"data.txt\").read()\n",
    "print(data)\n",
    "print(re.findall(\"[a-z]+\",data,re.I))"
   ]
  },
  {
   "cell_type": "code",
   "execution_count": 30,
   "id": "bd7a7680-e418-4438-8218-20d1c949af09",
   "metadata": {},
   "outputs": [
    {
     "name": "stdout",
     "output_type": "stream",
     "text": [
      "1,NAMEnameacb1,9786754567,one12ER@gamil.com\n",
      "one52ER@gamil.org,2,name2,9786754568\n",
      "9786754577,3,name3,One12ER@gamil.co.in\n",
      "nam132456e4,4,9786754597,TWe12ER@gamil.gov.in\n",
      "['1', ',', 'N', 'A', 'M', 'E', 'n', 'a', 'm', 'e', 'a', 'c', 'b', '1', ',', '9', '7', '8', '6', '7', '5', '4', '5', '6', '7', ',', 'o', 'n', 'e', '1', '2', 'E', 'R', '@', 'g', 'a', 'm', 'i', 'l', '.', 'c', 'o', 'm', 'o', 'n', 'e', '5', '2', 'E', 'R', '@', 'g', 'a', 'm', 'i', 'l', '.', 'o', 'r', 'g', ',', '2', ',', 'n', 'a', 'm', 'e', '2', ',', '9', '7', '8', '6', '7', '5', '4', '5', '6', '8', '9', '7', '8', '6', '7', '5', '4', '5', '7', '7', ',', '3', ',', 'n', 'a', 'm', 'e', '3', ',', 'O', 'n', 'e', '1', '2', 'E', 'R', '@', 'g', 'a', 'm', 'i', 'l', '.', 'c', 'o', '.', 'i', 'n', 'n', 'a', 'm', '1', '3', '2', '4', '5', '6', 'e', '4', ',', '4', ',', '9', '7', '8', '6', '7', '5', '4', '5', '9', '7', ',', 'T', 'W', 'e', '1', '2', 'E', 'R', '@', 'g', 'a', 'm', 'i', 'l', '.', 'g', 'o', 'v', '.', 'i', 'n']\n"
     ]
    }
   ],
   "source": [
    "import re\n",
    "data=open(\"data.txt\").read()\n",
    "print(data)\n",
    "print(re.findall(\".\",data,re.I))"
   ]
  },
  {
   "cell_type": "code",
   "execution_count": 31,
   "id": "8c06f5ae-335c-4753-bceb-71e6757d0b5e",
   "metadata": {},
   "outputs": [
    {
     "name": "stdout",
     "output_type": "stream",
     "text": [
      "1,NAMEnameacb1,9786754567,one12ER@gamil.com\n",
      "one52ER@gamil.org,2,name2,9786754568\n",
      "9786754577,3,name3,One12ER@gamil.co.in\n",
      "nam132456e4,4,9786754597,TWe12ER@gamil.gov.in\n",
      "['1', ',', 'N', 'A', 'M', 'E', 'n', 'a', 'm', 'e', 'a', 'c', 'b', '1', ',', '9', '7', '8', '6', '7', '5', '4', '5', '6', '7', ',', 'o', 'n', 'e', '1', '2', 'E', 'R', '@', 'g', 'a', 'm', 'i', 'l', '.', 'c', 'o', 'm', 'o', 'n', 'e', '5', '2', 'E', 'R', '@', 'g', 'a', 'm', 'i', 'l', '.', 'o', 'r', 'g', ',', '2', ',', 'n', 'a', 'm', 'e', '2', ',', '9', '7', '8', '6', '7', '5', '4', '5', '6', '8', '9', '7', '8', '6', '7', '5', '4', '5', '7', '7', ',', '3', ',', 'n', 'a', 'm', 'e', '3', ',', 'O', 'n', 'e', '1', '2', 'E', 'R', '@', 'g', 'a', 'm', 'i', 'l', '.', 'c', 'o', '.', 'i', 'n', 'n', 'a', 'm', '1', '3', '2', '4', '5', '6', 'e', '4', ',', '4', ',', '9', '7', '8', '6', '7', '5', '4', '5', '9', '7', ',', 'T', 'W', 'e', '1', '2', 'E', 'R', '@', 'g', 'a', 'm', 'i', 'l', '.', 'g', 'o', 'v', '.', 'i', 'n']\n"
     ]
    }
   ],
   "source": [
    "import re\n",
    "data=open(\"data.txt\").read()\n",
    "print(data)\n",
    "print(re.findall(\".\",data))"
   ]
  },
  {
   "cell_type": "code",
   "execution_count": 32,
   "id": "98e0f6f8-dd82-406c-8cf2-96a423bffbb3",
   "metadata": {},
   "outputs": [
    {
     "name": "stdout",
     "output_type": "stream",
     "text": [
      "1,NAMEnameacb1,9786754567,one12ER@gamil.com\n",
      "one52ER@gamil.org,2,name2,9786754568\n",
      "9786754577,3,name3,One12ER@gamil.co.in\n",
      "nam132456e4,4,9786754597,TWe12ER@gamil.gov.in\n",
      "['1', ',', 'N', 'A', 'M', 'E', 'n', 'a', 'm', 'e', 'a', 'c', 'b', '1', ',', '9', '7', '8', '6', '7', '5', '4', '5', '6', '7', ',', 'o', 'n', 'e', '1', '2', 'E', 'R', '@', 'g', 'a', 'm', 'i', 'l', '.', 'c', 'o', 'm', '\\n', 'o', 'n', 'e', '5', '2', 'E', 'R', '@', 'g', 'a', 'm', 'i', 'l', '.', 'o', 'r', 'g', ',', '2', ',', 'n', 'a', 'm', 'e', '2', ',', '9', '7', '8', '6', '7', '5', '4', '5', '6', '8', '\\n', '9', '7', '8', '6', '7', '5', '4', '5', '7', '7', ',', '3', ',', 'n', 'a', 'm', 'e', '3', ',', 'O', 'n', 'e', '1', '2', 'E', 'R', '@', 'g', 'a', 'm', 'i', 'l', '.', 'c', 'o', '.', 'i', 'n', '\\n', 'n', 'a', 'm', '1', '3', '2', '4', '5', '6', 'e', '4', ',', '4', ',', '9', '7', '8', '6', '7', '5', '4', '5', '9', '7', ',', 'T', 'W', 'e', '1', '2', 'E', 'R', '@', 'g', 'a', 'm', 'i', 'l', '.', 'g', 'o', 'v', '.', 'i', 'n']\n"
     ]
    }
   ],
   "source": [
    "import re\n",
    "data=open(\"data.txt\").read()\n",
    "print(data)\n",
    "print(re.findall(\".\",data, re.DOTALL))"
   ]
  },
  {
   "cell_type": "code",
   "execution_count": 34,
   "id": "855e4c73-655b-4cbd-a28a-59f7f4541c71",
   "metadata": {},
   "outputs": [
    {
     "name": "stdout",
     "output_type": "stream",
     "text": [
      "1,NAMEnameacb1,9786754567,one12ER@gamil.com\n",
      "one52ER@gamil.org,2,name2,9786754568\n",
      "9786754577,3,name3,One12ER@gamil.co.in\n",
      "nam132456e4,4,9786754597,TWe12ER@gamil.gov.in\n",
      "['1,NAMEnameacb1,9786754567,one12ER@gamil.com\\none52ER@gamil.org,2,name2,9786754568\\n9786754577,3,name3,One12ER@gamil.co.in\\nnam132456e4,4,9786754597,TWe12ER@gamil.gov.in']\n"
     ]
    }
   ],
   "source": [
    "import re\n",
    "data=open(\"data.txt\").read()\n",
    "print(data)\n",
    "print(re.findall(\".+\",data, re.DOTALL))"
   ]
  },
  {
   "cell_type": "code",
   "execution_count": 35,
   "id": "31955f95-2c95-4cc5-8037-9b1e0ed0897b",
   "metadata": {},
   "outputs": [
    {
     "name": "stdout",
     "output_type": "stream",
     "text": [
      "1,NAMEnameacb1,9786754567,one12ER@gamil.com\n",
      "one52ER@gamil.org,2,name2,9786754568\n",
      "9786754577,3,name3,One12ER@gamil.co.in\n",
      "nam132456e4,4,9786754597,TWe12ER@gamil.gov.in\n",
      "['1,NAMEnameacb1,9786754567,one12ER@gamil.com', 'one52ER@gamil.org,2,name2,9786754568', '9786754577,3,name3,One12ER@gamil.co.in', 'nam132456e4,4,9786754597,TWe12ER@gamil.gov.in']\n"
     ]
    }
   ],
   "source": [
    "import re\n",
    "data=open(\"data.txt\").read()\n",
    "print(data)\n",
    "print(re.findall(\".+\",data))"
   ]
  },
  {
   "cell_type": "code",
   "execution_count": 36,
   "id": "fdf6033f-434b-4c5a-b70b-829dfdbcc140",
   "metadata": {},
   "outputs": [
    {
     "name": "stdout",
     "output_type": "stream",
     "text": [
      "1,NAMEnameacb1,9786754567,one12ER@gamil.com\n",
      "one52ER@gamil.org,2,name2,9786754568\n",
      "9786754577,3,name3,One12ER@gamil.co.in\n",
      "nam132456e4,4,9786754597,TWe12ER@gamil.gov.in\n",
      "['n', 'a', 'm', 'e', 'a', 'c', 'b', 'o', 'n', 'e', 'g', 'a', 'm', 'i', 'l', 'c', 'o', 'm', 'o', 'n', 'e', 'g', 'a', 'm', 'i', 'l', 'o', 'r', 'g', 'n', 'a', 'm', 'e', 'n', 'a', 'm', 'e', 'n', 'e', 'g', 'a', 'm', 'i', 'l', 'c', 'o', 'i', 'n', 'n', 'a', 'm', 'e', 'e', 'g', 'a', 'm', 'i', 'l', 'g', 'o', 'v', 'i', 'n']\n"
     ]
    }
   ],
   "source": [
    "import re\n",
    "data=open(\"data.txt\").read()\n",
    "print(data)\n",
    "print(re.findall(\"[a-z]\",data))"
   ]
  },
  {
   "cell_type": "code",
   "execution_count": 38,
   "id": "fdff9ff6-3049-4a32-9872-f3f39b07787d",
   "metadata": {},
   "outputs": [
    {
     "name": "stdout",
     "output_type": "stream",
     "text": [
      "1,NAMEnameacb1,9786754567,one12ER@gamil.com\n",
      "one52ER@gamil.org,2,name2,9786754568\n",
      "9786754577,3,name3,One12ER@gamil.co.in\n",
      "nam132456e4,4,9786754597,TWe12ER@gamil.gov.in\n",
      "********************\n",
      "[]\n"
     ]
    }
   ],
   "source": [
    "import re\n",
    "data=open(\"data.txt\").read()\n",
    "print(data)\n",
    "print(\"*\"*20)\n",
    "print(re.findall(\"^[a-z]\",data))"
   ]
  },
  {
   "cell_type": "code",
   "execution_count": 39,
   "id": "5296bc2e-889c-43a9-a138-607dd06d14a8",
   "metadata": {},
   "outputs": [
    {
     "name": "stdout",
     "output_type": "stream",
     "text": [
      "1,NAMEnameacb1,9786754567,one12ER@gamil.com\n",
      "one52ER@gamil.org,2,name2,9786754568\n",
      "9786754577,3,name3,One12ER@gamil.co.in\n",
      "nam132456e4,4,9786754597,TWe12ER@gamil.gov.in\n",
      "********************\n",
      "['1']\n"
     ]
    }
   ],
   "source": [
    "import re\n",
    "data=open(\"data.txt\").read()\n",
    "print(data)\n",
    "print(\"*\"*20)\n",
    "print(re.findall(\"^[a-z0-9]\",data))"
   ]
  },
  {
   "cell_type": "code",
   "execution_count": 40,
   "id": "3fdb776b-a6b3-4d95-8913-1462632ffd97",
   "metadata": {},
   "outputs": [
    {
     "name": "stdout",
     "output_type": "stream",
     "text": [
      "1,NAMEnameacb1,9786754567,one12ER@gamil.com\n",
      "one52ER@gamil.org,2,name2,9786754568\n",
      "9786754577,3,name3,One12ER@gamil.co.in\n",
      "nam132456e4,4,9786754597,TWe12ER@gamil.gov.in\n",
      "********************\n",
      "['1', ',', 'N', 'A', 'M', 'E', '1', ',', '9', '7', '8', '6', '7', '5', '4', '5', '6', '7', ',', '1', '2', 'E', 'R', '@', '.', '\\n', '5', '2', 'E', 'R', '@', '.', ',', '2', ',', '2', ',', '9', '7', '8', '6', '7', '5', '4', '5', '6', '8', '\\n', '9', '7', '8', '6', '7', '5', '4', '5', '7', '7', ',', '3', ',', '3', ',', 'O', '1', '2', 'E', 'R', '@', '.', '.', '\\n', '1', '3', '2', '4', '5', '6', '4', ',', '4', ',', '9', '7', '8', '6', '7', '5', '4', '5', '9', '7', ',', 'T', 'W', '1', '2', 'E', 'R', '@', '.', '.']\n"
     ]
    }
   ],
   "source": [
    "import re\n",
    "data=open(\"data.txt\").read()\n",
    "print(data)\n",
    "print(\"*\"*20)\n",
    "print(re.findall(\"[^a-z]\",data))"
   ]
  },
  {
   "cell_type": "code",
   "execution_count": 41,
   "id": "ac2e3863-4078-4fce-ac96-385a24050572",
   "metadata": {},
   "outputs": [
    {
     "name": "stdout",
     "output_type": "stream",
     "text": [
      "1,NAMEnameacb1,9786754567,one12ER@gamil.com\n",
      "one52ER@gamil.org,2,name2,9786754568\n",
      "9786754577,3,name3,One12ER@gamil.co.in\n",
      "nam132456e4,4,9786754597,TWe12ER@gamil.gov.in\n",
      "********************\n",
      "[]\n"
     ]
    }
   ],
   "source": [
    "import re\n",
    "data=open(\"data.txt\").read()\n",
    "print(data)\n",
    "print(\"*\"*20)\n",
    "print(re.findall(\"^[a-z]\",data))"
   ]
  },
  {
   "cell_type": "code",
   "execution_count": 43,
   "id": "792856ca-4929-4cc3-837f-61a0a8ff45c9",
   "metadata": {},
   "outputs": [
    {
     "name": "stdout",
     "output_type": "stream",
     "text": [
      "1,NAMEnameacb1,9786754567,one12ER@gamil.com\n",
      "One52ER@gamil.org,2,name2,9786754568\n",
      "9786754577,3,name3,One12ER@gamil.co.in\n",
      "nam132456e4,4,9786754597,TWe12ER@gamil.gov.in\n",
      "********************\n",
      "['n']\n"
     ]
    }
   ],
   "source": [
    "import re\n",
    "data=open(\"data.txt\").read()\n",
    "print(data)\n",
    "print(\"*\"*20)\n",
    "print(re.findall(\"^[a-z]\",data,re.M))"
   ]
  },
  {
   "cell_type": "code",
   "execution_count": 44,
   "id": "4274eef9-88ac-453f-9c56-2fa515bca9e0",
   "metadata": {},
   "outputs": [
    {
     "name": "stdout",
     "output_type": "stream",
     "text": [
      "1,NAMEnameacb1,9786754567,one12ER@gamil.com\n",
      "One52ER@gamil.org,2,name2,9786754568\n",
      "9786754577,3,name3,One12ER@gamil.co.in\n",
      "nam132456e4,4,9786754597,TWe12ER@gamil.gov.in\n",
      "********************\n",
      "['O', 'n']\n"
     ]
    }
   ],
   "source": [
    "import re\n",
    "data=open(\"data.txt\").read()\n",
    "print(data)\n",
    "print(\"*\"*20)\n",
    "print(re.findall(\"^[a-zA-Z]\",data,re.M))"
   ]
  },
  {
   "cell_type": "code",
   "execution_count": 45,
   "id": "85cf5552-e085-44e9-9e71-530395122e4b",
   "metadata": {},
   "outputs": [
    {
     "name": "stdout",
     "output_type": "stream",
     "text": [
      "1,NAMEnameacb1,9786754567,one12ER@gamil.com\n",
      "One52ER@gamil.org,2,name2,9786754568\n",
      "9786754577,3,name3,One12ER@gamil.co.in\n",
      "nam132456e4,4,9786754597,TWe12ER@gamil.gov.in\n",
      "********************\n",
      "['O', 'n']\n"
     ]
    }
   ],
   "source": [
    "import re\n",
    "data=open(\"data.txt\").read()\n",
    "print(data)\n",
    "print(\"*\"*20)\n",
    "print(re.findall(\"^[a-z]\",data,re.M|re.I))"
   ]
  },
  {
   "cell_type": "code",
   "execution_count": 46,
   "id": "191cc639-0d35-4a43-b2b3-5cec76060e8b",
   "metadata": {},
   "outputs": [
    {
     "name": "stdout",
     "output_type": "stream",
     "text": [
      "1,NAMEnameacb1,9786754567,one12ER@gamil.com\n",
      "One52ER@gamil.org,2,name2,9786754568\n",
      "9786754577,3,name3,One12ER@gamil.co.in\n",
      "nam132456e4,4,9786754597,TWe12ER@gamil.gov.in\n",
      "********************\n",
      "['m', 'n', 'n']\n"
     ]
    }
   ],
   "source": [
    "import re\n",
    "data=open(\"data.txt\").read()\n",
    "print(data)\n",
    "print(\"*\"*20)\n",
    "print(re.findall(\"[a-z]$\",data,re.M|re.I))"
   ]
  },
  {
   "cell_type": "code",
   "execution_count": 47,
   "id": "d43edb51-f214-4da1-bae6-ab553823b599",
   "metadata": {},
   "outputs": [
    {
     "name": "stdout",
     "output_type": "stream",
     "text": [
      "1,NAME nameacb1,9786754567,one12ER@gamil.com\n",
      "One52ER@gamil.org,2,name2,9786754568\n",
      "9786754577,3,name3,One12ER@gamil.co.in\n",
      "nam132456e4,4,9786754597,TWe12ER@gamil.gov.in\n",
      "********************\n",
      "['N', 'A', 'M', 'E', ' ', 'n', 'a', 'm', 'e', 'a', 'c', 'b', 'o', 'n', 'e', 'E', 'R', 'g', 'a', 'm', 'i', 'l', 'c', 'o', 'm', 'O', 'n', 'e', 'E', 'R', 'g', 'a', 'm', 'i', 'l', 'o', 'r', 'g', 'n', 'a', 'm', 'e', 'n', 'a', 'm', 'e', 'O', 'n', 'e', 'E', 'R', 'g', 'a', 'm', 'i', 'l', 'c', 'o', 'i', 'n', 'n', 'a', 'm', 'e', 'T', 'W', 'e', 'E', 'R', 'g', 'a', 'm', 'i', 'l', 'g', 'o', 'v', 'i', 'n']\n"
     ]
    }
   ],
   "source": [
    "import re\n",
    "data=open(\"data.txt\").read()\n",
    "print(data)\n",
    "print(\"*\"*20)\n",
    "print(re.findall(\"[a-z ]\",data,re.M|re.I))"
   ]
  },
  {
   "cell_type": "code",
   "execution_count": 48,
   "id": "37b7dbaa-e04f-46d8-ac4a-3073093b15f1",
   "metadata": {},
   "outputs": [
    {
     "name": "stdout",
     "output_type": "stream",
     "text": [
      "1,NAME nameacb1,9786754567,one12ER@gamil.com\n",
      "One52ER@gamil.org,2,name2,9786754568\n",
      "9786754577,3,name3,One12ER@gamil.co.in\n",
      "nam132456e4,4,9786754597,TWe12ER@gamil.gov.in\n",
      "********************\n",
      "['NAME nameacb', 'one', 'ER', 'gamil', 'com', 'One', 'ER', 'gamil', 'org', 'name', 'name', 'One', 'ER', 'gamil', 'co', 'in', 'nam', 'e', 'TWe', 'ER', 'gamil', 'gov', 'in']\n"
     ]
    }
   ],
   "source": [
    "import re\n",
    "data=open(\"data.txt\").read()\n",
    "print(data)\n",
    "print(\"*\"*20)\n",
    "print(re.findall(\"[a-z ]+\",data,re.M|re.I))"
   ]
  },
  {
   "cell_type": "code",
   "execution_count": 49,
   "id": "c294026c-f3b6-48c0-b50f-7bf99794892b",
   "metadata": {},
   "outputs": [
    {
     "name": "stdout",
     "output_type": "stream",
     "text": [
      "1,NAME nameacb1,9786754567,one12ER@gamil.com\n",
      "One52ER@gamil.org,2,name2,9786754568\n",
      "9786754577,3,name3,One12ER@gamil.co.in\n",
      "nam132456e4,4,9786754597,TWe12ER@gamil.gov.in\n",
      "********************\n",
      "['NAME nameacb', 'one', 'ER', 'gamil', 'com\\nOne', 'ER', 'gamil', 'org', 'name', '\\n', 'name', 'One', 'ER', 'gamil', 'co', 'in\\nnam', 'e', 'TWe', 'ER', 'gamil', 'gov', 'in']\n"
     ]
    },
    {
     "name": "stderr",
     "output_type": "stream",
     "text": [
      "<>:5: SyntaxWarning: invalid escape sequence '\\s'\n",
      "<>:5: SyntaxWarning: invalid escape sequence '\\s'\n",
      "C:\\Users\\Navya\\AppData\\Local\\Temp\\ipykernel_7984\\4244253055.py:5: SyntaxWarning: invalid escape sequence '\\s'\n",
      "  print(re.findall(\"[a-z\\s]+\",data,re.M|re.I))\n"
     ]
    }
   ],
   "source": [
    "import re\n",
    "data=open(\"data.txt\").read()\n",
    "print(data)\n",
    "print(\"*\"*20)\n",
    "print(re.findall(\"[a-z\\s]+\",data,re.M|re.I))"
   ]
  },
  {
   "cell_type": "code",
   "execution_count": 52,
   "id": "d7eb3fa8-548f-40c1-860b-d1c7ce005634",
   "metadata": {},
   "outputs": [
    {
     "name": "stdout",
     "output_type": "stream",
     "text": [
      "1,NAME nameacb1,9786754567,one12ER@gamil.com\n",
      "One52ER@gamil.org,2,name2,9786754568\n",
      "9786754577,3,name3,One12ER@gamil.co.in\n",
      "nam132456e4,4,9786754597,TWe12ER@gamil.gov.in\n",
      "********************\n",
      "['E ', 'm\\n', 'n\\n']\n"
     ]
    },
    {
     "name": "stderr",
     "output_type": "stream",
     "text": [
      "<>:5: SyntaxWarning: invalid escape sequence '\\s'\n",
      "<>:5: SyntaxWarning: invalid escape sequence '\\s'\n",
      "C:\\Users\\Navya\\AppData\\Local\\Temp\\ipykernel_7984\\232599618.py:5: SyntaxWarning: invalid escape sequence '\\s'\n",
      "  print(re.findall(\"[a-z]\\s+\",data,re.M|re.I))\n"
     ]
    }
   ],
   "source": [
    "import re\n",
    "data=open(\"data.txt\").read()\n",
    "print(data)\n",
    "print(\"*\"*20)\n",
    "print(re.findall(\"[a-z]\\s+\",data,re.M|re.I))"
   ]
  },
  {
   "cell_type": "code",
   "execution_count": 53,
   "id": "197f01e5-5b86-49f8-a015-e4bfaf2e3f85",
   "metadata": {},
   "outputs": [
    {
     "name": "stdout",
     "output_type": "stream",
     "text": [
      "1,NAME nameacb1,9786754567,one12ER@gamil.com\n",
      "One52ER@gamil.org,2,name2,9786754568\n",
      "9786754577,3,name3,One12ER@gamil.co.in\n",
      "nam132456e4,4,9786754597,TWe12ER@gamil.gov.in\n",
      "********************\n",
      "['1', ',', 'N', 'A', 'M', 'E', ' ', 'n', 'a', 'm', 'e', 'a', 'c', 'b', '1', ',', '9', '7', '8', '6', '7', '5', '4', '5', '6', '7', ',', 'o', 'n', 'e', '1', '2', 'E', 'R', '@', 'g', 'a', 'm', 'i', 'l', '.', 'c', 'o', 'm', 'O', 'n', 'e', '5', '2', 'E', 'R', '@', 'g', 'a', 'm', 'i', 'l', '.', 'o', 'r', 'g', ',', '2', ',', 'n', 'a', 'm', 'e', '2', ',', '9', '7', '8', '6', '7', '5', '4', '5', '6', '8', '9', '7', '8', '6', '7', '5', '4', '5', '7', '7', ',', '3', ',', 'n', 'a', 'm', 'e', '3', ',', 'O', 'n', 'e', '1', '2', 'E', 'R', '@', 'g', 'a', 'm', 'i', 'l', '.', 'c', 'o', '.', 'i', 'n', 'n', 'a', 'm', '1', '3', '2', '4', '5', '6', 'e', '4', ',', '4', ',', '9', '7', '8', '6', '7', '5', '4', '5', '9', '7', ',', 'T', 'W', 'e', '1', '2', 'E', 'R', '@', 'g', 'a', 'm', 'i', 'l', '.', 'g', 'o', 'v', '.', 'i', 'n']\n"
     ]
    }
   ],
   "source": [
    "import re\n",
    "data=open(\"data.txt\").read()\n",
    "print(data)\n",
    "print(\"*\"*20)\n",
    "print(re.findall(\".\",data,re.M|re.I))"
   ]
  },
  {
   "cell_type": "code",
   "execution_count": 54,
   "id": "e8ba4124-e17e-4756-b2c3-9abcc3ebec45",
   "metadata": {},
   "outputs": [
    {
     "name": "stdout",
     "output_type": "stream",
     "text": [
      "1,NAME nameacb1,9786754567,one12ER@gamil.com\n",
      "One52ER@gamil.org,2,name2,9786754568\n",
      "9786754577,3,name3,One12ER@gamil.co.in\n",
      "nam132456e4,4,9786754597,TWe12ER@gamil.gov.in\n",
      "********************\n",
      "['.', '.', '.', '.', '.', '.']\n"
     ]
    },
    {
     "name": "stderr",
     "output_type": "stream",
     "text": [
      "<>:5: SyntaxWarning: invalid escape sequence '\\.'\n",
      "<>:5: SyntaxWarning: invalid escape sequence '\\.'\n",
      "C:\\Users\\Navya\\AppData\\Local\\Temp\\ipykernel_7984\\623922257.py:5: SyntaxWarning: invalid escape sequence '\\.'\n",
      "  print(re.findall(\"\\.\",data,re.M|re.I))\n"
     ]
    }
   ],
   "source": [
    "import re\n",
    "data=open(\"data.txt\").read()\n",
    "print(data)\n",
    "print(\"*\"*20)\n",
    "print(re.findall(\"\\.\",data,re.M|re.I))"
   ]
  },
  {
   "cell_type": "code",
   "execution_count": 55,
   "id": "93fbda8d-71af-44ba-a45e-a8078778d0e3",
   "metadata": {},
   "outputs": [
    {
     "name": "stdout",
     "output_type": "stream",
     "text": [
      "1,NAME nameacb1,9786754567,one12ER@gamil.com\n",
      "One52ER@gamil.org,2,name2,9786754568\n",
      "9786754577,3,name3,One12ER@gamil.co.in\n",
      "nam132456e4,4,9786754597,TWe12ER@gamil.gov.in\n",
      "********************\n",
      "['.', '.', '.', '.', '.', '.']\n"
     ]
    }
   ],
   "source": [
    "import re\n",
    "data=open(\"data.txt\").read()\n",
    "print(data)\n",
    "print(\"*\"*20)\n",
    "print(re.findall(\"[.]\",data,re.M|re.I))"
   ]
  },
  {
   "cell_type": "code",
   "execution_count": 56,
   "id": "7165b069-eceb-47f2-bcfa-4de24e1bd54b",
   "metadata": {},
   "outputs": [
    {
     "name": "stdout",
     "output_type": "stream",
     "text": [
      "1,NAME nameacb1,9786754567,one12ER@gamil.com\n",
      "One52ER@gamil.org,2,name2,9786754568\n",
      "9786754577,3,name3,One12ER@gamil.co.in\n",
      "nam132456e4,4,9786754597,TWe12ER@gamil.gov.in\n",
      "********************\n",
      "['R@', 'R@', 'R@', 'R@']\n"
     ]
    }
   ],
   "source": [
    "import re\n",
    "data=open(\"data.txt\").read()\n",
    "print(data)\n",
    "print(\"*\"*20)\n",
    "print(re.findall(\"[a-z0-9]@\",data,re.I))"
   ]
  },
  {
   "cell_type": "code",
   "execution_count": 57,
   "id": "b717d4bd-f082-4640-987c-a373b58dd651",
   "metadata": {},
   "outputs": [
    {
     "name": "stdout",
     "output_type": "stream",
     "text": [
      "1,NAME nameacb1,9786754567,one12ER@gamil.com\n",
      "One52ER@gamil.org,2,name2,9786754568\n",
      "9786754577,3,name3,One12ER@gamil.co.in\n",
      "nam132456e4,4,9786754597,TWe12ER@gamil.gov.in\n",
      "********************\n",
      "['one12ER@', 'One52ER@', 'One12ER@', 'TWe12ER@']\n"
     ]
    }
   ],
   "source": [
    "import re\n",
    "data=open(\"data.txt\").read()\n",
    "print(data)\n",
    "print(\"*\"*20)\n",
    "print(re.findall(\"[a-z0-9]+@\",data,re.I))"
   ]
  },
  {
   "cell_type": "code",
   "execution_count": 59,
   "id": "9acd3e7e-b167-44ea-ad24-f047a965645c",
   "metadata": {},
   "outputs": [
    {
     "name": "stdout",
     "output_type": "stream",
     "text": [
      "1,NAME nameacb1,9786754567,one12ER@gamil.com\n",
      "One52ER@gamil.org,2,name2,9786754568\n",
      "9786754577,3,name3,One12ER@gamil.co.in\n",
      "nam132456e4,4,9786754597,TWe12ER@gamil.gov.in\n",
      "********************\n",
      "['one12ER@gamil.', 'One52ER@gamil.', 'One12ER@gamil.', 'TWe12ER@gamil.']\n"
     ]
    },
    {
     "name": "stderr",
     "output_type": "stream",
     "text": [
      "<>:5: SyntaxWarning: invalid escape sequence '\\.'\n",
      "<>:5: SyntaxWarning: invalid escape sequence '\\.'\n",
      "C:\\Users\\Navya\\AppData\\Local\\Temp\\ipykernel_7984\\75980485.py:5: SyntaxWarning: invalid escape sequence '\\.'\n",
      "  print(re.findall(\"[a-z0-9]+@[a-z]+\\.\",data,re.I))\n"
     ]
    }
   ],
   "source": [
    "import re\n",
    "data=open(\"data.txt\").read()\n",
    "print(data)\n",
    "print(\"*\"*20)\n",
    "print(re.findall(\"[a-z0-9]+@[a-z]+\\.\",data,re.I))"
   ]
  },
  {
   "cell_type": "code",
   "execution_count": 60,
   "id": "33f194fb-c27c-4d7c-96cb-77dfd82cc065",
   "metadata": {},
   "outputs": [
    {
     "name": "stdout",
     "output_type": "stream",
     "text": [
      "1,NAME nameacb1,9786754567,one12ER@gamil.com\n",
      "One52ER@gamil.org,2,name2,9786754568\n",
      "9786754577,3,name3,One12ER@gamil.co.in\n",
      "nam132456e4,4,9786754597,TWe12ER@gamil.gov.in\n",
      "********************\n",
      "['one12ER@gamil.com', 'One52ER@gamil.org', 'One12ER@gamil.co.in', 'TWe12ER@gamil.gov.in']\n"
     ]
    },
    {
     "name": "stderr",
     "output_type": "stream",
     "text": [
      "<>:5: SyntaxWarning: invalid escape sequence '\\.'\n",
      "<>:5: SyntaxWarning: invalid escape sequence '\\.'\n",
      "C:\\Users\\Navya\\AppData\\Local\\Temp\\ipykernel_7984\\2615127197.py:5: SyntaxWarning: invalid escape sequence '\\.'\n",
      "  print(re.findall(\"[a-z0-9]+@[a-z]+\\.[a-z.]+\",data,re.I))\n"
     ]
    }
   ],
   "source": [
    "import re\n",
    "data=open(\"data.txt\").read()\n",
    "print(data)\n",
    "print(\"*\"*20)\n",
    "print(re.findall(\"[a-z0-9]+@[a-z]+\\.[a-z.]+\",data,re.I))"
   ]
  },
  {
   "cell_type": "code",
   "execution_count": 61,
   "id": "036a0fe2-0bfe-44fd-a72e-f0d5bc5463f5",
   "metadata": {},
   "outputs": [
    {
     "name": "stdout",
     "output_type": "stream",
     "text": [
      "1,NAME nameacb1,9786754567,one12ER@gamil.com\n",
      "One52ER@gamil.org,2,name2,9786754568\n",
      "9786754577,3,name3,One12ER@gamil.co.in\n",
      "nam132456e4,4,9786754597,TWe12ER@gamil.gov.in\n",
      "********************\n",
      "['one12ER@gamil.com', 'One52ER@gamil.org', 'One12ER@gamil.co.in', 'TWe12ER@gamil.gov.in']\n"
     ]
    }
   ],
   "source": [
    "import re\n",
    "data=open(\"data.txt\").read()\n",
    "print(data)\n",
    "print(\"*\"*20)\n",
    "print(re.findall(\"[a-z0-9]+@[a-z]+[a-z.]+\",data,re.I))"
   ]
  },
  {
   "cell_type": "code",
   "execution_count": null,
   "id": "e7917bac-c5f1-44ba-89a6-8f3831123b42",
   "metadata": {},
   "outputs": [],
   "source": []
  }
 ],
 "metadata": {
  "kernelspec": {
   "display_name": "Python 3 (ipykernel)",
   "language": "python",
   "name": "python3"
  },
  "language_info": {
   "codemirror_mode": {
    "name": "ipython",
    "version": 3
   },
   "file_extension": ".py",
   "mimetype": "text/x-python",
   "name": "python",
   "nbconvert_exporter": "python",
   "pygments_lexer": "ipython3",
   "version": "3.12.7"
  }
 },
 "nbformat": 4,
 "nbformat_minor": 5
}
