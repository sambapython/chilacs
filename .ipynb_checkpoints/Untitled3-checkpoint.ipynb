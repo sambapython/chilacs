{
 "cells": [
  {
   "cell_type": "code",
   "execution_count": 1,
   "id": "f6bdbf41-ebae-4a2e-8e4e-00b8284e840a",
   "metadata": {},
   "outputs": [
    {
     "name": "stdout",
     "output_type": "stream",
     "text": [
      "0 1\n",
      "1 2\n",
      "2 3\n",
      "3 4\n"
     ]
    }
   ],
   "source": [
    "k1=[1,2,3,4]\n",
    "k2=[5,6,7,8]\n",
    "for ind,val in enumerate(k1):\n",
    "    print(ind, val)\n",
    "    "
   ]
  },
  {
   "cell_type": "code",
   "execution_count": 2,
   "id": "5fdc2f65-98fc-48db-8d77-5f17029c16dc",
   "metadata": {},
   "outputs": [
    {
     "name": "stdout",
     "output_type": "stream",
     "text": [
      "1 5\n",
      "2 6\n",
      "3 7\n",
      "4 8\n"
     ]
    }
   ],
   "source": [
    "k1=[1,2,3,4]\n",
    "k2=[5,6,7,8]\n",
    "for ind,val in enumerate(k1):\n",
    "    print(val, k2[ind])\n",
    "    "
   ]
  },
  {
   "cell_type": "code",
   "execution_count": 4,
   "id": "642efec9-0250-4242-a6b9-c9d345a7d0c6",
   "metadata": {},
   "outputs": [
    {
     "name": "stdout",
     "output_type": "stream",
     "text": [
      "[6, 8, 10, 12]\n"
     ]
    }
   ],
   "source": [
    "k1=[1,2,3,4]\n",
    "k2=[5,6,7,8]\n",
    "res=[]\n",
    "for ind,val in enumerate(k1):\n",
    "    res.append(val+k2[ind])\n",
    "print(res)\n",
    "    "
   ]
  },
  {
   "cell_type": "code",
   "execution_count": 6,
   "id": "fdedbe81-70a6-4538-894d-6ca3b4459a79",
   "metadata": {},
   "outputs": [
    {
     "name": "stdout",
     "output_type": "stream",
     "text": [
      "[(1, 5), (2, 6), (3, 7), (4, 8)]\n"
     ]
    }
   ],
   "source": [
    "k1=[1,2,3,4]\n",
    "k2=[5,6,7,8]\n",
    "print(list(zip(k1,k2)))"
   ]
  },
  {
   "cell_type": "code",
   "execution_count": 7,
   "id": "f0f7497c-1efe-4446-9962-e9725d40f2c0",
   "metadata": {},
   "outputs": [
    {
     "name": "stdout",
     "output_type": "stream",
     "text": [
      "[(1, 5, 9), (2, 6, 10), (3, 7, 11), (4, 8, 12)]\n"
     ]
    }
   ],
   "source": [
    "k1=[1,2,3,4]\n",
    "k2=[5,6,7,8]\n",
    "k3=[9,10,11,12]\n",
    "print(list(zip(k1,k2,k3)))"
   ]
  },
  {
   "cell_type": "code",
   "execution_count": 8,
   "id": "12eccd7b-dc31-41b5-b60d-ad8a4acea840",
   "metadata": {},
   "outputs": [
    {
     "name": "stdout",
     "output_type": "stream",
     "text": [
      "[(1, 5, 9), (2, 6, 10), (3, 7, 11)]\n"
     ]
    }
   ],
   "source": [
    "k1=[1,2,3,4]\n",
    "k2=[5,6,7]\n",
    "k3=[9,10,11,12]\n",
    "print(list(zip(k1,k2,k3)))"
   ]
  },
  {
   "cell_type": "code",
   "execution_count": 9,
   "id": "184439ed-cf54-4867-96a4-3126ee120116",
   "metadata": {},
   "outputs": [
    {
     "name": "stdout",
     "output_type": "stream",
     "text": [
      "[]\n"
     ]
    }
   ],
   "source": [
    "k1=[1,2,3,4]\n",
    "k2=[]\n",
    "k3=[9,10,11,12]\n",
    "print(list(zip(k1,k2,k3)))"
   ]
  },
  {
   "cell_type": "code",
   "execution_count": 10,
   "id": "1554efd5-f027-4d44-a223-26c6da98c278",
   "metadata": {},
   "outputs": [
    {
     "data": {
      "text/plain": [
       "\u001b[1;31mInit signature:\u001b[0m \u001b[0mzip\u001b[0m\u001b[1;33m(\u001b[0m\u001b[0mself\u001b[0m\u001b[1;33m,\u001b[0m \u001b[1;33m/\u001b[0m\u001b[1;33m,\u001b[0m \u001b[1;33m*\u001b[0m\u001b[0margs\u001b[0m\u001b[1;33m,\u001b[0m \u001b[1;33m**\u001b[0m\u001b[0mkwargs\u001b[0m\u001b[1;33m)\u001b[0m\u001b[1;33m\u001b[0m\u001b[1;33m\u001b[0m\u001b[0m\n",
       "\u001b[1;31mDocstring:\u001b[0m     \n",
       "zip(*iterables, strict=False) --> Yield tuples until an input is exhausted.\n",
       "\n",
       "   >>> list(zip('abcdefg', range(3), range(4)))\n",
       "   [('a', 0, 0), ('b', 1, 1), ('c', 2, 2)]\n",
       "\n",
       "The zip object yields n-length tuples, where n is the number of iterables\n",
       "passed as positional arguments to zip().  The i-th element in every tuple\n",
       "comes from the i-th iterable argument to zip().  This continues until the\n",
       "shortest argument is exhausted.\n",
       "\n",
       "If strict is true and one of the arguments is exhausted before the others,\n",
       "raise a ValueError.\n",
       "\u001b[1;31mType:\u001b[0m           type\n",
       "\u001b[1;31mSubclasses:\u001b[0m     "
      ]
     },
     "metadata": {},
     "output_type": "display_data"
    }
   ],
   "source": [
    "zip?"
   ]
  },
  {
   "cell_type": "code",
   "execution_count": 11,
   "id": "abe56ed2-4713-4fda-a34f-3c806cd27f3c",
   "metadata": {},
   "outputs": [
    {
     "name": "stdout",
     "output_type": "stream",
     "text": [
      "[(1, 5, 9), (2, 6, 10)]\n"
     ]
    }
   ],
   "source": [
    "k1=[1,2,3,4]\n",
    "k2=[5,6]\n",
    "k3=[9,10,11,12]\n",
    "print(list(zip(k1,k2,k3)))"
   ]
  },
  {
   "cell_type": "code",
   "execution_count": 20,
   "id": "d299d2e5-7b30-40e5-9757-6cb69aa94ae2",
   "metadata": {},
   "outputs": [
    {
     "name": "stdout",
     "output_type": "stream",
     "text": [
      "[(1, 5, 9), (2, 6, 10)]\n"
     ]
    }
   ],
   "source": [
    "k1=[1,2,3,4]\n",
    "k2=[5,6]\n",
    "k3=[9,10,11,12]\n",
    "k=[k1,k2,k3]\n",
    "print(list(zip(*k)))"
   ]
  },
  {
   "cell_type": "code",
   "execution_count": 21,
   "id": "40f52e69-e236-4d4c-b161-faed2fc946ba",
   "metadata": {},
   "outputs": [
    {
     "name": "stdout",
     "output_type": "stream",
     "text": [
      "['1', '2', '-3', '4', '5', '-7', '-8', '9', '10']\n"
     ]
    }
   ],
   "source": [
    "l=[1,2,-3,4,5,-7,-8,9,10]\n",
    "print(list(map(str,l)))#str(1),"
   ]
  },
  {
   "cell_type": "code",
   "execution_count": 22,
   "id": "8b223abe-2658-421a-8345-10490c7fb527",
   "metadata": {},
   "outputs": [
    {
     "name": "stdout",
     "output_type": "stream",
     "text": [
      "[True, True, False, True, True, False, False, True, True]\n"
     ]
    }
   ],
   "source": [
    "l=[1,2,-3,4,5,-7,-8,9,10]\n",
    "def fun(x):\n",
    "    return x>0\n",
    "print(list(map(fun,l)))#str(1),"
   ]
  },
  {
   "cell_type": "code",
   "execution_count": 23,
   "id": "e184b951-468a-4fff-9f8e-c1173cf970b6",
   "metadata": {},
   "outputs": [
    {
     "name": "stdout",
     "output_type": "stream",
     "text": [
      "[True, True, False, True, True, False, False, True, True]\n"
     ]
    }
   ],
   "source": [
    "l=[1,2,-3,4,5,-7,-8,9,10]\n",
    "print(list(map(lambda x:x>0,l)))#str(1),"
   ]
  },
  {
   "cell_type": "code",
   "execution_count": null,
   "id": "529303ff-c08d-47cf-bb8f-2329d130b937",
   "metadata": {},
   "outputs": [],
   "source": []
  }
 ],
 "metadata": {
  "kernelspec": {
   "display_name": "Python 3 (ipykernel)",
   "language": "python",
   "name": "python3"
  },
  "language_info": {
   "codemirror_mode": {
    "name": "ipython",
    "version": 3
   },
   "file_extension": ".py",
   "mimetype": "text/x-python",
   "name": "python",
   "nbconvert_exporter": "python",
   "pygments_lexer": "ipython3",
   "version": "3.12.7"
  }
 },
 "nbformat": 4,
 "nbformat_minor": 5
}
