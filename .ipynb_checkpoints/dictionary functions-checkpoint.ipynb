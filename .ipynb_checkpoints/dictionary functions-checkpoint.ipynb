{
 "cells": [
  {
   "cell_type": "code",
   "execution_count": 1,
   "id": "a74829e6",
   "metadata": {},
   "outputs": [
    {
     "name": "stdout",
     "output_type": "stream",
     "text": [
      "2\n"
     ]
    }
   ],
   "source": [
    "d1={\"name\":\"AJA\",\"address\":\"HYD\"}\n",
    "print(len(d1))"
   ]
  },
  {
   "cell_type": "code",
   "execution_count": 2,
   "id": "f7d296ca",
   "metadata": {},
   "outputs": [
    {
     "name": "stdout",
     "output_type": "stream",
     "text": [
      "name\n",
      "address\n"
     ]
    }
   ],
   "source": [
    "d1={\"name\":\"AJA\",\"address\":\"HYD\"}\n",
    "for i in d1:\n",
    "    print(i)"
   ]
  },
  {
   "cell_type": "code",
   "execution_count": 3,
   "id": "5a8d4f35",
   "metadata": {},
   "outputs": [
    {
     "name": "stdout",
     "output_type": "stream",
     "text": [
      "AJA\n",
      "HYD\n"
     ]
    }
   ],
   "source": [
    "d1={\"name\":\"AJA\",\"address\":\"HYD\"}\n",
    "for i in d1.values():\n",
    "    print(i)"
   ]
  },
  {
   "cell_type": "code",
   "execution_count": 4,
   "id": "856f59c5",
   "metadata": {},
   "outputs": [
    {
     "name": "stdout",
     "output_type": "stream",
     "text": [
      "('name', 'AJA')\n",
      "('address', 'HYD')\n"
     ]
    }
   ],
   "source": [
    "d1={\"name\":\"AJA\",\"address\":\"HYD\"}\n",
    "for i in d1.items():\n",
    "    print(i)"
   ]
  },
  {
   "cell_type": "code",
   "execution_count": 6,
   "id": "eecd1837",
   "metadata": {},
   "outputs": [
    {
     "name": "stdout",
     "output_type": "stream",
     "text": [
      "name AJA\n",
      "address HYD\n"
     ]
    }
   ],
   "source": [
    "d1={\"name\":\"AJA\",\"address\":\"HYD\"}\n",
    "for key, value in d1.items():\n",
    "    print(key, value)"
   ]
  },
  {
   "cell_type": "code",
   "execution_count": 7,
   "id": "71de36dc",
   "metadata": {},
   "outputs": [
    {
     "name": "stdout",
     "output_type": "stream",
     "text": [
      "{'name': 'AJA', 'address': 'HYD', 'state': 'TS', 'country': 'IND'}\n"
     ]
    }
   ],
   "source": [
    "d1={\"name\":\"AJA\",\"address\":\"HYD\"}\n",
    "d1[\"state\"] = \"TS\"\n",
    "d1.update({\"country\": \"IND\"})\n",
    "print(d1)"
   ]
  },
  {
   "cell_type": "code",
   "execution_count": 8,
   "id": "211c3b6e",
   "metadata": {},
   "outputs": [
    {
     "name": "stdout",
     "output_type": "stream",
     "text": [
      "{'name': 'IND', 'address': 'TS'}\n"
     ]
    }
   ],
   "source": [
    "d1={\"name\":\"AJA\",\"address\":\"HYD\"}\n",
    "d1[\"address\"] = \"TS\"\n",
    "d1.update({\"name\": \"IND\"})\n",
    "print(d1)"
   ]
  },
  {
   "cell_type": "code",
   "execution_count": 9,
   "id": "f043a34f",
   "metadata": {},
   "outputs": [
    {
     "name": "stdout",
     "output_type": "stream",
     "text": [
      "{'name': 'AJA', 'address': 'HYD', 'state': 'TS', 'country': 'IND', 'phone': '040-324324'}\n"
     ]
    }
   ],
   "source": [
    "d1={\"name\":\"AJA\",\"address\":\"HYD\"}\n",
    "d1[\"state\"] = \"TS\"\n",
    "d1.update({\"country\": \"IND\",\"phone\":\"040-324324\"})\n",
    "print(d1)"
   ]
  },
  {
   "cell_type": "code",
   "execution_count": 10,
   "id": "b74d2120",
   "metadata": {},
   "outputs": [
    {
     "name": "stdout",
     "output_type": "stream",
     "text": [
      "{'name': 'AJA', 'address': 'HYD', 'state': 'TS', 'country': 'IND', 'phone': '040-324324'}\n"
     ]
    }
   ],
   "source": [
    "d1={\"name\":\"AJA\",\"address\":\"HYD\"}\n",
    "d1[\"state\"] = \"TS\"\n",
    "d1.update({\"country\": \"IND\",\"phone\":\"040-324324\"})\n",
    "d1.setdefault(\"state\", \"ts\")\n",
    "print(d1)"
   ]
  },
  {
   "cell_type": "code",
   "execution_count": 11,
   "id": "804d528e",
   "metadata": {},
   "outputs": [
    {
     "name": "stdout",
     "output_type": "stream",
     "text": [
      "{'name': 'AJA', 'address': 'HYD', 'state': 'TS', 'country': 'IND', 'phone': '040-324324', 'email': 'aja@ajacs.in'}\n"
     ]
    }
   ],
   "source": [
    "d1={\"name\":\"AJA\",\"address\":\"HYD\"}\n",
    "d1[\"state\"] = \"TS\"\n",
    "d1.update({\"country\": \"IND\",\"phone\":\"040-324324\"})\n",
    "d1.setdefault(\"email\", \"aja@ajacs.in\")\n",
    "print(d1)"
   ]
  },
  {
   "cell_type": "code",
   "execution_count": 12,
   "id": "ce25e1ab",
   "metadata": {},
   "outputs": [
    {
     "name": "stdout",
     "output_type": "stream",
     "text": [
      "{'name': 'AJA', 'address': 'HYD', 'phone': '040-2345'}\n"
     ]
    }
   ],
   "source": [
    "d1={\"name\":\"AJA\",\"address\":\"HYD\"}\n",
    "d2=d1\n",
    "d1.update({\"phone\":\"040-2345\"})\n",
    "print(d2)"
   ]
  },
  {
   "cell_type": "code",
   "execution_count": 13,
   "id": "e6e81c6c",
   "metadata": {},
   "outputs": [
    {
     "name": "stdout",
     "output_type": "stream",
     "text": [
      "2940576874944\n",
      "2940576834688\n",
      "{'name': 'AJA', 'address': 'HYD'}\n"
     ]
    }
   ],
   "source": [
    "d1={\"name\":\"AJA\",\"address\":\"HYD\"}\n",
    "d2=d1.copy()\n",
    "print(id(d1))\n",
    "print(id(d2))\n",
    "d1.update({\"phone\":\"040-2345\"})\n",
    "print(d2)"
   ]
  },
  {
   "cell_type": "code",
   "execution_count": 14,
   "id": "bae5a30c",
   "metadata": {},
   "outputs": [
    {
     "name": "stdout",
     "output_type": "stream",
     "text": [
      "2940563620848\n",
      "2940563620848\n",
      "{'name': 'AJA', 'address': 'HYD'}\n"
     ]
    }
   ],
   "source": [
    "d1={\"name\":\"AJA\",\"address\":\"HYD\"}\n",
    "d2=d1.copy()\n",
    "print(id(d1[\"name\"]))\n",
    "print(id(d2[\"name\"]))\n",
    "d1.update({\"phone\":\"040-2345\"})\n",
    "print(d2)"
   ]
  },
  {
   "cell_type": "code",
   "execution_count": 15,
   "id": "723c1b9b",
   "metadata": {},
   "outputs": [
    {
     "name": "stdout",
     "output_type": "stream",
     "text": [
      "{'name': 'AJA', 'address': 'HYD'}\n"
     ]
    }
   ],
   "source": [
    "d1={\"name\":\"AJA\",\"address\":\"HYD\"}\n",
    "d2=d1.copy()\n",
    "d1.update({\"phone\":\"040-2345\"})\n",
    "print(d2)"
   ]
  },
  {
   "cell_type": "code",
   "execution_count": 16,
   "id": "b5d03198",
   "metadata": {},
   "outputs": [
    {
     "name": "stdout",
     "output_type": "stream",
     "text": [
      "{'name': 'AJA', 'address': 'HYD', 'branches': ['Hyd', 'banglore', 'CHENNAI']}\n"
     ]
    }
   ],
   "source": [
    "d1={\"name\":\"AJA\",\"address\":\"HYD\",\"branches\":[\"Hyd\",\"banglore\"]}\n",
    "d2=d1.copy()\n",
    "d1.update({\"phone\":\"040-2345\"})\n",
    "d1[\"branches\"].append(\"CHENNAI\")\n",
    "print(d2)"
   ]
  },
  {
   "cell_type": "code",
   "execution_count": 17,
   "id": "e15c8d37",
   "metadata": {},
   "outputs": [
    {
     "name": "stdout",
     "output_type": "stream",
     "text": [
      "['__class__', '__class_getitem__', '__contains__', '__delattr__', '__delitem__', '__dir__', '__doc__', '__eq__', '__format__', '__ge__', '__getattribute__', '__getitem__', '__getstate__', '__gt__', '__hash__', '__init__', '__init_subclass__', '__ior__', '__iter__', '__le__', '__len__', '__lt__', '__ne__', '__new__', '__or__', '__reduce__', '__reduce_ex__', '__repr__', '__reversed__', '__ror__', '__setattr__', '__setitem__', '__sizeof__', '__str__', '__subclasshook__', 'clear', 'copy', 'fromkeys', 'get', 'items', 'keys', 'pop', 'popitem', 'setdefault', 'update', 'values']\n"
     ]
    }
   ],
   "source": [
    "print(dir(d1))"
   ]
  },
  {
   "cell_type": "code",
   "execution_count": 18,
   "id": "d045da34",
   "metadata": {},
   "outputs": [
    {
     "name": "stdout",
     "output_type": "stream",
     "text": [
      "None\n",
      "{}\n"
     ]
    }
   ],
   "source": [
    "d1={\"name\":\"AJA\",\"address\":\"HYD\"}\n",
    "d2=d1.clear()\n",
    "print(d2)\n",
    "print(d1)"
   ]
  },
  {
   "cell_type": "code",
   "execution_count": 19,
   "id": "bc5393d2",
   "metadata": {},
   "outputs": [
    {
     "name": "stdout",
     "output_type": "stream",
     "text": [
      "AJA\n",
      "{'address': 'HYD'}\n"
     ]
    }
   ],
   "source": [
    "d1={\"name\":\"AJA\",\"address\":\"HYD\"}\n",
    "d2=d1.pop(\"name\")\n",
    "print(d2)\n",
    "print(d1)"
   ]
  },
  {
   "cell_type": "code",
   "execution_count": 20,
   "id": "0c31147a",
   "metadata": {},
   "outputs": [
    {
     "ename": "KeyError",
     "evalue": "'state'",
     "output_type": "error",
     "traceback": [
      "\u001b[1;31m---------------------------------------------------------------------------\u001b[0m",
      "\u001b[1;31mKeyError\u001b[0m                                  Traceback (most recent call last)",
      "Cell \u001b[1;32mIn[20], line 2\u001b[0m\n\u001b[0;32m      1\u001b[0m d1\u001b[38;5;241m=\u001b[39m{\u001b[38;5;124m\"\u001b[39m\u001b[38;5;124mname\u001b[39m\u001b[38;5;124m\"\u001b[39m:\u001b[38;5;124m\"\u001b[39m\u001b[38;5;124mAJA\u001b[39m\u001b[38;5;124m\"\u001b[39m,\u001b[38;5;124m\"\u001b[39m\u001b[38;5;124maddress\u001b[39m\u001b[38;5;124m\"\u001b[39m:\u001b[38;5;124m\"\u001b[39m\u001b[38;5;124mHYD\u001b[39m\u001b[38;5;124m\"\u001b[39m}\n\u001b[1;32m----> 2\u001b[0m d2\u001b[38;5;241m=\u001b[39md1\u001b[38;5;241m.\u001b[39mpop(\u001b[38;5;124m\"\u001b[39m\u001b[38;5;124mstate\u001b[39m\u001b[38;5;124m\"\u001b[39m)\n\u001b[0;32m      3\u001b[0m \u001b[38;5;28mprint\u001b[39m(d2)\n\u001b[0;32m      4\u001b[0m \u001b[38;5;28mprint\u001b[39m(d1)\n",
      "\u001b[1;31mKeyError\u001b[0m: 'state'"
     ]
    }
   ],
   "source": [
    "d1={\"name\":\"AJA\",\"address\":\"HYD\"}\n",
    "d2=d1.pop(\"state\")\n",
    "print(d2)\n",
    "print(d1)"
   ]
  },
  {
   "cell_type": "code",
   "execution_count": 21,
   "id": "f3aeb0db",
   "metadata": {},
   "outputs": [
    {
     "name": "stdout",
     "output_type": "stream",
     "text": [
      "{'name': 'AJA'}\n",
      "('address', 'HYD')\n"
     ]
    }
   ],
   "source": [
    "d1={\"name\":\"AJA\",\"address\":\"HYD\"}\n",
    "d2=d1.popitem()\n",
    "print(d1)\n",
    "print(d2)"
   ]
  },
  {
   "cell_type": "code",
   "execution_count": 22,
   "id": "59d801e5",
   "metadata": {},
   "outputs": [
    {
     "name": "stdout",
     "output_type": "stream",
     "text": [
      "{'name': 'AJA', 'address': 'HYD'}\n",
      "('state', 'TS')\n"
     ]
    }
   ],
   "source": [
    "d1={\"name\":\"AJA\",\"address\":\"HYD\",\"state\":\"TS\"}\n",
    "d2=d1.popitem()\n",
    "print(d1)\n",
    "print(d2)"
   ]
  },
  {
   "cell_type": "code",
   "execution_count": 23,
   "id": "fb27c8d1",
   "metadata": {},
   "outputs": [
    {
     "name": "stdout",
     "output_type": "stream",
     "text": [
      "{'name': 'AJA', 'address': 'HYD', 'state': 'TS'}\n",
      "('apple', 'fruit')\n"
     ]
    }
   ],
   "source": [
    "d1={\"name\":\"AJA\",\"address\":\"HYD\",\"state\":\"TS\",\"apple\":\"fruit\"}\n",
    "d2=d1.popitem()\n",
    "print(d1)\n",
    "print(d2)"
   ]
  },
  {
   "cell_type": "code",
   "execution_count": 24,
   "id": "462995f4",
   "metadata": {},
   "outputs": [
    {
     "name": "stdout",
     "output_type": "stream",
     "text": [
      "AJA\n"
     ]
    }
   ],
   "source": [
    "d1={\"name\":\"AJA\",\"address\":\"HYD\",\"state\":\"TS\",\"apple\":\"fruit\"}\n",
    "print(d1[\"name\"])"
   ]
  },
  {
   "cell_type": "code",
   "execution_count": 25,
   "id": "e344c98e",
   "metadata": {},
   "outputs": [
    {
     "name": "stdout",
     "output_type": "stream",
     "text": [
      "AJA\n",
      "AJA\n"
     ]
    }
   ],
   "source": [
    "d1={\"name\":\"AJA\",\"address\":\"HYD\",\"state\":\"TS\",\"apple\":\"fruit\"}\n",
    "print(d1[\"name\"])\n",
    "print(d1.get(\"name\"))"
   ]
  },
  {
   "cell_type": "code",
   "execution_count": 26,
   "id": "aa470cc6",
   "metadata": {},
   "outputs": [
    {
     "ename": "KeyError",
     "evalue": "'phone'",
     "output_type": "error",
     "traceback": [
      "\u001b[1;31m---------------------------------------------------------------------------\u001b[0m",
      "\u001b[1;31mKeyError\u001b[0m                                  Traceback (most recent call last)",
      "Cell \u001b[1;32mIn[26], line 2\u001b[0m\n\u001b[0;32m      1\u001b[0m d1\u001b[38;5;241m=\u001b[39m{\u001b[38;5;124m\"\u001b[39m\u001b[38;5;124mname\u001b[39m\u001b[38;5;124m\"\u001b[39m:\u001b[38;5;124m\"\u001b[39m\u001b[38;5;124mAJA\u001b[39m\u001b[38;5;124m\"\u001b[39m,\u001b[38;5;124m\"\u001b[39m\u001b[38;5;124maddress\u001b[39m\u001b[38;5;124m\"\u001b[39m:\u001b[38;5;124m\"\u001b[39m\u001b[38;5;124mHYD\u001b[39m\u001b[38;5;124m\"\u001b[39m,\u001b[38;5;124m\"\u001b[39m\u001b[38;5;124mstate\u001b[39m\u001b[38;5;124m\"\u001b[39m:\u001b[38;5;124m\"\u001b[39m\u001b[38;5;124mTS\u001b[39m\u001b[38;5;124m\"\u001b[39m,\u001b[38;5;124m\"\u001b[39m\u001b[38;5;124mapple\u001b[39m\u001b[38;5;124m\"\u001b[39m:\u001b[38;5;124m\"\u001b[39m\u001b[38;5;124mfruit\u001b[39m\u001b[38;5;124m\"\u001b[39m}\n\u001b[1;32m----> 2\u001b[0m \u001b[38;5;28mprint\u001b[39m(d1[\u001b[38;5;124m\"\u001b[39m\u001b[38;5;124mphone\u001b[39m\u001b[38;5;124m\"\u001b[39m])\n\u001b[0;32m      3\u001b[0m \u001b[38;5;28mprint\u001b[39m(d1\u001b[38;5;241m.\u001b[39mget(\u001b[38;5;124m\"\u001b[39m\u001b[38;5;124mname\u001b[39m\u001b[38;5;124m\"\u001b[39m))\n",
      "\u001b[1;31mKeyError\u001b[0m: 'phone'"
     ]
    }
   ],
   "source": [
    "d1={\"name\":\"AJA\",\"address\":\"HYD\",\"state\":\"TS\",\"apple\":\"fruit\"}\n",
    "print(d1[\"phone\"])\n",
    "print(d1.get(\"name\"))"
   ]
  },
  {
   "cell_type": "code",
   "execution_count": 27,
   "id": "542a77cb",
   "metadata": {},
   "outputs": [
    {
     "name": "stdout",
     "output_type": "stream",
     "text": [
      "AJA\n",
      "None\n"
     ]
    }
   ],
   "source": [
    "d1={\"name\":\"AJA\",\"address\":\"HYD\",\"state\":\"TS\",\"apple\":\"fruit\"}\n",
    "print(d1[\"name\"])\n",
    "print(d1.get(\"phone\"))"
   ]
  },
  {
   "cell_type": "code",
   "execution_count": 28,
   "id": "878902b2",
   "metadata": {},
   "outputs": [
    {
     "name": "stdout",
     "output_type": "stream",
     "text": [
      "AJA\n",
      "040-435435\n"
     ]
    }
   ],
   "source": [
    "d1={\"name\":\"AJA\",\"address\":\"HYD\",\"state\":\"TS\",\"apple\":\"fruit\"}\n",
    "print(d1[\"name\"])\n",
    "print(d1.get(\"phone\",\"040-435435\"))"
   ]
  },
  {
   "cell_type": "code",
   "execution_count": 29,
   "id": "81402793",
   "metadata": {},
   "outputs": [
    {
     "ename": "KeyError",
     "evalue": "'phone'",
     "output_type": "error",
     "traceback": [
      "\u001b[1;31m---------------------------------------------------------------------------\u001b[0m",
      "\u001b[1;31mKeyError\u001b[0m                                  Traceback (most recent call last)",
      "Cell \u001b[1;32mIn[29], line 2\u001b[0m\n\u001b[0;32m      1\u001b[0m d1\u001b[38;5;241m=\u001b[39m{\u001b[38;5;124m\"\u001b[39m\u001b[38;5;124mname\u001b[39m\u001b[38;5;124m\"\u001b[39m:\u001b[38;5;124m\"\u001b[39m\u001b[38;5;124mAJA\u001b[39m\u001b[38;5;124m\"\u001b[39m,\u001b[38;5;124m\"\u001b[39m\u001b[38;5;124maddress\u001b[39m\u001b[38;5;124m\"\u001b[39m:\u001b[38;5;124m\"\u001b[39m\u001b[38;5;124mHYD\u001b[39m\u001b[38;5;124m\"\u001b[39m,\u001b[38;5;124m\"\u001b[39m\u001b[38;5;124mstate\u001b[39m\u001b[38;5;124m\"\u001b[39m:\u001b[38;5;124m\"\u001b[39m\u001b[38;5;124mTS\u001b[39m\u001b[38;5;124m\"\u001b[39m,\u001b[38;5;124m\"\u001b[39m\u001b[38;5;124mapple\u001b[39m\u001b[38;5;124m\"\u001b[39m:\u001b[38;5;124m\"\u001b[39m\u001b[38;5;124mfruit\u001b[39m\u001b[38;5;124m\"\u001b[39m}\n\u001b[1;32m----> 2\u001b[0m d2\u001b[38;5;241m=\u001b[39md1\u001b[38;5;241m.\u001b[39mpop(\u001b[38;5;124m\"\u001b[39m\u001b[38;5;124mphone\u001b[39m\u001b[38;5;124m\"\u001b[39m)\n",
      "\u001b[1;31mKeyError\u001b[0m: 'phone'"
     ]
    }
   ],
   "source": [
    "d1={\"name\":\"AJA\",\"address\":\"HYD\",\"state\":\"TS\",\"apple\":\"fruit\"}\n",
    "d2=d1.pop(\"phone\")"
   ]
  },
  {
   "cell_type": "code",
   "execution_count": 31,
   "id": "8d06ca30",
   "metadata": {},
   "outputs": [
    {
     "name": "stdout",
     "output_type": "stream",
     "text": [
      "{'name': 'AJA', 'address': 'HYD', 'state': 'TS', 'apple': 'fruit'}\n",
      "040-324324\n"
     ]
    }
   ],
   "source": [
    "d1={\"name\":\"AJA\",\"address\":\"HYD\",\"state\":\"TS\",\"apple\":\"fruit\"}\n",
    "d2=d1.pop(\"phone\",\"040-324324\")\n",
    "print(d1)\n",
    "print(d2)"
   ]
  },
  {
   "cell_type": "code",
   "execution_count": 32,
   "id": "d48ab449",
   "metadata": {},
   "outputs": [
    {
     "ename": "KeyError",
     "evalue": "'sachin'",
     "output_type": "error",
     "traceback": [
      "\u001b[1;31m---------------------------------------------------------------------------\u001b[0m",
      "\u001b[1;31mKeyError\u001b[0m                                  Traceback (most recent call last)",
      "Cell \u001b[1;32mIn[32], line 2\u001b[0m\n\u001b[0;32m      1\u001b[0m d1\u001b[38;5;241m=\u001b[39m{}\n\u001b[1;32m----> 2\u001b[0m \u001b[38;5;28mprint\u001b[39m(d1[\u001b[38;5;124m\"\u001b[39m\u001b[38;5;124msachin\u001b[39m\u001b[38;5;124m\"\u001b[39m])\n",
      "\u001b[1;31mKeyError\u001b[0m: 'sachin'"
     ]
    }
   ],
   "source": [
    "d1={}\n",
    "print(d1[\"sachin\"])"
   ]
  },
  {
   "cell_type": "code",
   "execution_count": 34,
   "id": "f03f1abd",
   "metadata": {},
   "outputs": [
    {
     "name": "stdout",
     "output_type": "stream",
     "text": [
      "[]\n"
     ]
    }
   ],
   "source": [
    "d1={}\n",
    "# print(d1[\"sachin\"])\n",
    "print(d1.get(\"sachin\",[]))"
   ]
  },
  {
   "cell_type": "code",
   "execution_count": 35,
   "id": "6c1c963b",
   "metadata": {},
   "outputs": [
    {
     "name": "stdout",
     "output_type": "stream",
     "text": [
      "{}\n"
     ]
    }
   ],
   "source": [
    "d1={}\n",
    "# print(d1[\"sachin\"])\n",
    "d1.get(\"sachin\",[]).append(\"1234\")\n",
    "print(d1)"
   ]
  },
  {
   "cell_type": "code",
   "execution_count": 36,
   "id": "8cff301d",
   "metadata": {},
   "outputs": [
    {
     "name": "stdout",
     "output_type": "stream",
     "text": [
      "[]\n",
      "[]\n"
     ]
    }
   ],
   "source": [
    "from collections import defaultdict\n",
    "d1=defaultdict(list)\n",
    "print(d1[\"sachin\"])\n",
    "print(d1[\"sehwag\"])"
   ]
  },
  {
   "cell_type": "code",
   "execution_count": 37,
   "id": "8d9cba03",
   "metadata": {},
   "outputs": [
    {
     "name": "stdout",
     "output_type": "stream",
     "text": [
      "[]\n",
      "defaultdict(<class 'list'>, {'sachin': [], 'sehwag': [300]})\n"
     ]
    }
   ],
   "source": [
    "from collections import defaultdict\n",
    "d1=defaultdict(list)\n",
    "print(d1[\"sachin\"])\n",
    "d1[\"sehwag\"].append(300)\n",
    "print(d1)"
   ]
  },
  {
   "cell_type": "code",
   "execution_count": null,
   "id": "2a5e4b52",
   "metadata": {},
   "outputs": [],
   "source": []
  }
 ],
 "metadata": {
  "kernelspec": {
   "display_name": "Python 3 (ipykernel)",
   "language": "python",
   "name": "python3"
  },
  "language_info": {
   "codemirror_mode": {
    "name": "ipython",
    "version": 3
   },
   "file_extension": ".py",
   "mimetype": "text/x-python",
   "name": "python",
   "nbconvert_exporter": "python",
   "pygments_lexer": "ipython3",
   "version": "3.11.3"
  }
 },
 "nbformat": 4,
 "nbformat_minor": 5
}
