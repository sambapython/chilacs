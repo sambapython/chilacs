{
 "cells": [
  {
   "cell_type": "code",
   "execution_count": 1,
   "id": "cab450d8",
   "metadata": {},
   "outputs": [
    {
     "name": "stdout",
     "output_type": "stream",
     "text": [
      "H\n",
      "y\n"
     ]
    }
   ],
   "source": [
    "s=\"Hyderabad\"\n",
    "print(s[0])\n",
    "print(s[1])"
   ]
  },
  {
   "cell_type": "code",
   "execution_count": 2,
   "id": "382dc356",
   "metadata": {},
   "outputs": [
    {
     "name": "stdout",
     "output_type": "stream",
     "text": [
      "H\n",
      "y\n",
      "9\n"
     ]
    }
   ],
   "source": [
    "s=\"Hyderabad\"\n",
    "print(s[0])\n",
    "print(s[1])\n",
    "print(len(s))"
   ]
  },
  {
   "cell_type": "code",
   "execution_count": 3,
   "id": "47c445b9",
   "metadata": {},
   "outputs": [
    {
     "name": "stdout",
     "output_type": "stream",
     "text": [
      "H\n",
      "y\n"
     ]
    },
    {
     "ename": "IndexError",
     "evalue": "string index out of range",
     "output_type": "error",
     "traceback": [
      "\u001b[1;31m---------------------------------------------------------------------------\u001b[0m",
      "\u001b[1;31mIndexError\u001b[0m                                Traceback (most recent call last)",
      "Cell \u001b[1;32mIn[3], line 4\u001b[0m\n\u001b[0;32m      2\u001b[0m \u001b[38;5;28mprint\u001b[39m(s[\u001b[38;5;241m0\u001b[39m])\n\u001b[0;32m      3\u001b[0m \u001b[38;5;28mprint\u001b[39m(s[\u001b[38;5;241m1\u001b[39m])\n\u001b[1;32m----> 4\u001b[0m \u001b[38;5;28mprint\u001b[39m(s[\u001b[38;5;241m9\u001b[39m])\n",
      "\u001b[1;31mIndexError\u001b[0m: string index out of range"
     ]
    }
   ],
   "source": [
    "s=\"Hyderabad\"\n",
    "print(s[0])\n",
    "print(s[1])\n",
    "print(s[9])"
   ]
  },
  {
   "cell_type": "code",
   "execution_count": 4,
   "id": "a8cca331",
   "metadata": {},
   "outputs": [
    {
     "name": "stdout",
     "output_type": "stream",
     "text": [
      "H\n",
      "y\n",
      "d\n"
     ]
    },
    {
     "ename": "IndexError",
     "evalue": "string index out of range",
     "output_type": "error",
     "traceback": [
      "\u001b[1;31m---------------------------------------------------------------------------\u001b[0m",
      "\u001b[1;31mIndexError\u001b[0m                                Traceback (most recent call last)",
      "Cell \u001b[1;32mIn[4], line 5\u001b[0m\n\u001b[0;32m      3\u001b[0m \u001b[38;5;28mprint\u001b[39m(s[\u001b[38;5;241m1\u001b[39m])\n\u001b[0;32m      4\u001b[0m \u001b[38;5;28mprint\u001b[39m(s[\u001b[38;5;241m8\u001b[39m])\n\u001b[1;32m----> 5\u001b[0m \u001b[38;5;28mprint\u001b[39m(s[\u001b[38;5;241m9\u001b[39m])\n",
      "\u001b[1;31mIndexError\u001b[0m: string index out of range"
     ]
    }
   ],
   "source": [
    "s=\"Hyderabad\"\n",
    "print(s[0])\n",
    "print(s[1])\n",
    "print(s[8])\n",
    "print(s[9])"
   ]
  },
  {
   "cell_type": "code",
   "execution_count": 5,
   "id": "1698dbcd",
   "metadata": {},
   "outputs": [
    {
     "name": "stdout",
     "output_type": "stream",
     "text": [
      "H\n",
      "y\n",
      "d\n",
      "a\n",
      "y\n",
      "H\n"
     ]
    }
   ],
   "source": [
    "s=\"Hyderabad\"\n",
    "print(s[0])\n",
    "print(s[1])\n",
    "print(s[-1])\n",
    "print(s[-2])\n",
    "print(s[-8])\n",
    "print(s[-9])"
   ]
  },
  {
   "cell_type": "code",
   "execution_count": 6,
   "id": "2438b777",
   "metadata": {},
   "outputs": [
    {
     "name": "stdout",
     "output_type": "stream",
     "text": [
      "H\n",
      "y\n",
      "d\n",
      "a\n",
      "y\n",
      "H\n"
     ]
    },
    {
     "ename": "IndexError",
     "evalue": "string index out of range",
     "output_type": "error",
     "traceback": [
      "\u001b[1;31m---------------------------------------------------------------------------\u001b[0m",
      "\u001b[1;31mIndexError\u001b[0m                                Traceback (most recent call last)",
      "Cell \u001b[1;32mIn[6], line 8\u001b[0m\n\u001b[0;32m      6\u001b[0m \u001b[38;5;28mprint\u001b[39m(s[\u001b[38;5;241m-\u001b[39m\u001b[38;5;241m8\u001b[39m])\n\u001b[0;32m      7\u001b[0m \u001b[38;5;28mprint\u001b[39m(s[\u001b[38;5;241m-\u001b[39m\u001b[38;5;241m9\u001b[39m])\n\u001b[1;32m----> 8\u001b[0m \u001b[38;5;28mprint\u001b[39m(s[\u001b[38;5;241m-\u001b[39m\u001b[38;5;241m10\u001b[39m])\n",
      "\u001b[1;31mIndexError\u001b[0m: string index out of range"
     ]
    }
   ],
   "source": [
    "s=\"Hyderabad\"\n",
    "print(s[0])\n",
    "print(s[1])\n",
    "print(s[-1])\n",
    "print(s[-2])\n",
    "print(s[-8])\n",
    "print(s[-9])\n",
    "print(s[-10])"
   ]
  },
  {
   "cell_type": "code",
   "execution_count": 7,
   "id": "10eedb4f",
   "metadata": {},
   "outputs": [
    {
     "name": "stdout",
     "output_type": "stream",
     "text": [
      "Hyd\n"
     ]
    }
   ],
   "source": [
    "s=\"Hyderabad\"\n",
    "print(s[0]+s[1]+s[2])"
   ]
  },
  {
   "cell_type": "code",
   "execution_count": 8,
   "id": "8bf2fffd",
   "metadata": {},
   "outputs": [
    {
     "name": "stdout",
     "output_type": "stream",
     "text": [
      "Hyd\n",
      "Hyd\n"
     ]
    }
   ],
   "source": [
    "s=\"Hyderabad\"\n",
    "print(s[0]+s[1]+s[2])\n",
    "print(s[0:3])#012"
   ]
  },
  {
   "cell_type": "code",
   "execution_count": 9,
   "id": "c5228b77",
   "metadata": {},
   "outputs": [
    {
     "name": "stdout",
     "output_type": "stream",
     "text": [
      "Hyd\n",
      "Hyderabad\n"
     ]
    }
   ],
   "source": [
    "s=\"Hyderabad\"\n",
    "print(s[0]+s[1]+s[2])\n",
    "print(s[0:10])"
   ]
  },
  {
   "cell_type": "code",
   "execution_count": 10,
   "id": "3c1d7166",
   "metadata": {},
   "outputs": [
    {
     "name": "stdout",
     "output_type": "stream",
     "text": [
      "Hyd\n",
      "Hyderabad\n"
     ]
    }
   ],
   "source": [
    "s=\"Hyderabad\"\n",
    "print(s[0]+s[1]+s[2])\n",
    "print(s[0:10:1])"
   ]
  },
  {
   "cell_type": "code",
   "execution_count": 11,
   "id": "9c57e077",
   "metadata": {},
   "outputs": [
    {
     "name": "stdout",
     "output_type": "stream",
     "text": [
      "Hyd\n",
      "Hdrbd\n"
     ]
    }
   ],
   "source": [
    "s=\"Hyderabad\"\n",
    "print(s[0]+s[1]+s[2])\n",
    "print(s[0:10:2])#step value 2"
   ]
  },
  {
   "cell_type": "code",
   "execution_count": 12,
   "id": "c4afe589",
   "metadata": {},
   "outputs": [
    {
     "name": "stdout",
     "output_type": "stream",
     "text": [
      "Hyd\n",
      "Hyder\n"
     ]
    }
   ],
   "source": [
    "s=\"Hyderabad\"\n",
    "print(s[0]+s[1]+s[2])\n",
    "print(s[0:5])"
   ]
  },
  {
   "cell_type": "code",
   "execution_count": 13,
   "id": "8e4b16a3",
   "metadata": {},
   "outputs": [
    {
     "name": "stdout",
     "output_type": "stream",
     "text": [
      "Hyd\n",
      "Hyder\n",
      "\n"
     ]
    }
   ],
   "source": [
    "s=\"Hyderabad\"\n",
    "print(s[0]+s[1]+s[2])\n",
    "print(s[0:5])\n",
    "print(s[5:0])"
   ]
  },
  {
   "cell_type": "code",
   "execution_count": 14,
   "id": "427a985a",
   "metadata": {},
   "outputs": [
    {
     "name": "stdout",
     "output_type": "stream",
     "text": [
      "\n",
      "aredy\n"
     ]
    }
   ],
   "source": [
    "s=\"Hyderabad\"\n",
    "print(s[5:0])# step value decides the direction... stepvalue=1. the slicing starts at 5th index. the step value +ve.\n",
    "# it will go towards right, do we get the index 0?NO\n",
    "print(s[5:0:-1])#  stepvalue=-VE, the slicing starts at 5th index, it will goes to towards left. do we get index 0..YES\n"
   ]
  },
  {
   "cell_type": "code",
   "execution_count": 15,
   "id": "ae943044",
   "metadata": {},
   "outputs": [
    {
     "name": "stdout",
     "output_type": "stream",
     "text": [
      "\n"
     ]
    }
   ],
   "source": [
    "s=\"Hyderabad\"\n",
    "print(s[-5:-9])#step value: +ve, towards right, -9 index?NO"
   ]
  },
  {
   "cell_type": "code",
   "execution_count": 16,
   "id": "1f477a63",
   "metadata": {},
   "outputs": [
    {
     "name": "stdout",
     "output_type": "stream",
     "text": [
      "Hydera\n"
     ]
    }
   ],
   "source": [
    "s=\"Hyderabad\"\n",
    "print(s[-9:-3])#step value: +ve, towards right, -3 index?YES"
   ]
  },
  {
   "cell_type": "code",
   "execution_count": 17,
   "id": "47423754",
   "metadata": {},
   "outputs": [
    {
     "name": "stdout",
     "output_type": "stream",
     "text": [
      "redy\n"
     ]
    }
   ],
   "source": [
    "s=\"Hyderabad\"\n",
    "print(s[-5:-9:-1])#step value: -ve, towards left, -9 index?YES"
   ]
  },
  {
   "cell_type": "code",
   "execution_count": 18,
   "id": "d04e40d7",
   "metadata": {},
   "outputs": [
    {
     "name": "stdout",
     "output_type": "stream",
     "text": [
      "rabad\n"
     ]
    }
   ],
   "source": [
    "s=\"Hyderabad\"\n",
    "print(s[4:])# step value:1 +ve, second slicing value?10"
   ]
  },
  {
   "cell_type": "code",
   "execution_count": 19,
   "id": "043b14eb",
   "metadata": {},
   "outputs": [
    {
     "name": "stdout",
     "output_type": "stream",
     "text": [
      "redyH\n"
     ]
    }
   ],
   "source": [
    "s=\"Hyderabad\"\n",
    "print(s[4::-1])# step value:-1 -ve, second slicing value?-10"
   ]
  },
  {
   "cell_type": "code",
   "execution_count": 20,
   "id": "1d90bd8a",
   "metadata": {},
   "outputs": [
    {
     "name": "stdout",
     "output_type": "stream",
     "text": [
      "Hyder\n"
     ]
    }
   ],
   "source": [
    "s=\"Hyderabad\"\n",
    "print(s[:5])# step value:+1 +ve, first slicing value: 0"
   ]
  },
  {
   "cell_type": "code",
   "execution_count": 21,
   "id": "4e2ef0ef",
   "metadata": {},
   "outputs": [
    {
     "name": "stdout",
     "output_type": "stream",
     "text": [
      "dab\n"
     ]
    }
   ],
   "source": [
    "s=\"Hyderabad\"\n",
    "print(s[:5:-1])# step value:-1 -ve, first slicing value: -10"
   ]
  },
  {
   "cell_type": "code",
   "execution_count": 22,
   "id": "e3bfb81c",
   "metadata": {},
   "outputs": [
    {
     "name": "stdout",
     "output_type": "stream",
     "text": [
      "Hyderabad\n"
     ]
    }
   ],
   "source": [
    "s=\"Hyderabad\"\n",
    "print(s[:])# step value:+ve"
   ]
  },
  {
   "cell_type": "code",
   "execution_count": 23,
   "id": "cde02ea4",
   "metadata": {},
   "outputs": [
    {
     "name": "stdout",
     "output_type": "stream",
     "text": [
      "dabaredyH\n"
     ]
    }
   ],
   "source": [
    "s=\"Hyderabad\"\n",
    "print(s[::-1])# step value:-ve"
   ]
  },
  {
   "cell_type": "code",
   "execution_count": 25,
   "id": "286ad61a",
   "metadata": {},
   "outputs": [
    {
     "name": "stdout",
     "output_type": "stream",
     "text": [
      "apple\n",
      "mango\n",
      "mango\n",
      "apple\n"
     ]
    }
   ],
   "source": [
    "l=[\"apple\",\"orange\",\"grape\",\"banana\",\"mango\"]\n",
    "print(l[0])\n",
    "print(l[4])\n",
    "print(l[-1])\n",
    "print(l[-5])"
   ]
  },
  {
   "cell_type": "code",
   "execution_count": 26,
   "id": "6ed7adf0",
   "metadata": {},
   "outputs": [
    {
     "name": "stdout",
     "output_type": "stream",
     "text": [
      "['apple', 'orange', 'grape']\n",
      "[]\n",
      "['banana', 'grape', 'orange']\n",
      "['apple', 'orange', 'grape']\n",
      "['mango']\n"
     ]
    }
   ],
   "source": [
    "l=[\"apple\",\"orange\",\"grape\",\"banana\",\"mango\"]\n",
    "print(l[0:3])\n",
    "print(l[3:0])\n",
    "print(l[3:0:-1])\n",
    "print(l[:3])\n",
    "print(l[:3:-1])"
   ]
  },
  {
   "cell_type": "code",
   "execution_count": 27,
   "id": "2cbd6e4b",
   "metadata": {},
   "outputs": [
    {
     "name": "stdout",
     "output_type": "stream",
     "text": [
      "5\n"
     ]
    }
   ],
   "source": [
    "l=[1,2,[3,4,[5,6],[7,8],9],10,11]\n",
    "print(len(l))"
   ]
  },
  {
   "cell_type": "code",
   "execution_count": 28,
   "id": "f43c4026",
   "metadata": {},
   "outputs": [
    {
     "name": "stdout",
     "output_type": "stream",
     "text": [
      "1\n"
     ]
    }
   ],
   "source": [
    "l=[1,2,[3,4,[5,6],[7,8],9],10,11]\n",
    "print(l[0])"
   ]
  },
  {
   "cell_type": "code",
   "execution_count": 29,
   "id": "f79558bd",
   "metadata": {},
   "outputs": [
    {
     "name": "stdout",
     "output_type": "stream",
     "text": [
      "2\n"
     ]
    }
   ],
   "source": [
    "l=[1,2,[3,4,[5,6],[7,8],9],10,11]\n",
    "print(l[1])"
   ]
  },
  {
   "cell_type": "code",
   "execution_count": 30,
   "id": "f5ef9ca3",
   "metadata": {},
   "outputs": [
    {
     "name": "stdout",
     "output_type": "stream",
     "text": [
      "[3, 4, [5, 6], [7, 8], 9]\n"
     ]
    }
   ],
   "source": [
    "l=[1,2,[3,4,[5,6],[7,8],9],10,11]\n",
    "print(l[2])"
   ]
  },
  {
   "cell_type": "code",
   "execution_count": 31,
   "id": "dab3b66b",
   "metadata": {},
   "outputs": [
    {
     "name": "stdout",
     "output_type": "stream",
     "text": [
      "4\n"
     ]
    }
   ],
   "source": [
    "l=[1,2,[3,4,[5,6],[7,8],9],10,11]\n",
    "print(l[2][1])"
   ]
  },
  {
   "cell_type": "code",
   "execution_count": 32,
   "id": "c5da62e2",
   "metadata": {},
   "outputs": [
    {
     "name": "stdout",
     "output_type": "stream",
     "text": [
      "[5, 6]\n"
     ]
    }
   ],
   "source": [
    "l=[1,2,[3,4,[5,6],[7,8],9],10,11]\n",
    "print(l[2][2])"
   ]
  },
  {
   "cell_type": "code",
   "execution_count": 33,
   "id": "bba96dcf",
   "metadata": {},
   "outputs": [
    {
     "name": "stdout",
     "output_type": "stream",
     "text": [
      "6\n"
     ]
    }
   ],
   "source": [
    "l=[1,2,[3,4,[5,6],[7,8],9],10,11]\n",
    "print(l[2][2][-1])"
   ]
  },
  {
   "cell_type": "code",
   "execution_count": null,
   "id": "bc68347c",
   "metadata": {},
   "outputs": [],
   "source": []
  }
 ],
 "metadata": {
  "kernelspec": {
   "display_name": "Python 3 (ipykernel)",
   "language": "python",
   "name": "python3"
  },
  "language_info": {
   "codemirror_mode": {
    "name": "ipython",
    "version": 3
   },
   "file_extension": ".py",
   "mimetype": "text/x-python",
   "name": "python",
   "nbconvert_exporter": "python",
   "pygments_lexer": "ipython3",
   "version": "3.11.3"
  }
 },
 "nbformat": 4,
 "nbformat_minor": 5
}
