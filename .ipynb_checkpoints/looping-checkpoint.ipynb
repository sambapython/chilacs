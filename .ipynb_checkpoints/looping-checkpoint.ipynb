{
 "cells": [
  {
   "cell_type": "code",
   "execution_count": 1,
   "id": "50d76c7e",
   "metadata": {},
   "outputs": [
    {
     "name": "stdout",
     "output_type": "stream",
     "text": [
      "+VE\n"
     ]
    }
   ],
   "source": [
    "number = 12\n",
    "if number>0:\n",
    "    print(\"+VE\")\n",
    "else:\n",
    "    print(\"-VE\")"
   ]
  },
  {
   "cell_type": "code",
   "execution_count": 2,
   "id": "82aee01a",
   "metadata": {},
   "outputs": [
    {
     "name": "stdout",
     "output_type": "stream",
     "text": [
      "+VE\n"
     ]
    }
   ],
   "source": [
    "number = [12,23,45,-67,-89,45]\n",
    "if number[0]>0:\n",
    "    print(\"+VE\")\n",
    "else:\n",
    "    print(\"-VE\")"
   ]
  },
  {
   "cell_type": "code",
   "execution_count": 3,
   "id": "2690dc95",
   "metadata": {},
   "outputs": [
    {
     "name": "stdout",
     "output_type": "stream",
     "text": [
      "+VE\n",
      "+VE\n",
      "-VE\n"
     ]
    }
   ],
   "source": [
    "number = [12,23,-45]\n",
    "if number[0]>0:\n",
    "    print(\"+VE\")\n",
    "else:\n",
    "    print(\"-VE\")\n",
    "if number[1]>0:\n",
    "    print(\"+VE\")\n",
    "else:\n",
    "    print(\"-VE\")\n",
    "if number[2]>0:\n",
    "    print(\"+VE\")\n",
    "else:\n",
    "    print(\"-VE\")"
   ]
  },
  {
   "cell_type": "code",
   "execution_count": 5,
   "id": "a78d72ab",
   "metadata": {},
   "outputs": [
    {
     "name": "stdout",
     "output_type": "stream",
     "text": [
      "HELLO......................\n",
      "12\n",
      "H\n",
      "23\n",
      "H\n",
      "-45\n",
      "H\n",
      "HI...................\n"
     ]
    }
   ],
   "source": [
    "numbers = [12,23,-45]\n",
    "print(\"HELLO......................\")\n",
    "for n in numbers:#n=12, 23, -45, ? ENDOF LOOP\n",
    "    print(n)\n",
    "    print(\"H\")\n",
    "print(\"HI...................\")"
   ]
  },
  {
   "cell_type": "code",
   "execution_count": 1,
   "id": "d85ed449",
   "metadata": {},
   "outputs": [
    {
     "name": "stdout",
     "output_type": "stream",
     "text": [
      "12\n",
      "23\n",
      "45\n",
      "-67\n",
      "-89\n",
      "45\n",
      "DONE\n"
     ]
    }
   ],
   "source": [
    "numbers = [12,23,45,-67,-89,45]\n",
    "for n in numbers:\n",
    "    print(n)\n",
    "print(\"DONE\")"
   ]
  },
  {
   "cell_type": "code",
   "execution_count": 2,
   "id": "fc0ed264",
   "metadata": {},
   "outputs": [
    {
     "name": "stdout",
     "output_type": "stream",
     "text": [
      "12\n",
      "HI\n",
      "23\n",
      "HI\n",
      "45\n",
      "HI\n",
      "-67\n",
      "HI\n",
      "-89\n",
      "HI\n",
      "45\n",
      "HI\n",
      "DONE\n"
     ]
    }
   ],
   "source": [
    "numbers = [12,23,45,-67,-89,45]\n",
    "for n in numbers:#n=12,n=23,\n",
    "    print(n)\n",
    "    print(\"HI\")\n",
    "print(\"DONE\")"
   ]
  },
  {
   "cell_type": "code",
   "execution_count": 3,
   "id": "9ab83150",
   "metadata": {},
   "outputs": [
    {
     "name": "stdout",
     "output_type": "stream",
     "text": [
      "+VE\n",
      "-VE\n",
      "-VE\n",
      "+VE\n",
      "DONE\n"
     ]
    }
   ],
   "source": [
    "numbers = [12,-67,-89,45]\n",
    "for n in numbers:#n=12,n=-67,n=-89,n=45,?\n",
    "    if n>0:#12>0:True;-67>0: False,-89>0:False, 45>0: True\n",
    "        print(\"+VE\")\n",
    "    else:\n",
    "        print(\"-VE\")\n",
    "        \n",
    "print(\"DONE\")"
   ]
  },
  {
   "cell_type": "code",
   "execution_count": null,
   "id": "0b7dbef3",
   "metadata": {},
   "outputs": [],
   "source": [
    "l=[\"apple\",\"\",\"c  \",\"   \",\"orange\"]\n",
    "#apple: validstring\n",
    "#\"\": Invalid string\n",
    "#c     :Valid string\n",
    "#orange: validstring\n"
   ]
  },
  {
   "cell_type": "code",
   "execution_count": 4,
   "id": "7a16d255",
   "metadata": {},
   "outputs": [
    {
     "name": "stdout",
     "output_type": "stream",
     "text": [
      "3 2\n"
     ]
    }
   ],
   "source": [
    "numbers = [12,-67,-89,45,56]\n",
    "p_c=0\n",
    "n_c=0\n",
    "for number in numbers:#number: 12, number: -67, number: -89, number:45,number:56\n",
    "    if number>0:#12>0:True, -67>0: False, -89>0:False, 45>0:true, 56>0: True\n",
    "        p_c=p_c+1#0+1=1,1+1:2,2+1:3\n",
    "    else:\n",
    "        n_c=n_c+1#0,0+1:1,1+1:2\n",
    "        \n",
    "print(p_c, n_c)"
   ]
  },
  {
   "cell_type": "code",
   "execution_count": 5,
   "id": "25791f80",
   "metadata": {},
   "outputs": [
    {
     "name": "stdout",
     "output_type": "stream",
     "text": [
      "3\n",
      "YES\n"
     ]
    }
   ],
   "source": [
    "# [-12,-34,-56,-78] does it has positive numbers? NO\n",
    "#[-34,12,56,-78,-90] does it has positive numbers? YES\n",
    "numbers = [12,-67,-89,45,56]\n",
    "p_c=0\n",
    "for number in numbers:#number: 12, number: -67, number: -89, number:45,number:56\n",
    "    if number>0:#12>0:True, -67>0: False, -89>0:False, 45>0:true, 56>0: True\n",
    "        p_c=p_c+1#0+1=1,1+1:2,2+1:3\n",
    "print(p_c)\n",
    "if p_c==0:\n",
    "    print(\"NO\")\n",
    "else:\n",
    "    print(\"YES\")\n"
   ]
  },
  {
   "cell_type": "code",
   "execution_count": 6,
   "id": "db55a4d9",
   "metadata": {},
   "outputs": [
    {
     "name": "stdout",
     "output_type": "stream",
     "text": [
      "0\n",
      "NO\n"
     ]
    }
   ],
   "source": [
    "# [-12,-34,-56,-78] does it has positive numbers? NO\n",
    "#[-34,12,56,-78,-90] does it has positive numbers? YES\n",
    "numbers = [-12,-34,-56,-78]\n",
    "p_c=0\n",
    "for number in numbers:#n=-12\n",
    "    if number>0:#-12>0: False\n",
    "        p_c=p_c+1#0\n",
    "print(p_c)\n",
    "if p_c==0:\n",
    "    print(\"NO\")\n",
    "else:\n",
    "    print(\"YES\")\n"
   ]
  },
  {
   "cell_type": "code",
   "execution_count": 7,
   "id": "66e9a5ce",
   "metadata": {},
   "outputs": [
    {
     "name": "stdout",
     "output_type": "stream",
     "text": [
      "12\n",
      "-12\n",
      "-34\n",
      "-56\n",
      "-78\n",
      "1\n",
      "YES\n"
     ]
    }
   ],
   "source": [
    "# [-12,-34,-56,-78] does it has positive numbers? NO\n",
    "#[-34,12,56,-78,-90] does it has positive numbers? YES\n",
    "numbers = [-2,12,-12,-34,-56,-78]\n",
    "p_c=0\n",
    "for number in numbers:#n=-2\n",
    "    print(number)\n",
    "    if number>0:#-2>0: True\n",
    "        p_c=p_c+1#0+1:1\n",
    "print(p_c)\n",
    "if p_c==0:\n",
    "    print(\"NO\")\n",
    "else:\n",
    "    print(\"YES\")\n"
   ]
  },
  {
   "cell_type": "code",
   "execution_count": 8,
   "id": "c0c2fb36",
   "metadata": {},
   "outputs": [
    {
     "name": "stdout",
     "output_type": "stream",
     "text": [
      "-2\n",
      "HI\n",
      "12\n",
      "1\n",
      "YES\n"
     ]
    }
   ],
   "source": [
    "# [-12,-34,-56,-78] does it has positive numbers? NO\n",
    "#[-34,12,56,-78,-90] does it has positive numbers? YES\n",
    "numbers = [-2,12,-12,-34,-56,-78]\n",
    "p_c=0\n",
    "for number in numbers:#n=-2,12\n",
    "    print(number)\n",
    "    if number>0:#-2>0: False,12>0: True\n",
    "        p_c=p_c+1#0,0+1:1\n",
    "        break\n",
    "    print(\"HI\")\n",
    "print(p_c)\n",
    "if p_c==0:\n",
    "    print(\"NO\")\n",
    "else:\n",
    "    print(\"YES\")\n"
   ]
  },
  {
   "cell_type": "code",
   "execution_count": 9,
   "id": "4f00c1b1",
   "metadata": {},
   "outputs": [
    {
     "name": "stdout",
     "output_type": "stream",
     "text": [
      "YES\n"
     ]
    }
   ],
   "source": [
    "numbers = [-2,12,-12,-34,-56,-78]\n",
    "for number in numbers:\n",
    "    if number>0:\n",
    "        print(\"YES\")\n",
    "        break\n"
   ]
  },
  {
   "cell_type": "code",
   "execution_count": 10,
   "id": "6389ebee",
   "metadata": {},
   "outputs": [
    {
     "name": "stdout",
     "output_type": "stream",
     "text": [
      "DONE\n"
     ]
    }
   ],
   "source": [
    "numbers = [-2,-12,-12,-34,-56,-78]\n",
    "for number in numbers:\n",
    "    if number>0:\n",
    "        print(\"YES\")\n",
    "        break\n",
    "print(\"DONE\")"
   ]
  },
  {
   "cell_type": "code",
   "execution_count": 11,
   "id": "aef58eb3",
   "metadata": {},
   "outputs": [
    {
     "name": "stdout",
     "output_type": "stream",
     "text": [
      "NO\n",
      "NO\n",
      "NO\n",
      "NO\n",
      "NO\n",
      "NO\n",
      "DONE\n"
     ]
    }
   ],
   "source": [
    "numbers = [-2,-12,-12,-34,-56,-78]\n",
    "for number in numbers:\n",
    "    if number>0:\n",
    "        print(\"YES\")\n",
    "        break\n",
    "    else:\n",
    "        print(\"NO\")\n",
    "print(\"DONE\")"
   ]
  },
  {
   "cell_type": "code",
   "execution_count": 12,
   "id": "25cd8b7f",
   "metadata": {},
   "outputs": [
    {
     "name": "stdout",
     "output_type": "stream",
     "text": [
      "NO\n",
      "NO\n",
      "YES\n",
      "DONE\n"
     ]
    }
   ],
   "source": [
    "numbers = [-2,-12,13,-12,-34,-56,-78]\n",
    "for number in numbers:\n",
    "    if number>0:\n",
    "        print(\"YES\")\n",
    "        break\n",
    "    else:\n",
    "        print(\"NO\")\n",
    "print(\"DONE\")"
   ]
  },
  {
   "cell_type": "code",
   "execution_count": 13,
   "id": "8a8a4734",
   "metadata": {},
   "outputs": [
    {
     "name": "stdout",
     "output_type": "stream",
     "text": [
      "STARTED\n",
      "q\n",
      "w\n",
      "e\n",
      "r\n",
      "t\n",
      "this is for else block\n",
      "ENDED\n"
     ]
    }
   ],
   "source": [
    "print(\"STARTED\")\n",
    "for i in \"qwert\":\n",
    "    print(i)\n",
    "else:\n",
    "    print(\"this is for else block\")\n",
    "print(\"ENDED\")"
   ]
  },
  {
   "cell_type": "code",
   "execution_count": 14,
   "id": "17449330",
   "metadata": {},
   "outputs": [
    {
     "name": "stdout",
     "output_type": "stream",
     "text": [
      "STARTED\n",
      "q\n",
      "ENDED\n"
     ]
    }
   ],
   "source": [
    "print(\"STARTED\")\n",
    "for i in \"qwert\":\n",
    "    print(i)\n",
    "    break\n",
    "else:\n",
    "    print(\"this is for else block\")\n",
    "print(\"ENDED\")"
   ]
  },
  {
   "cell_type": "code",
   "execution_count": 15,
   "id": "3ce33482",
   "metadata": {},
   "outputs": [
    {
     "name": "stdout",
     "output_type": "stream",
     "text": [
      "STARTED\n",
      "q\n",
      "w\n",
      "e\n",
      "r\n",
      "t\n",
      "this is for else block\n",
      "ENDED\n"
     ]
    }
   ],
   "source": [
    "print(\"STARTED\")\n",
    "for i in \"qwert\":\n",
    "    print(i)\n",
    "    if i==\"p\":\n",
    "        break\n",
    "else:\n",
    "    print(\"this is for else block\")\n",
    "print(\"ENDED\")"
   ]
  },
  {
   "cell_type": "code",
   "execution_count": 16,
   "id": "fb11366b",
   "metadata": {},
   "outputs": [
    {
     "name": "stdout",
     "output_type": "stream",
     "text": [
      "STARTED\n",
      "q\n",
      "w\n",
      "e\n",
      "r\n",
      "t\n",
      "ENDED\n"
     ]
    }
   ],
   "source": [
    "print(\"STARTED\")\n",
    "for i in \"qwert\":\n",
    "    print(i)\n",
    "    if i==\"t\":\n",
    "        break\n",
    "else:\n",
    "    print(\"this is for else block\")\n",
    "print(\"ENDED\")"
   ]
  },
  {
   "cell_type": "code",
   "execution_count": 17,
   "id": "a541d65e",
   "metadata": {},
   "outputs": [
    {
     "name": "stdout",
     "output_type": "stream",
     "text": [
      "YES\n",
      "DONE\n"
     ]
    }
   ],
   "source": [
    "numbers = [-2,-12,13,-12,-34,-56,-78]\n",
    "for number in numbers:\n",
    "    if number>0:\n",
    "        print(\"YES\")\n",
    "        break\n",
    "else:\n",
    "    print(\"NO\")\n",
    "print(\"DONE\")"
   ]
  },
  {
   "cell_type": "code",
   "execution_count": null,
   "id": "4bfc4b51",
   "metadata": {},
   "outputs": [],
   "source": [
    "numbers = [-2,-12,13,-12,-34,-56,-78]\n",
    "for number in numbers:\n",
    "    if number>0:\n",
    "        print(\"YES\")\n",
    "        break\n",
    "else:\n",
    "    print(\"NO\")\n",
    "print(\"DONE\")"
   ]
  }
 ],
 "metadata": {
  "kernelspec": {
   "display_name": "Python 3 (ipykernel)",
   "language": "python",
   "name": "python3"
  },
  "language_info": {
   "codemirror_mode": {
    "name": "ipython",
    "version": 3
   },
   "file_extension": ".py",
   "mimetype": "text/x-python",
   "name": "python",
   "nbconvert_exporter": "python",
   "pygments_lexer": "ipython3",
   "version": "3.11.3"
  }
 },
 "nbformat": 4,
 "nbformat_minor": 5
}
