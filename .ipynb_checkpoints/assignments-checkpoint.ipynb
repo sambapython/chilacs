{
 "cells": [
  {
   "cell_type": "code",
   "execution_count": 1,
   "id": "cbbabf0b",
   "metadata": {},
   "outputs": [
    {
     "name": "stdout",
     "output_type": "stream",
     "text": [
      "87e654dc321ba\n"
     ]
    }
   ],
   "source": [
    "s=\"ab123cd456e78\"\n",
    "print(s[::-1])"
   ]
  },
  {
   "cell_type": "code",
   "execution_count": 2,
   "id": "48dd4e2d",
   "metadata": {},
   "outputs": [
    {
     "data": {
      "text/plain": [
       "'a'"
      ]
     },
     "execution_count": 2,
     "metadata": {},
     "output_type": "execute_result"
    }
   ],
   "source": [
    "s=\"ab123cd456efgh78\"\n",
    "#ba123dc456hgfe78\n",
    "s[0]"
   ]
  },
  {
   "cell_type": "code",
   "execution_count": 3,
   "id": "3962632c",
   "metadata": {},
   "outputs": [
    {
     "data": {
      "text/plain": [
       "97"
      ]
     },
     "execution_count": 3,
     "metadata": {},
     "output_type": "execute_result"
    }
   ],
   "source": [
    "ord(\"a\")"
   ]
  },
  {
   "cell_type": "code",
   "execution_count": 4,
   "id": "14adfc6d",
   "metadata": {},
   "outputs": [
    {
     "data": {
      "text/plain": [
       "122"
      ]
     },
     "execution_count": 4,
     "metadata": {},
     "output_type": "execute_result"
    }
   ],
   "source": [
    "ord(\"z\")"
   ]
  },
  {
   "cell_type": "code",
   "execution_count": 5,
   "id": "de3b3604",
   "metadata": {},
   "outputs": [
    {
     "data": {
      "text/plain": [
       "65"
      ]
     },
     "execution_count": 5,
     "metadata": {},
     "output_type": "execute_result"
    }
   ],
   "source": [
    "ord(\"A\")"
   ]
  },
  {
   "cell_type": "code",
   "execution_count": 6,
   "id": "f3f37db8",
   "metadata": {},
   "outputs": [
    {
     "data": {
      "text/plain": [
       "90"
      ]
     },
     "execution_count": 6,
     "metadata": {},
     "output_type": "execute_result"
    }
   ],
   "source": [
    "ord(\"Z\")"
   ]
  },
  {
   "cell_type": "code",
   "execution_count": 7,
   "id": "6179b8d1",
   "metadata": {},
   "outputs": [
    {
     "data": {
      "text/plain": [
       "range(1, 10)"
      ]
     },
     "execution_count": 7,
     "metadata": {},
     "output_type": "execute_result"
    }
   ],
   "source": [
    "range(1, 10)"
   ]
  },
  {
   "cell_type": "code",
   "execution_count": 8,
   "id": "22bc6c9e",
   "metadata": {},
   "outputs": [
    {
     "data": {
      "text/plain": [
       "[1, 2, 3, 4, 5, 6, 7, 8, 9]"
      ]
     },
     "execution_count": 8,
     "metadata": {},
     "output_type": "execute_result"
    }
   ],
   "source": [
    "list(range(1, 10))"
   ]
  },
  {
   "cell_type": "code",
   "execution_count": 9,
   "id": "a6df08a2",
   "metadata": {},
   "outputs": [
    {
     "ename": "TypeError",
     "evalue": "'str' object cannot be interpreted as an integer",
     "output_type": "error",
     "traceback": [
      "\u001b[1;31m---------------------------------------------------------------------------\u001b[0m",
      "\u001b[1;31mTypeError\u001b[0m                                 Traceback (most recent call last)",
      "Cell \u001b[1;32mIn[9], line 1\u001b[0m\n\u001b[1;32m----> 1\u001b[0m \u001b[38;5;28mrange\u001b[39m(\u001b[38;5;124m\"\u001b[39m\u001b[38;5;124ma\u001b[39m\u001b[38;5;124m\"\u001b[39m,\u001b[38;5;124m\"\u001b[39m\u001b[38;5;124mr\u001b[39m\u001b[38;5;124m\"\u001b[39m)\n",
      "\u001b[1;31mTypeError\u001b[0m: 'str' object cannot be interpreted as an integer"
     ]
    }
   ],
   "source": [
    "range(\"a\",\"r\")"
   ]
  },
  {
   "cell_type": "code",
   "execution_count": 10,
   "id": "b3df1f44",
   "metadata": {},
   "outputs": [
    {
     "ename": "TypeError",
     "evalue": "'float' object cannot be interpreted as an integer",
     "output_type": "error",
     "traceback": [
      "\u001b[1;31m---------------------------------------------------------------------------\u001b[0m",
      "\u001b[1;31mTypeError\u001b[0m                                 Traceback (most recent call last)",
      "Cell \u001b[1;32mIn[10], line 1\u001b[0m\n\u001b[1;32m----> 1\u001b[0m \u001b[38;5;28mrange\u001b[39m(\u001b[38;5;241m0\u001b[39m,\u001b[38;5;241m0.9\u001b[39m)\n",
      "\u001b[1;31mTypeError\u001b[0m: 'float' object cannot be interpreted as an integer"
     ]
    }
   ],
   "source": [
    "range(0,0.9)"
   ]
  },
  {
   "cell_type": "code",
   "execution_count": 12,
   "id": "d45cb806",
   "metadata": {},
   "outputs": [
    {
     "data": {
      "text/plain": [
       "[1, 3, 5, 7, 9]"
      ]
     },
     "execution_count": 12,
     "metadata": {},
     "output_type": "execute_result"
    }
   ],
   "source": [
    "list(range(1,10,2))"
   ]
  },
  {
   "cell_type": "code",
   "execution_count": 13,
   "id": "96682f51",
   "metadata": {},
   "outputs": [
    {
     "data": {
      "text/plain": [
       "[]"
      ]
     },
     "execution_count": 13,
     "metadata": {},
     "output_type": "execute_result"
    }
   ],
   "source": [
    "list(range(10,1,2))"
   ]
  },
  {
   "cell_type": "code",
   "execution_count": 14,
   "id": "3d22ccf5",
   "metadata": {},
   "outputs": [
    {
     "data": {
      "text/plain": [
       "[10, 8, 6, 4, 2]"
      ]
     },
     "execution_count": 14,
     "metadata": {},
     "output_type": "execute_result"
    }
   ],
   "source": [
    "list(range(10,1,-2))"
   ]
  },
  {
   "cell_type": "code",
   "execution_count": 15,
   "id": "4f570d27",
   "metadata": {},
   "outputs": [
    {
     "data": {
      "text/plain": [
       "True"
      ]
     },
     "execution_count": 15,
     "metadata": {},
     "output_type": "execute_result"
    }
   ],
   "source": [
    "1 in range(-2,3)"
   ]
  },
  {
   "cell_type": "code",
   "execution_count": 16,
   "id": "99b0638b",
   "metadata": {},
   "outputs": [
    {
     "data": {
      "text/plain": [
       "True"
      ]
     },
     "execution_count": 16,
     "metadata": {},
     "output_type": "execute_result"
    }
   ],
   "source": [
    "1 in [-2,-1,0,1,2,3]"
   ]
  },
  {
   "cell_type": "code",
   "execution_count": 17,
   "id": "4d0e9808",
   "metadata": {},
   "outputs": [
    {
     "data": {
      "text/plain": [
       "False"
      ]
     },
     "execution_count": 17,
     "metadata": {},
     "output_type": "execute_result"
    }
   ],
   "source": [
    "10 in range(1,10)"
   ]
  },
  {
   "cell_type": "code",
   "execution_count": 18,
   "id": "d3fe3720",
   "metadata": {},
   "outputs": [
    {
     "data": {
      "text/plain": [
       "False"
      ]
     },
     "execution_count": 18,
     "metadata": {},
     "output_type": "execute_result"
    }
   ],
   "source": [
    "s=\"ab123cd456e789\"\n",
    "s[0] in range(ord(\"0\"), ord(\"9\")+1)"
   ]
  },
  {
   "cell_type": "code",
   "execution_count": 21,
   "id": "fb9452ef",
   "metadata": {},
   "outputs": [
    {
     "data": {
      "text/plain": [
       "False"
      ]
     },
     "execution_count": 21,
     "metadata": {},
     "output_type": "execute_result"
    }
   ],
   "source": [
    "s=\"ab123cd456e789\"\n",
    "s[-2] in range(ord(\"0\"), ord(\"9\")+1)"
   ]
  },
  {
   "cell_type": "code",
   "execution_count": 22,
   "id": "d28a047a",
   "metadata": {},
   "outputs": [
    {
     "data": {
      "text/plain": [
       "'8'"
      ]
     },
     "execution_count": 22,
     "metadata": {},
     "output_type": "execute_result"
    }
   ],
   "source": [
    "s[-2]"
   ]
  },
  {
   "cell_type": "code",
   "execution_count": 23,
   "id": "8a25fb6b",
   "metadata": {},
   "outputs": [
    {
     "data": {
      "text/plain": [
       "56"
      ]
     },
     "execution_count": 23,
     "metadata": {},
     "output_type": "execute_result"
    }
   ],
   "source": [
    "ord(\"8\")"
   ]
  },
  {
   "cell_type": "code",
   "execution_count": 24,
   "id": "9f747e25",
   "metadata": {},
   "outputs": [
    {
     "data": {
      "text/plain": [
       "48"
      ]
     },
     "execution_count": 24,
     "metadata": {},
     "output_type": "execute_result"
    }
   ],
   "source": [
    "ord(\"0\")"
   ]
  },
  {
   "cell_type": "code",
   "execution_count": 25,
   "id": "58dadacf",
   "metadata": {},
   "outputs": [
    {
     "data": {
      "text/plain": [
       "57"
      ]
     },
     "execution_count": 25,
     "metadata": {},
     "output_type": "execute_result"
    }
   ],
   "source": [
    "ord(\"9\")"
   ]
  },
  {
   "cell_type": "code",
   "execution_count": 26,
   "id": "645a2d9c",
   "metadata": {},
   "outputs": [
    {
     "data": {
      "text/plain": [
       "True"
      ]
     },
     "execution_count": 26,
     "metadata": {},
     "output_type": "execute_result"
    }
   ],
   "source": [
    "s=\"ab123cd456e789\"\n",
    "ord(s[-2]) in range(ord(\"0\"), ord(\"9\")+1)"
   ]
  },
  {
   "cell_type": "code",
   "execution_count": 27,
   "id": "3a8696d3",
   "metadata": {},
   "outputs": [
    {
     "data": {
      "text/plain": [
       "False"
      ]
     },
     "execution_count": 27,
     "metadata": {},
     "output_type": "execute_result"
    }
   ],
   "source": [
    "s=\"ab123cd456e789\"\n",
    "ord(s[0]) in range(ord(\"0\"), ord(\"9\")+1)"
   ]
  },
  {
   "cell_type": "code",
   "execution_count": 28,
   "id": "3d9c5682",
   "metadata": {},
   "outputs": [
    {
     "name": "stdout",
     "output_type": "stream",
     "text": [
      "a\n",
      "b\n",
      "1\n",
      "2\n",
      "3\n",
      "c\n",
      "d\n",
      "4\n",
      "5\n",
      "6\n",
      "e\n",
      "7\n",
      "8\n"
     ]
    }
   ],
   "source": [
    "s=\"ab123cd456e78\"\n",
    "res=\"\"\n",
    "for i in s:\n",
    "    print(i)"
   ]
  },
  {
   "cell_type": "code",
   "execution_count": 29,
   "id": "e00b0118",
   "metadata": {},
   "outputs": [
    {
     "name": "stdout",
     "output_type": "stream",
     "text": [
      "31212345678\n"
     ]
    }
   ],
   "source": [
    "s=\"312ab123cd456e78\"\n",
    "res=\"\"\n",
    "for i in s:\n",
    "    if ord(i) in range(ord(\"0\"), ord(\"9\")+1):\n",
    "        res=res+i\n",
    "print(res)"
   ]
  },
  {
   "cell_type": "code",
   "execution_count": 33,
   "id": "4a4cc7fa",
   "metadata": {},
   "outputs": [
    {
     "name": "stdout",
     "output_type": "stream",
     "text": [
      "312ba123dc456e78\n"
     ]
    }
   ],
   "source": [
    "s=\"312ab123cd456e78\"\n",
    "res=\"\"\n",
    "sub = \"\"\n",
    "for i in s:\n",
    "    if ord(i) in range(ord(\"0\"), ord(\"9\")+1):\n",
    "        if sub:\n",
    "            res=res+sub[::-1]\n",
    "            sub=\"\"    \n",
    "        res=res+i\n",
    "    else:\n",
    "        sub=sub+i\n",
    "print(res)"
   ]
  },
  {
   "cell_type": "code",
   "execution_count": null,
   "id": "5a612765",
   "metadata": {},
   "outputs": [],
   "source": [
    "s=\"apple,orange,apple,grape,orange,apple,apple,orange\"\n",
    "# replace last n occurances\n",
    "#source apple\n",
    "#replaced: APPLE\n",
    "#occurances=2\n",
    "#\"apple,orange,apple,grape,orange,APPLE,APPLE,orange\"\n"
   ]
  },
  {
   "cell_type": "code",
   "execution_count": 2,
   "id": "111eb9d5",
   "metadata": {},
   "outputs": [
    {
     "name": "stdout",
     "output_type": "stream",
     "text": [
      "APPLE,orange,APPLE,grape,orange,APPLE,APPLE,\n"
     ]
    }
   ],
   "source": [
    "s=\"apple,orange,apple,grape,orange,apple,apple,orange\"\n",
    "source=\"apple\"\n",
    "destination=\"APPLE\"\n",
    "sub=\"\"\n",
    "res=\"\"\n",
    "for i in s:\n",
    "    if i==\",\":\n",
    "        if sub==source:\n",
    "            res=res+destination\n",
    "        else:\n",
    "            res=res+sub\n",
    "        res=res+i\n",
    "        sub=\"\"\n",
    "    else:\n",
    "        sub=sub+i\n",
    "print(res)    "
   ]
  },
  {
   "cell_type": "code",
   "execution_count": 3,
   "id": "3eaf3fa0",
   "metadata": {},
   "outputs": [
    {
     "name": "stdout",
     "output_type": "stream",
     "text": [
      "APPLE,orange,APPLE,grape,orange,APPLE,APPLE,orange\n"
     ]
    }
   ],
   "source": [
    "s=\"apple,orange,apple,grape,orange,apple,apple,orange\"\n",
    "source=\"apple\"\n",
    "destination=\"APPLE\"\n",
    "sub=\"\"\n",
    "res=\"\"\n",
    "for i in s:\n",
    "    if i==\",\":\n",
    "        if sub==source:\n",
    "            res=res+destination\n",
    "        else:\n",
    "            res=res+sub\n",
    "        res=res+i\n",
    "        sub=\"\"\n",
    "    else:\n",
    "        sub=sub+i\n",
    "res=res+sub\n",
    "print(res)    "
   ]
  },
  {
   "cell_type": "code",
   "execution_count": 4,
   "id": "20d5fc3d",
   "metadata": {},
   "outputs": [
    {
     "name": "stdout",
     "output_type": "stream",
     "text": [
      "APPLE,orange,APPLEapple\n"
     ]
    }
   ],
   "source": [
    "s=\"apple,orange,apple,grape,orange,apple,apple,orange\"\n",
    "source=\"apple\"\n",
    "destination=\"APPLE\"\n",
    "sub=\"\"\n",
    "res=\"\"\n",
    "n=2\n",
    "replaced_count=0\n",
    "for i in s:\n",
    "    if i==\",\":\n",
    "        if sub==source:\n",
    "            res=res+destination\n",
    "            replaced_count=replaced_count+1\n",
    "            if replaced_count==n:\n",
    "                break\n",
    "        else:\n",
    "            res=res+sub\n",
    "        res=res+i\n",
    "        sub=\"\"\n",
    "    else:\n",
    "        sub=sub+i\n",
    "res=res+sub\n",
    "print(res)    "
   ]
  },
  {
   "cell_type": "code",
   "execution_count": 6,
   "id": "67037639",
   "metadata": {},
   "outputs": [
    {
     "name": "stdout",
     "output_type": "stream",
     "text": [
      "APPLE,orange,APPLE,grape,orange,apple,apple,orange\n"
     ]
    }
   ],
   "source": [
    "s=\"apple,orange,apple,grape,orange,apple,apple,orange\"\n",
    "source=\"apple\"\n",
    "destination=\"APPLE\"\n",
    "sub=\"\"\n",
    "res=\"\"\n",
    "n=2\n",
    "replaced_count=0\n",
    "index=0\n",
    "for i in s:\n",
    "    if i==\",\":\n",
    "        if sub==source:\n",
    "            res=res+destination\n",
    "            replaced_count=replaced_count+1\n",
    "            if replaced_count==n:\n",
    "                res=res+s[index:]\n",
    "                break\n",
    "        else:\n",
    "            res=res+sub\n",
    "        res=res+i\n",
    "        sub=\"\"\n",
    "    else:\n",
    "        sub=sub+i\n",
    "    index=index+1\n",
    "else:\n",
    "    res=res+sub\n",
    "print(res)    "
   ]
  },
  {
   "cell_type": "code",
   "execution_count": null,
   "id": "1ce26507",
   "metadata": {},
   "outputs": [],
   "source": []
  }
 ],
 "metadata": {
  "kernelspec": {
   "display_name": "Python 3 (ipykernel)",
   "language": "python",
   "name": "python3"
  },
  "language_info": {
   "codemirror_mode": {
    "name": "ipython",
    "version": 3
   },
   "file_extension": ".py",
   "mimetype": "text/x-python",
   "name": "python",
   "nbconvert_exporter": "python",
   "pygments_lexer": "ipython3",
   "version": "3.11.3"
  }
 },
 "nbformat": 4,
 "nbformat_minor": 5
}
