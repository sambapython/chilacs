{
 "cells": [
  {
   "cell_type": "code",
   "execution_count": 1,
   "id": "65e4facb",
   "metadata": {},
   "outputs": [
    {
     "name": "stdout",
     "output_type": "stream",
     "text": [
      "STARTED\n",
      "ENDED\n"
     ]
    }
   ],
   "source": [
    "print(\"STARTED\")\n",
    "def add():\n",
    "    print(\"ADD two numbers\")\n",
    "    a=10\n",
    "    b=20\n",
    "    res=a+b\n",
    "    print(res)\n",
    "print(\"ENDED\")"
   ]
  },
  {
   "cell_type": "code",
   "execution_count": 2,
   "id": "77e995ab",
   "metadata": {},
   "outputs": [
    {
     "name": "stdout",
     "output_type": "stream",
     "text": [
      "STARTED\n",
      "ENDED\n",
      "ADD two numbers\n",
      "30\n"
     ]
    }
   ],
   "source": [
    "print(\"STARTED\")\n",
    "#function definition\n",
    "def add():# function signature\n",
    "    # function body\n",
    "    print(\"ADD two numbers\")\n",
    "    a=10\n",
    "    b=20\n",
    "    res=a+b\n",
    "    print(res)\n",
    "print(\"ENDED\")\n",
    "add()# function call.."
   ]
  },
  {
   "cell_type": "code",
   "execution_count": 3,
   "id": "ba8bc974",
   "metadata": {},
   "outputs": [
    {
     "name": "stdout",
     "output_type": "stream",
     "text": [
      "STARTED\n",
      "ENDED\n",
      "ADD two numbers\n",
      "30\n",
      "HELLO\n",
      "ADD two numbers\n",
      "30\n"
     ]
    }
   ],
   "source": [
    "print(\"STARTED\")\n",
    "#function definition\n",
    "def add():# function signature\n",
    "    # function body\n",
    "    print(\"ADD two numbers\")\n",
    "    a=10\n",
    "    b=20\n",
    "    res=a+b\n",
    "    print(res)\n",
    "print(\"ENDED\")\n",
    "add()# function call..\n",
    "print(\"HELLO\")\n",
    "add()"
   ]
  },
  {
   "cell_type": "code",
   "execution_count": 4,
   "id": "ba3bb553",
   "metadata": {},
   "outputs": [
    {
     "name": "stdout",
     "output_type": "stream",
     "text": [
      "x=10, y=20\n",
      "30\n"
     ]
    }
   ],
   "source": [
    "def add(x,y): # x,y parameters\n",
    "    print(f\"x={x}, y={y}\")\n",
    "    res=x+y\n",
    "    print(res)\n",
    "add(10,20)#10,20 arguments"
   ]
  },
  {
   "cell_type": "code",
   "execution_count": 5,
   "id": "41da6070",
   "metadata": {},
   "outputs": [
    {
     "name": "stdout",
     "output_type": "stream",
     "text": [
      "x=10, y=20\n",
      "30\n",
      "x=1, y=2\n",
      "3\n",
      "x=100, y=200\n",
      "300\n",
      "x=100, y=2000\n",
      "2100\n"
     ]
    }
   ],
   "source": [
    "def add(x,y): # x,y parameters\n",
    "    print(f\"x={x}, y={y}\")\n",
    "    res=x+y\n",
    "    print(res)\n",
    "add(10,20)#10,20 arguments\n",
    "add(1,2)\n",
    "add(100,200)\n",
    "add(100,2000)"
   ]
  },
  {
   "cell_type": "code",
   "execution_count": 6,
   "id": "85bcd071",
   "metadata": {},
   "outputs": [
    {
     "ename": "TypeError",
     "evalue": "add() missing 1 required positional argument: 'y'",
     "output_type": "error",
     "traceback": [
      "\u001b[1;31m---------------------------------------------------------------------------\u001b[0m",
      "\u001b[1;31mTypeError\u001b[0m                                 Traceback (most recent call last)",
      "Cell \u001b[1;32mIn[6], line 5\u001b[0m\n\u001b[0;32m      3\u001b[0m     res\u001b[38;5;241m=\u001b[39mx\u001b[38;5;241m+\u001b[39my\n\u001b[0;32m      4\u001b[0m     \u001b[38;5;28mprint\u001b[39m(res)\n\u001b[1;32m----> 5\u001b[0m add(\u001b[38;5;241m10\u001b[39m)\n",
      "\u001b[1;31mTypeError\u001b[0m: add() missing 1 required positional argument: 'y'"
     ]
    }
   ],
   "source": [
    "def add(x,y):# x,y are mandatory parameters\n",
    "    print(f\"x={x}, y={y}\")\n",
    "    res=x+y\n",
    "    print(res)\n",
    "add(10)"
   ]
  },
  {
   "cell_type": "code",
   "execution_count": 7,
   "id": "77dc74c7",
   "metadata": {},
   "outputs": [
    {
     "name": "stdout",
     "output_type": "stream",
     "text": [
      "x=10, y=0\n",
      "10\n"
     ]
    }
   ],
   "source": [
    "def add(x,y=0):# x is mandatory parameter, y optional parameter\n",
    "    print(f\"x={x}, y={y}\")\n",
    "    res=x+y\n",
    "    print(res)\n",
    "add(10)"
   ]
  },
  {
   "cell_type": "code",
   "execution_count": 8,
   "id": "86aef175",
   "metadata": {},
   "outputs": [
    {
     "name": "stdout",
     "output_type": "stream",
     "text": [
      "x=10, y=20\n",
      "30\n"
     ]
    }
   ],
   "source": [
    "def add(x,y=0):# x is mandatory parameter, y optional parameter\n",
    "    print(f\"x={x}, y={y}\")\n",
    "    res=x+y\n",
    "    print(res)\n",
    "add(10, 20)"
   ]
  },
  {
   "cell_type": "code",
   "execution_count": 9,
   "id": "df5641f8",
   "metadata": {},
   "outputs": [
    {
     "name": "stdout",
     "output_type": "stream",
     "text": [
      "x=10, y=20\n",
      "30\n"
     ]
    }
   ],
   "source": [
    "def add(x,y=0):# x is mandatory parameter, y optional parameter\n",
    "    print(f\"x={x}, y={y}\")\n",
    "    res=x+y\n",
    "    print(res)\n",
    "add(10, 20)# positional arguments"
   ]
  },
  {
   "cell_type": "code",
   "execution_count": 10,
   "id": "04ac978b",
   "metadata": {},
   "outputs": [
    {
     "name": "stdout",
     "output_type": "stream",
     "text": [
      "x=20, y=10\n",
      "30\n"
     ]
    }
   ],
   "source": [
    "def add(x,y=0):# x is mandatory parameter, y optional parameter\n",
    "    print(f\"x={x}, y={y}\")\n",
    "    res=x+y\n",
    "    print(res)\n",
    "add(y=10, x=20)# keyword arguments"
   ]
  },
  {
   "cell_type": "code",
   "execution_count": 11,
   "id": "cb739368",
   "metadata": {},
   "outputs": [
    {
     "name": "stdout",
     "output_type": "stream",
     "text": [
      "x=10, y=()\n",
      "x=10, y=(20,)\n",
      "x=10, y=(20, 30)\n",
      "x=10, y=(20, 30, 40)\n",
      "x=10, y=(20, 30, 40, 50)\n",
      "x=1, y=(2, 3, 4, 5, 6, 7, 8, 1, 2, 3, 4, 5, 6, 7, 8)\n"
     ]
    }
   ],
   "source": [
    "def add(x, *y):\n",
    "    print(f\"x={x}, y={y}\")\n",
    "add(10)\n",
    "add(10,20)\n",
    "add(10,20,30)\n",
    "add(10,20,30,40)\n",
    "add(10,20,30,40,50)\n",
    "add(1,2,3,4,5,6,7,8,1,2,3,4,5,6,7,8)"
   ]
  },
  {
   "cell_type": "code",
   "execution_count": 12,
   "id": "5dafee32",
   "metadata": {},
   "outputs": [
    {
     "name": "stdout",
     "output_type": "stream",
     "text": [
      "x=10, y=()\n",
      "10\n",
      "x=10, y=(20,)\n",
      "30\n",
      "x=10, y=(20, 30)\n",
      "60\n",
      "x=10, y=(20, 30, 40)\n",
      "100\n",
      "x=10, y=(20, 30, 40, 50)\n",
      "150\n",
      "x=1, y=(2, 3, 4, 5, 6, 7, 8, 1, 2, 3, 4, 5, 6, 7, 8)\n",
      "72\n"
     ]
    }
   ],
   "source": [
    "def add(x, *y):\n",
    "    print(f\"x={x}, y={y}\")\n",
    "    print(x+sum(y))\n",
    "add(10)\n",
    "add(10,20)\n",
    "add(10,20,30)\n",
    "add(10,20,30,40)\n",
    "add(10,20,30,40,50)\n",
    "add(1,2,3,4,5,6,7,8,1,2,3,4,5,6,7,8)"
   ]
  },
  {
   "cell_type": "code",
   "execution_count": 13,
   "id": "1003484b",
   "metadata": {},
   "outputs": [
    {
     "ename": "TypeError",
     "evalue": "add() got an unexpected keyword argument 'z'",
     "output_type": "error",
     "traceback": [
      "\u001b[1;31m---------------------------------------------------------------------------\u001b[0m",
      "\u001b[1;31mTypeError\u001b[0m                                 Traceback (most recent call last)",
      "Cell \u001b[1;32mIn[13], line 4\u001b[0m\n\u001b[0;32m      2\u001b[0m     \u001b[38;5;28mprint\u001b[39m(\u001b[38;5;124mf\u001b[39m\u001b[38;5;124m\"\u001b[39m\u001b[38;5;124mx=\u001b[39m\u001b[38;5;132;01m{\u001b[39;00mx\u001b[38;5;132;01m}\u001b[39;00m\u001b[38;5;124m, y=\u001b[39m\u001b[38;5;132;01m{\u001b[39;00my\u001b[38;5;132;01m}\u001b[39;00m\u001b[38;5;124m\"\u001b[39m)\n\u001b[0;32m      3\u001b[0m     \u001b[38;5;28mprint\u001b[39m(x\u001b[38;5;241m+\u001b[39m\u001b[38;5;28msum\u001b[39m(y))\n\u001b[1;32m----> 4\u001b[0m add(x\u001b[38;5;241m=\u001b[39m\u001b[38;5;241m10\u001b[39m,z\u001b[38;5;241m=\u001b[39m\u001b[38;5;241m20\u001b[39m,p\u001b[38;5;241m=\u001b[39m\u001b[38;5;241m30\u001b[39m)\n",
      "\u001b[1;31mTypeError\u001b[0m: add() got an unexpected keyword argument 'z'"
     ]
    }
   ],
   "source": [
    "def add(x, *y):\n",
    "    print(f\"x={x}, y={y}\")\n",
    "    print(x+sum(y))\n",
    "add(x=10,z=20,p=30)#keyword arguments"
   ]
  },
  {
   "cell_type": "code",
   "execution_count": 15,
   "id": "06d260d9",
   "metadata": {},
   "outputs": [
    {
     "name": "stdout",
     "output_type": "stream",
     "text": [
      "x=10, y={'z': 20, 'p': 30}\n"
     ]
    }
   ],
   "source": [
    "def add(x, **y):\n",
    "    print(f\"x={x}, y={y}\")\n",
    "add(x=10,z=20,p=30)#keyword arguments"
   ]
  },
  {
   "cell_type": "code",
   "execution_count": 1,
   "id": "e6506b7e",
   "metadata": {},
   "outputs": [
    {
     "name": "stdout",
     "output_type": "stream",
     "text": [
      "before function definition a=1000,b=2000,x=3000,y=4000,z=5000\n",
      "after function definintion a=1000,b=2000,x=3000,y=4000,z=5000\n",
      "with in function a=7000,b=2000,x=1000,y=2000,z=6000\n",
      "after function call a=1000,b=2000,x=3000,y=4000,z=6000\n"
     ]
    }
   ],
   "source": [
    "a=1000\n",
    "b=2000\n",
    "x=3000\n",
    "y=4000\n",
    "z=5000\n",
    "print(f\"before function definition a={a},b={b},x={x},y={y},z={z}\")\n",
    "def fun(x,y):\n",
    "    global z\n",
    "    z=6000\n",
    "    a=7000\n",
    "    print(f\"with in function a={a},b={b},x={x},y={y},z={z}\")\n",
    "    res=x+y\n",
    "    return res\n",
    "print(f\"after function definintion a={a},b={b},x={x},y={y},z={z}\")\n",
    "fun(a,b)\n",
    "print(f\"after function call a={a},b={b},x={x},y={y},z={z}\")\n"
   ]
  },
  {
   "cell_type": "code",
   "execution_count": 2,
   "id": "f7f84da2",
   "metadata": {},
   "outputs": [
    {
     "name": "stdout",
     "output_type": "stream",
     "text": [
      "1000\n"
     ]
    }
   ],
   "source": [
    "a=1000\n",
    "def fun():\n",
    "    a=5\n",
    "fun()\n",
    "print(a)"
   ]
  },
  {
   "cell_type": "code",
   "execution_count": 3,
   "id": "0efa2158",
   "metadata": {},
   "outputs": [
    {
     "name": "stdout",
     "output_type": "stream",
     "text": [
      "[1000, 23, 3000]\n"
     ]
    }
   ],
   "source": [
    "l=[1000,2000,3000]\n",
    "l[1]=23\n",
    "print(l)"
   ]
  },
  {
   "cell_type": "code",
   "execution_count": null,
   "id": "414645b3",
   "metadata": {},
   "outputs": [],
   "source": [
    "m=[1000,2000,3000]\n",
    "def fun(k):\n",
    "    k[1]=23\n",
    "fun(m)\n",
    "print(\"m=\",m)"
   ]
  },
  {
   "cell_type": "code",
   "execution_count": null,
   "id": "f6864ab2",
   "metadata": {},
   "outputs": [],
   "source": []
  }
 ],
 "metadata": {
  "kernelspec": {
   "display_name": "Python 3 (ipykernel)",
   "language": "python",
   "name": "python3"
  },
  "language_info": {
   "codemirror_mode": {
    "name": "ipython",
    "version": 3
   },
   "file_extension": ".py",
   "mimetype": "text/x-python",
   "name": "python",
   "nbconvert_exporter": "python",
   "pygments_lexer": "ipython3",
   "version": "3.11.3"
  }
 },
 "nbformat": 4,
 "nbformat_minor": 5
}
