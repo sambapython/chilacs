{
 "cells": [
  {
   "cell_type": "code",
   "execution_count": 1,
   "id": "56373b1b",
   "metadata": {},
   "outputs": [
    {
     "ename": "SyntaxError",
     "evalue": "unterminated string literal (detected at line 2) (2388862801.py, line 2)",
     "output_type": "error",
     "traceback": [
      "\u001b[1;36m  Cell \u001b[1;32mIn[1], line 2\u001b[1;36m\u001b[0m\n\u001b[1;33m    print(\"Hi')\u001b[0m\n\u001b[1;37m          ^\u001b[0m\n\u001b[1;31mSyntaxError\u001b[0m\u001b[1;31m:\u001b[0m unterminated string literal (detected at line 2)\n"
     ]
    }
   ],
   "source": [
    "print(\"HELLO\")\n",
    "print(\"Hi')\n",
    "print('HYDERABAD')"
   ]
  },
  {
   "cell_type": "code",
   "execution_count": 2,
   "id": "a7584ae7",
   "metadata": {},
   "outputs": [
    {
     "name": "stdout",
     "output_type": "stream",
     "text": [
      "HELLO\n"
     ]
    },
    {
     "ename": "ValueError",
     "evalue": "invalid literal for int() with base 10: 'abc'",
     "output_type": "error",
     "traceback": [
      "\u001b[1;31m---------------------------------------------------------------------------\u001b[0m",
      "\u001b[1;31mValueError\u001b[0m                                Traceback (most recent call last)",
      "Cell \u001b[1;32mIn[2], line 2\u001b[0m\n\u001b[0;32m      1\u001b[0m \u001b[38;5;28mprint\u001b[39m(\u001b[38;5;124m\"\u001b[39m\u001b[38;5;124mHELLO\u001b[39m\u001b[38;5;124m\"\u001b[39m)\n\u001b[1;32m----> 2\u001b[0m \u001b[38;5;28mprint\u001b[39m(\u001b[38;5;28mint\u001b[39m(\u001b[38;5;124m\"\u001b[39m\u001b[38;5;124mabc\u001b[39m\u001b[38;5;124m\"\u001b[39m))\n\u001b[0;32m      3\u001b[0m \u001b[38;5;28mprint\u001b[39m(\u001b[38;5;124m'\u001b[39m\u001b[38;5;124mHYDERABAD\u001b[39m\u001b[38;5;124m'\u001b[39m)\n",
      "\u001b[1;31mValueError\u001b[0m: invalid literal for int() with base 10: 'abc'"
     ]
    }
   ],
   "source": [
    "print(\"HELLO\")\n",
    "print(int(\"abc\"))\n",
    "print('HYDERABAD')"
   ]
  },
  {
   "cell_type": "code",
   "execution_count": 3,
   "id": "623a9325",
   "metadata": {},
   "outputs": [
    {
     "name": "stdout",
     "output_type": "stream",
     "text": [
      "Enter a value:10\n",
      "Enter a value:20\n",
      "1020\n"
     ]
    }
   ],
   "source": [
    "a=input(\"Enter a value:\")\n",
    "b=input(\"Enter a value:\")\n",
    "print(a+b)"
   ]
  },
  {
   "cell_type": "code",
   "execution_count": 5,
   "id": "3bc1f2d8",
   "metadata": {},
   "outputs": [
    {
     "name": "stdout",
     "output_type": "stream",
     "text": [
      "Enter a value:12\n",
      "Enter a value:34\n",
      "Given a=12,b=34\n",
      "converting the values to int\n",
      "vallues after conversion a=12,b=34\n",
      "calculating the result..\n",
      "result= 46\n",
      "DONE\n"
     ]
    }
   ],
   "source": [
    "a=input(\"Enter a value:\")\n",
    "b=input(\"Enter a value:\")\n",
    "print(f\"Given a={a},b={b}\")\n",
    "print(\"converting the values to int\")\n",
    "a=int(a)\n",
    "b=int(b)\n",
    "print(f\"vallues after conversion a={a},b={b}\")\n",
    "print(\"calculating the result..\")\n",
    "res=a+b\n",
    "print(\"result=\",res)\n",
    "print(\"DONE\")"
   ]
  },
  {
   "cell_type": "code",
   "execution_count": 6,
   "id": "2b69e44d",
   "metadata": {},
   "outputs": [
    {
     "name": "stdout",
     "output_type": "stream",
     "text": [
      "Enter a value:12.34\n",
      "Enter a value:56.78\n",
      "Given a=12.34,b=56.78\n",
      "converting the values to int\n"
     ]
    },
    {
     "ename": "ValueError",
     "evalue": "invalid literal for int() with base 10: '12.34'",
     "output_type": "error",
     "traceback": [
      "\u001b[1;31m---------------------------------------------------------------------------\u001b[0m",
      "\u001b[1;31mValueError\u001b[0m                                Traceback (most recent call last)",
      "Cell \u001b[1;32mIn[6], line 5\u001b[0m\n\u001b[0;32m      3\u001b[0m \u001b[38;5;28mprint\u001b[39m(\u001b[38;5;124mf\u001b[39m\u001b[38;5;124m\"\u001b[39m\u001b[38;5;124mGiven a=\u001b[39m\u001b[38;5;132;01m{\u001b[39;00ma\u001b[38;5;132;01m}\u001b[39;00m\u001b[38;5;124m,b=\u001b[39m\u001b[38;5;132;01m{\u001b[39;00mb\u001b[38;5;132;01m}\u001b[39;00m\u001b[38;5;124m\"\u001b[39m)\n\u001b[0;32m      4\u001b[0m \u001b[38;5;28mprint\u001b[39m(\u001b[38;5;124m\"\u001b[39m\u001b[38;5;124mconverting the values to int\u001b[39m\u001b[38;5;124m\"\u001b[39m)\n\u001b[1;32m----> 5\u001b[0m a\u001b[38;5;241m=\u001b[39m\u001b[38;5;28mint\u001b[39m(a)\n\u001b[0;32m      6\u001b[0m b\u001b[38;5;241m=\u001b[39m\u001b[38;5;28mint\u001b[39m(b)\n\u001b[0;32m      7\u001b[0m \u001b[38;5;28mprint\u001b[39m(\u001b[38;5;124mf\u001b[39m\u001b[38;5;124m\"\u001b[39m\u001b[38;5;124mvallues after conversion a=\u001b[39m\u001b[38;5;132;01m{\u001b[39;00ma\u001b[38;5;132;01m}\u001b[39;00m\u001b[38;5;124m,b=\u001b[39m\u001b[38;5;132;01m{\u001b[39;00mb\u001b[38;5;132;01m}\u001b[39;00m\u001b[38;5;124m\"\u001b[39m)\n",
      "\u001b[1;31mValueError\u001b[0m: invalid literal for int() with base 10: '12.34'"
     ]
    }
   ],
   "source": [
    "a=input(\"Enter a value:\")\n",
    "b=input(\"Enter a value:\")\n",
    "print(f\"Given a={a},b={b}\")\n",
    "print(\"converting the values to int\")\n",
    "a=int(a)\n",
    "b=int(b)\n",
    "print(f\"vallues after conversion a={a},b={b}\")\n",
    "print(\"calculating the result..\")\n",
    "res=a+b\n",
    "print(\"result=\",res)\n",
    "print(\"DONE\")"
   ]
  },
  {
   "cell_type": "code",
   "execution_count": 7,
   "id": "26f85268",
   "metadata": {},
   "outputs": [
    {
     "name": "stdout",
     "output_type": "stream",
     "text": [
      "Enter a value:12\n",
      "Enter a value:34\n",
      "Given a=12,b=34\n",
      "converting the values to int\n",
      "vallues after conversion a=12.0,b=34.0\n",
      "calculating the result..\n",
      "result= 46.0\n",
      "DONE\n"
     ]
    }
   ],
   "source": [
    "a=input(\"Enter a value:\")\n",
    "b=input(\"Enter a value:\")\n",
    "print(f\"Given a={a},b={b}\")\n",
    "print(\"converting the values to int\")\n",
    "a=float(a)\n",
    "b=float(b)\n",
    "print(f\"vallues after conversion a={a},b={b}\")\n",
    "print(\"calculating the result..\")\n",
    "res=a+b\n",
    "print(\"result=\",res)\n",
    "print(\"DONE\")"
   ]
  },
  {
   "cell_type": "code",
   "execution_count": 8,
   "id": "16bfc1d6",
   "metadata": {},
   "outputs": [
    {
     "name": "stdout",
     "output_type": "stream",
     "text": [
      "Enter a value:12.34\n",
      "Enter a value:56.78\n",
      "Given a=12.34,b=56.78\n",
      "converting the values to int\n",
      "vallues after conversion a=12.34,b=56.78\n",
      "calculating the result..\n",
      "result= 69.12\n",
      "DONE\n"
     ]
    }
   ],
   "source": [
    "a=input(\"Enter a value:\")\n",
    "b=input(\"Enter a value:\")\n",
    "print(f\"Given a={a},b={b}\")\n",
    "print(\"converting the values to int\")\n",
    "a=float(a)\n",
    "b=float(b)\n",
    "print(f\"vallues after conversion a={a},b={b}\")\n",
    "print(\"calculating the result..\")\n",
    "res=a+b\n",
    "print(\"result=\",res)\n",
    "print(\"DONE\")"
   ]
  },
  {
   "cell_type": "code",
   "execution_count": 9,
   "id": "a8265deb",
   "metadata": {},
   "outputs": [
    {
     "name": "stdout",
     "output_type": "stream",
     "text": [
      "Enter a value:\n",
      "Enter a value:\n",
      "Given a=,b=\n",
      "converting the values to int\n"
     ]
    },
    {
     "ename": "ValueError",
     "evalue": "could not convert string to float: ''",
     "output_type": "error",
     "traceback": [
      "\u001b[1;31m---------------------------------------------------------------------------\u001b[0m",
      "\u001b[1;31mValueError\u001b[0m                                Traceback (most recent call last)",
      "Cell \u001b[1;32mIn[9], line 5\u001b[0m\n\u001b[0;32m      3\u001b[0m \u001b[38;5;28mprint\u001b[39m(\u001b[38;5;124mf\u001b[39m\u001b[38;5;124m\"\u001b[39m\u001b[38;5;124mGiven a=\u001b[39m\u001b[38;5;132;01m{\u001b[39;00ma\u001b[38;5;132;01m}\u001b[39;00m\u001b[38;5;124m,b=\u001b[39m\u001b[38;5;132;01m{\u001b[39;00mb\u001b[38;5;132;01m}\u001b[39;00m\u001b[38;5;124m\"\u001b[39m)\n\u001b[0;32m      4\u001b[0m \u001b[38;5;28mprint\u001b[39m(\u001b[38;5;124m\"\u001b[39m\u001b[38;5;124mconverting the values to int\u001b[39m\u001b[38;5;124m\"\u001b[39m)\n\u001b[1;32m----> 5\u001b[0m a\u001b[38;5;241m=\u001b[39m\u001b[38;5;28mfloat\u001b[39m(a)\n\u001b[0;32m      6\u001b[0m b\u001b[38;5;241m=\u001b[39m\u001b[38;5;28mfloat\u001b[39m(b)\n\u001b[0;32m      7\u001b[0m \u001b[38;5;28mprint\u001b[39m(\u001b[38;5;124mf\u001b[39m\u001b[38;5;124m\"\u001b[39m\u001b[38;5;124mvallues after conversion a=\u001b[39m\u001b[38;5;132;01m{\u001b[39;00ma\u001b[38;5;132;01m}\u001b[39;00m\u001b[38;5;124m,b=\u001b[39m\u001b[38;5;132;01m{\u001b[39;00mb\u001b[38;5;132;01m}\u001b[39;00m\u001b[38;5;124m\"\u001b[39m)\n",
      "\u001b[1;31mValueError\u001b[0m: could not convert string to float: ''"
     ]
    }
   ],
   "source": [
    "a=input(\"Enter a value:\")\n",
    "b=input(\"Enter a value:\")\n",
    "print(f\"Given a={a},b={b}\")\n",
    "print(\"converting the values to int\")\n",
    "a=float(a)\n",
    "b=float(b)\n",
    "print(f\"vallues after conversion a={a},b={b}\")\n",
    "print(\"calculating the result..\")\n",
    "res=a+b\n",
    "print(\"result=\",res)\n",
    "print(\"DONE\")"
   ]
  },
  {
   "cell_type": "code",
   "execution_count": 10,
   "id": "ea9b5b7a",
   "metadata": {},
   "outputs": [
    {
     "name": "stdout",
     "output_type": "stream",
     "text": [
      "Enter a value:12\n",
      "Enter a value:34\n",
      "Given a=12,b=34\n",
      "converting the values to int\n",
      "vallues after conversion a=12.0,b=34.0\n",
      "calculating the result..\n",
      "result= 46.0\n",
      "DONE\n"
     ]
    }
   ],
   "source": [
    "try:\n",
    "    a=input(\"Enter a value:\")\n",
    "    b=input(\"Enter a value:\")\n",
    "    print(f\"Given a={a},b={b}\")\n",
    "    print(\"converting the values to int\")\n",
    "    a=float(a)\n",
    "    b=float(b)\n",
    "    print(f\"vallues after conversion a={a},b={b}\")\n",
    "    print(\"calculating the result..\")\n",
    "    res=a+b\n",
    "    print(\"result=\",res)\n",
    "    print(\"DONE\")\n",
    "except:\n",
    "    print(\"ERROR\")"
   ]
  },
  {
   "cell_type": "code",
   "execution_count": 11,
   "id": "b41bed10",
   "metadata": {},
   "outputs": [
    {
     "name": "stdout",
     "output_type": "stream",
     "text": [
      "Enter a value:12\n",
      "Enter a value:\n",
      "Given a=12,b=\n",
      "converting the values to int\n",
      "ERROR\n"
     ]
    }
   ],
   "source": [
    "try:\n",
    "    a=input(\"Enter a value:\")\n",
    "    b=input(\"Enter a value:\")\n",
    "    print(f\"Given a={a},b={b}\")\n",
    "    print(\"converting the values to int\")\n",
    "    a=float(a)\n",
    "    b=float(b)\n",
    "    print(f\"vallues after conversion a={a},b={b}\")\n",
    "    print(\"calculating the result..\")\n",
    "    res=a+b\n",
    "    print(\"result=\",res)\n",
    "    print(\"DONE\")\n",
    "except:\n",
    "    print(\"ERROR\")"
   ]
  },
  {
   "cell_type": "code",
   "execution_count": 12,
   "id": "e055d037",
   "metadata": {},
   "outputs": [
    {
     "name": "stdout",
     "output_type": "stream",
     "text": [
      "Enter a value:12\n",
      "Enter a value:34\n",
      "Given a=12,b=34\n",
      "converting the values to int\n",
      "vallues after conversion a=12.0,b=34.0\n",
      "calculating the result..\n",
      "result= 46.0\n",
      "DONE\n",
      "Continuing after except block.....\n"
     ]
    }
   ],
   "source": [
    "try:\n",
    "    a=input(\"Enter a value:\")\n",
    "    b=input(\"Enter a value:\")\n",
    "    print(f\"Given a={a},b={b}\")\n",
    "    print(\"converting the values to int\")\n",
    "    a=float(a)\n",
    "    b=float(b)\n",
    "    print(f\"vallues after conversion a={a},b={b}\")\n",
    "    print(\"calculating the result..\")\n",
    "    res=a+b\n",
    "    print(\"result=\",res)\n",
    "    print(\"DONE\")\n",
    "except:\n",
    "    print(\"ERROR\")\n",
    "print(\"Continuing after except block.....\")"
   ]
  },
  {
   "cell_type": "code",
   "execution_count": 13,
   "id": "4015980f",
   "metadata": {},
   "outputs": [
    {
     "name": "stdout",
     "output_type": "stream",
     "text": [
      "Enter a value:12\n",
      "Enter a value:\n",
      "Given a=12,b=\n",
      "converting the values to int\n",
      "ERROR\n",
      "Continuing after except block.....\n"
     ]
    }
   ],
   "source": [
    "try:\n",
    "    a=input(\"Enter a value:\")\n",
    "    b=input(\"Enter a value:\")\n",
    "    print(f\"Given a={a},b={b}\")\n",
    "    print(\"converting the values to int\")\n",
    "    a=float(a)\n",
    "    b=float(b)\n",
    "    print(f\"vallues after conversion a={a},b={b}\")\n",
    "    print(\"calculating the result..\")\n",
    "    res=a+b\n",
    "    print(\"result=\",res)\n",
    "    print(\"DONE\")\n",
    "except:\n",
    "    print(\"ERROR\")\n",
    "print(\"Continuing after except block.....\")"
   ]
  },
  {
   "cell_type": "code",
   "execution_count": 14,
   "id": "acd73b87",
   "metadata": {},
   "outputs": [
    {
     "name": "stdout",
     "output_type": "stream",
     "text": [
      "Enter a value:12\n",
      "Enter a value:34\n",
      "Given a=12,b=34\n",
      "converting the values to int\n",
      "vallues after conversion a=12.0,b=34.0\n",
      "calculating the result..\n",
      "result= 46.0\n",
      "DONE\n",
      "Continuing after except block.....\n"
     ]
    }
   ],
   "source": [
    "try:\n",
    "    a=input(\"Enter a value:\")\n",
    "    b=input(\"Enter a value:\")\n",
    "    print(f\"Given a={a},b={b}\")\n",
    "    print(\"converting the values to int\")\n",
    "    a=float(a)\n",
    "    b=float(b)\n",
    "    print(f\"vallues after conversion a={a},b={b}\")\n",
    "    print(\"calculating the result..\")\n",
    "    res=a+b\n",
    "    print(\"result=\",res)\n",
    "    print(\"DONE\")\n",
    "except Exception as err:\n",
    "    print(\"ERROR\")\n",
    "    print(err)\n",
    "print(\"Continuing after except block.....\")"
   ]
  },
  {
   "cell_type": "code",
   "execution_count": 15,
   "id": "fce7b8bf",
   "metadata": {},
   "outputs": [
    {
     "name": "stdout",
     "output_type": "stream",
     "text": [
      "Enter a value:12\n",
      "Enter a value:wert\n",
      "Given a=12,b=wert\n",
      "converting the values to int\n",
      "ERROR\n",
      "could not convert string to float: 'wert'\n",
      "Continuing after except block.....\n"
     ]
    }
   ],
   "source": [
    "try:\n",
    "    a=input(\"Enter a value:\")\n",
    "    b=input(\"Enter a value:\")\n",
    "    print(f\"Given a={a},b={b}\")\n",
    "    print(\"converting the values to int\")\n",
    "    a=float(a)\n",
    "    b=float(b)\n",
    "    print(f\"vallues after conversion a={a},b={b}\")\n",
    "    print(\"calculating the result..\")\n",
    "    res=a+b\n",
    "    print(\"result=\",res)\n",
    "    print(\"DONE\")\n",
    "except Exception as err:\n",
    "    print(\"ERROR\")\n",
    "    print(err)\n",
    "print(\"Continuing after except block.....\")"
   ]
  },
  {
   "cell_type": "code",
   "execution_count": 1,
   "id": "3df461a6",
   "metadata": {},
   "outputs": [
    {
     "name": "stdout",
     "output_type": "stream",
     "text": [
      "Enter a value:12\n",
      "Enter a value:34\n",
      "Given a=12,b=34\n",
      "converting the values to int\n",
      "vallues after conversion a=12.0,b=34.0\n",
      "calculating the result..\n",
      "result= 46.0\n",
      "DONE\n",
      "Continuing after except block.....\n"
     ]
    }
   ],
   "source": [
    "a=input(\"Enter a value:\")\n",
    "b=input(\"Enter a value:\")\n",
    "print(f\"Given a={a},b={b}\")\n",
    "print(\"converting the values to int\")\n",
    "try:\n",
    "    a=float(a)\n",
    "    b=float(b)\n",
    "    print(f\"vallues after conversion a={a},b={b}\")\n",
    "    print(\"calculating the result..\")\n",
    "    res=a+b\n",
    "    print(\"result=\",res)\n",
    "except Exception as err:\n",
    "    print(\"ERROR\")\n",
    "    print(err)\n",
    "print(\"DONE\")\n",
    "print(\"Continuing after except block.....\")"
   ]
  },
  {
   "cell_type": "code",
   "execution_count": 3,
   "id": "66c0436c",
   "metadata": {},
   "outputs": [
    {
     "name": "stdout",
     "output_type": "stream",
     "text": [
      "Enter a value:12\n",
      "Enter a value:34.56.78\n",
      "Given a=12,b=34.56.78\n",
      "converting the values to int\n",
      "a converted..\n",
      "ERROR\n",
      "could not convert string to float: '34.56.78'\n",
      "DONE\n",
      "Continuing after except block.....\n"
     ]
    }
   ],
   "source": [
    "a=input(\"Enter a value:\")\n",
    "b=input(\"Enter a value:\")\n",
    "print(f\"Given a={a},b={b}\")\n",
    "print(\"converting the values to int\")\n",
    "try:\n",
    "    a=float(a)\n",
    "    print(\"a converted..\")\n",
    "    b=float(b)\n",
    "    print(\"b converted....\")\n",
    "    print(f\"vallues after conversion a={a},b={b}\")\n",
    "    print(\"calculating the result..\")\n",
    "    res=a+b\n",
    "    print(\"result=\",res)\n",
    "except Exception as err:\n",
    "    print(\"ERROR\")\n",
    "    print(err)\n",
    "print(\"DONE\")\n",
    "print(\"Continuing after except block.....\")"
   ]
  },
  {
   "cell_type": "code",
   "execution_count": 4,
   "id": "9e476306",
   "metadata": {},
   "outputs": [
    {
     "name": "stdout",
     "output_type": "stream",
     "text": [
      "Enter a value:12\n",
      "Enter a value:0\n",
      "Given a=12,b=0\n",
      "converting the values to int\n",
      "a converted..\n",
      "b converted....\n",
      "vallues after conversion a=12.0,b=0.0\n",
      "calculating the result..\n",
      "ERROR\n",
      "float division by zero\n",
      "DONE\n",
      "Continuing after except block.....\n"
     ]
    }
   ],
   "source": [
    "a=input(\"Enter a value:\")\n",
    "b=input(\"Enter a value:\")\n",
    "print(f\"Given a={a},b={b}\")\n",
    "print(\"converting the values to int\")\n",
    "try:\n",
    "    a=float(a)\n",
    "    print(\"a converted..\")\n",
    "    b=float(b)\n",
    "    print(\"b converted....\")\n",
    "    print(f\"vallues after conversion a={a},b={b}\")\n",
    "    print(\"calculating the result..\")\n",
    "    res=a/b\n",
    "    print(\"result=\",res)\n",
    "except Exception as err:\n",
    "    print(\"ERROR\")\n",
    "    print(err)\n",
    "print(\"DONE\")\n",
    "print(\"Continuing after except block.....\")"
   ]
  },
  {
   "cell_type": "code",
   "execution_count": 5,
   "id": "aef51047",
   "metadata": {},
   "outputs": [
    {
     "name": "stdout",
     "output_type": "stream",
     "text": [
      "Enter a value:12\n",
      "Enter a value:34\n",
      "Given a=12,b=34\n",
      "converting the values to int\n",
      "a converted..\n",
      "b converted....\n",
      "vallues after conversion a=12.0,b=34.0\n",
      "calculating the result..\n",
      "result= 0.35294117647058826\n",
      "DONE\n",
      "Continuing after except block.....\n"
     ]
    }
   ],
   "source": [
    "a=input(\"Enter a value:\")\n",
    "b=input(\"Enter a value:\")\n",
    "print(f\"Given a={a},b={b}\")\n",
    "print(\"converting the values to int\")\n",
    "try:\n",
    "    a=float(a)\n",
    "    print(\"a converted..\")\n",
    "    b=float(b)\n",
    "    print(\"b converted....\")\n",
    "    print(f\"vallues after conversion a={a},b={b}\")\n",
    "    print(\"calculating the result..\")\n",
    "    res=a/b\n",
    "    print(\"result=\",res)\n",
    "except ValueError as err:\n",
    "    print(\"expecting valid folat number.\")\n",
    "except Exception as err:\n",
    "    print(\"ERROR\")\n",
    "    print(err)\n",
    "print(\"DONE\")\n",
    "print(\"Continuing after except block.....\")"
   ]
  },
  {
   "cell_type": "code",
   "execution_count": 6,
   "id": "26875da9",
   "metadata": {},
   "outputs": [
    {
     "name": "stdout",
     "output_type": "stream",
     "text": [
      "Enter a value:12\n",
      "Enter a value:0\n",
      "Given a=12,b=0\n",
      "converting the values to int\n",
      "a converted..\n",
      "b converted....\n",
      "vallues after conversion a=12.0,b=0.0\n",
      "calculating the result..\n",
      "ERROR\n",
      "float division by zero\n",
      "DONE\n",
      "Continuing after except block.....\n"
     ]
    }
   ],
   "source": [
    "a=input(\"Enter a value:\")\n",
    "b=input(\"Enter a value:\")\n",
    "print(f\"Given a={a},b={b}\")\n",
    "print(\"converting the values to int\")\n",
    "try:\n",
    "    a=float(a)\n",
    "    print(\"a converted..\")\n",
    "    b=float(b)\n",
    "    print(\"b converted....\")\n",
    "    print(f\"vallues after conversion a={a},b={b}\")\n",
    "    print(\"calculating the result..\")\n",
    "    res=a/b\n",
    "    print(\"result=\",res)\n",
    "except ValueError as err:\n",
    "    print(\"expecting valid folat number.\")\n",
    "    print(err)\n",
    "except Exception as err:\n",
    "    print(\"ERROR\")\n",
    "    print(err)\n",
    "print(\"DONE\")\n",
    "print(\"Continuing after except block.....\")"
   ]
  },
  {
   "cell_type": "code",
   "execution_count": 7,
   "id": "fa99dd9f",
   "metadata": {},
   "outputs": [
    {
     "name": "stdout",
     "output_type": "stream",
     "text": [
      "Enter a value:12\n",
      "Enter a value:sadfdsf\n",
      "Given a=12,b=sadfdsf\n",
      "converting the values to int\n",
      "a converted..\n",
      "expecting valid folat number.\n",
      "could not convert string to float: 'sadfdsf'\n",
      "DONE\n",
      "Continuing after except block.....\n"
     ]
    }
   ],
   "source": [
    "a=input(\"Enter a value:\")\n",
    "b=input(\"Enter a value:\")\n",
    "print(f\"Given a={a},b={b}\")\n",
    "print(\"converting the values to int\")\n",
    "try:\n",
    "    a=float(a)\n",
    "    print(\"a converted..\")\n",
    "    b=float(b)\n",
    "    print(\"b converted....\")\n",
    "    print(f\"vallues after conversion a={a},b={b}\")\n",
    "    print(\"calculating the result..\")\n",
    "    res=a/b\n",
    "    print(\"result=\",res)\n",
    "except ValueError as err:\n",
    "    print(\"expecting valid folat number.\")\n",
    "    print(err)\n",
    "except Exception as err:\n",
    "    print(\"ERROR\")\n",
    "    print(err)\n",
    "print(\"DONE\")\n",
    "print(\"Continuing after except block.....\")"
   ]
  },
  {
   "cell_type": "code",
   "execution_count": 8,
   "id": "43634d0c",
   "metadata": {},
   "outputs": [
    {
     "name": "stdout",
     "output_type": "stream",
     "text": [
      "Enter a value:1\n",
      "Enter a value:2\n",
      "Given a=1,b=2\n",
      "converting the values to int\n",
      "a converted..\n",
      "b converted....\n",
      "vallues after conversion a=1.0,b=2.0\n",
      "calculating the result..\n",
      "result= 0.5\n",
      "DONE\n",
      "Continuing after except block.....\n"
     ]
    }
   ],
   "source": [
    "a=input(\"Enter a value:\")\n",
    "b=input(\"Enter a value:\")\n",
    "print(f\"Given a={a},b={b}\")\n",
    "print(\"converting the values to int\")\n",
    "try:\n",
    "    a=float(a)\n",
    "    print(\"a converted..\")\n",
    "    b=float(b)\n",
    "    print(\"b converted....\")\n",
    "    print(f\"vallues after conversion a={a},b={b}\")\n",
    "    print(\"calculating the result..\")\n",
    "    res=a/b\n",
    "    print(\"result=\",res)\n",
    "except ValueError as err:\n",
    "    print(\"expecting valid folat number.\")\n",
    "    print(err)\n",
    "except ZeroDivisionError as err:\n",
    "    print(\"expecting b!=0\")\n",
    "    print(err)\n",
    "except Exception as err:\n",
    "    print(\"ERROR\")\n",
    "    print(err)\n",
    "print(\"DONE\")\n",
    "print(\"Continuing after except block.....\")"
   ]
  },
  {
   "cell_type": "code",
   "execution_count": 9,
   "id": "bd35cc2d",
   "metadata": {},
   "outputs": [
    {
     "name": "stdout",
     "output_type": "stream",
     "text": [
      "Enter a value:1\n",
      "Enter a value:0\n",
      "Given a=1,b=0\n",
      "converting the values to int\n",
      "a converted..\n",
      "b converted....\n",
      "vallues after conversion a=1.0,b=0.0\n",
      "calculating the result..\n",
      "expecting b!=0\n",
      "float division by zero\n",
      "DONE\n",
      "Continuing after except block.....\n"
     ]
    }
   ],
   "source": [
    "a=input(\"Enter a value:\")\n",
    "b=input(\"Enter a value:\")\n",
    "print(f\"Given a={a},b={b}\")\n",
    "print(\"converting the values to int\")\n",
    "try:\n",
    "    a=float(a)\n",
    "    print(\"a converted..\")\n",
    "    b=float(b)\n",
    "    print(\"b converted....\")\n",
    "    print(f\"vallues after conversion a={a},b={b}\")\n",
    "    print(\"calculating the result..\")\n",
    "    res=a/b\n",
    "    print(\"result=\",res)\n",
    "except ValueError as err:\n",
    "    print(\"expecting valid folat number.\")\n",
    "    print(err)\n",
    "except ZeroDivisionError as err:\n",
    "    print(\"expecting b!=0\")\n",
    "    print(err)\n",
    "except Exception as err:\n",
    "    print(\"ERROR\")\n",
    "    print(err)\n",
    "print(\"DONE\")\n",
    "print(\"Continuing after except block.....\")"
   ]
  },
  {
   "cell_type": "code",
   "execution_count": 10,
   "id": "56714804",
   "metadata": {},
   "outputs": [
    {
     "name": "stdout",
     "output_type": "stream",
     "text": [
      "Enter a value:12\n",
      "Enter a value:0\n",
      "Given a=12,b=0\n",
      "converting the values to int\n",
      "a converted..\n",
      "b converted....\n",
      "vallues after conversion a=12.0,b=0.0\n",
      "calculating the result..\n",
      "ERROR\n",
      "float division by zero\n",
      "DONE\n",
      "Continuing after except block.....\n"
     ]
    }
   ],
   "source": [
    "a=input(\"Enter a value:\")\n",
    "b=input(\"Enter a value:\")\n",
    "print(f\"Given a={a},b={b}\")\n",
    "print(\"converting the values to int\")\n",
    "try:\n",
    "    a=float(a)\n",
    "    print(\"a converted..\")\n",
    "    b=float(b)\n",
    "    print(\"b converted....\")\n",
    "    print(f\"vallues after conversion a={a},b={b}\")\n",
    "    print(\"calculating the result..\")\n",
    "    res=a/b\n",
    "    print(\"result=\",res)\n",
    "except Exception as err:\n",
    "    print(\"ERROR\")\n",
    "    print(err)\n",
    "except ValueError as err:\n",
    "    print(\"expecting valid folat number.\")\n",
    "    print(err)\n",
    "except ZeroDivisionError as err:\n",
    "    print(\"expecting b!=0\")\n",
    "    print(err)\n",
    "print(\"DONE\")\n",
    "print(\"Continuing after except block.....\")"
   ]
  },
  {
   "cell_type": "code",
   "execution_count": 11,
   "id": "4949cdce",
   "metadata": {},
   "outputs": [
    {
     "name": "stdout",
     "output_type": "stream",
     "text": [
      "Enter a value:12\n",
      "Enter a value:ert\n",
      "Given a=12,b=ert\n",
      "converting the values to int\n",
      "a converted..\n",
      "ERROR\n",
      "could not convert string to float: 'ert'\n",
      "DONE\n",
      "Continuing after except block.....\n"
     ]
    }
   ],
   "source": [
    "a=input(\"Enter a value:\")\n",
    "b=input(\"Enter a value:\")\n",
    "print(f\"Given a={a},b={b}\")\n",
    "print(\"converting the values to int\")\n",
    "try:\n",
    "    a=float(a)\n",
    "    print(\"a converted..\")\n",
    "    b=float(b)\n",
    "    print(\"b converted....\")\n",
    "    print(f\"vallues after conversion a={a},b={b}\")\n",
    "    print(\"calculating the result..\")\n",
    "    res=a/b\n",
    "    print(\"result=\",res)\n",
    "except Exception as err:\n",
    "    print(\"ERROR\")\n",
    "    print(err)\n",
    "except ValueError as err:\n",
    "    print(\"expecting valid folat number.\")\n",
    "    print(err)\n",
    "except ZeroDivisionError as err:\n",
    "    print(\"expecting b!=0\")\n",
    "    print(err)\n",
    "print(\"DONE\")\n",
    "print(\"Continuing after except block.....\")"
   ]
  },
  {
   "cell_type": "code",
   "execution_count": 12,
   "id": "70fe2d97",
   "metadata": {},
   "outputs": [
    {
     "name": "stdout",
     "output_type": "stream",
     "text": [
      "main\n",
      "try\n",
      "else\n",
      "finally\n",
      "main\n"
     ]
    }
   ],
   "source": [
    "print(\"main\")\n",
    "try:\n",
    "    print(\"try\")\n",
    "except:\n",
    "    print(\"except\")\n",
    "else:\n",
    "    print(\"else\")\n",
    "finally:\n",
    "    print(\"finally\")\n",
    "print(\"main\")"
   ]
  },
  {
   "cell_type": "code",
   "execution_count": 13,
   "id": "89d30dcc",
   "metadata": {},
   "outputs": [
    {
     "name": "stdout",
     "output_type": "stream",
     "text": [
      "main\n",
      "try\n",
      "except\n",
      "finally\n",
      "main\n"
     ]
    }
   ],
   "source": [
    "print(\"main\")\n",
    "try:\n",
    "    print(\"try\")\n",
    "    print(1/0)\n",
    "except:\n",
    "    print(\"except\")\n",
    "else:\n",
    "    print(\"else\")\n",
    "finally:\n",
    "    print(\"finally\")\n",
    "print(\"main\")"
   ]
  },
  {
   "cell_type": "code",
   "execution_count": 14,
   "id": "0fd9ac18",
   "metadata": {},
   "outputs": [
    {
     "name": "stdout",
     "output_type": "stream",
     "text": [
      "HELLO..........\n",
      "finally..\n",
      "result= 40\n"
     ]
    }
   ],
   "source": [
    "def fun(x):\n",
    "    print(\"HELLO..........\")\n",
    "    try:\n",
    "        return 10\n",
    "    except:\n",
    "        return 20\n",
    "    else:\n",
    "        return 30\n",
    "    finally:\n",
    "        print(\"finally..\")\n",
    "        return 40\n",
    "    print(\"function block\")\n",
    "    return 50\n",
    "res=fun(1)\n",
    "print(\"result=\",res)"
   ]
  },
  {
   "cell_type": "code",
   "execution_count": 15,
   "id": "cb49a9c2",
   "metadata": {},
   "outputs": [
    {
     "name": "stdout",
     "output_type": "stream",
     "text": [
      "main\n",
      "-2\n",
      "-5.0\n",
      "this is finally..\n",
      "loop main block\n",
      "-1\n",
      "-10.0\n",
      "this is finally..\n",
      "loop main block\n",
      "0\n",
      "division by zero\n",
      "this is finally..\n",
      "main\n"
     ]
    }
   ],
   "source": [
    "print(\"main\")\n",
    "for i in range(-2,10):\n",
    "    print(i)\n",
    "    try:\n",
    "        print(10/i)\n",
    "    except Exception as err:\n",
    "        print(err)\n",
    "        break\n",
    "    finally:\n",
    "        print(\"this is finally..\")\n",
    "    print(\"loop main block\")\n",
    "print(\"main\")"
   ]
  },
  {
   "cell_type": "code",
   "execution_count": null,
   "id": "b9dc192e",
   "metadata": {},
   "outputs": [],
   "source": []
  }
 ],
 "metadata": {
  "kernelspec": {
   "display_name": "Python 3 (ipykernel)",
   "language": "python",
   "name": "python3"
  },
  "language_info": {
   "codemirror_mode": {
    "name": "ipython",
    "version": 3
   },
   "file_extension": ".py",
   "mimetype": "text/x-python",
   "name": "python",
   "nbconvert_exporter": "python",
   "pygments_lexer": "ipython3",
   "version": "3.11.3"
  }
 },
 "nbformat": 4,
 "nbformat_minor": 5
}
