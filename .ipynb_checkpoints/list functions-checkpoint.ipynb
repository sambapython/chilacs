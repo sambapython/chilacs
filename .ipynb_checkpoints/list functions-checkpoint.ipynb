{
 "cells": [
  {
   "cell_type": "code",
   "execution_count": 1,
   "id": "98f44bbb",
   "metadata": {},
   "outputs": [
    {
     "name": "stdout",
     "output_type": "stream",
     "text": [
      "['__add__', '__class__', '__class_getitem__', '__contains__', '__delattr__', '__delitem__', '__dir__', '__doc__', '__eq__', '__format__', '__ge__', '__getattribute__', '__getitem__', '__getstate__', '__gt__', '__hash__', '__iadd__', '__imul__', '__init__', '__init_subclass__', '__iter__', '__le__', '__len__', '__lt__', '__mul__', '__ne__', '__new__', '__reduce__', '__reduce_ex__', '__repr__', '__reversed__', '__rmul__', '__setattr__', '__setitem__', '__sizeof__', '__str__', '__subclasshook__', 'append', 'clear', 'copy', 'count', 'extend', 'index', 'insert', 'pop', 'remove', 'reverse', 'sort']\n"
     ]
    }
   ],
   "source": [
    "l=[10,20,30,40]\n",
    "print(dir(l))"
   ]
  },
  {
   "cell_type": "code",
   "execution_count": 2,
   "id": "628a13df",
   "metadata": {},
   "outputs": [
    {
     "name": "stdout",
     "output_type": "stream",
     "text": [
      "abcd\n",
      "Abcd\n"
     ]
    }
   ],
   "source": [
    "s=\"abcd\"\n",
    "s1=s.replace(\"a\",\"A\")\n",
    "print(s)\n",
    "print(s1)"
   ]
  },
  {
   "cell_type": "code",
   "execution_count": 3,
   "id": "bd4dbb1b",
   "metadata": {},
   "outputs": [
    {
     "name": "stdout",
     "output_type": "stream",
     "text": [
      "[10, 20, 30, 40, 50]\n",
      "None\n"
     ]
    }
   ],
   "source": [
    "l=[10,20,30,40]\n",
    "l1=l.append(50)\n",
    "print(l)\n",
    "print(l1)"
   ]
  },
  {
   "cell_type": "code",
   "execution_count": 4,
   "id": "2f33a521",
   "metadata": {},
   "outputs": [
    {
     "name": "stdout",
     "output_type": "stream",
     "text": [
      "result= None\n"
     ]
    }
   ],
   "source": [
    "def fun(x,y):\n",
    "    z=x+y\n",
    "res=fun(10,20)\n",
    "print(\"result=\", res)"
   ]
  },
  {
   "cell_type": "code",
   "execution_count": null,
   "id": "814683cb",
   "metadata": {},
   "outputs": [],
   "source": [
    "l=[1000,2000,3000]\n",
    "l1=l.append(4000)"
   ]
  },
  {
   "cell_type": "code",
   "execution_count": 1,
   "id": "abdb190b",
   "metadata": {},
   "outputs": [
    {
     "name": "stdout",
     "output_type": "stream",
     "text": [
      "None\n",
      "[1000, 1000, 1000, 3000]\n"
     ]
    }
   ],
   "source": [
    "k=[1000,1000,1000,1000,3000]\n",
    "k1=k.remove(1000)\n",
    "print(k1)\n",
    "print(k)"
   ]
  },
  {
   "cell_type": "code",
   "execution_count": 2,
   "id": "d298fed9",
   "metadata": {},
   "outputs": [
    {
     "name": "stdout",
     "output_type": "stream",
     "text": [
      "None\n",
      "[1, 2, 3, 1000, 1000, 1000, 3000]\n"
     ]
    }
   ],
   "source": [
    "k=[1,2,3,1000,1000,1000,1000,3000]\n",
    "k1=k.remove(1000)\n",
    "print(k1)\n",
    "print(k)"
   ]
  },
  {
   "cell_type": "code",
   "execution_count": 4,
   "id": "99492129",
   "metadata": {},
   "outputs": [
    {
     "name": "stdout",
     "output_type": "stream",
     "text": [
      "[1, 2, 3, 3000]\n"
     ]
    }
   ],
   "source": [
    "k=[1,2,3,1000,1000,1000,1000,3000]\n",
    "k.remove(1000)\n",
    "k.remove(1000)\n",
    "k.remove(1000)\n",
    "k.remove(1000)\n",
    "print(k)"
   ]
  },
  {
   "cell_type": "code",
   "execution_count": 5,
   "id": "1a1710ba",
   "metadata": {},
   "outputs": [
    {
     "name": "stdout",
     "output_type": "stream",
     "text": [
      "[1, 2, 3, 3000]\n"
     ]
    }
   ],
   "source": [
    "k=[1,2,3,1000,1000,1000,1000,3000]\n",
    "count = k.count(1000)\n",
    "for i in range(count):\n",
    "    k.remove(1000)\n",
    "print(k)"
   ]
  },
  {
   "cell_type": "code",
   "execution_count": 6,
   "id": "7f35bfb5",
   "metadata": {},
   "outputs": [
    {
     "name": "stdout",
     "output_type": "stream",
     "text": [
      "[1, 2, 3, 3000]\n"
     ]
    }
   ],
   "source": [
    "k=[1,2,3,1000,1000,1000,1000,3000]\n",
    "while k.count(1000):#4,3,2,1,0\n",
    "    k.remove(1000)#[1,2,3,3000]\n",
    "print(k)"
   ]
  },
  {
   "cell_type": "code",
   "execution_count": 7,
   "id": "411a90f5",
   "metadata": {},
   "outputs": [
    {
     "ename": "ValueError",
     "evalue": "list.remove(x): x not in list",
     "output_type": "error",
     "traceback": [
      "\u001b[1;31m---------------------------------------------------------------------------\u001b[0m",
      "\u001b[1;31mValueError\u001b[0m                                Traceback (most recent call last)",
      "Cell \u001b[1;32mIn[7], line 2\u001b[0m\n\u001b[0;32m      1\u001b[0m k\u001b[38;5;241m=\u001b[39m[\u001b[38;5;241m1\u001b[39m,\u001b[38;5;241m2\u001b[39m,\u001b[38;5;241m3\u001b[39m,\u001b[38;5;241m1000\u001b[39m,\u001b[38;5;241m1000\u001b[39m,\u001b[38;5;241m1000\u001b[39m,\u001b[38;5;241m1000\u001b[39m,\u001b[38;5;241m3000\u001b[39m]\n\u001b[1;32m----> 2\u001b[0m k\u001b[38;5;241m.\u001b[39mremove(\u001b[38;5;241m4000\u001b[39m)\n\u001b[0;32m      3\u001b[0m \u001b[38;5;28mprint\u001b[39m(k)\n",
      "\u001b[1;31mValueError\u001b[0m: list.remove(x): x not in list"
     ]
    }
   ],
   "source": [
    "k=[1,2,3,1000,1000,1000,1000,3000]\n",
    "k.remove(4000)\n",
    "print(k)"
   ]
  },
  {
   "cell_type": "code",
   "execution_count": 8,
   "id": "438a52c2",
   "metadata": {},
   "outputs": [
    {
     "name": "stdout",
     "output_type": "stream",
     "text": [
      "[1, 2, 3, 1000, 1000, 1000, 1000, 3000]\n"
     ]
    }
   ],
   "source": [
    "k=[1,2,3,1000,1000,1000,1000,3000]\n",
    "if 4000 in k:\n",
    "    k.remove(4000)\n",
    "print(k)"
   ]
  },
  {
   "cell_type": "code",
   "execution_count": 9,
   "id": "13765b8f",
   "metadata": {},
   "outputs": [
    {
     "name": "stdout",
     "output_type": "stream",
     "text": [
      "3000\n",
      "[500, 1000, 1000, 1000, 1000]\n"
     ]
    }
   ],
   "source": [
    "k=[500,1000,1000,1000,1000,3000]\n",
    "k1 = k.pop()\n",
    "print(k1)\n",
    "print(k)"
   ]
  },
  {
   "cell_type": "code",
   "execution_count": 10,
   "id": "16baf726",
   "metadata": {},
   "outputs": [
    {
     "name": "stdout",
     "output_type": "stream",
     "text": [
      "3000\n",
      "[500, 1000, 1000, 1000, 1000]\n",
      "1000\n",
      "[500, 1000, 1000, 1000]\n"
     ]
    }
   ],
   "source": [
    "k=[500,1000,1000,1000,1000,3000]\n",
    "k1 = k.pop()\n",
    "print(k1)\n",
    "print(k)\n",
    "k2=k.pop()\n",
    "print(k2)\n",
    "print(k)"
   ]
  },
  {
   "cell_type": "code",
   "execution_count": 11,
   "id": "d6430b25",
   "metadata": {},
   "outputs": [
    {
     "ename": "IndexError",
     "evalue": "pop from empty list",
     "output_type": "error",
     "traceback": [
      "\u001b[1;31m---------------------------------------------------------------------------\u001b[0m",
      "\u001b[1;31mIndexError\u001b[0m                                Traceback (most recent call last)",
      "Cell \u001b[1;32mIn[11], line 2\u001b[0m\n\u001b[0;32m      1\u001b[0m k\u001b[38;5;241m=\u001b[39m[]\n\u001b[1;32m----> 2\u001b[0m k1 \u001b[38;5;241m=\u001b[39m k\u001b[38;5;241m.\u001b[39mpop()\n\u001b[0;32m      3\u001b[0m \u001b[38;5;28mprint\u001b[39m(k1)\n\u001b[0;32m      4\u001b[0m \u001b[38;5;28mprint\u001b[39m(k)\n",
      "\u001b[1;31mIndexError\u001b[0m: pop from empty list"
     ]
    }
   ],
   "source": [
    "k=[]\n",
    "k1 = k.pop()\n",
    "print(k1)\n",
    "print(k)"
   ]
  },
  {
   "cell_type": "code",
   "execution_count": 12,
   "id": "fab86409",
   "metadata": {},
   "outputs": [
    {
     "name": "stdout",
     "output_type": "stream",
     "text": [
      "beatroot\n"
     ]
    }
   ],
   "source": [
    "k=[\"apple\",\"orange\",\"grape\",\"banana\",\"mango\",\"beatroot\"]\n",
    "k1=k.pop(3)\n",
    "print(k.pop())"
   ]
  },
  {
   "cell_type": "code",
   "execution_count": 13,
   "id": "0f7ce3fd",
   "metadata": {},
   "outputs": [
    {
     "name": "stdout",
     "output_type": "stream",
     "text": [
      "beatroot\n"
     ]
    },
    {
     "ename": "ValueError",
     "evalue": "list.remove(x): x not in list",
     "output_type": "error",
     "traceback": [
      "\u001b[1;31m---------------------------------------------------------------------------\u001b[0m",
      "\u001b[1;31mValueError\u001b[0m                                Traceback (most recent call last)",
      "Cell \u001b[1;32mIn[13], line 4\u001b[0m\n\u001b[0;32m      2\u001b[0m k1\u001b[38;5;241m=\u001b[39mk\u001b[38;5;241m.\u001b[39mpop(\u001b[38;5;241m3\u001b[39m)\n\u001b[0;32m      3\u001b[0m \u001b[38;5;28mprint\u001b[39m(k\u001b[38;5;241m.\u001b[39mpop())\n\u001b[1;32m----> 4\u001b[0m k2\u001b[38;5;241m=\u001b[39mk\u001b[38;5;241m.\u001b[39mremove(\u001b[38;5;241m3\u001b[39m)\n\u001b[0;32m      5\u001b[0m \u001b[38;5;28mprint\u001b[39m(k2)\n\u001b[0;32m      6\u001b[0m \u001b[38;5;28mprint\u001b[39m(k)\n",
      "\u001b[1;31mValueError\u001b[0m: list.remove(x): x not in list"
     ]
    }
   ],
   "source": [
    "k=[\"apple\",\"orange\",\"grape\",\"banana\",\"mango\",\"beatroot\"]\n",
    "k1=k.pop(3)\n",
    "print(k.pop())\n",
    "k2=k.remove(3)\n",
    "print(k2)\n",
    "print(k)"
   ]
  },
  {
   "cell_type": "code",
   "execution_count": 14,
   "id": "26083dc4",
   "metadata": {},
   "outputs": [
    {
     "ename": "TypeError",
     "evalue": "'str' object cannot be interpreted as an integer",
     "output_type": "error",
     "traceback": [
      "\u001b[1;31m---------------------------------------------------------------------------\u001b[0m",
      "\u001b[1;31mTypeError\u001b[0m                                 Traceback (most recent call last)",
      "Cell \u001b[1;32mIn[14], line 2\u001b[0m\n\u001b[0;32m      1\u001b[0m k\u001b[38;5;241m=\u001b[39m[\u001b[38;5;124m\"\u001b[39m\u001b[38;5;124mapple\u001b[39m\u001b[38;5;124m\"\u001b[39m,\u001b[38;5;124m\"\u001b[39m\u001b[38;5;124morange\u001b[39m\u001b[38;5;124m\"\u001b[39m,\u001b[38;5;124m\"\u001b[39m\u001b[38;5;124mgrape\u001b[39m\u001b[38;5;124m\"\u001b[39m,\u001b[38;5;124m\"\u001b[39m\u001b[38;5;124mbanana\u001b[39m\u001b[38;5;124m\"\u001b[39m,\u001b[38;5;124m\"\u001b[39m\u001b[38;5;124mmango\u001b[39m\u001b[38;5;124m\"\u001b[39m,\u001b[38;5;124m\"\u001b[39m\u001b[38;5;124mbeatroot\u001b[39m\u001b[38;5;124m\"\u001b[39m]\n\u001b[1;32m----> 2\u001b[0m k1\u001b[38;5;241m=\u001b[39mk\u001b[38;5;241m.\u001b[39mpop(\u001b[38;5;124m\"\u001b[39m\u001b[38;5;124morange\u001b[39m\u001b[38;5;124m\"\u001b[39m)\n\u001b[0;32m      3\u001b[0m \u001b[38;5;28mprint\u001b[39m(k1)\n\u001b[0;32m      4\u001b[0m \u001b[38;5;28mprint\u001b[39m(k)\n",
      "\u001b[1;31mTypeError\u001b[0m: 'str' object cannot be interpreted as an integer"
     ]
    }
   ],
   "source": [
    "k=[\"apple\",\"orange\",\"grape\",\"banana\",\"mango\",\"beatroot\"]\n",
    "k1=k.pop(\"orange\")\n",
    "print(k1)\n",
    "print(k)\n"
   ]
  },
  {
   "cell_type": "code",
   "execution_count": 15,
   "id": "666fdf56",
   "metadata": {},
   "outputs": [
    {
     "name": "stdout",
     "output_type": "stream",
     "text": [
      "[]\n"
     ]
    }
   ],
   "source": [
    "k=[\"apple\",\"orange\",\"grape\",\"banana\",\"mango\",\"beatroot\"]\n",
    "while k:#True,True,True,True,True, True,False\n",
    "    k.pop()#[]\n",
    "print(k)"
   ]
  },
  {
   "cell_type": "code",
   "execution_count": 16,
   "id": "976ef9e8",
   "metadata": {},
   "outputs": [
    {
     "name": "stdout",
     "output_type": "stream",
     "text": [
      "['mango', 'grape', 'apple']\n"
     ]
    }
   ],
   "source": [
    "k=[\"apple\",\"mango\",\"apple\",\"apple\",\"apple\",\"grape\",\"apple\"]\n",
    "for i in k:\n",
    "    if i==\"apple\":\n",
    "        k.remove(i)\n",
    "print(k)"
   ]
  },
  {
   "cell_type": "code",
   "execution_count": 17,
   "id": "0e83a702",
   "metadata": {},
   "outputs": [
    {
     "name": "stdout",
     "output_type": "stream",
     "text": [
      "None\n",
      "[10, 20, 300, 30, 40]\n"
     ]
    }
   ],
   "source": [
    "k=[10,20,30,40]\n",
    "k1=k.insert(2,300)\n",
    "print(k1)\n",
    "print(k)"
   ]
  },
  {
   "cell_type": "code",
   "execution_count": 18,
   "id": "4e7d721d",
   "metadata": {},
   "outputs": [
    {
     "name": "stdout",
     "output_type": "stream",
     "text": [
      "None\n",
      "[300, 10, 20, 30, 40]\n"
     ]
    }
   ],
   "source": [
    "k=[10,20,30,40]\n",
    "k1=k.insert(0,300)\n",
    "print(k1)\n",
    "print(k)"
   ]
  },
  {
   "cell_type": "code",
   "execution_count": 19,
   "id": "e70ea1c5",
   "metadata": {},
   "outputs": [
    {
     "name": "stdout",
     "output_type": "stream",
     "text": [
      "None\n",
      "[10, 20, 30, 40, 300]\n"
     ]
    }
   ],
   "source": [
    "k=[10,20,30,40]\n",
    "k1=k.append(300)\n",
    "print(k1)\n",
    "print(k)"
   ]
  },
  {
   "cell_type": "code",
   "execution_count": null,
   "id": "772f16d7",
   "metadata": {},
   "outputs": [],
   "source": [
    "k=[10,20,30,40]\n",
    "k1=k.insert(0,300)\n",
    "print(k1)\n",
    "print(k)\n",
    "k.pop(0)"
   ]
  },
  {
   "cell_type": "code",
   "execution_count": 22,
   "id": "e784c78d",
   "metadata": {},
   "outputs": [],
   "source": [
    "from collections import deque\n"
   ]
  },
  {
   "cell_type": "code",
   "execution_count": 23,
   "id": "ea8b762d",
   "metadata": {},
   "outputs": [
    {
     "name": "stdout",
     "output_type": "stream",
     "text": [
      "['__add__', '__class__', '__class_getitem__', '__contains__', '__copy__', '__delattr__', '__delitem__', '__dir__', '__doc__', '__eq__', '__format__', '__ge__', '__getattribute__', '__getitem__', '__getstate__', '__gt__', '__hash__', '__iadd__', '__imul__', '__init__', '__init_subclass__', '__iter__', '__le__', '__len__', '__lt__', '__mul__', '__ne__', '__new__', '__reduce__', '__reduce_ex__', '__repr__', '__reversed__', '__rmul__', '__setattr__', '__setitem__', '__sizeof__', '__str__', '__subclasshook__', 'append', 'appendleft', 'clear', 'copy', 'count', 'extend', 'extendleft', 'index', 'insert', 'maxlen', 'pop', 'popleft', 'remove', 'reverse', 'rotate']\n"
     ]
    }
   ],
   "source": [
    "k=[10,20,30,40]\n",
    "k1=deque(k)\n",
    "print(dir(k1))"
   ]
  },
  {
   "cell_type": "code",
   "execution_count": 24,
   "id": "3eb1d580",
   "metadata": {},
   "outputs": [
    {
     "name": "stdout",
     "output_type": "stream",
     "text": [
      "[1000, 2000, 3000]\n"
     ]
    },
    {
     "ename": "TypeError",
     "evalue": "'int' object is not iterable",
     "output_type": "error",
     "traceback": [
      "\u001b[1;31m---------------------------------------------------------------------------\u001b[0m",
      "\u001b[1;31mTypeError\u001b[0m                                 Traceback (most recent call last)",
      "Cell \u001b[1;32mIn[24], line 5\u001b[0m\n\u001b[0;32m      3\u001b[0m k1\u001b[38;5;241m=\u001b[39mk\u001b[38;5;241m.\u001b[39mappend(\u001b[38;5;241m3000\u001b[39m)\n\u001b[0;32m      4\u001b[0m \u001b[38;5;28mprint\u001b[39m(k)\n\u001b[1;32m----> 5\u001b[0m k2\u001b[38;5;241m=\u001b[39mk\u001b[38;5;241m.\u001b[39mextend(\u001b[38;5;241m3000\u001b[39m)\n\u001b[0;32m      6\u001b[0m \u001b[38;5;28mprint\u001b[39m(k)\n",
      "\u001b[1;31mTypeError\u001b[0m: 'int' object is not iterable"
     ]
    }
   ],
   "source": [
    "#append and extend\n",
    "k=[1000,2000]\n",
    "k1=k.append(3000)\n",
    "print(k)\n",
    "k2=k.extend(3000)\n",
    "print(k)"
   ]
  },
  {
   "cell_type": "code",
   "execution_count": 25,
   "id": "ee880aac",
   "metadata": {},
   "outputs": [
    {
     "name": "stdout",
     "output_type": "stream",
     "text": [
      "[1000, 2000, 3000, 'HYD', ['1', '2', '3'], {'name': 'AJA', 'address': 'HYD'}, (1, 2, 3, 4), True, None, 23.45, (1+2j)]\n"
     ]
    }
   ],
   "source": [
    "k=[1000,2000]\n",
    "k.append(3000)\n",
    "k.append(\"HYD\")\n",
    "k.append([\"1\",\"2\",\"3\"])\n",
    "k.append({\"name\":\"AJA\",\"address\":\"HYD\"})\n",
    "k.append((1,2,3,4))\n",
    "k.append(True)\n",
    "k.append(None)\n",
    "k.append(23.45)\n",
    "k.append(1+2j)\n",
    "print(k)"
   ]
  },
  {
   "cell_type": "code",
   "execution_count": 26,
   "id": "ed1a9220",
   "metadata": {},
   "outputs": [
    {
     "ename": "TypeError",
     "evalue": "'int' object is not iterable",
     "output_type": "error",
     "traceback": [
      "\u001b[1;31m---------------------------------------------------------------------------\u001b[0m",
      "\u001b[1;31mTypeError\u001b[0m                                 Traceback (most recent call last)",
      "Cell \u001b[1;32mIn[26], line 2\u001b[0m\n\u001b[0;32m      1\u001b[0m k\u001b[38;5;241m=\u001b[39m[\u001b[38;5;241m1000\u001b[39m,\u001b[38;5;241m2000\u001b[39m]\n\u001b[1;32m----> 2\u001b[0m k\u001b[38;5;241m.\u001b[39mextend(\u001b[38;5;241m3000\u001b[39m)\u001b[38;5;66;03m# for i in 3000: k.append(i)\u001b[39;00m\n\u001b[0;32m      3\u001b[0m k\u001b[38;5;241m.\u001b[39mappend(\u001b[38;5;124m\"\u001b[39m\u001b[38;5;124mHYD\u001b[39m\u001b[38;5;124m\"\u001b[39m)\n",
      "\u001b[1;31mTypeError\u001b[0m: 'int' object is not iterable"
     ]
    }
   ],
   "source": [
    "k=[1000,2000]\n",
    "k.extend(3000)# for i in 3000: k.append(i)\n",
    "k.append(\"HYD\")"
   ]
  },
  {
   "cell_type": "code",
   "execution_count": 28,
   "id": "0990be40",
   "metadata": {},
   "outputs": [
    {
     "name": "stdout",
     "output_type": "stream",
     "text": [
      "[1000, 2000, 'H', 'Y', 'D']\n"
     ]
    }
   ],
   "source": [
    "k=[1000,2000]\n",
    "k.extend(\"HYD\")# for i in \"HYD\": k.append(i)\n",
    "print(k)"
   ]
  },
  {
   "cell_type": "code",
   "execution_count": 29,
   "id": "49aaf77f",
   "metadata": {},
   "outputs": [
    {
     "name": "stdout",
     "output_type": "stream",
     "text": [
      "[1000, 2000, 1, 2, 3]\n"
     ]
    }
   ],
   "source": [
    "k=[1000,2000]\n",
    "k.extend([1,2,3])# for i in [1,2,3]: k.append(i)\n",
    "print(k)"
   ]
  },
  {
   "cell_type": "code",
   "execution_count": 30,
   "id": "df60d29d",
   "metadata": {},
   "outputs": [
    {
     "name": "stdout",
     "output_type": "stream",
     "text": [
      "[1000, 2000, 'name', 'address']\n"
     ]
    }
   ],
   "source": [
    "k=[1000,2000]\n",
    "k.extend({\"name\":\"AJA\",\"address\":\"HYD\"})# for i in {\"name\":\"AJA\",\"address\":\"HYD\"}: k.append(i)\n",
    "print(k)"
   ]
  },
  {
   "cell_type": "code",
   "execution_count": 31,
   "id": "e9e2e0af",
   "metadata": {},
   "outputs": [
    {
     "name": "stdout",
     "output_type": "stream",
     "text": [
      "['apple', 'orange', 'apple', 'banana', 'apple']\n",
      "0\n"
     ]
    }
   ],
   "source": [
    "k=[\"apple\",\"orange\",\"apple\",\"banana\",\"apple\"]\n",
    "k1=k.index(\"apple\")\n",
    "print(k)\n",
    "print(k1)"
   ]
  },
  {
   "cell_type": "code",
   "execution_count": null,
   "id": "5b8030d0",
   "metadata": {},
   "outputs": [],
   "source": [
    "k=[\"apple\",\"orange\",\"apple\",\"banana\",\"apple\"]\n",
    "k1=k.index(\"apple\")\n",
    "print(k)\n",
    "print(k1)"
   ]
  },
  {
   "cell_type": "code",
   "execution_count": 32,
   "id": "a7149220",
   "metadata": {},
   "outputs": [],
   "source": [
    "k.index?"
   ]
  },
  {
   "cell_type": "code",
   "execution_count": 33,
   "id": "22b3f1f9",
   "metadata": {},
   "outputs": [
    {
     "name": "stdout",
     "output_type": "stream",
     "text": [
      "['apple', 'orange', 'apple', 'banana', 'apple']\n",
      "2\n"
     ]
    }
   ],
   "source": [
    "k=[\"apple\",\"orange\",\"apple\",\"banana\",\"apple\"]\n",
    "k1=k.index(\"apple\",1)\n",
    "print(k)\n",
    "print(k1)"
   ]
  },
  {
   "cell_type": "code",
   "execution_count": 34,
   "id": "58304b08",
   "metadata": {},
   "outputs": [
    {
     "name": "stdout",
     "output_type": "stream",
     "text": [
      "['apple', 'orange', 'apple', 'banana', 'apple']\n",
      "4\n"
     ]
    }
   ],
   "source": [
    "k=[\"apple\",\"orange\",\"apple\",\"banana\",\"apple\"]\n",
    "k1=k.index(\"apple\",3)\n",
    "print(k)\n",
    "print(k1)"
   ]
  },
  {
   "cell_type": "code",
   "execution_count": 35,
   "id": "f1891389",
   "metadata": {},
   "outputs": [
    {
     "name": "stdout",
     "output_type": "stream",
     "text": [
      "['__add__', '__class__', '__class_getitem__', '__contains__', '__delattr__', '__delitem__', '__dir__', '__doc__', '__eq__', '__format__', '__ge__', '__getattribute__', '__getitem__', '__getstate__', '__gt__', '__hash__', '__iadd__', '__imul__', '__init__', '__init_subclass__', '__iter__', '__le__', '__len__', '__lt__', '__mul__', '__ne__', '__new__', '__reduce__', '__reduce_ex__', '__repr__', '__reversed__', '__rmul__', '__setattr__', '__setitem__', '__sizeof__', '__str__', '__subclasshook__', 'append', 'clear', 'copy', 'count', 'extend', 'index', 'insert', 'pop', 'remove', 'reverse', 'sort']\n"
     ]
    }
   ],
   "source": [
    "print(dir(k))"
   ]
  },
  {
   "cell_type": "code",
   "execution_count": 2,
   "id": "4fe06e9f",
   "metadata": {},
   "outputs": [
    {
     "name": "stdout",
     "output_type": "stream",
     "text": [
      "[1000, 2000, 3000, 4000, [5000, 6000], (7000, 8000), 'python']\n",
      "[1000, 2000, 3000, 4000, [5000, 6000], (7000, 8000), 'python']\n",
      "[1000, 2000, 3000, 4000, [5000, 6000], (7000, 8000), 'python']\n",
      "[1000, 2000, 3000, 4000, [5000, 6000], (7000, 8000), 'python']\n",
      "[1000, 2000, 3000, 4000, [5000, 6000], (7000, 8000), 'python']\n"
     ]
    }
   ],
   "source": [
    "from copy import deepcopy\n",
    "a=4000\n",
    "b=[5000,6000]\n",
    "c=(7000, 8000)\n",
    "d=\"python\"\n",
    "k=[1000,2000,3000,a,b,c,d]\n",
    "m=k\n",
    "n=k.copy()\n",
    "o=k[:]\n",
    "p=deepcopy(k)\n",
    "print(k, m, n, o, p,sep=\"\\n\")"
   ]
  },
  {
   "cell_type": "code",
   "execution_count": 3,
   "id": "d4db17df",
   "metadata": {},
   "outputs": [
    {
     "name": "stdout",
     "output_type": "stream",
     "text": [
      "['__add__', '__class__', '__class_getitem__', '__contains__', '__delattr__', '__delitem__', '__dir__', '__doc__', '__eq__', '__format__', '__ge__', '__getattribute__', '__getitem__', '__getstate__', '__gt__', '__hash__', '__iadd__', '__imul__', '__init__', '__init_subclass__', '__iter__', '__le__', '__len__', '__lt__', '__mul__', '__ne__', '__new__', '__reduce__', '__reduce_ex__', '__repr__', '__reversed__', '__rmul__', '__setattr__', '__setitem__', '__sizeof__', '__str__', '__subclasshook__', 'append', 'clear', 'copy', 'count', 'extend', 'index', 'insert', 'pop', 'remove', 'reverse', 'sort']\n"
     ]
    }
   ],
   "source": [
    "print(dir(k))"
   ]
  },
  {
   "cell_type": "code",
   "execution_count": 6,
   "id": "996dedda",
   "metadata": {},
   "outputs": [
    {
     "name": "stdout",
     "output_type": "stream",
     "text": [
      "3064787165888\n",
      "3064787162688\n",
      "3064787165888\n",
      "[1000, 2000, 3000]\n",
      "[1000, 2000, 3000]\n",
      "[1000, 2000, 3000]\n"
     ]
    }
   ],
   "source": [
    "a=1000\n",
    "b=2000\n",
    "k=[a,b,3000]\n",
    "m=k.copy()\n",
    "n=k\n",
    "print(id(k))\n",
    "print(id(m))\n",
    "print(id(n))\n",
    "print(k)\n",
    "print(m)\n",
    "print(n)"
   ]
  },
  {
   "cell_type": "code",
   "execution_count": 7,
   "id": "86c1ae65",
   "metadata": {},
   "outputs": [
    {
     "name": "stdout",
     "output_type": "stream",
     "text": [
      "3064787168576\n",
      "3064787167936\n",
      "3064787168576\n",
      "[1000, 2000, 3000]\n",
      "[1000, 2000, 3000]\n",
      "[1000, 2000, 3000]\n",
      "3064786452144\n",
      "3064786452144\n",
      "3064786452144\n"
     ]
    }
   ],
   "source": [
    "a=1000\n",
    "b=2000\n",
    "k=[a,b,3000]\n",
    "m=k.copy()\n",
    "n=k\n",
    "print(id(k))\n",
    "print(id(m))\n",
    "print(id(n))\n",
    "print(k)\n",
    "print(m)\n",
    "print(n)\n",
    "print(id(k[0]))\n",
    "print(id(m[0]))\n",
    "print(id(n[0]))"
   ]
  },
  {
   "cell_type": "code",
   "execution_count": null,
   "id": "2a79ad97",
   "metadata": {},
   "outputs": [],
   "source": [
    "a=[1000,2000,3000]\n",
    "b=3000\n",
    "s=\"python\"\n",
    "k=[a,b,4000,s]\n",
    "m=k\n",
    "n=k.copy()\n"
   ]
  },
  {
   "cell_type": "code",
   "execution_count": 8,
   "id": "aa98dee2",
   "metadata": {},
   "outputs": [
    {
     "name": "stdout",
     "output_type": "stream",
     "text": [
      "None\n"
     ]
    }
   ],
   "source": [
    "k=[2,3,1,4]\n",
    "k1=k.sort()\n",
    "print(k1)"
   ]
  },
  {
   "cell_type": "code",
   "execution_count": 9,
   "id": "576df337",
   "metadata": {},
   "outputs": [
    {
     "name": "stdout",
     "output_type": "stream",
     "text": [
      "None\n",
      "[1, 2, 3, 4]\n"
     ]
    }
   ],
   "source": [
    "k=[2,3,1,4]\n",
    "k1=k.sort()\n",
    "print(k1)\n",
    "print(k)"
   ]
  },
  {
   "cell_type": "code",
   "execution_count": null,
   "id": "55a2b367",
   "metadata": {},
   "outputs": [],
   "source": [
    "k=[1,\"2\",3,\"0\"]\n",
    "k.sort()"
   ]
  },
  {
   "cell_type": "code",
   "execution_count": 10,
   "id": "13dc409e",
   "metadata": {},
   "outputs": [
    {
     "name": "stdout",
     "output_type": "stream",
     "text": [
      "[0, 1, 2.3]\n"
     ]
    }
   ],
   "source": [
    "k=[1,2.3,0]\n",
    "k.sort()\n",
    "print(k)"
   ]
  },
  {
   "cell_type": "code",
   "execution_count": 11,
   "id": "61e1d39d",
   "metadata": {},
   "outputs": [
    {
     "name": "stdout",
     "output_type": "stream",
     "text": [
      "[False, 1, True, 2]\n"
     ]
    }
   ],
   "source": [
    "k=[1,False, True,2]\n",
    "k.sort()\n",
    "print(k)"
   ]
  },
  {
   "cell_type": "code",
   "execution_count": 12,
   "id": "513ab2b6",
   "metadata": {},
   "outputs": [
    {
     "ename": "TypeError",
     "evalue": "'<' not supported between instances of 'str' and 'int'",
     "output_type": "error",
     "traceback": [
      "\u001b[1;31m---------------------------------------------------------------------------\u001b[0m",
      "\u001b[1;31mTypeError\u001b[0m                                 Traceback (most recent call last)",
      "Cell \u001b[1;32mIn[12], line 2\u001b[0m\n\u001b[0;32m      1\u001b[0m k\u001b[38;5;241m=\u001b[39m[\u001b[38;5;241m1\u001b[39m,\u001b[38;5;124m\"\u001b[39m\u001b[38;5;124m2\u001b[39m\u001b[38;5;124m\"\u001b[39m,\u001b[38;5;241m3\u001b[39m,\u001b[38;5;124m\"\u001b[39m\u001b[38;5;124m0\u001b[39m\u001b[38;5;124m\"\u001b[39m]\n\u001b[1;32m----> 2\u001b[0m k\u001b[38;5;241m.\u001b[39msort()\n",
      "\u001b[1;31mTypeError\u001b[0m: '<' not supported between instances of 'str' and 'int'"
     ]
    }
   ],
   "source": [
    "k=[1,\"2\",3,\"0\"]\n",
    "k.sort()"
   ]
  },
  {
   "cell_type": "code",
   "execution_count": 13,
   "id": "c805b984",
   "metadata": {},
   "outputs": [
    {
     "name": "stdout",
     "output_type": "stream",
     "text": [
      "['12', '2', '23', '3', '45']\n"
     ]
    }
   ],
   "source": [
    "k=[\"2\",\"12\",\"3\",\"45\",\"23\"]\n",
    "k.sort()\n",
    "print(k)"
   ]
  },
  {
   "cell_type": "code",
   "execution_count": 14,
   "id": "05f34732",
   "metadata": {},
   "outputs": [
    {
     "data": {
      "text/plain": [
       "False"
      ]
     },
     "execution_count": 14,
     "metadata": {},
     "output_type": "execute_result"
    }
   ],
   "source": [
    "\"12\">\"2\""
   ]
  },
  {
   "cell_type": "code",
   "execution_count": 16,
   "id": "61980d36",
   "metadata": {},
   "outputs": [
    {
     "name": "stdout",
     "output_type": "stream",
     "text": [
      "['apple', 'banana', 'grape', 'orange']\n"
     ]
    }
   ],
   "source": [
    "k=[\"apple\",\"orange\",\"banana\",\"grape\"]\n",
    "k.sort()\n",
    "print(k)"
   ]
  },
  {
   "cell_type": "code",
   "execution_count": 17,
   "id": "936bdcb5",
   "metadata": {},
   "outputs": [
    {
     "name": "stdout",
     "output_type": "stream",
     "text": [
      "['BAnana', 'apple', 'grape', 'orange']\n"
     ]
    }
   ],
   "source": [
    "k=[\"apple\",\"orange\",\"BAnana\",\"grape\"]\n",
    "k.sort()\n",
    "print(k)"
   ]
  },
  {
   "cell_type": "code",
   "execution_count": null,
   "id": "4630c6f8",
   "metadata": {},
   "outputs": [],
   "source": []
  }
 ],
 "metadata": {
  "kernelspec": {
   "display_name": "Python 3 (ipykernel)",
   "language": "python",
   "name": "python3"
  },
  "language_info": {
   "codemirror_mode": {
    "name": "ipython",
    "version": 3
   },
   "file_extension": ".py",
   "mimetype": "text/x-python",
   "name": "python",
   "nbconvert_exporter": "python",
   "pygments_lexer": "ipython3",
   "version": "3.11.3"
  }
 },
 "nbformat": 4,
 "nbformat_minor": 5
}
