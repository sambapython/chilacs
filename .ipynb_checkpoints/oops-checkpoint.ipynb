{
 "cells": [
  {
   "cell_type": "code",
   "execution_count": 1,
   "id": "c409c764",
   "metadata": {},
   "outputs": [
    {
     "name": "stdout",
     "output_type": "stream",
     "text": [
      "this is class\n"
     ]
    }
   ],
   "source": [
    "def fun():\n",
    "    print(\"this is fun\")\n",
    "class Emp:\n",
    "    print(\"this is class\")"
   ]
  },
  {
   "cell_type": "code",
   "execution_count": 2,
   "id": "48f5a702",
   "metadata": {},
   "outputs": [
    {
     "data": {
      "text/plain": [
       "function"
      ]
     },
     "execution_count": 2,
     "metadata": {},
     "output_type": "execute_result"
    }
   ],
   "source": [
    "type(fun)"
   ]
  },
  {
   "cell_type": "code",
   "execution_count": 3,
   "id": "be39bed3",
   "metadata": {},
   "outputs": [
    {
     "data": {
      "text/plain": [
       "type"
      ]
     },
     "execution_count": 3,
     "metadata": {},
     "output_type": "execute_result"
    }
   ],
   "source": [
    "type(Emp)"
   ]
  },
  {
   "cell_type": "code",
   "execution_count": 4,
   "id": "54ec8b9d",
   "metadata": {},
   "outputs": [
    {
     "name": "stdout",
     "output_type": "stream",
     "text": [
      "this is class\n"
     ]
    }
   ],
   "source": [
    "def fun():\n",
    "    print(\"this is fun\")\n",
    "class Emp:\n",
    "    print(\"this is class\")\n",
    "    x=1000\n",
    "    y=200\n",
    "    "
   ]
  },
  {
   "cell_type": "code",
   "execution_count": 5,
   "id": "24b5556e",
   "metadata": {},
   "outputs": [
    {
     "name": "stdout",
     "output_type": "stream",
     "text": [
      "this is class\n"
     ]
    },
    {
     "ename": "NameError",
     "evalue": "name 'x' is not defined",
     "output_type": "error",
     "traceback": [
      "\u001b[1;31m---------------------------------------------------------------------------\u001b[0m",
      "\u001b[1;31mNameError\u001b[0m                                 Traceback (most recent call last)",
      "Cell \u001b[1;32mIn[5], line 10\u001b[0m\n\u001b[0;32m      8\u001b[0m     \u001b[38;5;28;01mdef\u001b[39;00m \u001b[38;5;21mget\u001b[39m():\n\u001b[0;32m      9\u001b[0m         \u001b[38;5;28mprint\u001b[39m(\u001b[38;5;124m\"\u001b[39m\u001b[38;5;124mthis is get\u001b[39m\u001b[38;5;124m\"\u001b[39m)\n\u001b[1;32m---> 10\u001b[0m \u001b[38;5;28mprint\u001b[39m(x)\n",
      "\u001b[1;31mNameError\u001b[0m: name 'x' is not defined"
     ]
    }
   ],
   "source": [
    "def fun():\n",
    "    print(\"this is fun\")\n",
    "class Emp:\n",
    "    print(\"this is class\")\n",
    "    x=1000\n",
    "    y=200\n",
    "    \n",
    "    def get():\n",
    "        print(\"this is get\")\n",
    "print(x)"
   ]
  },
  {
   "cell_type": "code",
   "execution_count": 7,
   "id": "e5c49fba",
   "metadata": {},
   "outputs": [
    {
     "name": "stdout",
     "output_type": "stream",
     "text": [
      "this is class\n",
      "1000\n",
      "200\n",
      "this is get\n",
      "None\n"
     ]
    }
   ],
   "source": [
    "def fun():\n",
    "    print(\"this is fun\")\n",
    "class Emp:\n",
    "    print(\"this is class\")\n",
    "    x=1000\n",
    "    y=200\n",
    "    \n",
    "    def get():\n",
    "        print(\"this is get\")\n",
    "print(Emp.x)\n",
    "print(Emp.y)\n",
    "print(Emp.get())"
   ]
  },
  {
   "cell_type": "code",
   "execution_count": 10,
   "id": "947878a0",
   "metadata": {},
   "outputs": [
    {
     "name": "stdout",
     "output_type": "stream",
     "text": [
      "Jay\n",
      "1234\n",
      "12\n"
     ]
    }
   ],
   "source": [
    "def fun():\n",
    "    print(\"this is fun\")\n",
    "class Emp:\n",
    "    name=\"Jay\"\n",
    "    salary=1234\n",
    "    emp_id=12\n",
    "print(Emp.name)\n",
    "print(Emp.salary)\n",
    "print(Emp.emp_id)"
   ]
  },
  {
   "cell_type": "code",
   "execution_count": 11,
   "id": "6fa0f627",
   "metadata": {},
   "outputs": [
    {
     "name": "stdout",
     "output_type": "stream",
     "text": [
      "Jayram\n",
      "vedhanvesh\n"
     ]
    }
   ],
   "source": [
    "class Emp:\n",
    "    pass\n",
    "jay=Emp()\n",
    "jay.name=\"Jayram\"\n",
    "jay.salary=1234\n",
    "jay.emp_id=12\n",
    "vedha=Emp()\n",
    "vedha.name=\"vedhanvesh\"\n",
    "vedha.emp_id=13\n",
    "print(jay.name)\n",
    "print(vedha.name)\n"
   ]
  },
  {
   "cell_type": "code",
   "execution_count": 12,
   "id": "29367e8a",
   "metadata": {},
   "outputs": [
    {
     "name": "stdout",
     "output_type": "stream",
     "text": [
      "1234\n"
     ]
    },
    {
     "ename": "AttributeError",
     "evalue": "'Emp' object has no attribute 'salary'",
     "output_type": "error",
     "traceback": [
      "\u001b[1;31m---------------------------------------------------------------------------\u001b[0m",
      "\u001b[1;31mAttributeError\u001b[0m                            Traceback (most recent call last)",
      "Cell \u001b[1;32mIn[12], line 13\u001b[0m\n\u001b[0;32m     11\u001b[0m vedha\u001b[38;5;241m.\u001b[39mname\u001b[38;5;241m=\u001b[39m\u001b[38;5;124m\"\u001b[39m\u001b[38;5;124mvedhanvesh\u001b[39m\u001b[38;5;124m\"\u001b[39m\n\u001b[0;32m     12\u001b[0m vedha\u001b[38;5;241m.\u001b[39memp_id\u001b[38;5;241m=\u001b[39m\u001b[38;5;241m13\u001b[39m\n\u001b[1;32m---> 13\u001b[0m Emp\u001b[38;5;241m.\u001b[39msalary_cal(vedha)\n",
      "Cell \u001b[1;32mIn[12], line 3\u001b[0m, in \u001b[0;36mEmp.salary_cal\u001b[1;34m(x)\u001b[0m\n\u001b[0;32m      2\u001b[0m \u001b[38;5;28;01mdef\u001b[39;00m \u001b[38;5;21msalary_cal\u001b[39m(x):\n\u001b[1;32m----> 3\u001b[0m     \u001b[38;5;28mprint\u001b[39m(x\u001b[38;5;241m.\u001b[39msalary)\n",
      "\u001b[1;31mAttributeError\u001b[0m: 'Emp' object has no attribute 'salary'"
     ]
    }
   ],
   "source": [
    "class Emp:\n",
    "    def salary_cal(x):\n",
    "        print(x.salary)\n",
    "        \n",
    "jay=Emp()\n",
    "jay.name=\"Jayram\"\n",
    "jay.salary=1234\n",
    "jay.emp_id=12\n",
    "Emp.salary_cal(jay)\n",
    "vedha=Emp()\n",
    "vedha.name=\"vedhanvesh\"\n",
    "vedha.emp_id=13\n",
    "Emp.salary_cal(vedha)\n"
   ]
  },
  {
   "cell_type": "code",
   "execution_count": 13,
   "id": "d174967f",
   "metadata": {},
   "outputs": [
    {
     "name": "stdout",
     "output_type": "stream",
     "text": [
      "1234\n",
      "1245\n"
     ]
    }
   ],
   "source": [
    "class Emp:\n",
    "    company=\"AJA\"\n",
    "    def salary_cal(x):\n",
    "        print(x.salary)\n",
    "    def set_data(x, salary, emp_id, name):\n",
    "        x.name=name\n",
    "        x.salary=salary\n",
    "        x.emp_id=emp_id\n",
    "        \n",
    "        \n",
    "jay=Emp()\n",
    "Emp.set_data(jay, 1234, 12, \"Jayaram\")\n",
    "# jay.name=\"Jayram\"\n",
    "# jay.salary=1234\n",
    "# jay.emp_id=12\n",
    "Emp.salary_cal(jay)\n",
    "vedha=Emp()\n",
    "Emp.set_data(vedha,1245,13,\"Vedhanvesh\")\n",
    "# vedha.name=\"vedhanvesh\"\n",
    "# vedha.emp_id=13\n",
    "Emp.salary_cal(vedha)\n"
   ]
  },
  {
   "cell_type": "code",
   "execution_count": 14,
   "id": "c4b13dee",
   "metadata": {},
   "outputs": [
    {
     "name": "stdout",
     "output_type": "stream",
     "text": [
      "1234\n",
      "1245\n"
     ]
    },
    {
     "ename": "AttributeError",
     "evalue": "'Emp' object has no attribute 'salary'",
     "output_type": "error",
     "traceback": [
      "\u001b[1;31m---------------------------------------------------------------------------\u001b[0m",
      "\u001b[1;31mAttributeError\u001b[0m                            Traceback (most recent call last)",
      "Cell \u001b[1;32mIn[14], line 16\u001b[0m\n\u001b[0;32m     14\u001b[0m Emp\u001b[38;5;241m.\u001b[39msalary_cal(vedha)\n\u001b[0;32m     15\u001b[0m anil\u001b[38;5;241m=\u001b[39mEmp()\n\u001b[1;32m---> 16\u001b[0m Emp\u001b[38;5;241m.\u001b[39msalary_cal(anil)\n",
      "Cell \u001b[1;32mIn[14], line 4\u001b[0m, in \u001b[0;36mEmp.salary_cal\u001b[1;34m(x)\u001b[0m\n\u001b[0;32m      3\u001b[0m \u001b[38;5;28;01mdef\u001b[39;00m \u001b[38;5;21msalary_cal\u001b[39m(x):\n\u001b[1;32m----> 4\u001b[0m     \u001b[38;5;28mprint\u001b[39m(x\u001b[38;5;241m.\u001b[39msalary)\n",
      "\u001b[1;31mAttributeError\u001b[0m: 'Emp' object has no attribute 'salary'"
     ]
    }
   ],
   "source": [
    "class Emp:\n",
    "    company=\"AJA\"\n",
    "    def salary_cal(x):\n",
    "        print(x.salary)\n",
    "    def set_data(x, salary, emp_id, name):\n",
    "        x.name=name\n",
    "        x.salary=salary\n",
    "        x.emp_id=emp_id        \n",
    "jay=Emp()\n",
    "Emp.set_data(jay, 1234, 12, \"Jayaram\")\n",
    "Emp.salary_cal(jay)\n",
    "vedha=Emp()\n",
    "Emp.set_data(vedha,1245,13,\"Vedhanvesh\")\n",
    "Emp.salary_cal(vedha)\n",
    "anil=Emp()\n",
    "Emp.salary_cal(anil)"
   ]
  },
  {
   "cell_type": "code",
   "execution_count": 15,
   "id": "db2c4fa7",
   "metadata": {},
   "outputs": [
    {
     "name": "stdout",
     "output_type": "stream",
     "text": [
      "this is class\n"
     ]
    }
   ],
   "source": [
    "class Emp:\n",
    "    print(\"this is class\")\n",
    "    def get(x):\n",
    "        print(\"this is get\")\n",
    "    def __init__(x):\n",
    "        print(\"this is init\")   "
   ]
  },
  {
   "cell_type": "code",
   "execution_count": 16,
   "id": "df408192",
   "metadata": {},
   "outputs": [
    {
     "name": "stdout",
     "output_type": "stream",
     "text": [
      "this is class\n",
      "this is init\n"
     ]
    }
   ],
   "source": [
    "class Emp:\n",
    "    print(\"this is class\")\n",
    "    def get(x):\n",
    "        print(\"this is get\")\n",
    "    def __init__(x):\n",
    "        print(\"this is init\")   \n",
    "jay=Emp()"
   ]
  },
  {
   "cell_type": "code",
   "execution_count": 18,
   "id": "57bcc177",
   "metadata": {},
   "outputs": [
    {
     "name": "stdout",
     "output_type": "stream",
     "text": [
      "this is class\n",
      "<__main__.Emp object at 0x0000013A8174A290> jayaram 1350791635600\n",
      "this is init\n",
      "1350791635600\n"
     ]
    }
   ],
   "source": [
    "class Emp:\n",
    "    print(\"this is class\")\n",
    "    def get(x):\n",
    "        print(\"this is get\")\n",
    "    def __init__(x, name):# constructor\n",
    "        print(x, name, id(x))\n",
    "        print(\"this is init\")   \n",
    "jay=Emp(\"jayaram\")\n",
    "print(id(jay))"
   ]
  },
  {
   "cell_type": "code",
   "execution_count": 20,
   "id": "61d96bf9",
   "metadata": {},
   "outputs": [
    {
     "name": "stdout",
     "output_type": "stream",
     "text": [
      "this is class\n",
      "<__main__.Emp object at 0x0000013A817498D0> jayaram 1350791633104\n",
      "this is init\n",
      "1350791633104\n",
      "<__main__.Emp object at 0x0000013A81767790> VEDHANCESH 1350791755664\n",
      "this is init\n",
      "1350791755664\n"
     ]
    }
   ],
   "source": [
    "class Emp:\n",
    "    print(\"this is class\")\n",
    "    def get(x):\n",
    "        print(\"this is get\")\n",
    "    def __init__(x, name):# constructor\n",
    "        print(x, name, id(x))\n",
    "        print(\"this is init\")   \n",
    "jay=Emp(\"jayaram\")\n",
    "print(id(jay))\n",
    "vedha=Emp(\"VEDHANCESH\")\n",
    "print(id(vedha))"
   ]
  },
  {
   "cell_type": "code",
   "execution_count": 21,
   "id": "4f368649",
   "metadata": {},
   "outputs": [
    {
     "name": "stdout",
     "output_type": "stream",
     "text": [
      "this is class\n",
      "('jayaram', 1234, 12)\n",
      "('VEDHANCESH', 1345, 13)\n"
     ]
    }
   ],
   "source": [
    "class Emp:\n",
    "    print(\"this is class\")\n",
    "    def get(x):\n",
    "        return x.name, x.salary, x.emp_id\n",
    "    def __init__(x, name, emp_id, salary):# constructor\n",
    "        x.name=name\n",
    "        x.salary=salary\n",
    "        x.emp_id=emp_id\n",
    "jay=Emp(\"jayaram\",12,1234)\n",
    "vedha=Emp(\"VEDHANCESH\",13,1345)\n",
    "print(Emp.get(jay))\n",
    "print(Emp.get(vedha))\n"
   ]
  },
  {
   "cell_type": "code",
   "execution_count": 22,
   "id": "b3099527",
   "metadata": {},
   "outputs": [
    {
     "name": "stdout",
     "output_type": "stream",
     "text": [
      "this is class\n",
      "('jayaram', 1234, 12)\n",
      "('VEDHANCESH', 1345, 13)\n"
     ]
    }
   ],
   "source": [
    "class Emp:\n",
    "    print(\"this is class\")\n",
    "    def get(self):\n",
    "        return self.name, self.salary, self.emp_id\n",
    "    def __init__(self, name, emp_id, salary):# constructor\n",
    "        self.name=name\n",
    "        self.salary=salary\n",
    "        self.emp_id=emp_id\n",
    "jay=Emp(\"jayaram\",12,1234)\n",
    "vedha=Emp(\"VEDHANCESH\",13,1345)\n",
    "print(Emp.get(jay))\n",
    "print(Emp.get(vedha))\n"
   ]
  },
  {
   "cell_type": "code",
   "execution_count": 23,
   "id": "2180db91",
   "metadata": {},
   "outputs": [
    {
     "name": "stdout",
     "output_type": "stream",
     "text": [
      "('jayaram', 1234, 12)\n",
      "('VEDHANCESH', 1345, 13)\n"
     ]
    },
    {
     "ename": "AttributeError",
     "evalue": "type object 'Emp' has no attribute 'name'",
     "output_type": "error",
     "traceback": [
      "\u001b[1;31m---------------------------------------------------------------------------\u001b[0m",
      "\u001b[1;31mAttributeError\u001b[0m                            Traceback (most recent call last)",
      "Cell \u001b[1;32mIn[23], line 13\u001b[0m\n\u001b[0;32m     11\u001b[0m \u001b[38;5;28mprint\u001b[39m(Emp\u001b[38;5;241m.\u001b[39mget(jay))\n\u001b[0;32m     12\u001b[0m \u001b[38;5;28mprint\u001b[39m(Emp\u001b[38;5;241m.\u001b[39mget(vedha))\n\u001b[1;32m---> 13\u001b[0m \u001b[38;5;28mprint\u001b[39m(Emp\u001b[38;5;241m.\u001b[39mname)\n",
      "\u001b[1;31mAttributeError\u001b[0m: type object 'Emp' has no attribute 'name'"
     ]
    }
   ],
   "source": [
    "class Emp:\n",
    "    company=\"AJA\"\n",
    "    def get(self):\n",
    "        return self.name, self.salary, self.emp_id\n",
    "    def __init__(self, name, emp_id, salary):# constructor\n",
    "        self.name=name\n",
    "        self.salary=salary\n",
    "        self.emp_id=emp_id\n",
    "jay=Emp(\"jayaram\",12,1234)\n",
    "vedha=Emp(\"VEDHANCESH\",13,1345)\n",
    "print(Emp.get(jay))\n",
    "print(Emp.get(vedha))\n",
    "print(Emp.name)"
   ]
  },
  {
   "cell_type": "code",
   "execution_count": 24,
   "id": "7883d3a2",
   "metadata": {},
   "outputs": [
    {
     "name": "stdout",
     "output_type": "stream",
     "text": [
      "('jayaram', 1234, 12)\n",
      "('VEDHANCESH', 1345, 13)\n",
      "AJA\n",
      "AJA\n"
     ]
    }
   ],
   "source": [
    "class Emp:\n",
    "    company=\"AJA\"\n",
    "    def get(self):\n",
    "        return self.name, self.salary, self.emp_id\n",
    "    def __init__(self, name, emp_id, salary):# constructor\n",
    "        self.name=name\n",
    "        self.salary=salary\n",
    "        self.emp_id=emp_id\n",
    "jay=Emp(\"jayaram\",12,1234)\n",
    "vedha=Emp(\"VEDHANCESH\",13,1345)\n",
    "print(Emp.get(jay))\n",
    "print(Emp.get(vedha))\n",
    "print(Emp.company)\n",
    "print(jay.company)"
   ]
  },
  {
   "cell_type": "code",
   "execution_count": 25,
   "id": "09ce5866",
   "metadata": {},
   "outputs": [
    {
     "name": "stdout",
     "output_type": "stream",
     "text": [
      "('jayaram', 1234, 12)\n",
      "('VEDHANCESH', 1345, 13)\n",
      "AJA\n",
      "AJA\n"
     ]
    }
   ],
   "source": [
    "class Emp:\n",
    "    company=\"AJA\"\n",
    "    def get(self):\n",
    "        return self.name, self.salary, self.emp_id\n",
    "    def __init__(self, name, emp_id, salary):# constructor\n",
    "        self.name=name\n",
    "        self.salary=salary\n",
    "        self.emp_id=emp_id\n",
    "jay=Emp(\"jayaram\",12,1234)\n",
    "vedha=Emp(\"VEDHANCESH\",13,1345)\n",
    "print(jay.get())#print(Emp.get(jay))\n",
    "print(vedha.get())#print(Emp.get(vedha))\n",
    "print(Emp.company)\n",
    "print(jay.company)"
   ]
  },
  {
   "cell_type": "code",
   "execution_count": 26,
   "id": "01aa07df",
   "metadata": {},
   "outputs": [
    {
     "name": "stdout",
     "output_type": "stream",
     "text": [
      "('jayaram', 1234, 12)\n",
      "('VEDHANCESH', 1345, 13)\n",
      "AJA\n",
      "AJA\n"
     ]
    }
   ],
   "source": [
    "class Emp:\n",
    "    company=\"AJA\"\n",
    "    def get_company(self):\n",
    "        return self.company\n",
    "    def get(self):\n",
    "        return self.name, self.salary, self.emp_id\n",
    "    def __init__(self, name, emp_id, salary):# constructor\n",
    "        self.name=name\n",
    "        self.salary=salary\n",
    "        self.emp_id=emp_id\n",
    "jay=Emp(\"jayaram\",12,1234)\n",
    "vedha=Emp(\"VEDHANCESH\",13,1345)\n",
    "print(jay.get())#print(Emp.get(jay))\n",
    "print(vedha.get())#print(Emp.get(vedha))\n",
    "print(jay.get_company())\n",
    "print(vedha.get_company())"
   ]
  },
  {
   "cell_type": "code",
   "execution_count": 27,
   "id": "5c5b4a4c",
   "metadata": {},
   "outputs": [
    {
     "name": "stdout",
     "output_type": "stream",
     "text": [
      "('jayaram', 1234, 12)\n",
      "('VEDHANCESH', 1345, 13)\n",
      "1350792910096\n",
      "AJA\n",
      "1350792723920\n",
      "AJA\n",
      "1350792910096\n"
     ]
    }
   ],
   "source": [
    "class Emp:\n",
    "    company=\"AJA\"\n",
    "    def get_company(self):\n",
    "        print(id(self))\n",
    "        return self.company\n",
    "    def get(self):\n",
    "        return self.name, self.salary, self.emp_id\n",
    "    def __init__(self, name, emp_id, salary):# constructor\n",
    "        self.name=name\n",
    "        self.salary=salary\n",
    "        self.emp_id=emp_id\n",
    "jay=Emp(\"jayaram\",12,1234)\n",
    "vedha=Emp(\"VEDHANCESH\",13,1345)\n",
    "print(jay.get())#print(Emp.get(jay))\n",
    "print(vedha.get())#print(Emp.get(vedha))\n",
    "print(jay.get_company())\n",
    "print(vedha.get_company())\n",
    "print(id(jay))"
   ]
  },
  {
   "cell_type": "code",
   "execution_count": 28,
   "id": "ab9b6ac6",
   "metadata": {},
   "outputs": [
    {
     "name": "stdout",
     "output_type": "stream",
     "text": [
      "('jayaram', 1234, 12)\n",
      "('VEDHANCESH', 1345, 13)\n",
      "self_id 1350767626592\n",
      "AJA\n",
      "self_id 1350767626592\n",
      "AJA\n",
      "jay_id 1350792659920\n",
      "Emp_id 1350767626592\n"
     ]
    }
   ],
   "source": [
    "class Emp:\n",
    "    company=\"AJA\"\n",
    "    @classmethod\n",
    "    def get_company(self):#class method\n",
    "        print(\"self_id\",id(self))\n",
    "        return self.company\n",
    "    def get(self):#instance method\n",
    "        return self.name, self.salary, self.emp_id\n",
    "    def __init__(self, name, emp_id, salary):# constructor\n",
    "        self.name=name\n",
    "        self.salary=salary\n",
    "        self.emp_id=emp_id\n",
    "jay=Emp(\"jayaram\",12,1234)\n",
    "vedha=Emp(\"VEDHANCESH\",13,1345)\n",
    "print(jay.get())#print(Emp.get(jay))\n",
    "print(vedha.get())#print(Emp.get(vedha))\n",
    "print(jay.get_company())\n",
    "print(vedha.get_company())\n",
    "print(\"jay_id\", id(jay))\n",
    "print(\"Emp_id\",id(Emp))"
   ]
  },
  {
   "cell_type": "code",
   "execution_count": 30,
   "id": "93168a4a",
   "metadata": {},
   "outputs": [
    {
     "name": "stdout",
     "output_type": "stream",
     "text": [
      "('jayaram', 1234, 12)\n"
     ]
    }
   ],
   "source": [
    "class Emp:\n",
    "    company=\"AJA\"\n",
    "    @classmethod\n",
    "    def get_company(self):#class method\n",
    "        return self.company\n",
    "    def get(self):#instance method\n",
    "        return self.name, self.salary, self.emp_id\n",
    "    def __init__(self, name, emp_id, salary):\n",
    "        self.name=name\n",
    "        self.salary=salary\n",
    "        self.emp_id=emp_id\n",
    "jay=Emp(\"jayaram\",12,1234)\n",
    "print(jay.get())"
   ]
  },
  {
   "cell_type": "code",
   "execution_count": 31,
   "id": "fbf2e03e",
   "metadata": {},
   "outputs": [
    {
     "name": "stdout",
     "output_type": "stream",
     "text": [
      "('jayaram', 1234, 12)\n",
      "AJA\n",
      "AJA\n"
     ]
    }
   ],
   "source": [
    "class Emp:\n",
    "    company=\"AJA\"\n",
    "    @classmethod\n",
    "    def get_company(self):#class method\n",
    "        return self.company\n",
    "    def get(self):#instance method\n",
    "        return self.name, self.salary, self.emp_id\n",
    "    def __init__(self, name, emp_id, salary):\n",
    "        self.name=name\n",
    "        self.salary=salary\n",
    "        self.emp_id=emp_id\n",
    "    \n",
    "jay=Emp(\"jayaram\",12,1234)\n",
    "print(jay.get())\n",
    "print(jay.get_company())\n",
    "print(Emp.get_company())"
   ]
  },
  {
   "cell_type": "code",
   "execution_count": 32,
   "id": "13cfec04",
   "metadata": {},
   "outputs": [
    {
     "name": "stdout",
     "output_type": "stream",
     "text": [
      "('jayaram', 1234, 12)\n",
      "AJA\n",
      "AJA\n",
      "30\n",
      "3000\n"
     ]
    }
   ],
   "source": [
    "class Emp:\n",
    "    company=\"AJA\"\n",
    "    @classmethod\n",
    "    def get_company(self):#class method\n",
    "        return self.company\n",
    "    def get(self):#instance method\n",
    "        return self.name, self.salary, self.emp_id\n",
    "    def __init__(self, name, emp_id, salary):\n",
    "        self.name=name\n",
    "        self.salary=salary\n",
    "        self.emp_id=emp_id\n",
    "    @staticmethod\n",
    "    def fun(a,b):\n",
    "        return a+b\n",
    "    \n",
    "jay=Emp(\"jayaram\",12,1234)\n",
    "print(jay.get())\n",
    "print(jay.get_company())\n",
    "print(Emp.get_company())\n",
    "print(Emp.fun(10,20))\n",
    "print(jay.fun(1000,2000))"
   ]
  },
  {
   "cell_type": "code",
   "execution_count": 1,
   "id": "a5068b6a",
   "metadata": {},
   "outputs": [
    {
     "name": "stdout",
     "output_type": "stream",
     "text": [
      "(1000, 10, 20)\n"
     ]
    }
   ],
   "source": [
    "# inheritance\n",
    "class Parent:\n",
    "    x=1000\n",
    "    def __init__(self, a,b):\n",
    "        self.a=a\n",
    "        self.b=b\n",
    "    def get(self):\n",
    "        return self.x, self.a, self.b\n",
    "p=Parent(10,20)\n",
    "print(p.get())"
   ]
  },
  {
   "cell_type": "code",
   "execution_count": 2,
   "id": "a1884764",
   "metadata": {},
   "outputs": [
    {
     "ename": "AttributeError",
     "evalue": "'Child' object has no attribute 'get'",
     "output_type": "error",
     "traceback": [
      "\u001b[1;31m---------------------------------------------------------------------------\u001b[0m",
      "\u001b[1;31mAttributeError\u001b[0m                            Traceback (most recent call last)",
      "Cell \u001b[1;32mIn[2], line 12\u001b[0m\n\u001b[0;32m     10\u001b[0m     \u001b[38;5;28;01mpass\u001b[39;00m\n\u001b[0;32m     11\u001b[0m c\u001b[38;5;241m=\u001b[39mChild()\n\u001b[1;32m---> 12\u001b[0m \u001b[38;5;28mprint\u001b[39m(c\u001b[38;5;241m.\u001b[39mget())\n",
      "\u001b[1;31mAttributeError\u001b[0m: 'Child' object has no attribute 'get'"
     ]
    }
   ],
   "source": [
    "# inheritance\n",
    "class Parent:\n",
    "    x=1000\n",
    "    def __init__(self, a,b):\n",
    "        self.a=a\n",
    "        self.b=b\n",
    "    def get(self):\n",
    "        return self.x, self.a, self.b\n",
    "class Child:\n",
    "    pass\n",
    "c=Child()\n",
    "print(c.get())"
   ]
  },
  {
   "cell_type": "code",
   "execution_count": 3,
   "id": "e523c8ec",
   "metadata": {},
   "outputs": [
    {
     "name": "stdout",
     "output_type": "stream",
     "text": [
      "HELLO\n"
     ]
    }
   ],
   "source": [
    "# inheritance\n",
    "class Parent:\n",
    "    x=1000\n",
    "    def __init__(self, a,b):\n",
    "        self.a=a\n",
    "        self.b=b\n",
    "    def get(self):\n",
    "        return self.x, self.a, self.b\n",
    "class Child:\n",
    "    def get(self):\n",
    "        return \"HELLO\"\n",
    "c=Child()\n",
    "print(c.get())"
   ]
  },
  {
   "cell_type": "code",
   "execution_count": 4,
   "id": "1df4dd21",
   "metadata": {},
   "outputs": [
    {
     "name": "stdout",
     "output_type": "stream",
     "text": [
      "HELLO\n"
     ]
    }
   ],
   "source": [
    "# inheritance\n",
    "class Parent:\n",
    "    x=1000\n",
    "    def __init__(self, a,b):\n",
    "        self.a=a\n",
    "        self.b=b\n",
    "    def get(self):\n",
    "        return self.x, self.a, self.b\n",
    "class Child:\n",
    "    def get_data(self):\n",
    "        \n",
    "        return \"HELLO\"\n",
    "c=Child()\n",
    "print(c.get_data())"
   ]
  },
  {
   "cell_type": "code",
   "execution_count": 5,
   "id": "f56d44f1",
   "metadata": {},
   "outputs": [
    {
     "name": "stdout",
     "output_type": "stream",
     "text": [
      "(1000, 10, 20)\n",
      "HELLO\n"
     ]
    }
   ],
   "source": [
    "# inheritance\n",
    "class Parent:\n",
    "    x=1000\n",
    "    def __init__(self, a,b):\n",
    "        self.a=a\n",
    "        self.b=b\n",
    "    def get(self):\n",
    "        return self.x, self.a, self.b\n",
    "class Child:\n",
    "    def get_data(self):\n",
    "        p=Parent(10,20)\n",
    "        print(p.get())\n",
    "        return \"HELLO\"\n",
    "c=Child()\n",
    "print(c.get_data())"
   ]
  },
  {
   "cell_type": "code",
   "execution_count": 6,
   "id": "50ac3a65",
   "metadata": {},
   "outputs": [
    {
     "ename": "AttributeError",
     "evalue": "'Child' object has no attribute 'get'",
     "output_type": "error",
     "traceback": [
      "\u001b[1;31m---------------------------------------------------------------------------\u001b[0m",
      "\u001b[1;31mAttributeError\u001b[0m                            Traceback (most recent call last)",
      "Cell \u001b[1;32mIn[6], line 14\u001b[0m\n\u001b[0;32m     12\u001b[0m         \u001b[38;5;28;01mreturn\u001b[39;00m \u001b[38;5;124m\"\u001b[39m\u001b[38;5;124mHELLO\u001b[39m\u001b[38;5;124m\"\u001b[39m\n\u001b[0;32m     13\u001b[0m c\u001b[38;5;241m=\u001b[39mChild()\n\u001b[1;32m---> 14\u001b[0m \u001b[38;5;28mprint\u001b[39m(c\u001b[38;5;241m.\u001b[39mget_data())\n",
      "Cell \u001b[1;32mIn[6], line 11\u001b[0m, in \u001b[0;36mChild.get_data\u001b[1;34m(self)\u001b[0m\n\u001b[0;32m     10\u001b[0m \u001b[38;5;28;01mdef\u001b[39;00m \u001b[38;5;21mget_data\u001b[39m(\u001b[38;5;28mself\u001b[39m):\n\u001b[1;32m---> 11\u001b[0m     \u001b[38;5;28mprint\u001b[39m(\u001b[38;5;28mself\u001b[39m\u001b[38;5;241m.\u001b[39mget())\n\u001b[0;32m     12\u001b[0m     \u001b[38;5;28;01mreturn\u001b[39;00m \u001b[38;5;124m\"\u001b[39m\u001b[38;5;124mHELLO\u001b[39m\u001b[38;5;124m\"\u001b[39m\n",
      "\u001b[1;31mAttributeError\u001b[0m: 'Child' object has no attribute 'get'"
     ]
    }
   ],
   "source": [
    "# inheritance\n",
    "class Parent:\n",
    "    x=1000\n",
    "    def __init__(self, a,b):\n",
    "        self.a=a\n",
    "        self.b=b\n",
    "    def get(self):\n",
    "        return self.x, self.a, self.b\n",
    "class Child:\n",
    "    def get_data(self):\n",
    "        print(self.get())\n",
    "        return \"HELLO\"\n",
    "c=Child()\n",
    "print(c.get_data())"
   ]
  },
  {
   "cell_type": "code",
   "execution_count": 7,
   "id": "9fdeb24b",
   "metadata": {},
   "outputs": [
    {
     "ename": "TypeError",
     "evalue": "Parent.__init__() missing 2 required positional arguments: 'a' and 'b'",
     "output_type": "error",
     "traceback": [
      "\u001b[1;31m---------------------------------------------------------------------------\u001b[0m",
      "\u001b[1;31mTypeError\u001b[0m                                 Traceback (most recent call last)",
      "Cell \u001b[1;32mIn[7], line 13\u001b[0m\n\u001b[0;32m     11\u001b[0m         \u001b[38;5;28mprint\u001b[39m(\u001b[38;5;28mself\u001b[39m\u001b[38;5;241m.\u001b[39mget())\n\u001b[0;32m     12\u001b[0m         \u001b[38;5;28;01mreturn\u001b[39;00m \u001b[38;5;124m\"\u001b[39m\u001b[38;5;124mHELLO\u001b[39m\u001b[38;5;124m\"\u001b[39m\n\u001b[1;32m---> 13\u001b[0m c\u001b[38;5;241m=\u001b[39mChild()\n\u001b[0;32m     14\u001b[0m \u001b[38;5;28mprint\u001b[39m(c\u001b[38;5;241m.\u001b[39mget_data())\n",
      "\u001b[1;31mTypeError\u001b[0m: Parent.__init__() missing 2 required positional arguments: 'a' and 'b'"
     ]
    }
   ],
   "source": [
    "# inheritance\n",
    "class Parent:\n",
    "    x=1000\n",
    "    def __init__(self, a,b):\n",
    "        self.a=a\n",
    "        self.b=b\n",
    "    def get(self):\n",
    "        return self.x, self.a, self.b\n",
    "class Child(Parent):\n",
    "    def get_data(self):\n",
    "        print(self.get())\n",
    "        return \"HELLO\"\n",
    "c=Child()\n",
    "print(c.get_data())"
   ]
  },
  {
   "cell_type": "code",
   "execution_count": 8,
   "id": "be731f09",
   "metadata": {},
   "outputs": [
    {
     "name": "stdout",
     "output_type": "stream",
     "text": [
      "(1000, 10, 20)\n",
      "HELLO\n"
     ]
    }
   ],
   "source": [
    "# inheritance\n",
    "class Parent:\n",
    "    x=1000\n",
    "    def __init__(self, a,b):\n",
    "        self.a=a\n",
    "        self.b=b\n",
    "    def get(self):\n",
    "        return self.x, self.a, self.b\n",
    "class Child(Parent):\n",
    "    def get_data(self):\n",
    "        print(self.get())\n",
    "        return \"HELLO\"\n",
    "c=Child(10,20)\n",
    "print(c.get_data())"
   ]
  },
  {
   "cell_type": "code",
   "execution_count": 9,
   "id": "c375ba9e",
   "metadata": {},
   "outputs": [
    {
     "name": "stdout",
     "output_type": "stream",
     "text": [
      "this is get in child\n",
      "None\n",
      "HELLO\n"
     ]
    }
   ],
   "source": [
    "# inheritance\n",
    "class Parent:\n",
    "    x=1000\n",
    "    def __init__(self, a,b):\n",
    "        self.a=a\n",
    "        self.b=b\n",
    "    def get(self):\n",
    "        return self.x, self.a, self.b\n",
    "class Child(Parent):\n",
    "    def get_data(self):\n",
    "        print(self.get())\n",
    "        return \"HELLO\"\n",
    "    def get(self):\n",
    "        print(\"this is get in child\")\n",
    "c=Child(10,20)\n",
    "print(c.get_data())"
   ]
  },
  {
   "cell_type": "code",
   "execution_count": 10,
   "id": "6f544af7",
   "metadata": {},
   "outputs": [
    {
     "name": "stdout",
     "output_type": "stream",
     "text": [
      "(1000, 10, 20)\n"
     ]
    }
   ],
   "source": [
    "# inheritance\n",
    "class Parent:\n",
    "    x=1000\n",
    "    def __init__(self, a,b):\n",
    "        self.a=a\n",
    "        self.b=b\n",
    "    def get(self):\n",
    "        return self.x, self.a, self.b\n",
    "    \n",
    "class Child(Parent):\n",
    "    pass\n",
    "c=Child(10,20)\n",
    "print(c.get())"
   ]
  },
  {
   "cell_type": "code",
   "execution_count": null,
   "id": "1f6c513f",
   "metadata": {},
   "outputs": [],
   "source": [
    "# inheritance\n",
    "class Parent:\n",
    "    x=1000\n",
    "    def __init__(self, a,b):\n",
    "        self.a=a\n",
    "        self.b=b\n",
    "    def get(self):\n",
    "        return self.x, self.a, self.b\n",
    "    \n",
    "class Child(Parent):# infinite iteration..\n",
    "    def get(self):\n",
    "        return self.get()\n",
    "c=Child(10,20)\n",
    "print(c.get())"
   ]
  },
  {
   "cell_type": "code",
   "execution_count": 11,
   "id": "bc60389f",
   "metadata": {},
   "outputs": [
    {
     "name": "stdout",
     "output_type": "stream",
     "text": [
      "(1000, 10, 20)\n"
     ]
    }
   ],
   "source": [
    "# inheritance\n",
    "class Parent:\n",
    "    x=1000\n",
    "    def __init__(self, a,b):\n",
    "        self.a=a\n",
    "        self.b=b\n",
    "    def get(self):\n",
    "        return self.x, self.a, self.b\n",
    "    \n",
    "class Child(Parent):# infinite iteration..\n",
    "    def get(self):\n",
    "        return Parent.get(self)\n",
    "c=Child(10,20)\n",
    "print(c.get())"
   ]
  },
  {
   "cell_type": "code",
   "execution_count": 12,
   "id": "fb82faf8",
   "metadata": {},
   "outputs": [
    {
     "name": "stdout",
     "output_type": "stream",
     "text": [
      "('e1', 10)\n"
     ]
    }
   ],
   "source": [
    "\n",
    "class Employee:\n",
    "    def __init__(self, name, e_id):\n",
    "        self.name=name\n",
    "        self.e_id=e_id\n",
    "    \n",
    "    def get(self):\n",
    "        return self.name, self.e_id\n",
    "    \n",
    "e1=Employee(\"e1\",10)\n",
    "print(e1.get())"
   ]
  },
  {
   "cell_type": "code",
   "execution_count": 13,
   "id": "04ae7dd3",
   "metadata": {},
   "outputs": [
    {
     "name": "stdout",
     "output_type": "stream",
     "text": [
      "('e1', 10, '23456')\n"
     ]
    }
   ],
   "source": [
    "\n",
    "class Employee:\n",
    "    def __init__(self, name, e_id, phone):\n",
    "        self.name=name\n",
    "        self.e_id=e_id\n",
    "        self.phone=phone\n",
    "    def get(self):\n",
    "        return self.name, self.e_id,self.phone\n",
    "    \n",
    "e1=Employee(\"e1\",10,\"23456\")\n",
    "print(e1.get())"
   ]
  },
  {
   "cell_type": "code",
   "execution_count": 15,
   "id": "d7047b65",
   "metadata": {},
   "outputs": [
    {
     "name": "stdout",
     "output_type": "stream",
     "text": [
      "('e1', 10, '23456', 'e@gmail.com')\n"
     ]
    }
   ],
   "source": [
    "\n",
    "class Employee:\n",
    "    def __init__(self, name, e_id, phone, email):\n",
    "        self.name=name\n",
    "        self.e_id=e_id\n",
    "        self.phone=phone\n",
    "        self.email=email\n",
    "    def get(self):\n",
    "        return self.name, self.e_id,self.phone, self.email\n",
    "    \n",
    "e1=Employee(\"e1\",10,\"23456\",\"e@gmail.com\")\n",
    "print(e1.get())"
   ]
  },
  {
   "cell_type": "code",
   "execution_count": 16,
   "id": "81b3d4c1",
   "metadata": {},
   "outputs": [
    {
     "name": "stdout",
     "output_type": "stream",
     "text": [
      "('e1', 10)\n"
     ]
    }
   ],
   "source": [
    "from emp import Employee\n",
    "e1=Employee(\"e1\",10)\n",
    "print(e1.get())"
   ]
  },
  {
   "cell_type": "code",
   "execution_count": 20,
   "id": "388596a3",
   "metadata": {},
   "outputs": [
    {
     "ename": "TypeError",
     "evalue": "Employee.__init__() takes 3 positional arguments but 5 were given",
     "output_type": "error",
     "traceback": [
      "\u001b[1;31m---------------------------------------------------------------------------\u001b[0m",
      "\u001b[1;31mTypeError\u001b[0m                                 Traceback (most recent call last)",
      "Cell \u001b[1;32mIn[20], line 2\u001b[0m\n\u001b[0;32m      1\u001b[0m \u001b[38;5;28;01mfrom\u001b[39;00m \u001b[38;5;21;01memp\u001b[39;00m \u001b[38;5;28;01mimport\u001b[39;00m Employee\n\u001b[1;32m----> 2\u001b[0m e1\u001b[38;5;241m=\u001b[39mEmployee(\u001b[38;5;124m\"\u001b[39m\u001b[38;5;124me1\u001b[39m\u001b[38;5;124m\"\u001b[39m,\u001b[38;5;241m10\u001b[39m,\u001b[38;5;124m\"\u001b[39m\u001b[38;5;124m324325\u001b[39m\u001b[38;5;124m\"\u001b[39m,\u001b[38;5;124m\"\u001b[39m\u001b[38;5;124me1@gmail.com\u001b[39m\u001b[38;5;124m\"\u001b[39m)\n\u001b[0;32m      3\u001b[0m \u001b[38;5;28mprint\u001b[39m(e1\u001b[38;5;241m.\u001b[39mget())\n",
      "\u001b[1;31mTypeError\u001b[0m: Employee.__init__() takes 3 positional arguments but 5 were given"
     ]
    }
   ],
   "source": [
    "from emp import Employee\n",
    "e1=Employee(\"e1\",10,\"324325\",\"e1@gmail.com\")\n",
    "print(e1.get())"
   ]
  },
  {
   "cell_type": "code",
   "execution_count": 3,
   "id": "9a0620a6",
   "metadata": {},
   "outputs": [
    {
     "name": "stdout",
     "output_type": "stream",
     "text": [
      "('e1', 10, 432453252, 'e1@gmail.clom')\n"
     ]
    }
   ],
   "source": [
    "from emp import Employee\n",
    "class MyEmployee(Employee):\n",
    "    def __init__(self, name, e_id, phone, email):\n",
    "        self.name=name\n",
    "        self.e_id=e_id\n",
    "        self.phone=phone\n",
    "        self.email=email\n",
    "    def get(self):\n",
    "        return self.name, self.e_id,self.phone, self.email\n",
    "e1=MyEmployee(\"e1\",10,432453252,\"e1@gmail.clom\")\n",
    "print(e1.get())"
   ]
  },
  {
   "cell_type": "code",
   "execution_count": 4,
   "id": "1a8e5b6e",
   "metadata": {},
   "outputs": [
    {
     "name": "stdout",
     "output_type": "stream",
     "text": [
      "('e1', 10, 432453252, 'e1@gmail.clom')\n"
     ]
    }
   ],
   "source": [
    "from emp import Employee\n",
    "class MyEmployee(Employee):\n",
    "    def __init__(self, name, e_id, phone, email):\n",
    "#         self.name=name\n",
    "#         self.e_id=e_id\n",
    "        Employee.__init__(self, name, e_id)\n",
    "        self.phone=phone\n",
    "        self.email=email\n",
    "    def get(self):\n",
    "        return Employee.get(self)+(self.phone, self.email)\n",
    "e1=MyEmployee(\"e1\",10,432453252,\"e1@gmail.clom\")\n",
    "print(e1.get())"
   ]
  },
  {
   "cell_type": "code",
   "execution_count": 5,
   "id": "198f96a6",
   "metadata": {},
   "outputs": [
    {
     "name": "stdout",
     "output_type": "stream",
     "text": [
      "('e1', 10, 432453252, 'e1@gmail.clom')\n"
     ]
    }
   ],
   "source": [
    "from emp import Employee\n",
    "class MyEmployee(Employee):\n",
    "    def __init__(self, name, e_id, phone, email):\n",
    "        Employee.__init__(self, name, e_id)\n",
    "        self.phone=phone\n",
    "        self.email=email\n",
    "    def get(self):\n",
    "        return Employee.get(self)+(self.phone, self.email)\n",
    "e1=MyEmployee(\"e1\",10,432453252,\"e1@gmail.clom\")\n",
    "print(e1.get())"
   ]
  },
  {
   "cell_type": "code",
   "execution_count": null,
   "id": "8afc81df",
   "metadata": {},
   "outputs": [],
   "source": [
    "from emp import Employee\n",
    "class MyEmployee(Employee):\n",
    "    def __init__(self, name, e_id, phone, email):\n",
    "        self.__init__(name, e_id)# infinite recursion\n",
    "        self.phone=phone\n",
    "        self.email=email\n",
    "    def get(self):\n",
    "        return self.get()+(self.phone, self.email)# infinite recursion\n",
    "e1=MyEmployee(\"e1\",10,432453252,\"e1@gmail.clom\")\n",
    "print(e1.get())"
   ]
  },
  {
   "cell_type": "code",
   "execution_count": 6,
   "id": "3038a745",
   "metadata": {},
   "outputs": [
    {
     "name": "stdout",
     "output_type": "stream",
     "text": [
      "('e1', 10, 432453252, 'e1@gmail.clom')\n"
     ]
    }
   ],
   "source": [
    "from emp import Employee\n",
    "class MyEmployee(Employee):\n",
    "    def __init__(self, name, e_id, phone, email):\n",
    "        super(MyEmployee, self).__init__(name, e_id)# infinite recursion\n",
    "        self.phone=phone\n",
    "        self.email=email\n",
    "    def get(self):\n",
    "        return super(MyEmployee,self).get()+(self.phone, self.email)# infinite recursion\n",
    "e1=MyEmployee(\"e1\",10,432453252,\"e1@gmail.clom\")\n",
    "print(e1.get())"
   ]
  },
  {
   "cell_type": "code",
   "execution_count": 2,
   "id": "1b764d8e",
   "metadata": {},
   "outputs": [
    {
     "name": "stdout",
     "output_type": "stream",
     "text": [
      "('e1', 10, 432453252, 'e1@gmail.clom', 'H', 'E', 'L', 'L', 'O')\n"
     ]
    }
   ],
   "source": [
    "from emp import Employee\n",
    "class MyEmployee(Employee):\n",
    "    def __init__(self, name, e_id, phone, email):\n",
    "        super(MyEmployee, self).__init__(name, e_id)# infinite recursion\n",
    "        self.phone=phone\n",
    "        self.email=email\n",
    "    def get(self):\n",
    "        return super(MyEmployee,self).get()+(self.phone, self.email)+tuple(self.get1())# infinite recursion\n",
    "e1=MyEmployee(\"e1\",10,432453252,\"e1@gmail.clom\")\n",
    "print(e1.get())"
   ]
  },
  {
   "cell_type": "code",
   "execution_count": 3,
   "id": "2294e069",
   "metadata": {},
   "outputs": [
    {
     "name": "stdout",
     "output_type": "stream",
     "text": [
      "4000000\n"
     ]
    }
   ],
   "source": [
    "\"\"\"\n",
    "company: bands: A:20LPA, B: 30LPA, C:40LPA \n",
    "\"\"\"\n",
    "class Emp:\n",
    "    def __init__(self, name, band):\n",
    "        self.name=name\n",
    "        self.band=band\n",
    "        if self.band==\"A\":\n",
    "            sal=2000000\n",
    "        elif self.band==\"B\":\n",
    "            sal=3000000\n",
    "        elif self.band==\"C\":\n",
    "            sal=4000000\n",
    "        self.salary=sal\n",
    "a=Emp(\"employee_1\",\"A\")\n",
    "b=Emp(\"employee_2\",\"B\")\n",
    "c=Emp(\"employee_3\",\"C\")\n",
    "print(c.salary)"
   ]
  },
  {
   "cell_type": "code",
   "execution_count": 4,
   "id": "e925e20d",
   "metadata": {},
   "outputs": [
    {
     "name": "stdout",
     "output_type": "stream",
     "text": [
      "4000000\n"
     ]
    }
   ],
   "source": [
    "\"\"\"\n",
    "company: bands: A:20LPA, B: 30LPA, C:40LPA \n",
    "\"\"\"\n",
    "band_salary_data = {\"A\":2000000, \"B\":3000000, \"C\":4000000}\n",
    "class Emp:\n",
    "    def __init__(self, name, band):\n",
    "        self.name=name\n",
    "        self.band=band\n",
    "        self.salary=band_salary_data[band]\n",
    "a=Emp(\"employee_1\",\"A\")\n",
    "b=Emp(\"employee_2\",\"B\")\n",
    "c=Emp(\"employee_3\",\"C\")\n",
    "print(c.salary)"
   ]
  },
  {
   "cell_type": "code",
   "execution_count": 5,
   "id": "8da896c5",
   "metadata": {},
   "outputs": [
    {
     "name": "stdout",
     "output_type": "stream",
     "text": [
      "4000000\n"
     ]
    }
   ],
   "source": [
    "\"\"\"\n",
    "company: bands: A:20LPA, B: 30LPA, C:40LPA \n",
    "\"\"\"\n",
    "band_salary_data = {\"A\":2000000, \"B\":3000000, \"C\":4000000}\n",
    "class Emp:\n",
    "    def __init__(self, name, band):\n",
    "        self.name=name\n",
    "        self.band=band\n",
    "        self.salary=band_salary_data.get(band, 0)\n",
    "a=Emp(\"employee_1\",\"A\")\n",
    "b=Emp(\"employee_2\",\"B\")\n",
    "c=Emp(\"employee_3\",\"C\")\n",
    "print(c.salary)"
   ]
  },
  {
   "cell_type": "code",
   "execution_count": 6,
   "id": "c5331a65",
   "metadata": {},
   "outputs": [
    {
     "name": "stdout",
     "output_type": "stream",
     "text": [
      "4000000\n",
      "2000000\n"
     ]
    }
   ],
   "source": [
    "\"\"\"\n",
    "company: bands: A:20LPA, B: 30LPA, C:40LPA \n",
    "\"\"\"\n",
    "band_salary_data = {\"A\":2000000, \"B\":3000000, \"C\":4000000}\n",
    "class Emp:\n",
    "    def __init__(self, name, band):\n",
    "        self.name=name\n",
    "        self.band=band\n",
    "        self.salary=band_salary_data.get(band, 0)\n",
    "a=Emp(\"employee_1\",\"A\")\n",
    "b=Emp(\"employee_2\",\"B\")\n",
    "c=Emp(\"employee_3\",\"C\")\n",
    "print(c.salary)\n",
    "a.band=\"B\"\n",
    "print(a.salary)"
   ]
  },
  {
   "cell_type": "code",
   "execution_count": 3,
   "id": "8caf6f56",
   "metadata": {},
   "outputs": [
    {
     "ename": "TypeError",
     "evalue": "'Emp' object does not support the context manager protocol",
     "output_type": "error",
     "traceback": [
      "\u001b[1;31m---------------------------------------------------------------------------\u001b[0m",
      "\u001b[1;31mTypeError\u001b[0m                                 Traceback (most recent call last)",
      "Cell \u001b[1;32mIn[3], line 6\u001b[0m\n\u001b[0;32m      4\u001b[0m         \u001b[38;5;28mself\u001b[39m\u001b[38;5;241m.\u001b[39msalary\u001b[38;5;241m=\u001b[39msalary\n\u001b[0;32m      5\u001b[0m e1\u001b[38;5;241m=\u001b[39mEmp(\u001b[38;5;124m\"\u001b[39m\u001b[38;5;124me1\u001b[39m\u001b[38;5;124m\"\u001b[39m,\u001b[38;5;241m21344321\u001b[39m)\n\u001b[1;32m----> 6\u001b[0m \u001b[38;5;28;01mwith\u001b[39;00m Emp(\u001b[38;5;124m\"\u001b[39m\u001b[38;5;124me2\u001b[39m\u001b[38;5;124m\"\u001b[39m,\u001b[38;5;241m234\u001b[39m) \u001b[38;5;28;01mas\u001b[39;00m e2:\n\u001b[0;32m      7\u001b[0m     \u001b[38;5;28mprint\u001b[39m(e2)\n\u001b[0;32m      8\u001b[0m     \u001b[38;5;28mprint\u001b[39m(\u001b[38;5;124m\"\u001b[39m\u001b[38;5;124mhello\u001b[39m\u001b[38;5;124m\"\u001b[39m)\n",
      "\u001b[1;31mTypeError\u001b[0m: 'Emp' object does not support the context manager protocol"
     ]
    }
   ],
   "source": [
    "class Emp:\n",
    "    def __init__(self, name, salary):\n",
    "        self.name=name\n",
    "        self.salary=salary\n",
    "e1=Emp(\"e1\",21344321)\n",
    "with Emp(\"e2\",234) as e2:\n",
    "    print(e2)\n",
    "    print(\"hello\")\n",
    "    \n"
   ]
  },
  {
   "cell_type": "code",
   "execution_count": 6,
   "id": "f638ca5e",
   "metadata": {},
   "outputs": [
    {
     "name": "stdout",
     "output_type": "stream",
     "text": [
      "MAIN\n",
      "INIT\n",
      "OPENING WITH BLOCK\n",
      "INIT\n",
      "ENTER\n",
      "WITH BLOCK SARTED\n",
      "None\n",
      "hello\n",
      "WITH BLOCK ENDED\n",
      "EXIT\n",
      "MAIN\n"
     ]
    }
   ],
   "source": [
    "# __enter__, __exit__\n",
    "print(\"MAIN\")\n",
    "class Emp:\n",
    "    \n",
    "    def __init__(self, name, salary):\n",
    "        print(\"INIT\")\n",
    "        self.name=name\n",
    "        self.salary=salary\n",
    "    def __enter__(self, *args, **kwargs):\n",
    "        print(\"ENTER\")\n",
    "        print(\"WITH BLOCK SARTED\")\n",
    "    def __exit__(self, *args, **kwargs):\n",
    "        print(\"WITH BLOCK ENDED\")\n",
    "        print(\"EXIT\")\n",
    "e1=Emp(\"e1\",21344321)\n",
    "print(\"OPENING WITH BLOCK\")\n",
    "with Emp(\"e2\",234) as e2:\n",
    "    print(e2)\n",
    "    print(\"hello\")\n",
    "print(\"MAIN\")  \n"
   ]
  },
  {
   "cell_type": "code",
   "execution_count": 7,
   "id": "235f8e8d",
   "metadata": {},
   "outputs": [
    {
     "name": "stdout",
     "output_type": "stream",
     "text": [
      "MAIN\n",
      "INIT\n",
      "OPENING WITH BLOCK\n",
      "INIT\n",
      "ENTER\n",
      "WITH BLOCK SARTED\n",
      "<__main__.Emp object at 0x0000016523BE4D90>\n",
      "hello\n",
      "WITH BLOCK ENDED\n",
      "EXIT\n",
      "MAIN\n"
     ]
    }
   ],
   "source": [
    "# __enter__, __exit__\n",
    "print(\"MAIN\")\n",
    "class Emp:\n",
    "    \n",
    "    def __init__(self, name, salary):\n",
    "        print(\"INIT\")\n",
    "        self.name=name\n",
    "        self.salary=salary\n",
    "    def __enter__(self, *args, **kwargs):\n",
    "        print(\"ENTER\")\n",
    "        print(\"WITH BLOCK SARTED\")\n",
    "        return self\n",
    "    def __exit__(self, *args, **kwargs):\n",
    "        print(\"WITH BLOCK ENDED\")\n",
    "        print(\"EXIT\")\n",
    "e1=Emp(\"e1\",21344321)\n",
    "print(\"OPENING WITH BLOCK\")\n",
    "with Emp(\"e2\",234) as e2:\n",
    "    print(e2)\n",
    "    print(\"hello\")\n",
    "    \n",
    "print(\"MAIN\")  \n"
   ]
  },
  {
   "cell_type": "code",
   "execution_count": 8,
   "id": "bbc7f33c",
   "metadata": {},
   "outputs": [
    {
     "name": "stdout",
     "output_type": "stream",
     "text": [
      "MAIN\n",
      "INIT\n",
      "OPENING WITH BLOCK\n",
      "INIT\n",
      "ENTER\n",
      "WITH BLOCK SARTED\n",
      "<__main__.Emp object at 0x000001652343D510>\n",
      "hello\n",
      "WITH BLOCK ENDED\n",
      "EXIT\n",
      "<__main__.Emp object at 0x000001652343D510>\n",
      "MAIN\n"
     ]
    }
   ],
   "source": [
    "# __enter__, __exit__\n",
    "print(\"MAIN\")\n",
    "class Emp:\n",
    "    \n",
    "    def __init__(self, name, salary):\n",
    "        print(\"INIT\")\n",
    "        self.name=name\n",
    "        self.salary=salary\n",
    "    def __enter__(self, *args, **kwargs):\n",
    "        print(\"ENTER\")\n",
    "        print(\"WITH BLOCK SARTED\")\n",
    "        return self\n",
    "    def __exit__(self, *args, **kwargs):\n",
    "        print(\"WITH BLOCK ENDED\")\n",
    "        print(\"EXIT\")\n",
    "e1=Emp(\"e1\",21344321)\n",
    "print(\"OPENING WITH BLOCK\")\n",
    "with Emp(\"e2\",234) as e2:\n",
    "    print(e2)\n",
    "    print(\"hello\")\n",
    "print(e2) \n",
    "print(\"MAIN\")  \n"
   ]
  },
  {
   "cell_type": "code",
   "execution_count": 9,
   "id": "3e256a47",
   "metadata": {},
   "outputs": [
    {
     "name": "stdout",
     "output_type": "stream",
     "text": [
      "Many Hindus believe that the Kumbh Mela originated in times immemorial \n",
      "and is attested in the Hindu Puranas about Samudra Manthana (lit. churning of the ocean) \n",
      "found in the Puranas. Historians, in contrast, reject these claims as none of the ancient or\n",
      " medieval era texts that mention the Samudra Manthana legend ever link it to a \"mela\" or festival. \n",
      "According to Giorgio Bonazzoli, a scholar of Sanskrit Puranas, these are anachronistic explanations, \n",
      "an adaptation of early legends to a later practice by a \"small circle of adherents\" \n",
      "who have sought the roots of a highly popular pilgrimage and festiva\n"
     ]
    }
   ],
   "source": [
    "f=open(\"data1.txt\")\n",
    "data=f.read()\n",
    "print(data)"
   ]
  },
  {
   "cell_type": "code",
   "execution_count": 10,
   "id": "b8b37f90",
   "metadata": {},
   "outputs": [
    {
     "name": "stdout",
     "output_type": "stream",
     "text": [
      "['_CHUNK_SIZE', '__class__', '__del__', '__delattr__', '__dict__', '__dir__', '__doc__', '__enter__', '__eq__', '__exit__', '__format__', '__ge__', '__getattribute__', '__getstate__', '__gt__', '__hash__', '__init__', '__init_subclass__', '__iter__', '__le__', '__lt__', '__ne__', '__new__', '__next__', '__reduce__', '__reduce_ex__', '__repr__', '__setattr__', '__sizeof__', '__str__', '__subclasshook__', '_checkClosed', '_checkReadable', '_checkSeekable', '_checkWritable', '_finalizing', 'buffer', 'close', 'closed', 'detach', 'encoding', 'errors', 'fileno', 'flush', 'isatty', 'line_buffering', 'mode', 'name', 'newlines', 'read', 'readable', 'readline', 'readlines', 'reconfigure', 'seek', 'seekable', 'tell', 'truncate', 'writable', 'write', 'write_through', 'writelines']\n"
     ]
    }
   ],
   "source": [
    "print(dir(f))"
   ]
  },
  {
   "cell_type": "code",
   "execution_count": 12,
   "id": "a619d646",
   "metadata": {},
   "outputs": [
    {
     "data": {
      "text/plain": [
       "False"
      ]
     },
     "execution_count": 12,
     "metadata": {},
     "output_type": "execute_result"
    }
   ],
   "source": [
    "f.closed"
   ]
  },
  {
   "cell_type": "code",
   "execution_count": 13,
   "id": "df24dd63",
   "metadata": {},
   "outputs": [],
   "source": [
    "f.close()"
   ]
  },
  {
   "cell_type": "code",
   "execution_count": 14,
   "id": "d5a49955",
   "metadata": {},
   "outputs": [
    {
     "data": {
      "text/plain": [
       "True"
      ]
     },
     "execution_count": 14,
     "metadata": {},
     "output_type": "execute_result"
    }
   ],
   "source": [
    "f.closed"
   ]
  },
  {
   "cell_type": "code",
   "execution_count": 15,
   "id": "6e9b9d7b",
   "metadata": {},
   "outputs": [
    {
     "name": "stdout",
     "output_type": "stream",
     "text": [
      "Many Hindus believe that the Kumbh Mela originated in times immemorial \n",
      "and is attested in the Hindu Puranas about Samudra Manthana (lit. churning of the ocean) \n",
      "found in the Puranas. Historians, in contrast, reject these claims as none of the ancient or\n",
      " medieval era texts that mention the Samudra Manthana legend ever link it to a \"mela\" or festival. \n",
      "According to Giorgio Bonazzoli, a scholar of Sanskrit Puranas, these are anachronistic explanations, \n",
      "an adaptation of early legends to a later practice by a \"small circle of adherents\" \n",
      "who have sought the roots of a highly popular pilgrimage and festiva\n"
     ]
    }
   ],
   "source": [
    "f=open(\"data1.txt\")\n",
    "data=f.read()\n",
    "print(data)\n",
    "f.close()"
   ]
  },
  {
   "cell_type": "code",
   "execution_count": 16,
   "id": "499376f9",
   "metadata": {},
   "outputs": [
    {
     "name": "stdout",
     "output_type": "stream",
     "text": [
      "Many Hindus believe that the Kumbh Mela originated in times immemorial \n",
      "and is attested in the Hindu Puranas about Samudra Manthana (lit. churning of the ocean) \n",
      "found in the Puranas. Historians, in contrast, reject these claims as none of the ancient or\n",
      " medieval era texts that mention the Samudra Manthana legend ever link it to a \"mela\" or festival. \n",
      "According to Giorgio Bonazzoli, a scholar of Sanskrit Puranas, these are anachronistic explanations, \n",
      "an adaptation of early legends to a later practice by a \"small circle of adherents\" \n",
      "who have sought the roots of a highly popular pilgrimage and festiva\n"
     ]
    }
   ],
   "source": [
    "with open(\"data1.txt\") as f:\n",
    "    data=f.read()\n",
    "    print(data)"
   ]
  },
  {
   "cell_type": "code",
   "execution_count": 17,
   "id": "953d7102",
   "metadata": {},
   "outputs": [
    {
     "data": {
      "text/plain": [
       "True"
      ]
     },
     "execution_count": 17,
     "metadata": {},
     "output_type": "execute_result"
    }
   ],
   "source": [
    "f.closed"
   ]
  },
  {
   "cell_type": "code",
   "execution_count": 18,
   "id": "032a0268",
   "metadata": {},
   "outputs": [
    {
     "ename": "Exception",
     "evalue": "SOME ISSUE",
     "output_type": "error",
     "traceback": [
      "\u001b[1;31m---------------------------------------------------------------------------\u001b[0m",
      "\u001b[1;31mException\u001b[0m                                 Traceback (most recent call last)",
      "Cell \u001b[1;32mIn[18], line 3\u001b[0m\n\u001b[0;32m      1\u001b[0m \u001b[38;5;28;01mwith\u001b[39;00m \u001b[38;5;28mopen\u001b[39m(\u001b[38;5;124m\"\u001b[39m\u001b[38;5;124mdata1.txt\u001b[39m\u001b[38;5;124m\"\u001b[39m) \u001b[38;5;28;01mas\u001b[39;00m f:\n\u001b[0;32m      2\u001b[0m     data\u001b[38;5;241m=\u001b[39mf\u001b[38;5;241m.\u001b[39mread()\n\u001b[1;32m----> 3\u001b[0m     \u001b[38;5;28;01mraise\u001b[39;00m \u001b[38;5;167;01mException\u001b[39;00m(\u001b[38;5;124m\"\u001b[39m\u001b[38;5;124mSOME ISSUE\u001b[39m\u001b[38;5;124m\"\u001b[39m)\n\u001b[0;32m      4\u001b[0m     \u001b[38;5;28mprint\u001b[39m(data)\n",
      "\u001b[1;31mException\u001b[0m: SOME ISSUE"
     ]
    }
   ],
   "source": [
    "with open(\"data1.txt\") as f:\n",
    "    data=f.read()\n",
    "    raise Exception(\"SOME ISSUE\")\n",
    "    print(data)"
   ]
  },
  {
   "cell_type": "code",
   "execution_count": 19,
   "id": "b23aff81",
   "metadata": {},
   "outputs": [
    {
     "data": {
      "text/plain": [
       "True"
      ]
     },
     "execution_count": 19,
     "metadata": {},
     "output_type": "execute_result"
    }
   ],
   "source": [
    "f.closed"
   ]
  },
  {
   "cell_type": "code",
   "execution_count": 20,
   "id": "90430658",
   "metadata": {},
   "outputs": [
    {
     "name": "stdout",
     "output_type": "stream",
     "text": [
      "MAIN\n",
      "INIT\n",
      "OPENING WITH BLOCK\n",
      "INIT\n",
      "ENTER\n",
      "WITH BLOCK SARTED\n",
      "<__main__.Emp object at 0x0000016523C06DD0>\n",
      "hello\n",
      "WITH BLOCK ENDED\n",
      "EXIT\n",
      "<__main__.Emp object at 0x0000016523C06DD0>\n",
      "MAIN\n"
     ]
    }
   ],
   "source": [
    "# __enter__, __exit__\n",
    "print(\"MAIN\")\n",
    "class Emp:\n",
    "    \n",
    "    def __init__(self, name, salary):\n",
    "        print(\"INIT\")\n",
    "        self.name=name\n",
    "        self.salary=salary\n",
    "    def __enter__(self, *args, **kwargs):\n",
    "        print(\"ENTER\")\n",
    "        print(\"WITH BLOCK SARTED\")\n",
    "        return self\n",
    "    def __exit__(self, *args, **kwargs):\n",
    "        print(\"WITH BLOCK ENDED\")\n",
    "        print(\"EXIT\")\n",
    "e1=Emp(\"e1\",21344321)\n",
    "print(\"OPENING WITH BLOCK\")\n",
    "with Emp(\"e2\",234) as e2:\n",
    "    print(e2)\n",
    "    print(\"hello\")\n",
    "print(e2) \n",
    "print(\"MAIN\")  \n"
   ]
  },
  {
   "cell_type": "code",
   "execution_count": 21,
   "id": "ae0eb714",
   "metadata": {},
   "outputs": [
    {
     "name": "stdout",
     "output_type": "stream",
     "text": [
      "MAIN\n",
      "INIT\n",
      "OPENING WITH BLOCK\n",
      "INIT\n",
      "ENTER\n",
      "WITH BLOCK SARTED\n",
      "<__main__.Emp object at 0x0000016523C07A90>\n",
      "WITH BLOCK ENDED\n",
      "EXIT\n"
     ]
    },
    {
     "ename": "Exception",
     "evalue": "SOME ISSUE",
     "output_type": "error",
     "traceback": [
      "\u001b[1;31m---------------------------------------------------------------------------\u001b[0m",
      "\u001b[1;31mException\u001b[0m                                 Traceback (most recent call last)",
      "Cell \u001b[1;32mIn[21], line 20\u001b[0m\n\u001b[0;32m     18\u001b[0m \u001b[38;5;28;01mwith\u001b[39;00m Emp(\u001b[38;5;124m\"\u001b[39m\u001b[38;5;124me2\u001b[39m\u001b[38;5;124m\"\u001b[39m,\u001b[38;5;241m234\u001b[39m) \u001b[38;5;28;01mas\u001b[39;00m e2:\n\u001b[0;32m     19\u001b[0m     \u001b[38;5;28mprint\u001b[39m(e2)\n\u001b[1;32m---> 20\u001b[0m     \u001b[38;5;28;01mraise\u001b[39;00m \u001b[38;5;167;01mException\u001b[39;00m(\u001b[38;5;124m\"\u001b[39m\u001b[38;5;124mSOME ISSUE\u001b[39m\u001b[38;5;124m\"\u001b[39m)\n\u001b[0;32m     21\u001b[0m     \u001b[38;5;28mprint\u001b[39m(\u001b[38;5;124m\"\u001b[39m\u001b[38;5;124mhello\u001b[39m\u001b[38;5;124m\"\u001b[39m)\n\u001b[0;32m     22\u001b[0m \u001b[38;5;28mprint\u001b[39m(e2) \n",
      "\u001b[1;31mException\u001b[0m: SOME ISSUE"
     ]
    }
   ],
   "source": [
    "# __enter__, __exit__\n",
    "print(\"MAIN\")\n",
    "class Emp:\n",
    "    \n",
    "    def __init__(self, name, salary):\n",
    "        print(\"INIT\")\n",
    "        self.name=name\n",
    "        self.salary=salary\n",
    "    def __enter__(self, *args, **kwargs):\n",
    "        print(\"ENTER\")\n",
    "        print(\"WITH BLOCK SARTED\")\n",
    "        return self\n",
    "    def __exit__(self, *args, **kwargs):\n",
    "        print(\"WITH BLOCK ENDED\")\n",
    "        print(\"EXIT\")\n",
    "e1=Emp(\"e1\",21344321)\n",
    "print(\"OPENING WITH BLOCK\")\n",
    "with Emp(\"e2\",234) as e2:\n",
    "    print(e2)\n",
    "    raise Exception(\"SOME ISSUE\")\n",
    "    print(\"hello\")\n",
    "print(e2) \n",
    "print(\"MAIN\")  \n"
   ]
  },
  {
   "cell_type": "code",
   "execution_count": 24,
   "id": "616f283c",
   "metadata": {},
   "outputs": [],
   "source": [
    "import psycopg2\n",
    "\n",
    "try:\n",
    "    con = psycopg2.connect(host=\"localhost\",user=\"postgres\",password=\"postgres\",port=5432,database=\"chillacs\")\n",
    "except Exception as err:\n",
    "    print(err)\n",
    "finally:\n",
    "    con.close()\n"
   ]
  },
  {
   "cell_type": "code",
   "execution_count": 25,
   "id": "6ca5f198",
   "metadata": {},
   "outputs": [
    {
     "data": {
      "text/plain": [
       "1"
      ]
     },
     "execution_count": 25,
     "metadata": {},
     "output_type": "execute_result"
    }
   ],
   "source": [
    "con.closed"
   ]
  },
  {
   "cell_type": "code",
   "execution_count": 26,
   "id": "2ac0b3aa",
   "metadata": {},
   "outputs": [
    {
     "name": "stdout",
     "output_type": "stream",
     "text": [
      "connected to db\n",
      "[(2, 'Jessica Hebert'), (3, 'Melissa Taylor'), (4, 'Barry Jackson'), (5, 'Ricky Brown'), (6, 'Molly Moore'), (7, 'Stephanie Chang'), (8, 'Lynn White'), (9, 'Richard Jones'), (10, 'Rebecca Krause'), (11, 'Martin Lopez'), (12, 'Sherry Salas'), (13, 'Shawn Johnson'), (14, 'Paula Arroyo'), (15, 'Debbie Johnson'), (16, 'Christine Robinson'), (17, 'Curtis Waters'), (18, 'John Green'), (19, 'Laurie Barrett'), (20, 'Adrian George'), (21, 'Julie Meyer'), (22, 'Vicki Jones'), (23, 'Jill Brown'), (24, 'Rachael Becker'), (25, 'Michelle Oliver'), (26, 'Crystal Morris'), (27, 'Audrey Mejia'), (28, 'John Lopez'), (29, 'Kevin Ingram'), (30, 'Tom Morrison'), (31, 'Erik Collins'), (32, 'Deborah Henderson DDS'), (33, 'Jennifer Pollard'), (34, 'Cory Phillips'), (35, 'Christopher Graves'), (36, 'Connie Lee'), (37, 'Joshua Ramirez'), (38, 'Anne Chandler'), (39, 'Donald Stevenson'), (40, 'Jim Coleman'), (41, 'Paul Moore DVM'), (42, 'Karen Christensen'), (43, 'Tommy Woods'), (44, 'Jesse Maldonado'), (45, 'Lauren Snyder'), (46, 'Vincent Roberts'), (47, 'Lynn Flores'), (48, 'Gail Ramirez'), (49, 'Mark Murphy'), (50, 'Justin Lopez'), (51, 'Carrie Nielsen'), (52, 'Mark Wright'), (53, 'James Gardner'), (54, 'Kathleen Burnett'), (55, 'David Jensen'), (56, 'Catherine Adams'), (57, 'Bill Johns'), (58, 'Patricia Ward'), (59, 'Matthew Lucas'), (60, 'Angela Robinson'), (61, 'Lori Roberts'), (62, 'Gary Conrad'), (63, 'Casey Doyle MD'), (64, 'Felicia Higgins'), (65, 'Vincent Monroe'), (66, 'Tracy Ritter'), (67, 'Benjamin Salazar'), (68, 'Alexander Levy'), (69, 'Michael Kemp'), (70, 'Jose Brooks'), (71, 'Shawn Levine'), (72, 'Joseph Blankenship'), (73, 'Eric Norris'), (74, 'Rachel Foster'), (75, 'David White'), (76, 'Frank Contreras'), (77, 'Abigail Rose'), (78, 'Victor Weaver'), (79, 'Samuel Shannon'), (80, 'Pamela Wheeler'), (81, 'Richard Castillo'), (82, 'Jesse Wilson MD'), (83, 'Tammy Pratt'), (84, 'Francisco Christensen'), (85, 'Christine Morrison'), (86, 'Brittany Rogers'), (87, 'Ann Olson'), (88, 'Connor Morgan'), (89, 'Ryan Hall'), (90, 'Ms. Cynthia Jones'), (91, 'Patrick Hendricks'), (92, 'Elizabeth Coleman'), (93, 'Kelly Martinez'), (94, 'Angel Woods'), (95, 'Michael Nelson'), (96, 'Michael Brown'), (97, 'Cynthia Villa'), (98, 'Michael Sawyer'), (99, 'Dillon Gordon'), (100, 'Jessica Bowen'), (101, 'Eric Mahoney'), (102, 'Sarah Spencer')]\n"
     ]
    }
   ],
   "source": [
    "with psycopg2.connect(host=\"localhost\",user=\"postgres\",password=\"postgres\",port=5432,database=\"chillacs\") as con:\n",
    "    print(\"connected to db\")\n",
    "    cur = con.cursor()\n",
    "    cur.execute(\"select * from person\")\n",
    "    data = cur.fetchall()\n",
    "    print(data)"
   ]
  },
  {
   "cell_type": "code",
   "execution_count": 27,
   "id": "1083f75a",
   "metadata": {},
   "outputs": [
    {
     "data": {
      "text/plain": [
       "0"
      ]
     },
     "execution_count": 27,
     "metadata": {},
     "output_type": "execute_result"
    }
   ],
   "source": [
    "con.closed"
   ]
  },
  {
   "cell_type": "code",
   "execution_count": 28,
   "id": "23c64722",
   "metadata": {},
   "outputs": [
    {
     "data": {
      "text/plain": [
       "False"
      ]
     },
     "execution_count": 28,
     "metadata": {},
     "output_type": "execute_result"
    }
   ],
   "source": [
    "cur.closed"
   ]
  },
  {
   "cell_type": "code",
   "execution_count": 29,
   "id": "e4faf10b",
   "metadata": {},
   "outputs": [
    {
     "name": "stdout",
     "output_type": "stream",
     "text": [
      "connected to db\n",
      "[(2, 'Jessica Hebert'), (3, 'Melissa Taylor'), (4, 'Barry Jackson'), (5, 'Ricky Brown'), (6, 'Molly Moore'), (7, 'Stephanie Chang'), (8, 'Lynn White'), (9, 'Richard Jones'), (10, 'Rebecca Krause'), (11, 'Martin Lopez'), (12, 'Sherry Salas'), (13, 'Shawn Johnson'), (14, 'Paula Arroyo'), (15, 'Debbie Johnson'), (16, 'Christine Robinson'), (17, 'Curtis Waters'), (18, 'John Green'), (19, 'Laurie Barrett'), (20, 'Adrian George'), (21, 'Julie Meyer'), (22, 'Vicki Jones'), (23, 'Jill Brown'), (24, 'Rachael Becker'), (25, 'Michelle Oliver'), (26, 'Crystal Morris'), (27, 'Audrey Mejia'), (28, 'John Lopez'), (29, 'Kevin Ingram'), (30, 'Tom Morrison'), (31, 'Erik Collins'), (32, 'Deborah Henderson DDS'), (33, 'Jennifer Pollard'), (34, 'Cory Phillips'), (35, 'Christopher Graves'), (36, 'Connie Lee'), (37, 'Joshua Ramirez'), (38, 'Anne Chandler'), (39, 'Donald Stevenson'), (40, 'Jim Coleman'), (41, 'Paul Moore DVM'), (42, 'Karen Christensen'), (43, 'Tommy Woods'), (44, 'Jesse Maldonado'), (45, 'Lauren Snyder'), (46, 'Vincent Roberts'), (47, 'Lynn Flores'), (48, 'Gail Ramirez'), (49, 'Mark Murphy'), (50, 'Justin Lopez'), (51, 'Carrie Nielsen'), (52, 'Mark Wright'), (53, 'James Gardner'), (54, 'Kathleen Burnett'), (55, 'David Jensen'), (56, 'Catherine Adams'), (57, 'Bill Johns'), (58, 'Patricia Ward'), (59, 'Matthew Lucas'), (60, 'Angela Robinson'), (61, 'Lori Roberts'), (62, 'Gary Conrad'), (63, 'Casey Doyle MD'), (64, 'Felicia Higgins'), (65, 'Vincent Monroe'), (66, 'Tracy Ritter'), (67, 'Benjamin Salazar'), (68, 'Alexander Levy'), (69, 'Michael Kemp'), (70, 'Jose Brooks'), (71, 'Shawn Levine'), (72, 'Joseph Blankenship'), (73, 'Eric Norris'), (74, 'Rachel Foster'), (75, 'David White'), (76, 'Frank Contreras'), (77, 'Abigail Rose'), (78, 'Victor Weaver'), (79, 'Samuel Shannon'), (80, 'Pamela Wheeler'), (81, 'Richard Castillo'), (82, 'Jesse Wilson MD'), (83, 'Tammy Pratt'), (84, 'Francisco Christensen'), (85, 'Christine Morrison'), (86, 'Brittany Rogers'), (87, 'Ann Olson'), (88, 'Connor Morgan'), (89, 'Ryan Hall'), (90, 'Ms. Cynthia Jones'), (91, 'Patrick Hendricks'), (92, 'Elizabeth Coleman'), (93, 'Kelly Martinez'), (94, 'Angel Woods'), (95, 'Michael Nelson'), (96, 'Michael Brown'), (97, 'Cynthia Villa'), (98, 'Michael Sawyer'), (99, 'Dillon Gordon'), (100, 'Jessica Bowen'), (101, 'Eric Mahoney'), (102, 'Sarah Spencer')]\n"
     ]
    }
   ],
   "source": [
    "with psycopg2.connect(host=\"localhost\",user=\"postgres\",password=\"postgres\",port=5432,database=\"chillacs\") as con1:\n",
    "    print(\"connected to db\")\n",
    "    cur = con1.cursor()\n",
    "    cur.execute(\"select * from person\")\n",
    "    data = cur.fetchall()\n",
    "    print(data)"
   ]
  },
  {
   "cell_type": "code",
   "execution_count": 30,
   "id": "8093bf9f",
   "metadata": {},
   "outputs": [
    {
     "data": {
      "text/plain": [
       "0"
      ]
     },
     "execution_count": 30,
     "metadata": {},
     "output_type": "execute_result"
    }
   ],
   "source": [
    "con1.closed"
   ]
  },
  {
   "cell_type": "code",
   "execution_count": null,
   "id": "886f7151",
   "metadata": {},
   "outputs": [],
   "source": [
    "with psycopg2.connect(host=\"localhost\",user=\"postgres\",password=\"postgres\",port=5432,database=\"chillacs\") as con1:\n",
    "    print(\"connected to db\")\n",
    "    cur = con1.cursor()\n",
    "    cur.execute(\"select * from person\")\n",
    "    data = cur.fetchall()\n",
    "    print(data)"
   ]
  },
  {
   "cell_type": "code",
   "execution_count": 31,
   "id": "6f7e93c1",
   "metadata": {},
   "outputs": [
    {
     "data": {
      "text/plain": [
       "<function psycopg2.connect(dsn=None, connection_factory=None, cursor_factory=None, **kwargs)>"
      ]
     },
     "execution_count": 31,
     "metadata": {},
     "output_type": "execute_result"
    }
   ],
   "source": [
    "psycopg2.connect"
   ]
  },
  {
   "cell_type": "code",
   "execution_count": 32,
   "id": "00a45a9a",
   "metadata": {},
   "outputs": [],
   "source": [
    "#singleton: "
   ]
  },
  {
   "cell_type": "code",
   "execution_count": 33,
   "id": "16042eb4",
   "metadata": {},
   "outputs": [
    {
     "name": "stdout",
     "output_type": "stream",
     "text": [
      "1533903942800\n",
      "1533903934032\n",
      "1533903942288\n"
     ]
    }
   ],
   "source": [
    "class Emp:\n",
    "    def __init__(self,name):\n",
    "        self.name=name\n",
    "e1=Emp(\"e1\")#123\n",
    "e2=Emp(\"e2\")\n",
    "e3=Emp(\"e3\")\n",
    "print(id(e1))\n",
    "print(id(e2))\n",
    "print(id(e3))"
   ]
  },
  {
   "cell_type": "code",
   "execution_count": 34,
   "id": "83d77b18",
   "metadata": {},
   "outputs": [
    {
     "ename": "AttributeError",
     "evalue": "type object 'Emp' has no attribute 'count'",
     "output_type": "error",
     "traceback": [
      "\u001b[1;31m---------------------------------------------------------------------------\u001b[0m",
      "\u001b[1;31mAttributeError\u001b[0m                            Traceback (most recent call last)",
      "Cell \u001b[1;32mIn[34], line 10\u001b[0m\n\u001b[0;32m      8\u001b[0m e2\u001b[38;5;241m=\u001b[39mEmp(\u001b[38;5;124m\"\u001b[39m\u001b[38;5;124me2\u001b[39m\u001b[38;5;124m\"\u001b[39m)\n\u001b[0;32m      9\u001b[0m e3\u001b[38;5;241m=\u001b[39mEmp(\u001b[38;5;124m\"\u001b[39m\u001b[38;5;124me3\u001b[39m\u001b[38;5;124m\"\u001b[39m)\n\u001b[1;32m---> 10\u001b[0m \u001b[38;5;28mprint\u001b[39m(Emp\u001b[38;5;241m.\u001b[39mcount)\n",
      "\u001b[1;31mAttributeError\u001b[0m: type object 'Emp' has no attribute 'count'"
     ]
    }
   ],
   "source": [
    "# write a code for object count\n",
    "class Emp:\n",
    "    def __init__(self,name):\n",
    "        self.count=0\n",
    "        self.name=name\n",
    "        self.count=self.count+1\n",
    "e1=Emp(\"e1\")#123\n",
    "e2=Emp(\"e2\")\n",
    "e3=Emp(\"e3\")\n",
    "print(Emp.count)\n"
   ]
  },
  {
   "cell_type": "code",
   "execution_count": 35,
   "id": "0ee075d2",
   "metadata": {},
   "outputs": [
    {
     "name": "stdout",
     "output_type": "stream",
     "text": [
      "1\n"
     ]
    }
   ],
   "source": [
    "# write a code for object count\n",
    "class Emp:\n",
    "    \n",
    "    def __init__(self,name):\n",
    "        self.count=0\n",
    "        self.name=name\n",
    "        self.count=self.count+1\n",
    "e1=Emp(\"e1\")#123\n",
    "e2=Emp(\"e2\")\n",
    "e3=Emp(\"e3\")\n",
    "print(e3.count)"
   ]
  },
  {
   "cell_type": "code",
   "execution_count": 37,
   "id": "a845aba5",
   "metadata": {},
   "outputs": [
    {
     "name": "stdout",
     "output_type": "stream",
     "text": [
      "0\n",
      "0\n",
      "0\n"
     ]
    }
   ],
   "source": [
    "# write a code for object count\n",
    "class Emp:\n",
    "    count=0\n",
    "    def __init__(self,name):\n",
    "        self.name=name\n",
    "        self.count=self.count+1\n",
    "e1=Emp(\"e1\")\n",
    "print(Emp.count)\n",
    "e2=Emp(\"e2\")\n",
    "print(Emp.count)\n",
    "e3=Emp(\"e3\")\n",
    "print(Emp.count)"
   ]
  },
  {
   "cell_type": "code",
   "execution_count": 38,
   "id": "83dd1d7f",
   "metadata": {},
   "outputs": [
    {
     "name": "stdout",
     "output_type": "stream",
     "text": [
      "1\n"
     ]
    }
   ],
   "source": [
    "print(e3.count)"
   ]
  },
  {
   "cell_type": "code",
   "execution_count": 39,
   "id": "c0cd1b07",
   "metadata": {},
   "outputs": [
    {
     "ename": "NameError",
     "evalue": "name 'self' is not defined",
     "output_type": "error",
     "traceback": [
      "\u001b[1;31m---------------------------------------------------------------------------\u001b[0m",
      "\u001b[1;31mNameError\u001b[0m                                 Traceback (most recent call last)",
      "Cell \u001b[1;32mIn[39], line 1\u001b[0m\n\u001b[1;32m----> 1\u001b[0m \u001b[38;5;28mself\u001b[39m\u001b[38;5;241m.\u001b[39m\u001b[38;5;18m__class__\u001b[39m\n",
      "\u001b[1;31mNameError\u001b[0m: name 'self' is not defined"
     ]
    }
   ],
   "source": [
    "self.__class__"
   ]
  },
  {
   "cell_type": "code",
   "execution_count": 40,
   "id": "3a225d13",
   "metadata": {},
   "outputs": [
    {
     "name": "stdout",
     "output_type": "stream",
     "text": [
      "1\n",
      "2\n",
      "3\n"
     ]
    }
   ],
   "source": [
    "# write a code for object count\n",
    "class Emp:\n",
    "    count=0\n",
    "    def __init__(self,name):\n",
    "        self.name=name\n",
    "        self.__class__.count=self.__class__.count+1\n",
    "e1=Emp(\"e1\")\n",
    "print(Emp.count)\n",
    "e2=Emp(\"e2\")\n",
    "print(Emp.count)\n",
    "e3=Emp(\"e3\")\n",
    "print(Emp.count)"
   ]
  },
  {
   "cell_type": "code",
   "execution_count": 41,
   "id": "cb9e2cb2",
   "metadata": {},
   "outputs": [
    {
     "name": "stdout",
     "output_type": "stream",
     "text": [
      "<class '__main__.Emp'>\n",
      "1\n",
      "<class '__main__.Emp'>\n",
      "2\n",
      "<class '__main__.Emp'>\n",
      "3\n"
     ]
    }
   ],
   "source": [
    "# write a code for object count\n",
    "class Emp:\n",
    "    count=0\n",
    "    def __init__(self,name):\n",
    "        print(self.__class__)\n",
    "        self.name=name\n",
    "        self.__class__.count=self.__class__.count+1\n",
    "e1=Emp(\"e1\")\n",
    "print(Emp.count)\n",
    "e2=Emp(\"e2\")\n",
    "print(Emp.count)\n",
    "e3=Emp(\"e3\")\n",
    "print(Emp.count)"
   ]
  },
  {
   "cell_type": "code",
   "execution_count": null,
   "id": "9cf77c17",
   "metadata": {},
   "outputs": [],
   "source": []
  }
 ],
 "metadata": {
  "kernelspec": {
   "display_name": "Python 3 (ipykernel)",
   "language": "python",
   "name": "python3"
  },
  "language_info": {
   "codemirror_mode": {
    "name": "ipython",
    "version": 3
   },
   "file_extension": ".py",
   "mimetype": "text/x-python",
   "name": "python",
   "nbconvert_exporter": "python",
   "pygments_lexer": "ipython3",
   "version": "3.11.3"
  }
 },
 "nbformat": 4,
 "nbformat_minor": 5
}
