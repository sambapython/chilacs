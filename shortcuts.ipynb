{
 "cells": [
  {
   "cell_type": "code",
   "execution_count": null,
   "id": "132be95d",
   "metadata": {},
   "outputs": [],
   "source": [
    "n=0\n",
    "if n>0:\n",
    "    print(\"positive\")\n",
    "else:\n",
    "    print(\"negative\")"
   ]
  },
  {
   "cell_type": "code",
   "execution_count": 1,
   "id": "e7403fb7",
   "metadata": {},
   "outputs": [
    {
     "name": "stdout",
     "output_type": "stream",
     "text": [
      "positive\n"
     ]
    }
   ],
   "source": [
    "n=2\n",
    "res=\"positive\" if n>0 else \"Negative\"#2>0: True\n",
    "print(res)"
   ]
  },
  {
   "cell_type": "code",
   "execution_count": 3,
   "id": "9d2ee806",
   "metadata": {},
   "outputs": [
    {
     "name": "stdout",
     "output_type": "stream",
     "text": [
      "Negative\n"
     ]
    }
   ],
   "source": [
    "n=-2\n",
    "res=\"positive\" \"ZERO\" if n==0 else \"positive\" if n>0 else \"Negative\"#-2>0: False\n",
    "print(res)"
   ]
  },
  {
   "cell_type": "code",
   "execution_count": 9,
   "id": "556240c1",
   "metadata": {},
   "outputs": [
    {
     "name": "stdout",
     "output_type": "stream",
     "text": [
      "positive\n"
     ]
    }
   ],
   "source": [
    "n=2\n",
    "res=\"ZERO\" if n==0 else \"positive\" if n>0 else \"Negative\"#-2>0: False\n",
    "print(res)"
   ]
  },
  {
   "cell_type": "code",
   "execution_count": 6,
   "id": "38907a7b",
   "metadata": {},
   "outputs": [
    {
     "name": "stdout",
     "output_type": "stream",
     "text": [
      "ZERO\n"
     ]
    }
   ],
   "source": [
    "n=0\n",
    "res=\"ZERO\" if n==0 else \"positive\" if n>0 else \"Negative\"#-2>0: False\n",
    "print(res)"
   ]
  },
  {
   "cell_type": "code",
   "execution_count": 7,
   "id": "6ab1b60d",
   "metadata": {},
   "outputs": [
    {
     "name": "stdout",
     "output_type": "stream",
     "text": [
      "negative\n"
     ]
    }
   ],
   "source": [
    "n=0\n",
    "if n>0:\n",
    "    print(\"positive\")\n",
    "else:\n",
    "    print(\"negative\")\n",
    "\n"
   ]
  },
  {
   "cell_type": "code",
   "execution_count": 8,
   "id": "2c7ab997",
   "metadata": {},
   "outputs": [
    {
     "name": "stdout",
     "output_type": "stream",
     "text": [
      "ZERO\n"
     ]
    }
   ],
   "source": [
    "n=0\n",
    "if n>=0:\n",
    "    if n==0:\n",
    "        print(\"ZERO\")\n",
    "    else:\n",
    "        print(\"positive\")\n",
    "else:\n",
    "    print(\"negative\")\n",
    "\n"
   ]
  },
  {
   "cell_type": "code",
   "execution_count": 10,
   "id": "e6f4bf11",
   "metadata": {},
   "outputs": [
    {
     "name": "stdout",
     "output_type": "stream",
     "text": [
      "Negative\n"
     ]
    }
   ],
   "source": [
    "n=-2\n",
    "res=\"ZERO\" if n==0 else \"positive\" if n>0 else \"Negative\"#-2>0: False\n",
    "print(res)"
   ]
  },
  {
   "cell_type": "code",
   "execution_count": 11,
   "id": "26037456",
   "metadata": {},
   "outputs": [
    {
     "name": "stdout",
     "output_type": "stream",
     "text": [
      "emp1\n",
      "emp2\n",
      "emp3\n"
     ]
    }
   ],
   "source": [
    "#list unpack\n",
    "k=[\"emp1\",\"emp2\",\"emp3\"]\n",
    "e1,e2,e3=k\n",
    "print(e1)\n",
    "print(e2)\n",
    "print(e3)"
   ]
  },
  {
   "cell_type": "code",
   "execution_count": 12,
   "id": "0a2131b3",
   "metadata": {},
   "outputs": [
    {
     "ename": "ValueError",
     "evalue": "too many values to unpack (expected 2)",
     "output_type": "error",
     "traceback": [
      "\u001b[1;31m---------------------------------------------------------------------------\u001b[0m",
      "\u001b[1;31mValueError\u001b[0m                                Traceback (most recent call last)",
      "Cell \u001b[1;32mIn[12], line 3\u001b[0m\n\u001b[0;32m      1\u001b[0m \u001b[38;5;66;03m#list unpack\u001b[39;00m\n\u001b[0;32m      2\u001b[0m k\u001b[38;5;241m=\u001b[39m[\u001b[38;5;124m\"\u001b[39m\u001b[38;5;124memp1\u001b[39m\u001b[38;5;124m\"\u001b[39m,\u001b[38;5;124m\"\u001b[39m\u001b[38;5;124memp2\u001b[39m\u001b[38;5;124m\"\u001b[39m,\u001b[38;5;124m\"\u001b[39m\u001b[38;5;124memp3\u001b[39m\u001b[38;5;124m\"\u001b[39m]\n\u001b[1;32m----> 3\u001b[0m e1,e2\u001b[38;5;241m=\u001b[39mk\n\u001b[0;32m      4\u001b[0m \u001b[38;5;28mprint\u001b[39m(e1)\n\u001b[0;32m      5\u001b[0m \u001b[38;5;28mprint\u001b[39m(e2)\n",
      "\u001b[1;31mValueError\u001b[0m: too many values to unpack (expected 2)"
     ]
    }
   ],
   "source": [
    "#list unpack\n",
    "k=[\"emp1\",\"emp2\",\"emp3\"]\n",
    "e1,e2=k\n",
    "print(e1)\n",
    "print(e2)"
   ]
  },
  {
   "cell_type": "code",
   "execution_count": 13,
   "id": "078f9d7c",
   "metadata": {},
   "outputs": [
    {
     "ename": "ValueError",
     "evalue": "not enough values to unpack (expected 4, got 3)",
     "output_type": "error",
     "traceback": [
      "\u001b[1;31m---------------------------------------------------------------------------\u001b[0m",
      "\u001b[1;31mValueError\u001b[0m                                Traceback (most recent call last)",
      "Cell \u001b[1;32mIn[13], line 3\u001b[0m\n\u001b[0;32m      1\u001b[0m \u001b[38;5;66;03m#list unpack\u001b[39;00m\n\u001b[0;32m      2\u001b[0m k\u001b[38;5;241m=\u001b[39m[\u001b[38;5;124m\"\u001b[39m\u001b[38;5;124memp1\u001b[39m\u001b[38;5;124m\"\u001b[39m,\u001b[38;5;124m\"\u001b[39m\u001b[38;5;124memp2\u001b[39m\u001b[38;5;124m\"\u001b[39m,\u001b[38;5;124m\"\u001b[39m\u001b[38;5;124memp3\u001b[39m\u001b[38;5;124m\"\u001b[39m]\n\u001b[1;32m----> 3\u001b[0m e1,e2,e3,e4\u001b[38;5;241m=\u001b[39mk\n\u001b[0;32m      4\u001b[0m \u001b[38;5;28mprint\u001b[39m(e1)\n\u001b[0;32m      5\u001b[0m \u001b[38;5;28mprint\u001b[39m(e2)\n",
      "\u001b[1;31mValueError\u001b[0m: not enough values to unpack (expected 4, got 3)"
     ]
    }
   ],
   "source": [
    "#list unpack\n",
    "k=[\"emp1\",\"emp2\",\"emp3\"]\n",
    "e1,e2,e3,e4=k\n",
    "print(e1)\n",
    "print(e2)"
   ]
  },
  {
   "cell_type": "code",
   "execution_count": 15,
   "id": "d85624ac",
   "metadata": {},
   "outputs": [
    {
     "name": "stdout",
     "output_type": "stream",
     "text": [
      "emp1\n",
      "emp2\n",
      "emp3\n"
     ]
    }
   ],
   "source": [
    "#list unpack\n",
    "k=[\"emp1\",\"emp2\",\"emp3\",\"emp4\",\"emp5\",\"emp6\"]\n",
    "e1,e2,e3=k[:3]\n",
    "print(e1)\n",
    "print(e2)\n",
    "print(e3)"
   ]
  },
  {
   "cell_type": "code",
   "execution_count": 16,
   "id": "bdeee3f7",
   "metadata": {},
   "outputs": [
    {
     "name": "stdout",
     "output_type": "stream",
     "text": [
      "emp1\n",
      "emp2\n",
      "emp3\n",
      "['emp4', 'emp5', 'emp6']\n"
     ]
    }
   ],
   "source": [
    "#list unpack\n",
    "k=[\"emp1\",\"emp2\",\"emp3\",\"emp4\",\"emp5\",\"emp6\"]\n",
    "e1,e2,e3,*e=k\n",
    "print(e1)\n",
    "print(e2)\n",
    "print(e3)\n",
    "print(e)"
   ]
  },
  {
   "cell_type": "code",
   "execution_count": 17,
   "id": "5f5d7a09",
   "metadata": {},
   "outputs": [
    {
     "name": "stdout",
     "output_type": "stream",
     "text": [
      "emp4\n",
      "emp5\n",
      "emp6\n",
      "['emp1', 'emp2', 'emp3']\n"
     ]
    }
   ],
   "source": [
    "#list unpack\n",
    "k=[\"emp1\",\"emp2\",\"emp3\",\"emp4\",\"emp5\",\"emp6\"]\n",
    "*e,e1,e2,e3=k\n",
    "print(e1)\n",
    "print(e2)\n",
    "print(e3)\n",
    "print(e)"
   ]
  },
  {
   "cell_type": "code",
   "execution_count": 18,
   "id": "d493720b",
   "metadata": {},
   "outputs": [
    {
     "name": "stdout",
     "output_type": "stream",
     "text": [
      "emp1\n",
      "emp5\n",
      "emp6\n",
      "['emp2', 'emp3', 'emp4']\n"
     ]
    }
   ],
   "source": [
    "#list unpack\n",
    "k=[\"emp1\",\"emp2\",\"emp3\",\"emp4\",\"emp5\",\"emp6\"]\n",
    "e1,*e,e2,e3=k\n",
    "print(e1)\n",
    "print(e2)\n",
    "print(e3)\n",
    "print(e)"
   ]
  },
  {
   "cell_type": "code",
   "execution_count": 20,
   "id": "30e09a19",
   "metadata": {},
   "outputs": [
    {
     "name": "stdout",
     "output_type": "stream",
     "text": [
      "name\n",
      "address\n"
     ]
    }
   ],
   "source": [
    "data={\"name\":\"AJA\",\"address\":\"HYD\"}\n",
    "a,b=data\n",
    "print(a)\n",
    "print(b)"
   ]
  },
  {
   "cell_type": "code",
   "execution_count": 21,
   "id": "ed780a34",
   "metadata": {},
   "outputs": [
    {
     "name": "stdout",
     "output_type": "stream",
     "text": [
      "emp1\n",
      "emp5\n",
      "emp6\n",
      "['emp2', 'emp3', 'emp4']\n"
     ]
    }
   ],
   "source": [
    "#list unpack\n",
    "k=(\"emp1\",\"emp2\",\"emp3\",\"emp4\",\"emp5\",\"emp6\")\n",
    "e1,*e,e2,e3=k\n",
    "print(e1)\n",
    "print(e2)\n",
    "print(e3)\n",
    "print(e)"
   ]
  },
  {
   "cell_type": "code",
   "execution_count": 22,
   "id": "550c2897",
   "metadata": {},
   "outputs": [
    {
     "name": "stdout",
     "output_type": "stream",
     "text": [
      "emp4\n",
      "emp3\n",
      "emp2\n",
      "['emp5', 'emp6', 'emp1']\n"
     ]
    }
   ],
   "source": [
    "k={\"emp1\",\"emp2\",\"emp3\",\"emp4\",\"emp5\",\"emp6\"}\n",
    "e1,*e,e2,e3=k\n",
    "print(e1)\n",
    "print(e2)\n",
    "print(e3)\n",
    "print(e)"
   ]
  },
  {
   "cell_type": "code",
   "execution_count": 23,
   "id": "cc8941e7",
   "metadata": {},
   "outputs": [
    {
     "name": "stdout",
     "output_type": "stream",
     "text": [
      "S\n",
      "D\n"
     ]
    }
   ],
   "source": [
    "a,b=\"SD\"\n",
    "print(a)\n",
    "print(b)"
   ]
  },
  {
   "cell_type": "code",
   "execution_count": 24,
   "id": "430ec4d5",
   "metadata": {},
   "outputs": [
    {
     "name": "stdout",
     "output_type": "stream",
     "text": [
      "AJA\n",
      "HYD\n"
     ]
    }
   ],
   "source": [
    "data={\"name\":\"AJA\",\"address\":\"HYD\"}\n",
    "a,b=data.values()\n",
    "print(a)\n",
    "print(b)"
   ]
  },
  {
   "cell_type": "code",
   "execution_count": null,
   "id": "49b0f9f6",
   "metadata": {},
   "outputs": [],
   "source": []
  }
 ],
 "metadata": {
  "kernelspec": {
   "display_name": "Python 3 (ipykernel)",
   "language": "python",
   "name": "python3"
  },
  "language_info": {
   "codemirror_mode": {
    "name": "ipython",
    "version": 3
   },
   "file_extension": ".py",
   "mimetype": "text/x-python",
   "name": "python",
   "nbconvert_exporter": "python",
   "pygments_lexer": "ipython3",
   "version": "3.11.3"
  }
 },
 "nbformat": 4,
 "nbformat_minor": 5
}
