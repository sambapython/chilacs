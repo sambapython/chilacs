{
 "cells": [
  {
   "cell_type": "code",
   "execution_count": 1,
   "id": "2ff86909",
   "metadata": {},
   "outputs": [],
   "source": [
    "name=\"AJA\"\n",
    "Address=\"Hyderabad\"\n",
    "#The company AJA located in Hyderabad\n",
    "s=\"\""
   ]
  },
  {
   "cell_type": "code",
   "execution_count": 2,
   "id": "9b0f89f9",
   "metadata": {},
   "outputs": [],
   "source": [
    "name=\"Oracle\"\n",
    "Address=\"Banglore\"\n",
    "#The company Oracle located in Banglore"
   ]
  },
  {
   "cell_type": "code",
   "execution_count": 3,
   "id": "f0492920",
   "metadata": {},
   "outputs": [
    {
     "name": "stdout",
     "output_type": "stream",
     "text": [
      "The company Oracle\n"
     ]
    }
   ],
   "source": [
    "name=\"Oracle\"\n",
    "Address=\"Banglore\"\n",
    "s=\"The company \"+name\n",
    "print(s)"
   ]
  },
  {
   "cell_type": "code",
   "execution_count": 4,
   "id": "ff8e4ea9",
   "metadata": {},
   "outputs": [
    {
     "name": "stdout",
     "output_type": "stream",
     "text": [
      "The company OracleLocated in\n"
     ]
    }
   ],
   "source": [
    "name=\"Oracle\"\n",
    "Address=\"Banglore\"\n",
    "s=\"The company \"+name+\"Located in\"\n",
    "print(s)"
   ]
  },
  {
   "cell_type": "code",
   "execution_count": 5,
   "id": "7997f9d9",
   "metadata": {},
   "outputs": [
    {
     "name": "stdout",
     "output_type": "stream",
     "text": [
      "The company Oracle Located in \n"
     ]
    }
   ],
   "source": [
    "name=\"Oracle\"\n",
    "Address=\"Banglore\"\n",
    "s=\"The company \"+name+\" Located in \"\n",
    "print(s)"
   ]
  },
  {
   "cell_type": "code",
   "execution_count": 6,
   "id": "5377016b",
   "metadata": {},
   "outputs": [
    {
     "name": "stdout",
     "output_type": "stream",
     "text": [
      "The company Oracle Located in Banglore\n"
     ]
    }
   ],
   "source": [
    "name=\"Oracle\"\n",
    "address=\"Banglore\"\n",
    "s=\"The company \"+name+\" Located in \"+address\n",
    "print(s)"
   ]
  },
  {
   "cell_type": "code",
   "execution_count": 7,
   "id": "923b9446",
   "metadata": {},
   "outputs": [
    {
     "name": "stdout",
     "output_type": "stream",
     "text": [
      "The company AJA Located in Hyderabad\n"
     ]
    }
   ],
   "source": [
    "name=\"AJA\"\n",
    "address=\"Hyderabad\"\n",
    "s=\"The company \"+name+\" Located in \"+address\n",
    "print(s)"
   ]
  },
  {
   "cell_type": "code",
   "execution_count": 9,
   "id": "dddf594b",
   "metadata": {},
   "outputs": [
    {
     "name": "stdout",
     "output_type": "stream",
     "text": [
      "The company AJA Located in Hyderabad\n",
      "The company AJA Located in Hyderabad\n"
     ]
    }
   ],
   "source": [
    "name=\"AJA\"\n",
    "address=\"Hyderabad\"\n",
    "s=\"The company \"+name+\" Located in \"+address\n",
    "print(s)\n",
    "s=f\"The company {name} Located in {address}\"\n",
    "print(s)"
   ]
  },
  {
   "cell_type": "code",
   "execution_count": 10,
   "id": "a449a212",
   "metadata": {},
   "outputs": [
    {
     "name": "stdout",
     "output_type": "stream",
     "text": [
      "The company AJA Located in Hyderabad\n",
      "The company {name} Located in {address}\n"
     ]
    }
   ],
   "source": [
    "name=\"AJA\"\n",
    "address=\"Hyderabad\"\n",
    "s=\"The company \"+name+\" Located in \"+address\n",
    "print(s)\n",
    "s=\"The company {name} Located in {address}\"\n",
    "print(s)"
   ]
  },
  {
   "cell_type": "code",
   "execution_count": 13,
   "id": "cfad0afd",
   "metadata": {},
   "outputs": [
    {
     "name": "stdout",
     "output_type": "stream",
     "text": [
      "The company AJA Located in Hyderabad\n",
      "The company {name} Located in {address}\n",
      "('The company %s located in %s', ('AJA', 'Hyderabad'))\n"
     ]
    }
   ],
   "source": [
    "name=\"AJA\"\n",
    "address=\"Hyderabad\"\n",
    "s=\"The company \"+name+\" Located in \"+address\n",
    "print(s)\n",
    "s=\"The company {name} Located in {address}\"\n",
    "print(s)\n",
    "s=\"The company %s located in %s\",(name,address)\n",
    "print(s)"
   ]
  },
  {
   "cell_type": "code",
   "execution_count": 15,
   "id": "1300c768",
   "metadata": {},
   "outputs": [
    {
     "name": "stdout",
     "output_type": "stream",
     "text": [
      "The company AJA Located in Hyderabad\n",
      "The company AJA Located in Hyderabad\n",
      "The company AJA located in Hyderabad\n"
     ]
    }
   ],
   "source": [
    "name=\"AJA\"\n",
    "address=\"Hyderabad\"\n",
    "s=\"The company \"+name+\" Located in \"+address\n",
    "print(s)\n",
    "s=f\"The company {name} Located in {address}\"\n",
    "print(s)\n",
    "s=\"The company %s located in %s\"%(name,address)\n",
    "print(s)"
   ]
  },
  {
   "cell_type": "code",
   "execution_count": 16,
   "id": "330ef9c4",
   "metadata": {},
   "outputs": [
    {
     "ename": "TypeError",
     "evalue": "can only concatenate str (not \"int\") to str",
     "output_type": "error",
     "traceback": [
      "\u001b[1;31m---------------------------------------------------------------------------\u001b[0m",
      "\u001b[1;31mTypeError\u001b[0m                                 Traceback (most recent call last)",
      "Cell \u001b[1;32mIn[16], line 3\u001b[0m\n\u001b[0;32m      1\u001b[0m name\u001b[38;5;241m=\u001b[39m\u001b[38;5;124m\"\u001b[39m\u001b[38;5;124mAJA\u001b[39m\u001b[38;5;124m\"\u001b[39m\n\u001b[0;32m      2\u001b[0m address\u001b[38;5;241m=\u001b[39m\u001b[38;5;241m500055\u001b[39m\n\u001b[1;32m----> 3\u001b[0m s\u001b[38;5;241m=\u001b[39m\u001b[38;5;124m\"\u001b[39m\u001b[38;5;124mThe company \u001b[39m\u001b[38;5;124m\"\u001b[39m\u001b[38;5;241m+\u001b[39mname\u001b[38;5;241m+\u001b[39m\u001b[38;5;124m\"\u001b[39m\u001b[38;5;124m Located in \u001b[39m\u001b[38;5;124m\"\u001b[39m\u001b[38;5;241m+\u001b[39maddress\n\u001b[0;32m      4\u001b[0m \u001b[38;5;28mprint\u001b[39m(s)\n\u001b[0;32m      5\u001b[0m s\u001b[38;5;241m=\u001b[39m\u001b[38;5;124mf\u001b[39m\u001b[38;5;124m\"\u001b[39m\u001b[38;5;124mThe company \u001b[39m\u001b[38;5;132;01m{\u001b[39;00mname\u001b[38;5;132;01m}\u001b[39;00m\u001b[38;5;124m Located in \u001b[39m\u001b[38;5;132;01m{\u001b[39;00maddress\u001b[38;5;132;01m}\u001b[39;00m\u001b[38;5;124m\"\u001b[39m\n",
      "\u001b[1;31mTypeError\u001b[0m: can only concatenate str (not \"int\") to str"
     ]
    }
   ],
   "source": [
    "name=\"AJA\"\n",
    "address=500055\n",
    "s=\"The company \"+name+\" Located in \"+address\n",
    "print(s)\n",
    "s=f\"The company {name} Located in {address}\"\n",
    "print(s)\n",
    "s=\"The company %s located in %s\"%(name,address)\n",
    "print(s)"
   ]
  },
  {
   "cell_type": "code",
   "execution_count": 18,
   "id": "73a4d3fe",
   "metadata": {},
   "outputs": [
    {
     "name": "stdout",
     "output_type": "stream",
     "text": [
      "The company AJA Located in 500055\n",
      "The company AJA Located in 500055\n",
      "The company AJA located in 500055\n"
     ]
    }
   ],
   "source": [
    "name=\"AJA\"\n",
    "address=500055\n",
    "s=\"The company \"+name+\" Located in \"+str(address)\n",
    "print(s)\n",
    "s=f\"The company {name} Located in {address}\"\n",
    "print(s)\n",
    "s=\"The company %s located in %s\"%(name,address)\n",
    "print(s)"
   ]
  },
  {
   "cell_type": "code",
   "execution_count": 19,
   "id": "9f2c9c8f",
   "metadata": {},
   "outputs": [
    {
     "name": "stdout",
     "output_type": "stream",
     "text": [
      "The company AJA Located in 500055.3456\n",
      "The company AJA Located in 500055.3456\n",
      "The company AJA located in 500055.3456\n"
     ]
    }
   ],
   "source": [
    "name=\"AJA\"\n",
    "address=500055.3456\n",
    "s=\"The company \"+name+\" Located in \"+str(address)\n",
    "print(s)\n",
    "s=f\"The company {name} Located in {address}\"\n",
    "print(s)\n",
    "s=\"The company %s located in %s\"%(name,address)\n",
    "print(s)"
   ]
  },
  {
   "cell_type": "code",
   "execution_count": 20,
   "id": "9230d0d3",
   "metadata": {},
   "outputs": [
    {
     "name": "stdout",
     "output_type": "stream",
     "text": [
      "The company AJA Located in 500055\n",
      "The company AJA Located in 500055.3456\n",
      "The company AJA located in 500055.3456\n"
     ]
    }
   ],
   "source": [
    "name=\"AJA\"\n",
    "address=500055.3456\n",
    "s=\"The company \"+name+\" Located in \"+str(int(address))\n",
    "print(s)\n",
    "s=f\"The company {name} Located in {address}\"\n",
    "print(s)\n",
    "s=\"The company %s located in %s\"%(name,address)\n",
    "print(s)"
   ]
  },
  {
   "cell_type": "code",
   "execution_count": 23,
   "id": "e1461eb3",
   "metadata": {},
   "outputs": [
    {
     "name": "stdout",
     "output_type": "stream",
     "text": [
      "The company AJA Located in 500055\n",
      "The company AJA Located in 500055\n",
      "The company AJA located in 500055.3456\n"
     ]
    }
   ],
   "source": [
    "name=\"AJA\"\n",
    "address=500055.3456\n",
    "s=\"The company \"+name+\" Located in \"+str(int(address))\n",
    "print(s)\n",
    "s=f\"The company {name} Located in {int(address)}\"\n",
    "print(s)\n",
    "s=\"The company %s located in %s\"%(name,address)\n",
    "print(s)"
   ]
  },
  {
   "cell_type": "code",
   "execution_count": 24,
   "id": "be5fce0e",
   "metadata": {},
   "outputs": [
    {
     "name": "stdout",
     "output_type": "stream",
     "text": [
      "The company AJA Located in 500055\n",
      "The company AJA Located in 500055\n",
      "The company AJA located in 500055\n"
     ]
    }
   ],
   "source": [
    "name=\"AJA\"\n",
    "address=500055.3456\n",
    "s=\"The company \"+name+\" Located in \"+str(int(address))\n",
    "print(s)\n",
    "s=f\"The company {name} Located in {int(address)}\"\n",
    "print(s)\n",
    "s=\"The company %s located in %s\"%(name,int(address))\n",
    "print(s)"
   ]
  },
  {
   "cell_type": "code",
   "execution_count": 25,
   "id": "58ab96cb",
   "metadata": {},
   "outputs": [
    {
     "name": "stdout",
     "output_type": "stream",
     "text": [
      "The company AJA Located in 500055\n",
      "The company AJA Located in 500055\n",
      "The company AJA located in 500055\n"
     ]
    }
   ],
   "source": [
    "name=\"AJA\"\n",
    "address=500055.3456\n",
    "s=\"The company \"+name+\" Located in \"+str(int(address))\n",
    "print(s)\n",
    "s=f\"The company {name} Located in {int(address)}\"\n",
    "print(s)\n",
    "s=\"The company %s located in %d\"%(name,address)\n",
    "print(s)"
   ]
  },
  {
   "cell_type": "code",
   "execution_count": 31,
   "id": "967d40ff",
   "metadata": {},
   "outputs": [
    {
     "name": "stdout",
     "output_type": "stream",
     "text": [
      "The company AJA Located in 500055\n"
     ]
    },
    {
     "ename": "ValueError",
     "evalue": "Unknown format code 'd' for object of type 'float'",
     "output_type": "error",
     "traceback": [
      "\u001b[1;31m---------------------------------------------------------------------------\u001b[0m",
      "\u001b[1;31mValueError\u001b[0m                                Traceback (most recent call last)",
      "Cell \u001b[1;32mIn[31], line 5\u001b[0m\n\u001b[0;32m      3\u001b[0m s\u001b[38;5;241m=\u001b[39m\u001b[38;5;124m\"\u001b[39m\u001b[38;5;124mThe company \u001b[39m\u001b[38;5;124m\"\u001b[39m\u001b[38;5;241m+\u001b[39mname\u001b[38;5;241m+\u001b[39m\u001b[38;5;124m\"\u001b[39m\u001b[38;5;124m Located in \u001b[39m\u001b[38;5;124m\"\u001b[39m\u001b[38;5;241m+\u001b[39m\u001b[38;5;28mstr\u001b[39m(\u001b[38;5;28mint\u001b[39m(address))\n\u001b[0;32m      4\u001b[0m \u001b[38;5;28mprint\u001b[39m(s)\n\u001b[1;32m----> 5\u001b[0m s\u001b[38;5;241m=\u001b[39m\u001b[38;5;124mf\u001b[39m\u001b[38;5;124m\"\u001b[39m\u001b[38;5;124mThe company \u001b[39m\u001b[38;5;132;01m{\u001b[39;00mname\u001b[38;5;132;01m}\u001b[39;00m\u001b[38;5;124m Located in \u001b[39m\u001b[38;5;132;01m{\u001b[39;00maddress\u001b[38;5;132;01m:\u001b[39;00m\u001b[38;5;124m d\u001b[39m\u001b[38;5;132;01m}\u001b[39;00m\u001b[38;5;124m\"\u001b[39m\n\u001b[0;32m      6\u001b[0m \u001b[38;5;28mprint\u001b[39m(s)\n\u001b[0;32m      7\u001b[0m s\u001b[38;5;241m=\u001b[39m\u001b[38;5;124m\"\u001b[39m\u001b[38;5;124mThe company \u001b[39m\u001b[38;5;132;01m%s\u001b[39;00m\u001b[38;5;124m located in \u001b[39m\u001b[38;5;132;01m%d\u001b[39;00m\u001b[38;5;124m\"\u001b[39m\u001b[38;5;241m%\u001b[39m(name,address)\n",
      "\u001b[1;31mValueError\u001b[0m: Unknown format code 'd' for object of type 'float'"
     ]
    }
   ],
   "source": [
    "name=\"AJA\"\n",
    "address=500055.3456\n",
    "s=\"The company \"+name+\" Located in \"+str(int(address))\n",
    "print(s)\n",
    "s=f\"The company {name} Located in {address: d}\"\n",
    "print(s)\n",
    "s=\"The company %s located in %d\"%(name,address)\n",
    "print(s)"
   ]
  },
  {
   "cell_type": "code",
   "execution_count": 32,
   "id": "395cb5ee",
   "metadata": {},
   "outputs": [
    {
     "name": "stdout",
     "output_type": "stream",
     "text": [
      "The company AJA Located in 500055\n",
      "The company AJA Located in  500055.345600\n",
      "The company AJA located in 500055\n"
     ]
    }
   ],
   "source": [
    "name=\"AJA\"\n",
    "address=500055.3456\n",
    "s=\"The company \"+name+\" Located in \"+str(int(address))\n",
    "print(s)\n",
    "s=f\"The company {name} Located in {address: f}\"\n",
    "print(s)\n",
    "s=\"The company %s located in %d\"%(name,address)\n",
    "print(s)"
   ]
  },
  {
   "cell_type": "code",
   "execution_count": 33,
   "id": "de89f0b9",
   "metadata": {},
   "outputs": [
    {
     "name": "stdout",
     "output_type": "stream",
     "text": [
      "The company AJA Located in 500055.35\n",
      "The company AJA Located in  500055.35\n",
      "The company AJA located in 500055.35\n"
     ]
    }
   ],
   "source": [
    "name=\"AJA\"\n",
    "address=500055.3456\n",
    "s=\"The company \"+name+\" Located in \"+str(round(address,2))\n",
    "print(s)\n",
    "s=f\"The company {name} Located in {address: .2f}\"\n",
    "print(s)\n",
    "s=\"The company %s located in %.2f\"%(name,address)\n",
    "print(s)"
   ]
  },
  {
   "cell_type": "code",
   "execution_count": 34,
   "id": "bcdbe3a8",
   "metadata": {},
   "outputs": [
    {
     "name": "stdout",
     "output_type": "stream",
     "text": [
      "The company AJA Located in 500055.35\n",
      "The company AJA Located in  500055\n",
      "The company AJA located in 500055.35\n"
     ]
    }
   ],
   "source": [
    "name=\"AJA\"\n",
    "address=500055.3456\n",
    "s=\"The company \"+name+\" Located in \"+str(round(address,2))\n",
    "print(s)\n",
    "s=f\"The company {name} Located in {address: .0f}\"\n",
    "print(s)\n",
    "s=\"The company %s located in %.2f\"%(name,address)\n",
    "print(s)"
   ]
  },
  {
   "cell_type": "code",
   "execution_count": 35,
   "id": "c139a475",
   "metadata": {},
   "outputs": [],
   "source": [
    "#%r, %s, %d, %f, %b"
   ]
  },
  {
   "cell_type": "code",
   "execution_count": 36,
   "id": "e5e8ee62",
   "metadata": {},
   "outputs": [
    {
     "ename": "ValueError",
     "evalue": "unsupported format character 'b' (0x62) at index 1",
     "output_type": "error",
     "traceback": [
      "\u001b[1;31m---------------------------------------------------------------------------\u001b[0m",
      "\u001b[1;31mValueError\u001b[0m                                Traceback (most recent call last)",
      "Cell \u001b[1;32mIn[36], line 2\u001b[0m\n\u001b[0;32m      1\u001b[0m s\u001b[38;5;241m=\u001b[39m\u001b[38;5;241m1234\u001b[39m\n\u001b[1;32m----> 2\u001b[0m \u001b[38;5;28mprint\u001b[39m(\u001b[38;5;124m\"\u001b[39m\u001b[38;5;124m%\u001b[39m\u001b[38;5;124mb\u001b[39m\u001b[38;5;124m\"\u001b[39m\u001b[38;5;241m%\u001b[39ms)\n",
      "\u001b[1;31mValueError\u001b[0m: unsupported format character 'b' (0x62) at index 1"
     ]
    }
   ],
   "source": [
    "s=1234\n",
    "print(\"%b\"%s)"
   ]
  },
  {
   "cell_type": "code",
   "execution_count": 37,
   "id": "d5f3f216",
   "metadata": {},
   "outputs": [
    {
     "name": "stdout",
     "output_type": "stream",
     "text": [
      " 10011010010\n"
     ]
    }
   ],
   "source": [
    "s=1234\n",
    "print(f\"{s: b}\")"
   ]
  },
  {
   "cell_type": "code",
   "execution_count": null,
   "id": "cbb742a4",
   "metadata": {},
   "outputs": [],
   "source": []
  }
 ],
 "metadata": {
  "kernelspec": {
   "display_name": "Python 3 (ipykernel)",
   "language": "python",
   "name": "python3"
  },
  "language_info": {
   "codemirror_mode": {
    "name": "ipython",
    "version": 3
   },
   "file_extension": ".py",
   "mimetype": "text/x-python",
   "name": "python",
   "nbconvert_exporter": "python",
   "pygments_lexer": "ipython3",
   "version": "3.11.3"
  }
 },
 "nbformat": 4,
 "nbformat_minor": 5
}
