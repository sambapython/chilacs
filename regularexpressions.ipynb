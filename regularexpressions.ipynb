{
 "cells": [
  {
   "cell_type": "code",
   "execution_count": 1,
   "id": "945c1893-3dee-415c-994c-41eeeeab47bc",
   "metadata": {},
   "outputs": [],
   "source": [
    "import re"
   ]
  },
  {
   "cell_type": "code",
   "execution_count": 2,
   "id": "8dd706cd-fc31-4924-89a3-9b82718ffa0b",
   "metadata": {},
   "outputs": [
    {
     "name": "stdout",
     "output_type": "stream",
     "text": [
      "id,name,phone,email\n",
      "1,name1,9786754567,one12ER@gamil.com\n",
      "2,name2,9786754568,one52ER@gamil.org\n",
      "3,name3,9786754577,One12ER@gamil.co.in\n",
      "4,name4,9786754597,TWe12ER@gamil.gov.in\n"
     ]
    }
   ],
   "source": [
    "data=open(\"data.txt\").read()\n",
    "for line in data.splitlines():\n",
    "    print(line)"
   ]
  },
  {
   "cell_type": "code",
   "execution_count": 3,
   "id": "3eb1d3c3-5c23-4e99-822d-688f7ded3726",
   "metadata": {},
   "outputs": [
    {
     "name": "stdout",
     "output_type": "stream",
     "text": [
      "phone\n",
      "9786754567\n",
      "9786754568\n",
      "9786754577\n",
      "9786754597\n"
     ]
    }
   ],
   "source": [
    "data=open(\"data.txt\").read()\n",
    "for line in data.splitlines():\n",
    "    print(line.split(\",\")[2])"
   ]
  },
  {
   "cell_type": "code",
   "execution_count": 4,
   "id": "db11a4ab-0ba0-47c0-a9fd-cbe9e98b6989",
   "metadata": {},
   "outputs": [
    {
     "name": "stdout",
     "output_type": "stream",
     "text": [
      "email\n",
      "one12ER@gamil.com\n",
      "one52ER@gamil.org\n",
      "One12ER@gamil.co.in\n",
      "TWe12ER@gamil.gov.in\n"
     ]
    }
   ],
   "source": [
    "data=open(\"data.txt\").read()\n",
    "for line in data.splitlines():\n",
    "    print(line.split(\",\")[-1])"
   ]
  },
  {
   "cell_type": "code",
   "execution_count": 5,
   "id": "bc7516ec-32a0-459c-86dc-6bcee4cd983b",
   "metadata": {},
   "outputs": [
    {
     "name": "stdout",
     "output_type": "stream",
     "text": [
      "one12ER@gamil.com\n",
      "9786754568\n",
      "One12ER@gamil.co.in\n",
      "TWe12ER@gamil.gov.in\n"
     ]
    }
   ],
   "source": [
    "data=open(\"data.txt\").read()\n",
    "for line in data.splitlines():\n",
    "    print(line.split(\",\")[-1])"
   ]
  },
  {
   "cell_type": "code",
   "execution_count": 6,
   "id": "fffaf1fd-9668-4baf-a8a4-bef2f13ce4cb",
   "metadata": {},
   "outputs": [
    {
     "name": "stdout",
     "output_type": "stream",
     "text": [
      "['9786754567', '9786754568', '9786754577', '9786754597']\n"
     ]
    }
   ],
   "source": [
    "import re\n",
    "print(re.findall(\"[0-9]{10}\",data))"
   ]
  },
  {
   "cell_type": "code",
   "execution_count": 7,
   "id": "1b760138-20f0-4d29-848f-c2c9c20bcbb4",
   "metadata": {},
   "outputs": [
    {
     "name": "stdout",
     "output_type": "stream",
     "text": [
      "[]\n"
     ]
    }
   ],
   "source": [
    "import re\n",
    "print(re.findall(\"abcdefgh\",data))"
   ]
  },
  {
   "cell_type": "code",
   "execution_count": 8,
   "id": "26b36285-6221-415e-b6c1-9c19678ad946",
   "metadata": {},
   "outputs": [
    {
     "name": "stdout",
     "output_type": "stream",
     "text": [
      "['a', 'a', 'c', 'a', 'a', 'a', 'a', 'c', 'a', 'a']\n"
     ]
    }
   ],
   "source": [
    "import re\n",
    "print(re.findall(\"[abc]\",data))"
   ]
  },
  {
   "cell_type": "code",
   "execution_count": 9,
   "id": "57e6fbf8-d2a4-4cdf-a9e3-727d85aedad0",
   "metadata": {},
   "outputs": [
    {
     "name": "stdout",
     "output_type": "stream",
     "text": [
      "['name1']\n"
     ]
    }
   ],
   "source": [
    "import re\n",
    "print(re.findall(\"name1\",data))"
   ]
  },
  {
   "cell_type": "code",
   "execution_count": 10,
   "id": "fc73a201-aaf3-4ce9-bef4-7c98cd4fb0f0",
   "metadata": {},
   "outputs": [
    {
     "name": "stdout",
     "output_type": "stream",
     "text": [
      "['name', 'name', 'name', 'name']\n"
     ]
    }
   ],
   "source": [
    "import re\n",
    "print(re.findall(\"name\",data))"
   ]
  },
  {
   "cell_type": "code",
   "execution_count": 11,
   "id": "5e3c33af-ec46-4e70-9b5d-64b77455d930",
   "metadata": {},
   "outputs": [
    {
     "name": "stdout",
     "output_type": "stream",
     "text": [
      "['a', 'a', 'c', 'a', 'a', 'a', 'a', 'c', 'a', 'a']\n"
     ]
    }
   ],
   "source": [
    "import re\n",
    "print(re.findall(\"[abc]\",data))"
   ]
  },
  {
   "cell_type": "code",
   "execution_count": 13,
   "id": "ae8240e7-9aab-4982-9ad8-932a97cbb5ca",
   "metadata": {},
   "outputs": [
    {
     "name": "stdout",
     "output_type": "stream",
     "text": [
      "['ac']\n"
     ]
    }
   ],
   "source": [
    "import re\n",
    "data=open(\"data.txt\").read()\n",
    "print(re.findall(\"[abc][abc]\",data))"
   ]
  },
  {
   "cell_type": "code",
   "execution_count": 14,
   "id": "a29d7563-9a74-4d90-a9ca-7edf34998e7a",
   "metadata": {},
   "outputs": [
    {
     "name": "stdout",
     "output_type": "stream",
     "text": [
      "[]\n"
     ]
    }
   ],
   "source": [
    "import re\n",
    "data=open(\"data.txt\").read()\n",
    "print(re.findall(\"[abc][abc][abc]\",data))"
   ]
  },
  {
   "cell_type": "code",
   "execution_count": 15,
   "id": "eebfed4e-9e73-4290-b472-8508b882d14a",
   "metadata": {},
   "outputs": [
    {
     "name": "stdout",
     "output_type": "stream",
     "text": [
      "['acb']\n"
     ]
    }
   ],
   "source": [
    "import re\n",
    "data=open(\"data.txt\").read()\n",
    "print(re.findall(\"[abc][abc][abc]\",data))"
   ]
  },
  {
   "cell_type": "code",
   "execution_count": 16,
   "id": "d6d4ee72-68aa-486c-8bd4-2218b069cebb",
   "metadata": {},
   "outputs": [
    {
     "name": "stdout",
     "output_type": "stream",
     "text": [
      "['nam', 'eac', 'one', 'gam', 'com', 'one', 'gam', 'org', 'nam', 'nam', 'gam', 'nam', 'gam', 'gov']\n"
     ]
    }
   ],
   "source": [
    "import re\n",
    "data=open(\"data.txt\").read()\n",
    "print(re.findall(\"[a-z][a-z][a-z]\",data))"
   ]
  },
  {
   "cell_type": "code",
   "execution_count": 17,
   "id": "1766bc14-35d1-41e9-95e7-1a692fcfbac4",
   "metadata": {},
   "outputs": [
    {
     "name": "stdout",
     "output_type": "stream",
     "text": [
      "['978', '675', '456', '978', '675', '456', '978', '675', '457', '978', '675', '459']\n"
     ]
    }
   ],
   "source": [
    "import re\n",
    "data=open(\"data.txt\").read()\n",
    "print(re.findall(\"[0-9][0-9][0-9]\",data))"
   ]
  },
  {
   "cell_type": "code",
   "execution_count": 18,
   "id": "4f9a8561-2194-4a67-99ae-e16d73ba3a04",
   "metadata": {},
   "outputs": [
    {
     "name": "stdout",
     "output_type": "stream",
     "text": [
      "['9786754567', '9786754568', '9786754577', '9786754597']\n"
     ]
    }
   ],
   "source": [
    "import re\n",
    "data=open(\"data.txt\").read()\n",
    "print(re.findall(\"[0-9][0-9][0-9][0-9][0-9][0-9][0-9][0-9][0-9][0-9]\",data))"
   ]
  },
  {
   "cell_type": "code",
   "execution_count": 19,
   "id": "28fc64e5-dbe2-46ef-9f9a-b4fca437398e",
   "metadata": {},
   "outputs": [
    {
     "name": "stdout",
     "output_type": "stream",
     "text": [
      "['9786754567', '9786754568', '9786754577', '9786754597']\n"
     ]
    }
   ],
   "source": [
    "import re\n",
    "data=open(\"data.txt\").read()\n",
    "print(re.findall(\"[0-9]{10}\",data))"
   ]
  },
  {
   "cell_type": "code",
   "execution_count": 20,
   "id": "ef4f938a-d4b6-4f2f-8c04-16e82c7ab3c5",
   "metadata": {},
   "outputs": [
    {
     "name": "stdout",
     "output_type": "stream",
     "text": [
      "['9786754567', '9786754568', '9786754577', '9786754597']\n"
     ]
    }
   ],
   "source": [
    "import re\n",
    "data=open(\"data.txt\").read()\n",
    "print(re.findall(\"[0-9]{5,10}\",data))"
   ]
  },
  {
   "cell_type": "code",
   "execution_count": 21,
   "id": "429e0b5a-3f73-483a-9973-868d8fc40cec",
   "metadata": {},
   "outputs": [
    {
     "name": "stdout",
     "output_type": "stream",
     "text": [
      "['9786754567', '9786754568', '9786754577', '132456', '9786754597']\n"
     ]
    }
   ],
   "source": [
    "import re\n",
    "data=open(\"data.txt\").read()\n",
    "print(re.findall(\"[0-9]{5,10}\",data))"
   ]
  },
  {
   "cell_type": "code",
   "execution_count": 23,
   "id": "a0cb8608-59b7-41ec-b6fe-6737ab16d01b",
   "metadata": {},
   "outputs": [
    {
     "name": "stdout",
     "output_type": "stream",
     "text": [
      "1,nameacb1,9786754567,one12ER@gamil.com\n",
      "one52ER@gamil.org,2,name2,9786754568\n",
      "9786754577,3,name3,One12ER@gamil.co.in\n",
      "nam132456e4,4,9786754597,TWe12ER@gamil.gov.in\n",
      "['1', '', '', '', '', '', '', '', '', '1', '', '9', '7', '8', '6', '7', '5', '4', '5', '6', '7', '', '', '', '', '1', '2', '', '', '', '', '', '', '', '', '', '', '', '', '', '', '', '', '5', '2', '', '', '', '', '', '', '', '', '', '', '', '', '', '2', '', '', '', '', '', '2', '', '9', '7', '8', '6', '7', '5', '4', '5', '6', '8', '', '9', '7', '8', '6', '7', '5', '4', '5', '7', '7', '', '3', '', '', '', '', '', '3', '', '', '', '', '1', '2', '', '', '', '', '', '', '', '', '', '', '', '', '', '', '', '', '', '', '1', '3', '2', '4', '5', '6', '', '4', '', '4', '', '9', '7', '8', '6', '7', '5', '4', '5', '9', '7', '', '', '', '', '1', '2', '', '', '', '', '', '', '', '', '', '', '', '', '', '', '', '']\n"
     ]
    }
   ],
   "source": [
    "import re\n",
    "data=open(\"data.txt\").read()\n",
    "print(data)\n",
    "print(re.findall(\"[0-9]?\",data))#{0,1}"
   ]
  },
  {
   "cell_type": "code",
   "execution_count": 24,
   "id": "77ec875c-ba22-4f7a-93b4-beca03ba3fce",
   "metadata": {},
   "outputs": [
    {
     "name": "stdout",
     "output_type": "stream",
     "text": [
      "1,nameacb1,9786754567,one12ER@gamil.com\n",
      "one52ER@gamil.org,2,name2,9786754568\n",
      "9786754577,3,name3,One12ER@gamil.co.in\n",
      "nam132456e4,4,9786754597,TWe12ER@gamil.gov.in\n",
      "['1', '1', '9786754567', '12', '52', '2', '2', '9786754568', '9786754577', '3', '3', '12', '132456', '4', '4', '9786754597', '12']\n"
     ]
    }
   ],
   "source": [
    "import re\n",
    "data=open(\"data.txt\").read()\n",
    "print(data)\n",
    "print(re.findall(\"[0-9]+\",data))#{1,}"
   ]
  },
  {
   "cell_type": "code",
   "execution_count": 25,
   "id": "fd842b9e-60e0-48e0-aeae-ffa6136fc3cb",
   "metadata": {},
   "outputs": [
    {
     "name": "stdout",
     "output_type": "stream",
     "text": [
      "1,nameacb1,9786754567,one12ER@gamil.com\n",
      "one52ER@gamil.org,2,name2,9786754568\n",
      "9786754577,3,name3,One12ER@gamil.co.in\n",
      "nam132456e4,4,9786754597,TWe12ER@gamil.gov.in\n",
      "['1', '', '', '', '', '', '', '', '', '1', '', '9786754567', '', '', '', '', '12', '', '', '', '', '', '', '', '', '', '', '', '', '', '', '', '', '52', '', '', '', '', '', '', '', '', '', '', '', '', '', '2', '', '', '', '', '', '2', '', '9786754568', '', '9786754577', '', '3', '', '', '', '', '', '3', '', '', '', '', '12', '', '', '', '', '', '', '', '', '', '', '', '', '', '', '', '', '', '', '132456', '', '4', '', '4', '', '9786754597', '', '', '', '', '12', '', '', '', '', '', '', '', '', '', '', '', '', '', '', '', '']\n"
     ]
    }
   ],
   "source": [
    "import re\n",
    "data=open(\"data.txt\").read()\n",
    "print(data)\n",
    "print(re.findall(\"[0-9]*\",data))#{0,}"
   ]
  },
  {
   "cell_type": "code",
   "execution_count": 27,
   "id": "0dfa3c78-98d3-4134-beea-2887284a7661",
   "metadata": {},
   "outputs": [
    {
     "name": "stdout",
     "output_type": "stream",
     "text": [
      "1,NAMEnameacb1,9786754567,one12ER@gamil.com\n",
      "one52ER@gamil.org,2,name2,9786754568\n",
      "9786754577,3,name3,One12ER@gamil.co.in\n",
      "nam132456e4,4,9786754597,TWe12ER@gamil.gov.in\n",
      "['nameacb', 'one', 'gamil', 'com', 'one', 'gamil', 'org', 'name', 'name', 'ne', 'gamil', 'co', 'in', 'nam', 'e', 'e', 'gamil', 'gov', 'in']\n"
     ]
    }
   ],
   "source": [
    "import re\n",
    "data=open(\"data.txt\").read()\n",
    "print(data)\n",
    "print(re.findall(\"[a-z]+\",data))"
   ]
  },
  {
   "cell_type": "code",
   "execution_count": 28,
   "id": "6d4dafe9-4317-4f48-b48a-48e3b74b08dc",
   "metadata": {},
   "outputs": [
    {
     "name": "stdout",
     "output_type": "stream",
     "text": [
      "1,NAMEnameacb1,9786754567,one12ER@gamil.com\n",
      "one52ER@gamil.org,2,name2,9786754568\n",
      "9786754577,3,name3,One12ER@gamil.co.in\n",
      "nam132456e4,4,9786754597,TWe12ER@gamil.gov.in\n",
      "['NAMEnameacb', 'one', 'ER', 'gamil', 'com', 'one', 'ER', 'gamil', 'org', 'name', 'name', 'One', 'ER', 'gamil', 'co', 'in', 'nam', 'e', 'TWe', 'ER', 'gamil', 'gov', 'in']\n"
     ]
    }
   ],
   "source": [
    "import re\n",
    "data=open(\"data.txt\").read()\n",
    "print(data)\n",
    "print(re.findall(\"[a-zA-Z]+\",data))"
   ]
  },
  {
   "cell_type": "code",
   "execution_count": 29,
   "id": "13d721da-b385-49e5-9aff-cb018e6601b8",
   "metadata": {},
   "outputs": [
    {
     "name": "stdout",
     "output_type": "stream",
     "text": [
      "1,NAMEnameacb1,9786754567,one12ER@gamil.com\n",
      "one52ER@gamil.org,2,name2,9786754568\n",
      "9786754577,3,name3,One12ER@gamil.co.in\n",
      "nam132456e4,4,9786754597,TWe12ER@gamil.gov.in\n",
      "['NAMEnameacb', 'one', 'ER', 'gamil', 'com', 'one', 'ER', 'gamil', 'org', 'name', 'name', 'One', 'ER', 'gamil', 'co', 'in', 'nam', 'e', 'TWe', 'ER', 'gamil', 'gov', 'in']\n"
     ]
    }
   ],
   "source": [
    "import re\n",
    "data=open(\"data.txt\").read()\n",
    "print(data)\n",
    "print(re.findall(\"[a-z]+\",data,re.I))"
   ]
  },
  {
   "cell_type": "code",
   "execution_count": 30,
   "id": "bd7a7680-e418-4438-8218-20d1c949af09",
   "metadata": {},
   "outputs": [
    {
     "name": "stdout",
     "output_type": "stream",
     "text": [
      "1,NAMEnameacb1,9786754567,one12ER@gamil.com\n",
      "one52ER@gamil.org,2,name2,9786754568\n",
      "9786754577,3,name3,One12ER@gamil.co.in\n",
      "nam132456e4,4,9786754597,TWe12ER@gamil.gov.in\n",
      "['1', ',', 'N', 'A', 'M', 'E', 'n', 'a', 'm', 'e', 'a', 'c', 'b', '1', ',', '9', '7', '8', '6', '7', '5', '4', '5', '6', '7', ',', 'o', 'n', 'e', '1', '2', 'E', 'R', '@', 'g', 'a', 'm', 'i', 'l', '.', 'c', 'o', 'm', 'o', 'n', 'e', '5', '2', 'E', 'R', '@', 'g', 'a', 'm', 'i', 'l', '.', 'o', 'r', 'g', ',', '2', ',', 'n', 'a', 'm', 'e', '2', ',', '9', '7', '8', '6', '7', '5', '4', '5', '6', '8', '9', '7', '8', '6', '7', '5', '4', '5', '7', '7', ',', '3', ',', 'n', 'a', 'm', 'e', '3', ',', 'O', 'n', 'e', '1', '2', 'E', 'R', '@', 'g', 'a', 'm', 'i', 'l', '.', 'c', 'o', '.', 'i', 'n', 'n', 'a', 'm', '1', '3', '2', '4', '5', '6', 'e', '4', ',', '4', ',', '9', '7', '8', '6', '7', '5', '4', '5', '9', '7', ',', 'T', 'W', 'e', '1', '2', 'E', 'R', '@', 'g', 'a', 'm', 'i', 'l', '.', 'g', 'o', 'v', '.', 'i', 'n']\n"
     ]
    }
   ],
   "source": [
    "import re\n",
    "data=open(\"data.txt\").read()\n",
    "print(data)\n",
    "print(re.findall(\".\",data,re.I))"
   ]
  },
  {
   "cell_type": "code",
   "execution_count": 31,
   "id": "8c06f5ae-335c-4753-bceb-71e6757d0b5e",
   "metadata": {},
   "outputs": [
    {
     "name": "stdout",
     "output_type": "stream",
     "text": [
      "1,NAMEnameacb1,9786754567,one12ER@gamil.com\n",
      "one52ER@gamil.org,2,name2,9786754568\n",
      "9786754577,3,name3,One12ER@gamil.co.in\n",
      "nam132456e4,4,9786754597,TWe12ER@gamil.gov.in\n",
      "['1', ',', 'N', 'A', 'M', 'E', 'n', 'a', 'm', 'e', 'a', 'c', 'b', '1', ',', '9', '7', '8', '6', '7', '5', '4', '5', '6', '7', ',', 'o', 'n', 'e', '1', '2', 'E', 'R', '@', 'g', 'a', 'm', 'i', 'l', '.', 'c', 'o', 'm', 'o', 'n', 'e', '5', '2', 'E', 'R', '@', 'g', 'a', 'm', 'i', 'l', '.', 'o', 'r', 'g', ',', '2', ',', 'n', 'a', 'm', 'e', '2', ',', '9', '7', '8', '6', '7', '5', '4', '5', '6', '8', '9', '7', '8', '6', '7', '5', '4', '5', '7', '7', ',', '3', ',', 'n', 'a', 'm', 'e', '3', ',', 'O', 'n', 'e', '1', '2', 'E', 'R', '@', 'g', 'a', 'm', 'i', 'l', '.', 'c', 'o', '.', 'i', 'n', 'n', 'a', 'm', '1', '3', '2', '4', '5', '6', 'e', '4', ',', '4', ',', '9', '7', '8', '6', '7', '5', '4', '5', '9', '7', ',', 'T', 'W', 'e', '1', '2', 'E', 'R', '@', 'g', 'a', 'm', 'i', 'l', '.', 'g', 'o', 'v', '.', 'i', 'n']\n"
     ]
    }
   ],
   "source": [
    "import re\n",
    "data=open(\"data.txt\").read()\n",
    "print(data)\n",
    "print(re.findall(\".\",data))"
   ]
  },
  {
   "cell_type": "code",
   "execution_count": 32,
   "id": "98e0f6f8-dd82-406c-8cf2-96a423bffbb3",
   "metadata": {},
   "outputs": [
    {
     "name": "stdout",
     "output_type": "stream",
     "text": [
      "1,NAMEnameacb1,9786754567,one12ER@gamil.com\n",
      "one52ER@gamil.org,2,name2,9786754568\n",
      "9786754577,3,name3,One12ER@gamil.co.in\n",
      "nam132456e4,4,9786754597,TWe12ER@gamil.gov.in\n",
      "['1', ',', 'N', 'A', 'M', 'E', 'n', 'a', 'm', 'e', 'a', 'c', 'b', '1', ',', '9', '7', '8', '6', '7', '5', '4', '5', '6', '7', ',', 'o', 'n', 'e', '1', '2', 'E', 'R', '@', 'g', 'a', 'm', 'i', 'l', '.', 'c', 'o', 'm', '\\n', 'o', 'n', 'e', '5', '2', 'E', 'R', '@', 'g', 'a', 'm', 'i', 'l', '.', 'o', 'r', 'g', ',', '2', ',', 'n', 'a', 'm', 'e', '2', ',', '9', '7', '8', '6', '7', '5', '4', '5', '6', '8', '\\n', '9', '7', '8', '6', '7', '5', '4', '5', '7', '7', ',', '3', ',', 'n', 'a', 'm', 'e', '3', ',', 'O', 'n', 'e', '1', '2', 'E', 'R', '@', 'g', 'a', 'm', 'i', 'l', '.', 'c', 'o', '.', 'i', 'n', '\\n', 'n', 'a', 'm', '1', '3', '2', '4', '5', '6', 'e', '4', ',', '4', ',', '9', '7', '8', '6', '7', '5', '4', '5', '9', '7', ',', 'T', 'W', 'e', '1', '2', 'E', 'R', '@', 'g', 'a', 'm', 'i', 'l', '.', 'g', 'o', 'v', '.', 'i', 'n']\n"
     ]
    }
   ],
   "source": [
    "import re\n",
    "data=open(\"data.txt\").read()\n",
    "print(data)\n",
    "print(re.findall(\".\",data, re.DOTALL))"
   ]
  },
  {
   "cell_type": "code",
   "execution_count": 34,
   "id": "855e4c73-655b-4cbd-a28a-59f7f4541c71",
   "metadata": {},
   "outputs": [
    {
     "name": "stdout",
     "output_type": "stream",
     "text": [
      "1,NAMEnameacb1,9786754567,one12ER@gamil.com\n",
      "one52ER@gamil.org,2,name2,9786754568\n",
      "9786754577,3,name3,One12ER@gamil.co.in\n",
      "nam132456e4,4,9786754597,TWe12ER@gamil.gov.in\n",
      "['1,NAMEnameacb1,9786754567,one12ER@gamil.com\\none52ER@gamil.org,2,name2,9786754568\\n9786754577,3,name3,One12ER@gamil.co.in\\nnam132456e4,4,9786754597,TWe12ER@gamil.gov.in']\n"
     ]
    }
   ],
   "source": [
    "import re\n",
    "data=open(\"data.txt\").read()\n",
    "print(data)\n",
    "print(re.findall(\".+\",data, re.DOTALL))"
   ]
  },
  {
   "cell_type": "code",
   "execution_count": 35,
   "id": "31955f95-2c95-4cc5-8037-9b1e0ed0897b",
   "metadata": {},
   "outputs": [
    {
     "name": "stdout",
     "output_type": "stream",
     "text": [
      "1,NAMEnameacb1,9786754567,one12ER@gamil.com\n",
      "one52ER@gamil.org,2,name2,9786754568\n",
      "9786754577,3,name3,One12ER@gamil.co.in\n",
      "nam132456e4,4,9786754597,TWe12ER@gamil.gov.in\n",
      "['1,NAMEnameacb1,9786754567,one12ER@gamil.com', 'one52ER@gamil.org,2,name2,9786754568', '9786754577,3,name3,One12ER@gamil.co.in', 'nam132456e4,4,9786754597,TWe12ER@gamil.gov.in']\n"
     ]
    }
   ],
   "source": [
    "import re\n",
    "data=open(\"data.txt\").read()\n",
    "print(data)\n",
    "print(re.findall(\".+\",data))"
   ]
  },
  {
   "cell_type": "code",
   "execution_count": 36,
   "id": "fdf6033f-434b-4c5a-b70b-829dfdbcc140",
   "metadata": {},
   "outputs": [
    {
     "name": "stdout",
     "output_type": "stream",
     "text": [
      "1,NAMEnameacb1,9786754567,one12ER@gamil.com\n",
      "one52ER@gamil.org,2,name2,9786754568\n",
      "9786754577,3,name3,One12ER@gamil.co.in\n",
      "nam132456e4,4,9786754597,TWe12ER@gamil.gov.in\n",
      "['n', 'a', 'm', 'e', 'a', 'c', 'b', 'o', 'n', 'e', 'g', 'a', 'm', 'i', 'l', 'c', 'o', 'm', 'o', 'n', 'e', 'g', 'a', 'm', 'i', 'l', 'o', 'r', 'g', 'n', 'a', 'm', 'e', 'n', 'a', 'm', 'e', 'n', 'e', 'g', 'a', 'm', 'i', 'l', 'c', 'o', 'i', 'n', 'n', 'a', 'm', 'e', 'e', 'g', 'a', 'm', 'i', 'l', 'g', 'o', 'v', 'i', 'n']\n"
     ]
    }
   ],
   "source": [
    "import re\n",
    "data=open(\"data.txt\").read()\n",
    "print(data)\n",
    "print(re.findall(\"[a-z]\",data))"
   ]
  },
  {
   "cell_type": "code",
   "execution_count": 38,
   "id": "fdff9ff6-3049-4a32-9872-f3f39b07787d",
   "metadata": {},
   "outputs": [
    {
     "name": "stdout",
     "output_type": "stream",
     "text": [
      "1,NAMEnameacb1,9786754567,one12ER@gamil.com\n",
      "one52ER@gamil.org,2,name2,9786754568\n",
      "9786754577,3,name3,One12ER@gamil.co.in\n",
      "nam132456e4,4,9786754597,TWe12ER@gamil.gov.in\n",
      "********************\n",
      "[]\n"
     ]
    }
   ],
   "source": [
    "import re\n",
    "data=open(\"data.txt\").read()\n",
    "print(data)\n",
    "print(\"*\"*20)\n",
    "print(re.findall(\"^[a-z]\",data))"
   ]
  },
  {
   "cell_type": "code",
   "execution_count": 39,
   "id": "5296bc2e-889c-43a9-a138-607dd06d14a8",
   "metadata": {},
   "outputs": [
    {
     "name": "stdout",
     "output_type": "stream",
     "text": [
      "1,NAMEnameacb1,9786754567,one12ER@gamil.com\n",
      "one52ER@gamil.org,2,name2,9786754568\n",
      "9786754577,3,name3,One12ER@gamil.co.in\n",
      "nam132456e4,4,9786754597,TWe12ER@gamil.gov.in\n",
      "********************\n",
      "['1']\n"
     ]
    }
   ],
   "source": [
    "import re\n",
    "data=open(\"data.txt\").read()\n",
    "print(data)\n",
    "print(\"*\"*20)\n",
    "print(re.findall(\"^[a-z0-9]\",data))"
   ]
  },
  {
   "cell_type": "code",
   "execution_count": 40,
   "id": "3fdb776b-a6b3-4d95-8913-1462632ffd97",
   "metadata": {},
   "outputs": [
    {
     "name": "stdout",
     "output_type": "stream",
     "text": [
      "1,NAMEnameacb1,9786754567,one12ER@gamil.com\n",
      "one52ER@gamil.org,2,name2,9786754568\n",
      "9786754577,3,name3,One12ER@gamil.co.in\n",
      "nam132456e4,4,9786754597,TWe12ER@gamil.gov.in\n",
      "********************\n",
      "['1', ',', 'N', 'A', 'M', 'E', '1', ',', '9', '7', '8', '6', '7', '5', '4', '5', '6', '7', ',', '1', '2', 'E', 'R', '@', '.', '\\n', '5', '2', 'E', 'R', '@', '.', ',', '2', ',', '2', ',', '9', '7', '8', '6', '7', '5', '4', '5', '6', '8', '\\n', '9', '7', '8', '6', '7', '5', '4', '5', '7', '7', ',', '3', ',', '3', ',', 'O', '1', '2', 'E', 'R', '@', '.', '.', '\\n', '1', '3', '2', '4', '5', '6', '4', ',', '4', ',', '9', '7', '8', '6', '7', '5', '4', '5', '9', '7', ',', 'T', 'W', '1', '2', 'E', 'R', '@', '.', '.']\n"
     ]
    }
   ],
   "source": [
    "import re\n",
    "data=open(\"data.txt\").read()\n",
    "print(data)\n",
    "print(\"*\"*20)\n",
    "print(re.findall(\"[^a-z]\",data))"
   ]
  },
  {
   "cell_type": "code",
   "execution_count": 41,
   "id": "ac2e3863-4078-4fce-ac96-385a24050572",
   "metadata": {},
   "outputs": [
    {
     "name": "stdout",
     "output_type": "stream",
     "text": [
      "1,NAMEnameacb1,9786754567,one12ER@gamil.com\n",
      "one52ER@gamil.org,2,name2,9786754568\n",
      "9786754577,3,name3,One12ER@gamil.co.in\n",
      "nam132456e4,4,9786754597,TWe12ER@gamil.gov.in\n",
      "********************\n",
      "[]\n"
     ]
    }
   ],
   "source": [
    "import re\n",
    "data=open(\"data.txt\").read()\n",
    "print(data)\n",
    "print(\"*\"*20)\n",
    "print(re.findall(\"^[a-z]\",data))"
   ]
  },
  {
   "cell_type": "code",
   "execution_count": 43,
   "id": "792856ca-4929-4cc3-837f-61a0a8ff45c9",
   "metadata": {},
   "outputs": [
    {
     "name": "stdout",
     "output_type": "stream",
     "text": [
      "1,NAMEnameacb1,9786754567,one12ER@gamil.com\n",
      "One52ER@gamil.org,2,name2,9786754568\n",
      "9786754577,3,name3,One12ER@gamil.co.in\n",
      "nam132456e4,4,9786754597,TWe12ER@gamil.gov.in\n",
      "********************\n",
      "['n']\n"
     ]
    }
   ],
   "source": [
    "import re\n",
    "data=open(\"data.txt\").read()\n",
    "print(data)\n",
    "print(\"*\"*20)\n",
    "print(re.findall(\"^[a-z]\",data,re.M))"
   ]
  },
  {
   "cell_type": "code",
   "execution_count": 44,
   "id": "4274eef9-88ac-453f-9c56-2fa515bca9e0",
   "metadata": {},
   "outputs": [
    {
     "name": "stdout",
     "output_type": "stream",
     "text": [
      "1,NAMEnameacb1,9786754567,one12ER@gamil.com\n",
      "One52ER@gamil.org,2,name2,9786754568\n",
      "9786754577,3,name3,One12ER@gamil.co.in\n",
      "nam132456e4,4,9786754597,TWe12ER@gamil.gov.in\n",
      "********************\n",
      "['O', 'n']\n"
     ]
    }
   ],
   "source": [
    "import re\n",
    "data=open(\"data.txt\").read()\n",
    "print(data)\n",
    "print(\"*\"*20)\n",
    "print(re.findall(\"^[a-zA-Z]\",data,re.M))"
   ]
  },
  {
   "cell_type": "code",
   "execution_count": 45,
   "id": "85cf5552-e085-44e9-9e71-530395122e4b",
   "metadata": {},
   "outputs": [
    {
     "name": "stdout",
     "output_type": "stream",
     "text": [
      "1,NAMEnameacb1,9786754567,one12ER@gamil.com\n",
      "One52ER@gamil.org,2,name2,9786754568\n",
      "9786754577,3,name3,One12ER@gamil.co.in\n",
      "nam132456e4,4,9786754597,TWe12ER@gamil.gov.in\n",
      "********************\n",
      "['O', 'n']\n"
     ]
    }
   ],
   "source": [
    "import re\n",
    "data=open(\"data.txt\").read()\n",
    "print(data)\n",
    "print(\"*\"*20)\n",
    "print(re.findall(\"^[a-z]\",data,re.M|re.I))"
   ]
  },
  {
   "cell_type": "code",
   "execution_count": 46,
   "id": "191cc639-0d35-4a43-b2b3-5cec76060e8b",
   "metadata": {},
   "outputs": [
    {
     "name": "stdout",
     "output_type": "stream",
     "text": [
      "1,NAMEnameacb1,9786754567,one12ER@gamil.com\n",
      "One52ER@gamil.org,2,name2,9786754568\n",
      "9786754577,3,name3,One12ER@gamil.co.in\n",
      "nam132456e4,4,9786754597,TWe12ER@gamil.gov.in\n",
      "********************\n",
      "['m', 'n', 'n']\n"
     ]
    }
   ],
   "source": [
    "import re\n",
    "data=open(\"data.txt\").read()\n",
    "print(data)\n",
    "print(\"*\"*20)\n",
    "print(re.findall(\"[a-z]$\",data,re.M|re.I))"
   ]
  },
  {
   "cell_type": "code",
   "execution_count": 47,
   "id": "d43edb51-f214-4da1-bae6-ab553823b599",
   "metadata": {},
   "outputs": [
    {
     "name": "stdout",
     "output_type": "stream",
     "text": [
      "1,NAME nameacb1,9786754567,one12ER@gamil.com\n",
      "One52ER@gamil.org,2,name2,9786754568\n",
      "9786754577,3,name3,One12ER@gamil.co.in\n",
      "nam132456e4,4,9786754597,TWe12ER@gamil.gov.in\n",
      "********************\n",
      "['N', 'A', 'M', 'E', ' ', 'n', 'a', 'm', 'e', 'a', 'c', 'b', 'o', 'n', 'e', 'E', 'R', 'g', 'a', 'm', 'i', 'l', 'c', 'o', 'm', 'O', 'n', 'e', 'E', 'R', 'g', 'a', 'm', 'i', 'l', 'o', 'r', 'g', 'n', 'a', 'm', 'e', 'n', 'a', 'm', 'e', 'O', 'n', 'e', 'E', 'R', 'g', 'a', 'm', 'i', 'l', 'c', 'o', 'i', 'n', 'n', 'a', 'm', 'e', 'T', 'W', 'e', 'E', 'R', 'g', 'a', 'm', 'i', 'l', 'g', 'o', 'v', 'i', 'n']\n"
     ]
    }
   ],
   "source": [
    "import re\n",
    "data=open(\"data.txt\").read()\n",
    "print(data)\n",
    "print(\"*\"*20)\n",
    "print(re.findall(\"[a-z ]\",data,re.M|re.I))"
   ]
  },
  {
   "cell_type": "code",
   "execution_count": 48,
   "id": "37b7dbaa-e04f-46d8-ac4a-3073093b15f1",
   "metadata": {},
   "outputs": [
    {
     "name": "stdout",
     "output_type": "stream",
     "text": [
      "1,NAME nameacb1,9786754567,one12ER@gamil.com\n",
      "One52ER@gamil.org,2,name2,9786754568\n",
      "9786754577,3,name3,One12ER@gamil.co.in\n",
      "nam132456e4,4,9786754597,TWe12ER@gamil.gov.in\n",
      "********************\n",
      "['NAME nameacb', 'one', 'ER', 'gamil', 'com', 'One', 'ER', 'gamil', 'org', 'name', 'name', 'One', 'ER', 'gamil', 'co', 'in', 'nam', 'e', 'TWe', 'ER', 'gamil', 'gov', 'in']\n"
     ]
    }
   ],
   "source": [
    "import re\n",
    "data=open(\"data.txt\").read()\n",
    "print(data)\n",
    "print(\"*\"*20)\n",
    "print(re.findall(\"[a-z ]+\",data,re.M|re.I))"
   ]
  },
  {
   "cell_type": "code",
   "execution_count": 49,
   "id": "c294026c-f3b6-48c0-b50f-7bf99794892b",
   "metadata": {},
   "outputs": [
    {
     "name": "stdout",
     "output_type": "stream",
     "text": [
      "1,NAME nameacb1,9786754567,one12ER@gamil.com\n",
      "One52ER@gamil.org,2,name2,9786754568\n",
      "9786754577,3,name3,One12ER@gamil.co.in\n",
      "nam132456e4,4,9786754597,TWe12ER@gamil.gov.in\n",
      "********************\n",
      "['NAME nameacb', 'one', 'ER', 'gamil', 'com\\nOne', 'ER', 'gamil', 'org', 'name', '\\n', 'name', 'One', 'ER', 'gamil', 'co', 'in\\nnam', 'e', 'TWe', 'ER', 'gamil', 'gov', 'in']\n"
     ]
    },
    {
     "name": "stderr",
     "output_type": "stream",
     "text": [
      "<>:5: SyntaxWarning: invalid escape sequence '\\s'\n",
      "<>:5: SyntaxWarning: invalid escape sequence '\\s'\n",
      "C:\\Users\\Navya\\AppData\\Local\\Temp\\ipykernel_7984\\4244253055.py:5: SyntaxWarning: invalid escape sequence '\\s'\n",
      "  print(re.findall(\"[a-z\\s]+\",data,re.M|re.I))\n"
     ]
    }
   ],
   "source": [
    "import re\n",
    "data=open(\"data.txt\").read()\n",
    "print(data)\n",
    "print(\"*\"*20)\n",
    "print(re.findall(\"[a-z\\s]+\",data,re.M|re.I))"
   ]
  },
  {
   "cell_type": "code",
   "execution_count": 52,
   "id": "d7eb3fa8-548f-40c1-860b-d1c7ce005634",
   "metadata": {},
   "outputs": [
    {
     "name": "stdout",
     "output_type": "stream",
     "text": [
      "1,NAME nameacb1,9786754567,one12ER@gamil.com\n",
      "One52ER@gamil.org,2,name2,9786754568\n",
      "9786754577,3,name3,One12ER@gamil.co.in\n",
      "nam132456e4,4,9786754597,TWe12ER@gamil.gov.in\n",
      "********************\n",
      "['E ', 'm\\n', 'n\\n']\n"
     ]
    },
    {
     "name": "stderr",
     "output_type": "stream",
     "text": [
      "<>:5: SyntaxWarning: invalid escape sequence '\\s'\n",
      "<>:5: SyntaxWarning: invalid escape sequence '\\s'\n",
      "C:\\Users\\Navya\\AppData\\Local\\Temp\\ipykernel_7984\\232599618.py:5: SyntaxWarning: invalid escape sequence '\\s'\n",
      "  print(re.findall(\"[a-z]\\s+\",data,re.M|re.I))\n"
     ]
    }
   ],
   "source": [
    "import re\n",
    "data=open(\"data.txt\").read()\n",
    "print(data)\n",
    "print(\"*\"*20)\n",
    "print(re.findall(\"[a-z]\\s+\",data,re.M|re.I))"
   ]
  },
  {
   "cell_type": "code",
   "execution_count": 53,
   "id": "197f01e5-5b86-49f8-a015-e4bfaf2e3f85",
   "metadata": {},
   "outputs": [
    {
     "name": "stdout",
     "output_type": "stream",
     "text": [
      "1,NAME nameacb1,9786754567,one12ER@gamil.com\n",
      "One52ER@gamil.org,2,name2,9786754568\n",
      "9786754577,3,name3,One12ER@gamil.co.in\n",
      "nam132456e4,4,9786754597,TWe12ER@gamil.gov.in\n",
      "********************\n",
      "['1', ',', 'N', 'A', 'M', 'E', ' ', 'n', 'a', 'm', 'e', 'a', 'c', 'b', '1', ',', '9', '7', '8', '6', '7', '5', '4', '5', '6', '7', ',', 'o', 'n', 'e', '1', '2', 'E', 'R', '@', 'g', 'a', 'm', 'i', 'l', '.', 'c', 'o', 'm', 'O', 'n', 'e', '5', '2', 'E', 'R', '@', 'g', 'a', 'm', 'i', 'l', '.', 'o', 'r', 'g', ',', '2', ',', 'n', 'a', 'm', 'e', '2', ',', '9', '7', '8', '6', '7', '5', '4', '5', '6', '8', '9', '7', '8', '6', '7', '5', '4', '5', '7', '7', ',', '3', ',', 'n', 'a', 'm', 'e', '3', ',', 'O', 'n', 'e', '1', '2', 'E', 'R', '@', 'g', 'a', 'm', 'i', 'l', '.', 'c', 'o', '.', 'i', 'n', 'n', 'a', 'm', '1', '3', '2', '4', '5', '6', 'e', '4', ',', '4', ',', '9', '7', '8', '6', '7', '5', '4', '5', '9', '7', ',', 'T', 'W', 'e', '1', '2', 'E', 'R', '@', 'g', 'a', 'm', 'i', 'l', '.', 'g', 'o', 'v', '.', 'i', 'n']\n"
     ]
    }
   ],
   "source": [
    "import re\n",
    "data=open(\"data.txt\").read()\n",
    "print(data)\n",
    "print(\"*\"*20)\n",
    "print(re.findall(\".\",data,re.M|re.I))"
   ]
  },
  {
   "cell_type": "code",
   "execution_count": 54,
   "id": "e8ba4124-e17e-4756-b2c3-9abcc3ebec45",
   "metadata": {},
   "outputs": [
    {
     "name": "stdout",
     "output_type": "stream",
     "text": [
      "1,NAME nameacb1,9786754567,one12ER@gamil.com\n",
      "One52ER@gamil.org,2,name2,9786754568\n",
      "9786754577,3,name3,One12ER@gamil.co.in\n",
      "nam132456e4,4,9786754597,TWe12ER@gamil.gov.in\n",
      "********************\n",
      "['.', '.', '.', '.', '.', '.']\n"
     ]
    },
    {
     "name": "stderr",
     "output_type": "stream",
     "text": [
      "<>:5: SyntaxWarning: invalid escape sequence '\\.'\n",
      "<>:5: SyntaxWarning: invalid escape sequence '\\.'\n",
      "C:\\Users\\Navya\\AppData\\Local\\Temp\\ipykernel_7984\\623922257.py:5: SyntaxWarning: invalid escape sequence '\\.'\n",
      "  print(re.findall(\"\\.\",data,re.M|re.I))\n"
     ]
    }
   ],
   "source": [
    "import re\n",
    "data=open(\"data.txt\").read()\n",
    "print(data)\n",
    "print(\"*\"*20)\n",
    "print(re.findall(\"\\.\",data,re.M|re.I))"
   ]
  },
  {
   "cell_type": "code",
   "execution_count": 55,
   "id": "93fbda8d-71af-44ba-a45e-a8078778d0e3",
   "metadata": {},
   "outputs": [
    {
     "name": "stdout",
     "output_type": "stream",
     "text": [
      "1,NAME nameacb1,9786754567,one12ER@gamil.com\n",
      "One52ER@gamil.org,2,name2,9786754568\n",
      "9786754577,3,name3,One12ER@gamil.co.in\n",
      "nam132456e4,4,9786754597,TWe12ER@gamil.gov.in\n",
      "********************\n",
      "['.', '.', '.', '.', '.', '.']\n"
     ]
    }
   ],
   "source": [
    "import re\n",
    "data=open(\"data.txt\").read()\n",
    "print(data)\n",
    "print(\"*\"*20)\n",
    "print(re.findall(\"[.]\",data,re.M|re.I))"
   ]
  },
  {
   "cell_type": "code",
   "execution_count": 56,
   "id": "7165b069-eceb-47f2-bcfa-4de24e1bd54b",
   "metadata": {},
   "outputs": [
    {
     "name": "stdout",
     "output_type": "stream",
     "text": [
      "1,NAME nameacb1,9786754567,one12ER@gamil.com\n",
      "One52ER@gamil.org,2,name2,9786754568\n",
      "9786754577,3,name3,One12ER@gamil.co.in\n",
      "nam132456e4,4,9786754597,TWe12ER@gamil.gov.in\n",
      "********************\n",
      "['R@', 'R@', 'R@', 'R@']\n"
     ]
    }
   ],
   "source": [
    "import re\n",
    "data=open(\"data.txt\").read()\n",
    "print(data)\n",
    "print(\"*\"*20)\n",
    "print(re.findall(\"[a-z0-9]@\",data,re.I))"
   ]
  },
  {
   "cell_type": "code",
   "execution_count": 57,
   "id": "b717d4bd-f082-4640-987c-a373b58dd651",
   "metadata": {},
   "outputs": [
    {
     "name": "stdout",
     "output_type": "stream",
     "text": [
      "1,NAME nameacb1,9786754567,one12ER@gamil.com\n",
      "One52ER@gamil.org,2,name2,9786754568\n",
      "9786754577,3,name3,One12ER@gamil.co.in\n",
      "nam132456e4,4,9786754597,TWe12ER@gamil.gov.in\n",
      "********************\n",
      "['one12ER@', 'One52ER@', 'One12ER@', 'TWe12ER@']\n"
     ]
    }
   ],
   "source": [
    "import re\n",
    "data=open(\"data.txt\").read()\n",
    "print(data)\n",
    "print(\"*\"*20)\n",
    "print(re.findall(\"[a-z0-9]+@\",data,re.I))"
   ]
  },
  {
   "cell_type": "code",
   "execution_count": 59,
   "id": "9acd3e7e-b167-44ea-ad24-f047a965645c",
   "metadata": {},
   "outputs": [
    {
     "name": "stdout",
     "output_type": "stream",
     "text": [
      "1,NAME nameacb1,9786754567,one12ER@gamil.com\n",
      "One52ER@gamil.org,2,name2,9786754568\n",
      "9786754577,3,name3,One12ER@gamil.co.in\n",
      "nam132456e4,4,9786754597,TWe12ER@gamil.gov.in\n",
      "********************\n",
      "['one12ER@gamil.', 'One52ER@gamil.', 'One12ER@gamil.', 'TWe12ER@gamil.']\n"
     ]
    },
    {
     "name": "stderr",
     "output_type": "stream",
     "text": [
      "<>:5: SyntaxWarning: invalid escape sequence '\\.'\n",
      "<>:5: SyntaxWarning: invalid escape sequence '\\.'\n",
      "C:\\Users\\Navya\\AppData\\Local\\Temp\\ipykernel_7984\\75980485.py:5: SyntaxWarning: invalid escape sequence '\\.'\n",
      "  print(re.findall(\"[a-z0-9]+@[a-z]+\\.\",data,re.I))\n"
     ]
    }
   ],
   "source": [
    "import re\n",
    "data=open(\"data.txt\").read()\n",
    "print(data)\n",
    "print(\"*\"*20)\n",
    "print(re.findall(\"[a-z0-9]+@[a-z]+\\.\",data,re.I))"
   ]
  },
  {
   "cell_type": "code",
   "execution_count": 60,
   "id": "33f194fb-c27c-4d7c-96cb-77dfd82cc065",
   "metadata": {},
   "outputs": [
    {
     "name": "stdout",
     "output_type": "stream",
     "text": [
      "1,NAME nameacb1,9786754567,one12ER@gamil.com\n",
      "One52ER@gamil.org,2,name2,9786754568\n",
      "9786754577,3,name3,One12ER@gamil.co.in\n",
      "nam132456e4,4,9786754597,TWe12ER@gamil.gov.in\n",
      "********************\n",
      "['one12ER@gamil.com', 'One52ER@gamil.org', 'One12ER@gamil.co.in', 'TWe12ER@gamil.gov.in']\n"
     ]
    },
    {
     "name": "stderr",
     "output_type": "stream",
     "text": [
      "<>:5: SyntaxWarning: invalid escape sequence '\\.'\n",
      "<>:5: SyntaxWarning: invalid escape sequence '\\.'\n",
      "C:\\Users\\Navya\\AppData\\Local\\Temp\\ipykernel_7984\\2615127197.py:5: SyntaxWarning: invalid escape sequence '\\.'\n",
      "  print(re.findall(\"[a-z0-9]+@[a-z]+\\.[a-z.]+\",data,re.I))\n"
     ]
    }
   ],
   "source": [
    "import re\n",
    "data=open(\"data.txt\").read()\n",
    "print(data)\n",
    "print(\"*\"*20)\n",
    "print(re.findall(\"[a-z0-9]+@[a-z]+\\.[a-z.]+\",data,re.I))"
   ]
  },
  {
   "cell_type": "code",
   "execution_count": 61,
   "id": "036a0fe2-0bfe-44fd-a72e-f0d5bc5463f5",
   "metadata": {},
   "outputs": [
    {
     "name": "stdout",
     "output_type": "stream",
     "text": [
      "1,NAME nameacb1,9786754567,one12ER@gamil.com\n",
      "One52ER@gamil.org,2,name2,9786754568\n",
      "9786754577,3,name3,One12ER@gamil.co.in\n",
      "nam132456e4,4,9786754597,TWe12ER@gamil.gov.in\n",
      "********************\n",
      "['one12ER@gamil.com', 'One52ER@gamil.org', 'One12ER@gamil.co.in', 'TWe12ER@gamil.gov.in']\n"
     ]
    }
   ],
   "source": [
    "import re\n",
    "data=open(\"data.txt\").read()\n",
    "print(data)\n",
    "print(\"*\"*20)\n",
    "print(re.findall(\"[a-z0-9]+@[a-z]+[a-z.]+\",data,re.I))"
   ]
  },
  {
   "cell_type": "code",
   "execution_count": 62,
   "id": "e7917bac-c5f1-44ba-89a6-8f3831123b42",
   "metadata": {},
   "outputs": [
    {
     "name": "stdout",
     "output_type": "stream",
     "text": [
      "1,NAME nameacb1,9786754567,one12ER@gamil.com\n",
      "One52ER@gamil.org,2,name2,9786754568\n",
      "9786754577,3,name3,One12ER@gamil.co.in\n",
      "nam132456e4,4,9786754597,TWe12ER@gamil.gov.in\n",
      "********************\n",
      "['1', '1', '9', '7', '8', '6', '7', '5', '4', '5', '6', '7', '1', '2', '5', '2', '2', '2', '9', '7', '8', '6', '7', '5', '4', '5', '6', '8', '9', '7', '8', '6', '7', '5', '4', '5', '7', '7', '3', '3', '1', '2', '1', '3', '2', '4', '5', '6', '4', '4', '9', '7', '8', '6', '7', '5', '4', '5', '9', '7', '1', '2']\n"
     ]
    },
    {
     "name": "stderr",
     "output_type": "stream",
     "text": [
      "<>:5: SyntaxWarning: invalid escape sequence '\\d'\n",
      "<>:5: SyntaxWarning: invalid escape sequence '\\d'\n",
      "C:\\Users\\Navya\\AppData\\Local\\Temp\\ipykernel_7984\\2159610720.py:5: SyntaxWarning: invalid escape sequence '\\d'\n",
      "  print(re.findall(\"\\d\",data,re.I))\n"
     ]
    }
   ],
   "source": [
    "import re\n",
    "data=open(\"data.txt\").read()\n",
    "print(data)\n",
    "print(\"*\"*20)\n",
    "print(re.findall(\"\\d\",data,re.I))"
   ]
  },
  {
   "cell_type": "code",
   "execution_count": 63,
   "id": "786290f4-75c3-4cbc-9486-d1d73b2e5086",
   "metadata": {},
   "outputs": [
    {
     "name": "stdout",
     "output_type": "stream",
     "text": [
      "1,NAME nameacb1,9786754567,one12ER@gamil.com\n",
      "One52ER@gamil.org,2,name2,9786754568\n",
      "9786754577,3,name3,One12ER@gamil.co.in\n",
      "nam132456e4,4,9786754597,TWe12ER@gamil.gov.in\n",
      "********************\n",
      "['1', '1', '9786754567', '12', '52', '2', '2', '9786754568', '9786754577', '3', '3', '12', '132456', '4', '4', '9786754597', '12']\n"
     ]
    },
    {
     "name": "stderr",
     "output_type": "stream",
     "text": [
      "<>:5: SyntaxWarning: invalid escape sequence '\\d'\n",
      "<>:5: SyntaxWarning: invalid escape sequence '\\d'\n",
      "C:\\Users\\Navya\\AppData\\Local\\Temp\\ipykernel_7984\\3213010828.py:5: SyntaxWarning: invalid escape sequence '\\d'\n",
      "  print(re.findall(\"\\d+\",data,re.I))\n"
     ]
    }
   ],
   "source": [
    "import re\n",
    "data=open(\"data.txt\").read()\n",
    "print(data)\n",
    "print(\"*\"*20)\n",
    "print(re.findall(\"\\d+\",data,re.I))"
   ]
  },
  {
   "cell_type": "code",
   "execution_count": 64,
   "id": "6c5bd026-32a0-4bec-97a1-6baf08dae591",
   "metadata": {},
   "outputs": [
    {
     "name": "stdout",
     "output_type": "stream",
     "text": [
      "1,NAME nameacb1,9786754567,one12ER@gamil.com\n",
      "One52ER@gamil.org,2,name2,9786754568\n",
      "9786754577,3,name3,One12ER@gamil.co.in\n",
      "nam132456e4,4,9786754597,TWe12ER@gamil.gov.in\n",
      "********************\n",
      "['9786754567', '9786754568', '9786754577', '9786754597']\n"
     ]
    },
    {
     "name": "stderr",
     "output_type": "stream",
     "text": [
      "<>:5: SyntaxWarning: invalid escape sequence '\\d'\n",
      "<>:5: SyntaxWarning: invalid escape sequence '\\d'\n",
      "C:\\Users\\Navya\\AppData\\Local\\Temp\\ipykernel_7984\\630077903.py:5: SyntaxWarning: invalid escape sequence '\\d'\n",
      "  print(re.findall(\"\\d{10}\",data,re.I))\n"
     ]
    }
   ],
   "source": [
    "import re\n",
    "data=open(\"data.txt\").read()\n",
    "print(data)\n",
    "print(\"*\"*20)\n",
    "print(re.findall(\"\\d{10}\",data,re.I))"
   ]
  },
  {
   "cell_type": "code",
   "execution_count": 65,
   "id": "cf497864-a1f6-4985-b84b-b281d7ea280d",
   "metadata": {},
   "outputs": [
    {
     "name": "stdout",
     "output_type": "stream",
     "text": [
      "1,NAME nameacb1,9786754567,one12ER@gamil.com\n",
      "One52ER@gamil.org,2,name2,9786754568\n",
      "9786754577,3,name3,One12ER@gamil.co.in\n",
      "nam132456e4,4,9786754597,TWe12ER@gamil.gov.in\n",
      "********************\n",
      "[',', 'N', 'A', 'M', 'E', ' ', 'n', 'a', 'm', 'e', 'a', 'c', 'b', ',', ',', 'o', 'n', 'e', 'E', 'R', '@', 'g', 'a', 'm', 'i', 'l', '.', 'c', 'o', 'm', '\\n', 'O', 'n', 'e', 'E', 'R', '@', 'g', 'a', 'm', 'i', 'l', '.', 'o', 'r', 'g', ',', ',', 'n', 'a', 'm', 'e', ',', '\\n', ',', ',', 'n', 'a', 'm', 'e', ',', 'O', 'n', 'e', 'E', 'R', '@', 'g', 'a', 'm', 'i', 'l', '.', 'c', 'o', '.', 'i', 'n', '\\n', 'n', 'a', 'm', 'e', ',', ',', ',', 'T', 'W', 'e', 'E', 'R', '@', 'g', 'a', 'm', 'i', 'l', '.', 'g', 'o', 'v', '.', 'i', 'n']\n"
     ]
    },
    {
     "name": "stderr",
     "output_type": "stream",
     "text": [
      "<>:5: SyntaxWarning: invalid escape sequence '\\D'\n",
      "<>:5: SyntaxWarning: invalid escape sequence '\\D'\n",
      "C:\\Users\\Navya\\AppData\\Local\\Temp\\ipykernel_7984\\2020780150.py:5: SyntaxWarning: invalid escape sequence '\\D'\n",
      "  print(re.findall(\"\\D\",data,re.I))\n"
     ]
    }
   ],
   "source": [
    "import re\n",
    "data=open(\"data.txt\").read()\n",
    "print(data)\n",
    "print(\"*\"*20)\n",
    "print(re.findall(\"\\D\",data,re.I))"
   ]
  },
  {
   "cell_type": "code",
   "execution_count": 66,
   "id": "813a6835-5cfa-4787-a241-eaccd722fce5",
   "metadata": {},
   "outputs": [
    {
     "name": "stdout",
     "output_type": "stream",
     "text": [
      "1,NAME nameacb1,9786754567,one12ER@gamil.com\n",
      "One52ER@gamil.org,2,name2,9786754568\n",
      "9786754577,3,name3,One12ER@gamil.co.in\n",
      "nam132456e4,4,9786754597,TWe12ER@gamil.gov.in\n",
      "********************\n",
      "['1', 'N', 'A', 'M', 'E', 'n', 'a', 'm', 'e', 'a', 'c', 'b', '1', '9', '7', '8', '6', '7', '5', '4', '5', '6', '7', 'o', 'n', 'e', '1', '2', 'E', 'R', 'g', 'a', 'm', 'i', 'l', 'c', 'o', 'm', 'O', 'n', 'e', '5', '2', 'E', 'R', 'g', 'a', 'm', 'i', 'l', 'o', 'r', 'g', '2', 'n', 'a', 'm', 'e', '2', '9', '7', '8', '6', '7', '5', '4', '5', '6', '8', '9', '7', '8', '6', '7', '5', '4', '5', '7', '7', '3', 'n', 'a', 'm', 'e', '3', 'O', 'n', 'e', '1', '2', 'E', 'R', 'g', 'a', 'm', 'i', 'l', 'c', 'o', 'i', 'n', 'n', 'a', 'm', '1', '3', '2', '4', '5', '6', 'e', '4', '4', '9', '7', '8', '6', '7', '5', '4', '5', '9', '7', 'T', 'W', 'e', '1', '2', 'E', 'R', 'g', 'a', 'm', 'i', 'l', 'g', 'o', 'v', 'i', 'n']\n"
     ]
    },
    {
     "name": "stderr",
     "output_type": "stream",
     "text": [
      "<>:5: SyntaxWarning: invalid escape sequence '\\w'\n",
      "<>:5: SyntaxWarning: invalid escape sequence '\\w'\n",
      "C:\\Users\\Navya\\AppData\\Local\\Temp\\ipykernel_7984\\3320417706.py:5: SyntaxWarning: invalid escape sequence '\\w'\n",
      "  print(re.findall(\"\\w\",data,re.I))\n"
     ]
    }
   ],
   "source": [
    "import re\n",
    "data=open(\"data.txt\").read()\n",
    "print(data)\n",
    "print(\"*\"*20)\n",
    "print(re.findall(\"\\w\",data,re.I))"
   ]
  },
  {
   "cell_type": "code",
   "execution_count": 67,
   "id": "8848a819-b8ac-4748-8df7-a4c907cfb57e",
   "metadata": {},
   "outputs": [
    {
     "name": "stdout",
     "output_type": "stream",
     "text": [
      "1,NAME nameacb1,9786754567,one12ER@gamil.com\n",
      "One52ER@gamil.org,2,name2,9786754568\n",
      "9786754577,3,name3,One12ER@gamil.co.in\n",
      "nam132456e4,4,9786754597,TWe12ER@gamil.gov.in\n",
      "********************\n",
      "['1', 'NAME', 'nameacb1', '9786754567', 'one12ER', 'gamil', 'com', 'One52ER', 'gamil', 'org', '2', 'name2', '9786754568', '9786754577', '3', 'name3', 'One12ER', 'gamil', 'co', 'in', 'nam132456e4', '4', '9786754597', 'TWe12ER', 'gamil', 'gov', 'in']\n"
     ]
    },
    {
     "name": "stderr",
     "output_type": "stream",
     "text": [
      "<>:5: SyntaxWarning: invalid escape sequence '\\w'\n",
      "<>:5: SyntaxWarning: invalid escape sequence '\\w'\n",
      "C:\\Users\\Navya\\AppData\\Local\\Temp\\ipykernel_7984\\2203165140.py:5: SyntaxWarning: invalid escape sequence '\\w'\n",
      "  print(re.findall(\"\\w+\",data,re.I))\n"
     ]
    }
   ],
   "source": [
    "import re\n",
    "data=open(\"data.txt\").read()\n",
    "print(data)\n",
    "print(\"*\"*20)\n",
    "print(re.findall(\"\\w+\",data,re.I))"
   ]
  },
  {
   "cell_type": "code",
   "execution_count": 68,
   "id": "0ac13f6d-e237-4e24-b5a0-e6c56de7a85a",
   "metadata": {},
   "outputs": [
    {
     "name": "stdout",
     "output_type": "stream",
     "text": [
      "1,NAME nameacb1,9786754567,one12ER@gamil.com\n",
      "One52ER@gamil.org,2,name2,9786754568\n",
      "9786754577,3,name3,One12ER@gamil.co.in\n",
      "nam132456e4,4,9786754597,TWe12ER@gamil.gov.in\n",
      "********************\n",
      "['one12ER@', 'One52ER@', 'One12ER@', 'TWe12ER@']\n"
     ]
    },
    {
     "name": "stderr",
     "output_type": "stream",
     "text": [
      "<>:5: SyntaxWarning: invalid escape sequence '\\w'\n",
      "<>:5: SyntaxWarning: invalid escape sequence '\\w'\n",
      "C:\\Users\\Navya\\AppData\\Local\\Temp\\ipykernel_7984\\1902957131.py:5: SyntaxWarning: invalid escape sequence '\\w'\n",
      "  print(re.findall(\"\\w+@\",data,re.I))\n"
     ]
    }
   ],
   "source": [
    "import re\n",
    "data=open(\"data.txt\").read()\n",
    "print(data)\n",
    "print(\"*\"*20)\n",
    "print(re.findall(\"\\w+@\",data,re.I))"
   ]
  },
  {
   "cell_type": "code",
   "execution_count": 69,
   "id": "c1b8ad3b-8cdc-4d2b-a6ef-24d44d753fe6",
   "metadata": {},
   "outputs": [
    {
     "data": {
      "text/plain": [
       "\u001b[1;31mSignature:\u001b[0m \u001b[0mre\u001b[0m\u001b[1;33m.\u001b[0m\u001b[0msub\u001b[0m\u001b[1;33m(\u001b[0m\u001b[0mpattern\u001b[0m\u001b[1;33m,\u001b[0m \u001b[0mrepl\u001b[0m\u001b[1;33m,\u001b[0m \u001b[0mstring\u001b[0m\u001b[1;33m,\u001b[0m \u001b[0mcount\u001b[0m\u001b[1;33m=\u001b[0m\u001b[1;36m0\u001b[0m\u001b[1;33m,\u001b[0m \u001b[0mflags\u001b[0m\u001b[1;33m=\u001b[0m\u001b[1;36m0\u001b[0m\u001b[1;33m)\u001b[0m\u001b[1;33m\u001b[0m\u001b[1;33m\u001b[0m\u001b[0m\n",
       "\u001b[1;31mDocstring:\u001b[0m\n",
       "Return the string obtained by replacing the leftmost\n",
       "non-overlapping occurrences of the pattern in string by the\n",
       "replacement repl.  repl can be either a string or a callable;\n",
       "if a string, backslash escapes in it are processed.  If it is\n",
       "a callable, it's passed the Match object and must return\n",
       "a replacement string to be used.\n",
       "\u001b[1;31mFile:\u001b[0m      c:\\users\\navya\\anaconda3\\lib\\re\\__init__.py\n",
       "\u001b[1;31mType:\u001b[0m      function"
      ]
     },
     "metadata": {},
     "output_type": "display_data"
    }
   ],
   "source": [
    "re.sub?"
   ]
  },
  {
   "cell_type": "code",
   "execution_count": 70,
   "id": "5c52594b-b6d1-4625-81ec-c96ac7ccf4e2",
   "metadata": {},
   "outputs": [
    {
     "name": "stdout",
     "output_type": "stream",
     "text": [
      "1,NAME nameacb1,9786754567,one12ER@gamil.com\n",
      "One52ER@gamil.org,2,name2,9786754568\n",
      "9786754577,3,name3,One12ER@gamil.co.in\n",
      "nam132456e4,4,9786754597,TWe12ER@gamil.gov.in\n",
      "********************\n",
      "1,NAME nameacb1,9786754567,ONE12ER@gamil.com\n",
      "One52ER@gamil.ONE2,9786754568\n",
      "9786754577,3,name3,One12ER@gamil.co.in\n",
      "nam132456e4,4,9786754597,TWe12ER@gamil.gov.in\n"
     ]
    }
   ],
   "source": [
    "import re\n",
    "data=open(\"data.txt\").read()\n",
    "print(data)\n",
    "print(\"*\"*20)\n",
    "print(re.sub(\"o.*e\",\"ONE\",data,re.I))"
   ]
  },
  {
   "cell_type": "code",
   "execution_count": 71,
   "id": "5111f27d-5151-4873-9c1d-a565b70f7f7e",
   "metadata": {},
   "outputs": [
    {
     "name": "stdout",
     "output_type": "stream",
     "text": [
      "1,NAME nameacb1,9786754567,one12ER@gamil.com\n",
      "One52ER@gamil.org,2,name2,9786754568\n",
      "9786754577,3,name3,One12ER@gamil.co.in\n",
      "nam132456e4,4,9786754597,TWe12ER@gamil.gov.in\n",
      "********************\n",
      "1,NAME nameacb1,9786754567,ONE12ER@gamil.com\n",
      "One52ER@gamil.ONE2,9786754568\n",
      "9786754577,3,name3,One12ER@gamil.co.in\n",
      "nam132456e4,4,9786754597,TWe12ER@gamil.gov.in\n"
     ]
    }
   ],
   "source": [
    "import re\n",
    "data=open(\"data.txt\").read()\n",
    "print(data)\n",
    "print(\"*\"*20)\n",
    "print(re.sub(\"[o].*e\",\"ONE\",data,re.I))"
   ]
  },
  {
   "cell_type": "code",
   "execution_count": 72,
   "id": "225f5f16-90f8-471d-ba8a-6ba44504e413",
   "metadata": {},
   "outputs": [
    {
     "name": "stdout",
     "output_type": "stream",
     "text": [
      "1,NAME nameacb1,9786754567,one12ER@gamil.com\n",
      "One52ER@gamil.org,2,name2,9786754568\n",
      "9786754577,3,name3,One12ER@gamil.co.in\n",
      "nam132456e4,4,9786754597,TWe12ER@gamil.gov.in\n",
      "********************\n",
      "1,NAME nameacb1,9786754567,ONE12ER@gamil.com\n",
      "ONE2,9786754568\n",
      "9786754577,3,name3,One12ER@gamil.co.in\n",
      "nam132456e4,4,9786754597,TWe12ER@gamil.gov.in\n"
     ]
    }
   ],
   "source": [
    "import re\n",
    "data=open(\"data.txt\").read()\n",
    "print(data)\n",
    "print(\"*\"*20)\n",
    "print(re.sub(\"[oO].*e\",\"ONE\",data,re.I))"
   ]
  },
  {
   "cell_type": "code",
   "execution_count": 73,
   "id": "daf27c00-e8a2-4854-ba8f-bf6b2ab3e763",
   "metadata": {},
   "outputs": [
    {
     "name": "stdout",
     "output_type": "stream",
     "text": [
      "1,NAME nameacb1,9786754567,one12ER@gamil.com\n",
      "One52ER@gamil.org,2,name2,9786754568\n",
      "9786754577,3,name3,One12ER@gamil.co.in\n",
      "nam132456e4,4,9786754597,TWe12ER@gamil.gov.in\n",
      "********************\n",
      "1,NAME nameacb1,9786754567,ONE12ER@gamil.com\n",
      "ONE2,9786754568\n",
      "9786754577,3,name3,ONE12ER@gamil.co.in\n",
      "nam132456e4,4,9786754597,TWe12ER@gamil.gov.in\n"
     ]
    }
   ],
   "source": [
    "import re\n",
    "data=open(\"data.txt\").read()\n",
    "print(data)\n",
    "print(\"*\"*20)\n",
    "print(re.sub(\"[oO].*e\",\"ONE\",data))"
   ]
  },
  {
   "cell_type": "code",
   "execution_count": 74,
   "id": "46eb3e0e-a2a6-4fd2-b9d8-2b5f82005884",
   "metadata": {},
   "outputs": [
    {
     "name": "stdout",
     "output_type": "stream",
     "text": [
      "1,NAME nameacb1,9786754567,one12ER@gamil.com\n",
      "One52ER@gamil.org,2,name2,978675456e8\n",
      "9786754577,3,name3,One12ER@gamil.co.in\n",
      "nam132456e4,4,9786754597,TWe12ER@gamil.gov.in\n",
      "********************\n",
      "1,NAME nameacb1,9786754567,ONE12ER@gamil.com\n",
      "ONE8\n",
      "9786754577,3,name3,ONE12ER@gamil.co.in\n",
      "nam132456e4,4,9786754597,TWe12ER@gamil.gov.in\n"
     ]
    }
   ],
   "source": [
    "import re\n",
    "data=open(\"data.txt\").read()\n",
    "print(data)\n",
    "print(\"*\"*20)\n",
    "print(re.sub(\"[oO].*e\",\"ONE\",data))"
   ]
  },
  {
   "cell_type": "code",
   "execution_count": 75,
   "id": "5ef3d1cc-6e11-4bb2-aace-51387d3d9466",
   "metadata": {},
   "outputs": [
    {
     "name": "stdout",
     "output_type": "stream",
     "text": [
      "1,NAME nameacb1,9786754567,one12ER@gamil.com\n",
      "One52ER@gamil.org,2,name2,978675456e8\n",
      "9786754577,3,name3,One12ER@gamil.co.in\n",
      "nam132456e4,4,9786754597,TWe12ER@gamil.gov.in\n",
      "********************\n",
      "1,NAME nameacb1,9786754567,ONE12ER@gamil.com\n",
      "ONE52ER@gamil.ONE2,978675456e8\n",
      "9786754577,3,name3,ONE12ER@gamil.co.in\n",
      "nam132456e4,4,9786754597,TWe12ER@gamil.gov.in\n"
     ]
    }
   ],
   "source": [
    "import re\n",
    "data=open(\"data.txt\").read()\n",
    "print(data)\n",
    "print(\"*\"*20)\n",
    "print(re.sub(\"[oO].*?e\",\"ONE\",data))"
   ]
  },
  {
   "cell_type": "code",
   "execution_count": 76,
   "id": "38ee7a2e-e551-4ba6-9484-cb451558f4d9",
   "metadata": {},
   "outputs": [
    {
     "name": "stdout",
     "output_type": "stream",
     "text": [
      "1,NAME onameacb1,9786754567,one12ER@gamil.com\n",
      "One52ER@gamil.org,2,name2,978675456e8\n",
      "9786754577,3,name3,One12ER@gamil.co.in\n",
      "nam132456e4,4,9786754597,TWe12ER@gamil.gov.in\n",
      "********************\n",
      "1,NAME ONEacb1,9786754567,ONE12ER@gamil.com\n",
      "ONE52ER@gamil.ONE2,978675456e8\n",
      "9786754577,3,name3,ONE12ER@gamil.co.in\n",
      "nam132456e4,4,9786754597,TWe12ER@gamil.gov.in\n"
     ]
    }
   ],
   "source": [
    "import re\n",
    "data=open(\"data.txt\").read()\n",
    "print(data)\n",
    "print(\"*\"*20)\n",
    "print(re.sub(\"[oO].*?e\",\"ONE\",data))"
   ]
  },
  {
   "cell_type": "code",
   "execution_count": 77,
   "id": "eb00e20d-b5df-4354-8fd1-2be88e0e6221",
   "metadata": {},
   "outputs": [
    {
     "name": "stdout",
     "output_type": "stream",
     "text": [
      "1,NAME onameacb1,9786754567,onoe12ER@gamil.com\n",
      "One52ER@gamil.org,2,name2,978675456e8\n",
      "9786754577,3,name3,One12ER@gamil.co.in\n",
      "nam132456e4,4,9786754597,TWe12ER@gamil.gov.in\n",
      "********************\n",
      "['onoe12ER@', 'One52ER@', 'One12ER@', 'TWe12ER@']\n"
     ]
    },
    {
     "name": "stderr",
     "output_type": "stream",
     "text": [
      "<>:5: SyntaxWarning: invalid escape sequence '\\w'\n",
      "<>:5: SyntaxWarning: invalid escape sequence '\\w'\n",
      "C:\\Users\\Navya\\AppData\\Local\\Temp\\ipykernel_7984\\1902957131.py:5: SyntaxWarning: invalid escape sequence '\\w'\n",
      "  print(re.findall(\"\\w+@\",data,re.I))\n"
     ]
    }
   ],
   "source": [
    "import re\n",
    "data=open(\"data.txt\").read()\n",
    "print(data)\n",
    "print(\"*\"*20)\n",
    "print(re.findall(\"\\w+@\",data,re.I))"
   ]
  },
  {
   "cell_type": "code",
   "execution_count": 78,
   "id": "ad15d44a-68f2-4f98-a076-bad014ba6ed3",
   "metadata": {},
   "outputs": [
    {
     "name": "stdout",
     "output_type": "stream",
     "text": [
      "1,NAME onameacb1,9786754567,onoe12ER@gamil.com\n",
      "One52ER@gamil.org,2,name2,978675456e8\n",
      "9786754577,3,name3,One12ER@gamil.co.in\n",
      "nam132456e4,4,9786754597,TWe12ER@gamil.gov.in\n",
      "********************\n",
      "<callable_iterator object at 0x0000023BEC18F0A0>\n"
     ]
    },
    {
     "name": "stderr",
     "output_type": "stream",
     "text": [
      "<>:5: SyntaxWarning: invalid escape sequence '\\w'\n",
      "<>:5: SyntaxWarning: invalid escape sequence '\\w'\n",
      "C:\\Users\\Navya\\AppData\\Local\\Temp\\ipykernel_7984\\3595512206.py:5: SyntaxWarning: invalid escape sequence '\\w'\n",
      "  print(re.finditer(\"\\w+@\",data,re.I))\n"
     ]
    }
   ],
   "source": [
    "import re\n",
    "data=open(\"data.txt\").read()\n",
    "print(data)\n",
    "print(\"*\"*20)\n",
    "print(re.finditer(\"\\w+@\",data,re.I))"
   ]
  },
  {
   "cell_type": "code",
   "execution_count": 79,
   "id": "40aa742c-b701-400a-a955-71a8283a4302",
   "metadata": {},
   "outputs": [
    {
     "name": "stdout",
     "output_type": "stream",
     "text": [
      "1,NAME onameacb1,9786754567,onoe12ER@gamil.com\n",
      "One52ER@gamil.org,2,name2,978675456e8\n",
      "9786754577,3,name3,One12ER@gamil.co.in\n",
      "nam132456e4,4,9786754597,TWe12ER@gamil.gov.in\n",
      "********************\n",
      "<re.Match object; span=(28, 37), match='onoe12ER@'>\n",
      "<re.Match object; span=(47, 55), match='One52ER@'>\n",
      "<re.Match object; span=(104, 112), match='One12ER@'>\n",
      "<re.Match object; span=(149, 157), match='TWe12ER@'>\n"
     ]
    },
    {
     "name": "stderr",
     "output_type": "stream",
     "text": [
      "<>:5: SyntaxWarning: invalid escape sequence '\\w'\n",
      "<>:5: SyntaxWarning: invalid escape sequence '\\w'\n",
      "C:\\Users\\Navya\\AppData\\Local\\Temp\\ipykernel_7984\\712687305.py:5: SyntaxWarning: invalid escape sequence '\\w'\n",
      "  for i in re.finditer(\"\\w+@\",data,re.I):\n"
     ]
    }
   ],
   "source": [
    "import re\n",
    "data=open(\"data.txt\").read()\n",
    "print(data)\n",
    "print(\"*\"*20)\n",
    "for i in re.finditer(\"\\w+@\",data,re.I):\n",
    "    print(i)"
   ]
  },
  {
   "cell_type": "code",
   "execution_count": 80,
   "id": "70ab6cd5-fec7-482a-bb0b-9f1892ccc1d9",
   "metadata": {},
   "outputs": [
    {
     "name": "stderr",
     "output_type": "stream",
     "text": [
      "<>:5: SyntaxWarning: invalid escape sequence '\\w'\n",
      "<>:5: SyntaxWarning: invalid escape sequence '\\w'\n",
      "C:\\Users\\Navya\\AppData\\Local\\Temp\\ipykernel_7984\\2482462543.py:5: SyntaxWarning: invalid escape sequence '\\w'\n",
      "  for i in re.finditer(\"\\w+@\",data,re.I):\n"
     ]
    },
    {
     "name": "stdout",
     "output_type": "stream",
     "text": [
      "1,NAME onameacb1,9786754567,onoe12ER@gamil.com\n",
      "One52ER@gamil.org,2,name2,978675456e8\n",
      "9786754577,3,name3,One12ER@gamil.co.in\n",
      "nam132456e4,4,9786754597,TWe12ER@gamil.gov.in\n",
      "********************\n"
     ]
    },
    {
     "name": "stderr",
     "output_type": "stream",
     "text": [
      "C:\\Users\\Navya\\AppData\\Local\\Temp\\ipykernel_7984\\2482462543.py:5: SyntaxWarning: invalid escape sequence '\\w'\n",
      "  for i in re.finditer(\"\\w+@\",data,re.I):\n"
     ]
    },
    {
     "ename": "TypeError",
     "evalue": "'builtin_function_or_method' object is not subscriptable",
     "output_type": "error",
     "traceback": [
      "\u001b[1;31m---------------------------------------------------------------------------\u001b[0m",
      "\u001b[1;31mTypeError\u001b[0m                                 Traceback (most recent call last)",
      "Cell \u001b[1;32mIn[80], line 6\u001b[0m\n\u001b[0;32m      4\u001b[0m \u001b[38;5;28mprint\u001b[39m(\u001b[38;5;124m\"\u001b[39m\u001b[38;5;124m*\u001b[39m\u001b[38;5;124m\"\u001b[39m\u001b[38;5;241m*\u001b[39m\u001b[38;5;241m20\u001b[39m)\n\u001b[0;32m      5\u001b[0m \u001b[38;5;28;01mfor\u001b[39;00m i \u001b[38;5;129;01min\u001b[39;00m re\u001b[38;5;241m.\u001b[39mfinditer(\u001b[38;5;124m\"\u001b[39m\u001b[38;5;124m\\\u001b[39m\u001b[38;5;124mw+@\u001b[39m\u001b[38;5;124m\"\u001b[39m,data,re\u001b[38;5;241m.\u001b[39mI):\n\u001b[1;32m----> 6\u001b[0m     \u001b[38;5;28mprint\u001b[39m(i\u001b[38;5;241m.\u001b[39mgroups[\u001b[38;5;241m0\u001b[39m])\n",
      "\u001b[1;31mTypeError\u001b[0m: 'builtin_function_or_method' object is not subscriptable"
     ]
    }
   ],
   "source": [
    "import re\n",
    "data=open(\"data.txt\").read()\n",
    "print(data)\n",
    "print(\"*\"*20)\n",
    "for i in re.finditer(\"\\w+@\",data,re.I):\n",
    "    print(i.groups[0])"
   ]
  },
  {
   "cell_type": "code",
   "execution_count": 81,
   "id": "2ab7b818-51e0-48af-9b8e-7b48f9434cab",
   "metadata": {},
   "outputs": [
    {
     "name": "stdout",
     "output_type": "stream",
     "text": [
      "1,NAME onameacb1,9786754567,onoe12ER@gamil.com\n",
      "One52ER@gamil.org,2,name2,978675456e8\n",
      "9786754577,3,name3,One12ER@gamil.co.in\n",
      "nam132456e4,4,9786754597,TWe12ER@gamil.gov.in\n",
      "********************\n",
      "<built-in method group of re.Match object at 0x0000023BECF1FC40>\n",
      "<built-in method group of re.Match object at 0x0000023BEC181540>\n",
      "<built-in method group of re.Match object at 0x0000023BECF1FC40>\n",
      "<built-in method group of re.Match object at 0x0000023BEC181540>\n"
     ]
    },
    {
     "name": "stderr",
     "output_type": "stream",
     "text": [
      "<>:5: SyntaxWarning: invalid escape sequence '\\w'\n",
      "<>:5: SyntaxWarning: invalid escape sequence '\\w'\n",
      "C:\\Users\\Navya\\AppData\\Local\\Temp\\ipykernel_7984\\1677347599.py:5: SyntaxWarning: invalid escape sequence '\\w'\n",
      "  for i in re.finditer(\"\\w+@\",data,re.I):\n"
     ]
    }
   ],
   "source": [
    "import re\n",
    "data=open(\"data.txt\").read()\n",
    "print(data)\n",
    "print(\"*\"*20)\n",
    "for i in re.finditer(\"\\w+@\",data,re.I):\n",
    "    print(i.group)"
   ]
  },
  {
   "cell_type": "code",
   "execution_count": 82,
   "id": "8be2b6c7-4a08-4efe-9a1e-18eed0d17969",
   "metadata": {},
   "outputs": [
    {
     "name": "stdout",
     "output_type": "stream",
     "text": [
      "1,NAME onameacb1,9786754567,onoe12ER@gamil.com\n",
      "One52ER@gamil.org,2,name2,978675456e8\n",
      "9786754577,3,name3,One12ER@gamil.co.in\n",
      "nam132456e4,4,9786754597,TWe12ER@gamil.gov.in\n",
      "********************\n"
     ]
    },
    {
     "name": "stderr",
     "output_type": "stream",
     "text": [
      "<>:5: SyntaxWarning: invalid escape sequence '\\w'\n",
      "<>:5: SyntaxWarning: invalid escape sequence '\\w'\n",
      "C:\\Users\\Navya\\AppData\\Local\\Temp\\ipykernel_7984\\128998464.py:5: SyntaxWarning: invalid escape sequence '\\w'\n",
      "  for i in re.finditer(\"\\w+@\",data,re.I):\n",
      "C:\\Users\\Navya\\AppData\\Local\\Temp\\ipykernel_7984\\128998464.py:5: SyntaxWarning: invalid escape sequence '\\w'\n",
      "  for i in re.finditer(\"\\w+@\",data,re.I):\n"
     ]
    },
    {
     "ename": "TypeError",
     "evalue": "'builtin_function_or_method' object is not subscriptable",
     "output_type": "error",
     "traceback": [
      "\u001b[1;31m---------------------------------------------------------------------------\u001b[0m",
      "\u001b[1;31mTypeError\u001b[0m                                 Traceback (most recent call last)",
      "Cell \u001b[1;32mIn[82], line 6\u001b[0m\n\u001b[0;32m      4\u001b[0m \u001b[38;5;28mprint\u001b[39m(\u001b[38;5;124m\"\u001b[39m\u001b[38;5;124m*\u001b[39m\u001b[38;5;124m\"\u001b[39m\u001b[38;5;241m*\u001b[39m\u001b[38;5;241m20\u001b[39m)\n\u001b[0;32m      5\u001b[0m \u001b[38;5;28;01mfor\u001b[39;00m i \u001b[38;5;129;01min\u001b[39;00m re\u001b[38;5;241m.\u001b[39mfinditer(\u001b[38;5;124m\"\u001b[39m\u001b[38;5;124m\\\u001b[39m\u001b[38;5;124mw+@\u001b[39m\u001b[38;5;124m\"\u001b[39m,data,re\u001b[38;5;241m.\u001b[39mI):\n\u001b[1;32m----> 6\u001b[0m     \u001b[38;5;28mprint\u001b[39m(i\u001b[38;5;241m.\u001b[39mgroup[\u001b[38;5;241m0\u001b[39m])\n",
      "\u001b[1;31mTypeError\u001b[0m: 'builtin_function_or_method' object is not subscriptable"
     ]
    }
   ],
   "source": [
    "import re\n",
    "data=open(\"data.txt\").read()\n",
    "print(data)\n",
    "print(\"*\"*20)\n",
    "for i in re.finditer(\"\\w+@\",data,re.I):\n",
    "    print(i.group[0])"
   ]
  },
  {
   "cell_type": "code",
   "execution_count": 83,
   "id": "7321465d-5d52-4bda-a593-e4fa42f35bc4",
   "metadata": {},
   "outputs": [
    {
     "name": "stdout",
     "output_type": "stream",
     "text": [
      "['__class__', '__class_getitem__', '__copy__', '__deepcopy__', '__delattr__', '__dir__', '__doc__', '__eq__', '__format__', '__ge__', '__getattribute__', '__getitem__', '__getstate__', '__gt__', '__hash__', '__init__', '__init_subclass__', '__le__', '__lt__', '__module__', '__ne__', '__new__', '__reduce__', '__reduce_ex__', '__repr__', '__setattr__', '__sizeof__', '__str__', '__subclasshook__', 'end', 'endpos', 'expand', 'group', 'groupdict', 'groups', 'lastgroup', 'lastindex', 'pos', 're', 'regs', 'span', 'start', 'string']\n"
     ]
    }
   ],
   "source": [
    "print(dir(i))"
   ]
  },
  {
   "cell_type": "code",
   "execution_count": 86,
   "id": "423e3d3b-45a9-441c-b2d4-356bb48b13f9",
   "metadata": {},
   "outputs": [
    {
     "data": {
      "text/plain": [
       "{}"
      ]
     },
     "execution_count": 86,
     "metadata": {},
     "output_type": "execute_result"
    }
   ],
   "source": [
    "i.groupdict()"
   ]
  },
  {
   "cell_type": "code",
   "execution_count": 87,
   "id": "9599c45d-9225-42af-9e05-dea608469bd0",
   "metadata": {},
   "outputs": [
    {
     "name": "stdout",
     "output_type": "stream",
     "text": [
      "1,NAME onameacb1,9786754567,onoe12ER@gamil.com\n",
      "One52ER@gamil.org,2,name2,978675456e8\n",
      "9786754577,3,name3,One12ER@gamil.co.in\n",
      "nam132456e4,4,9786754597,TWe12ER@gamil.gov.in\n",
      "********************\n",
      "{}\n",
      "{}\n",
      "{}\n",
      "{}\n"
     ]
    },
    {
     "name": "stderr",
     "output_type": "stream",
     "text": [
      "<>:5: SyntaxWarning: invalid escape sequence '\\w'\n",
      "<>:5: SyntaxWarning: invalid escape sequence '\\w'\n",
      "C:\\Users\\Navya\\AppData\\Local\\Temp\\ipykernel_7984\\2121218932.py:5: SyntaxWarning: invalid escape sequence '\\w'\n",
      "  for i in re.finditer(\"\\w+@\",data,re.I):\n"
     ]
    }
   ],
   "source": [
    "import re\n",
    "data=open(\"data.txt\").read()\n",
    "print(data)\n",
    "print(\"*\"*20)\n",
    "for i in re.finditer(\"\\w+@\",data,re.I):\n",
    "    print(i.groupdict())"
   ]
  },
  {
   "cell_type": "code",
   "execution_count": 88,
   "id": "67264c8d-fffc-4f2b-a9e9-3cd60a315c02",
   "metadata": {},
   "outputs": [
    {
     "name": "stdout",
     "output_type": "stream",
     "text": [
      "1,NAME onameacb1,9786754567,onoe12ER@gamil.com\n",
      "One52ER@gamil.org,2,name2,978675456e8\n",
      "9786754577,3,name3,One12ER@gamil.co.in\n",
      "nam132456e4,4,9786754597,TWe12ER@gamil.gov.in\n",
      "********************\n",
      "onoe12ER@\n",
      "One52ER@\n",
      "One12ER@\n",
      "TWe12ER@\n"
     ]
    },
    {
     "name": "stderr",
     "output_type": "stream",
     "text": [
      "<>:5: SyntaxWarning: invalid escape sequence '\\w'\n",
      "<>:5: SyntaxWarning: invalid escape sequence '\\w'\n",
      "C:\\Users\\Navya\\AppData\\Local\\Temp\\ipykernel_7984\\2362790691.py:5: SyntaxWarning: invalid escape sequence '\\w'\n",
      "  for i in re.finditer(\"\\w+@\",data,re.I):\n"
     ]
    }
   ],
   "source": [
    "import re\n",
    "data=open(\"data.txt\").read()\n",
    "print(data)\n",
    "print(\"*\"*20)\n",
    "for i in re.finditer(\"\\w+@\",data,re.I):\n",
    "    print(i.group(0))"
   ]
  },
  {
   "cell_type": "code",
   "execution_count": null,
   "id": "bf2f97e5-e130-4d88-975e-f5b93fffa17e",
   "metadata": {},
   "outputs": [],
   "source": []
  }
 ],
 "metadata": {
  "kernelspec": {
   "display_name": "Python 3 (ipykernel)",
   "language": "python",
   "name": "python3"
  },
  "language_info": {
   "codemirror_mode": {
    "name": "ipython",
    "version": 3
   },
   "file_extension": ".py",
   "mimetype": "text/x-python",
   "name": "python",
   "nbconvert_exporter": "python",
   "pygments_lexer": "ipython3",
   "version": "3.12.7"
  }
 },
 "nbformat": 4,
 "nbformat_minor": 5
}
