{
 "cells": [
  {
   "cell_type": "code",
   "execution_count": 1,
   "id": "7d87f7ef",
   "metadata": {},
   "outputs": [
    {
     "name": "stdout",
     "output_type": "stream",
     "text": [
      "enter a value:1234\n",
      "1234 <class 'str'>\n"
     ]
    }
   ],
   "source": [
    "a=input(\"enter a value:\")\n",
    "print(a, type(a))"
   ]
  },
  {
   "cell_type": "code",
   "execution_count": 2,
   "id": "e775fe31",
   "metadata": {},
   "outputs": [
    {
     "name": "stdout",
     "output_type": "stream",
     "text": [
      "enter a value:12.34\n",
      "12.34 <class 'str'>\n"
     ]
    }
   ],
   "source": [
    "a=input(\"enter a value:\")\n",
    "print(a, type(a))"
   ]
  },
  {
   "cell_type": "code",
   "execution_count": 3,
   "id": "9799e7f3",
   "metadata": {},
   "outputs": [
    {
     "name": "stdout",
     "output_type": "stream",
     "text": [
      "enter a value:[1,2,3,4]\n",
      "[1,2,3,4] <class 'str'>\n"
     ]
    }
   ],
   "source": [
    "a=input(\"enter a value:\")\n",
    "print(a, type(a))"
   ]
  },
  {
   "cell_type": "code",
   "execution_count": 4,
   "id": "2991eeef",
   "metadata": {},
   "outputs": [
    {
     "name": "stdout",
     "output_type": "stream",
     "text": [
      "enter a value:(10,20,30)\n",
      "(10,20,30) <class 'str'>\n"
     ]
    }
   ],
   "source": [
    "a=input(\"enter a value:\")\n",
    "print(a, type(a))"
   ]
  },
  {
   "cell_type": "code",
   "execution_count": 5,
   "id": "41bc78be",
   "metadata": {},
   "outputs": [
    {
     "name": "stdout",
     "output_type": "stream",
     "text": [
      "[1,2,3,4] <class 'str'>\n"
     ]
    }
   ],
   "source": [
    "l=\"[1,2,3,4]\"\n",
    "print(l, type(l))"
   ]
  },
  {
   "cell_type": "code",
   "execution_count": 6,
   "id": "5534a877",
   "metadata": {},
   "outputs": [
    {
     "name": "stdout",
     "output_type": "stream",
     "text": [
      "Enter value:12\n",
      "Enter value:34\n",
      "1234\n"
     ]
    }
   ],
   "source": [
    "a=input(\"Enter value:\")\n",
    "b=input(\"Enter value:\")\n",
    "print(a+b)"
   ]
  },
  {
   "cell_type": "code",
   "execution_count": 7,
   "id": "6342eb64",
   "metadata": {},
   "outputs": [
    {
     "name": "stdout",
     "output_type": "stream",
     "text": [
      "Enter value:12\n",
      "Enter value:34\n",
      "46\n"
     ]
    }
   ],
   "source": [
    "a=input(\"Enter value:\")\n",
    "b=input(\"Enter value:\")\n",
    "print(int(a)+int(b))"
   ]
  },
  {
   "cell_type": "code",
   "execution_count": 8,
   "id": "a235c326",
   "metadata": {},
   "outputs": [
    {
     "name": "stdout",
     "output_type": "stream",
     "text": [
      "Enter value:12\n",
      "Enter value:34\n",
      "1234\n"
     ]
    }
   ],
   "source": [
    "a=input(\"Enter value:\")\n",
    "b=input(\"Enter value:\")\n",
    "print(int(a+b))"
   ]
  },
  {
   "cell_type": "code",
   "execution_count": 9,
   "id": "ad46d595",
   "metadata": {},
   "outputs": [
    {
     "name": "stdout",
     "output_type": "stream",
     "text": [
      "12 <class 'str'>\n",
      "12 <class 'int'>\n"
     ]
    }
   ],
   "source": [
    "a=\"12\"\n",
    "b=int(a)\n",
    "print(a, type(a))\n",
    "print(b, type(b))"
   ]
  },
  {
   "cell_type": "code",
   "execution_count": 10,
   "id": "a654b26f",
   "metadata": {},
   "outputs": [
    {
     "ename": "ValueError",
     "evalue": "invalid literal for int() with base 10: '12.34'",
     "output_type": "error",
     "traceback": [
      "\u001b[1;31m---------------------------------------------------------------------------\u001b[0m",
      "\u001b[1;31mValueError\u001b[0m                                Traceback (most recent call last)",
      "Cell \u001b[1;32mIn[10], line 2\u001b[0m\n\u001b[0;32m      1\u001b[0m a\u001b[38;5;241m=\u001b[39m\u001b[38;5;124m\"\u001b[39m\u001b[38;5;124m12.34\u001b[39m\u001b[38;5;124m\"\u001b[39m\n\u001b[1;32m----> 2\u001b[0m b\u001b[38;5;241m=\u001b[39m\u001b[38;5;28mint\u001b[39m(a)\n\u001b[0;32m      3\u001b[0m \u001b[38;5;28mprint\u001b[39m(a, \u001b[38;5;28mtype\u001b[39m(a))\n\u001b[0;32m      4\u001b[0m \u001b[38;5;28mprint\u001b[39m(b, \u001b[38;5;28mtype\u001b[39m(b))\n",
      "\u001b[1;31mValueError\u001b[0m: invalid literal for int() with base 10: '12.34'"
     ]
    }
   ],
   "source": [
    "a=\"12.34\"\n",
    "b=int(a)\n",
    "print(a, type(a))\n",
    "print(b, type(b))"
   ]
  },
  {
   "cell_type": "code",
   "execution_count": 11,
   "id": "eac243a8",
   "metadata": {},
   "outputs": [
    {
     "name": "stdout",
     "output_type": "stream",
     "text": [
      "1234 <class 'str'>\n",
      "1234 <class 'int'>\n"
     ]
    }
   ],
   "source": [
    "a=\"1234\"\n",
    "b=int(a)\n",
    "print(a, type(a))\n",
    "print(b, type(b))"
   ]
  },
  {
   "cell_type": "code",
   "execution_count": 12,
   "id": "a844b140",
   "metadata": {},
   "outputs": [
    {
     "name": "stdout",
     "output_type": "stream",
     "text": [
      "12.34 <class 'str'>\n",
      "12.34 <class 'float'>\n",
      "12 <class 'int'>\n"
     ]
    }
   ],
   "source": [
    "a=\"12.34\"\n",
    "print(a, type(a))\n",
    "b=float(a)\n",
    "print(b, type(b))\n",
    "c=int(b)\n",
    "print(c, type(c))"
   ]
  },
  {
   "cell_type": "code",
   "execution_count": 13,
   "id": "4ab6be55",
   "metadata": {},
   "outputs": [
    {
     "name": "stdout",
     "output_type": "stream",
     "text": [
      "12.34 <class 'float'>\n",
      "12 <class 'int'>\n"
     ]
    }
   ],
   "source": [
    "a=12.34\n",
    "b=int(a)\n",
    "print(a, type(a))\n",
    "print(b, type(b))"
   ]
  },
  {
   "cell_type": "code",
   "execution_count": 14,
   "id": "f5baf4d9",
   "metadata": {},
   "outputs": [
    {
     "name": "stdout",
     "output_type": "stream",
     "text": [
      "Enter a value:12\n",
      "Enter a value:34\n",
      "46.0\n"
     ]
    }
   ],
   "source": [
    "a=float(input(\"Enter a value:\"))\n",
    "b=float(input(\"Enter a value:\"))\n",
    "print(a+b)"
   ]
  },
  {
   "cell_type": "code",
   "execution_count": 15,
   "id": "41c571b2",
   "metadata": {},
   "outputs": [
    {
     "name": "stdout",
     "output_type": "stream",
     "text": [
      "Enter a value:12\n",
      "Enter a value:34.56\n",
      "46.56\n"
     ]
    }
   ],
   "source": [
    "a=float(input(\"Enter a value:\"))\n",
    "b=float(input(\"Enter a value:\"))\n",
    "print(a+b)"
   ]
  },
  {
   "cell_type": "code",
   "execution_count": 16,
   "id": "86b5d725",
   "metadata": {},
   "outputs": [
    {
     "data": {
      "text/plain": [
       "52"
      ]
     },
     "execution_count": 16,
     "metadata": {},
     "output_type": "execute_result"
    }
   ],
   "source": [
    "int(\"52\")"
   ]
  },
  {
   "cell_type": "code",
   "execution_count": 17,
   "id": "71453a65",
   "metadata": {},
   "outputs": [
    {
     "name": "stdout",
     "output_type": "stream",
     "text": [
      "52 52\n"
     ]
    }
   ],
   "source": [
    "a=int(\"52\")#decimal number: 10\n",
    "b=2*10**0+5*10**1\n",
    "print(a,b)"
   ]
  },
  {
   "cell_type": "code",
   "execution_count": 18,
   "id": "fad99fdf",
   "metadata": {},
   "outputs": [
    {
     "name": "stdout",
     "output_type": "stream",
     "text": [
      "101\n"
     ]
    }
   ],
   "source": [
    "a=int(\"101\")\n",
    "print(a)"
   ]
  },
  {
   "cell_type": "code",
   "execution_count": 19,
   "id": "8268cab2",
   "metadata": {},
   "outputs": [
    {
     "name": "stdout",
     "output_type": "stream",
     "text": [
      "5\n"
     ]
    }
   ],
   "source": [
    "a=int(\"101\", base=2)\n",
    "print(a)"
   ]
  },
  {
   "cell_type": "code",
   "execution_count": 20,
   "id": "1e932ebd",
   "metadata": {},
   "outputs": [
    {
     "name": "stdout",
     "output_type": "stream",
     "text": [
      "5\n",
      "5\n"
     ]
    }
   ],
   "source": [
    "a=int(\"101\", base=2)\n",
    "print(a)\n",
    "b=1*2**0+0*2**1+1*2**2\n",
    "print(b)"
   ]
  },
  {
   "cell_type": "code",
   "execution_count": 21,
   "id": "04af326c",
   "metadata": {},
   "outputs": [
    {
     "name": "stdout",
     "output_type": "stream",
     "text": [
      "17\n",
      "17\n"
     ]
    }
   ],
   "source": [
    "a=int(\"101\", base=4)\n",
    "print(a)\n",
    "b=1*4**0+0*4**1+1*4**2\n",
    "print(b)"
   ]
  },
  {
   "cell_type": "code",
   "execution_count": 22,
   "id": "82c48275",
   "metadata": {},
   "outputs": [
    {
     "ename": "ValueError",
     "evalue": "invalid literal for int() with base 4: '1014'",
     "output_type": "error",
     "traceback": [
      "\u001b[1;31m---------------------------------------------------------------------------\u001b[0m",
      "\u001b[1;31mValueError\u001b[0m                                Traceback (most recent call last)",
      "Cell \u001b[1;32mIn[22], line 1\u001b[0m\n\u001b[1;32m----> 1\u001b[0m a\u001b[38;5;241m=\u001b[39m\u001b[38;5;28mint\u001b[39m(\u001b[38;5;124m\"\u001b[39m\u001b[38;5;124m1014\u001b[39m\u001b[38;5;124m\"\u001b[39m, base\u001b[38;5;241m=\u001b[39m\u001b[38;5;241m4\u001b[39m)\n\u001b[0;32m      2\u001b[0m \u001b[38;5;28mprint\u001b[39m(a)\n",
      "\u001b[1;31mValueError\u001b[0m: invalid literal for int() with base 4: '1014'"
     ]
    }
   ],
   "source": [
    "a=int(\"1014\", base=4)\n",
    "print(a)"
   ]
  },
  {
   "cell_type": "code",
   "execution_count": 23,
   "id": "6332ecb7",
   "metadata": {},
   "outputs": [
    {
     "name": "stdout",
     "output_type": "stream",
     "text": [
      "18140\n"
     ]
    }
   ],
   "source": [
    "a=int(\"10123130\", base=4)\n",
    "print(a)"
   ]
  },
  {
   "cell_type": "code",
   "execution_count": 24,
   "id": "2e74b8ab",
   "metadata": {},
   "outputs": [
    {
     "ename": "ValueError",
     "evalue": "invalid literal for int() with base 10: 'abcd'",
     "output_type": "error",
     "traceback": [
      "\u001b[1;31m---------------------------------------------------------------------------\u001b[0m",
      "\u001b[1;31mValueError\u001b[0m                                Traceback (most recent call last)",
      "Cell \u001b[1;32mIn[24], line 1\u001b[0m\n\u001b[1;32m----> 1\u001b[0m \u001b[38;5;28mint\u001b[39m(\u001b[38;5;124m\"\u001b[39m\u001b[38;5;124mabcd\u001b[39m\u001b[38;5;124m\"\u001b[39m)\n",
      "\u001b[1;31mValueError\u001b[0m: invalid literal for int() with base 10: 'abcd'"
     ]
    }
   ],
   "source": [
    "int(\"abcd\")"
   ]
  },
  {
   "cell_type": "code",
   "execution_count": 25,
   "id": "7aaa51e9",
   "metadata": {},
   "outputs": [
    {
     "data": {
      "text/plain": [
       "43981"
      ]
     },
     "execution_count": 25,
     "metadata": {},
     "output_type": "execute_result"
    }
   ],
   "source": [
    "int(\"abcd\", base=16)"
   ]
  },
  {
   "cell_type": "code",
   "execution_count": 26,
   "id": "11932b23",
   "metadata": {},
   "outputs": [
    {
     "name": "stdout",
     "output_type": "stream",
     "text": [
      "2783\n",
      "2783\n"
     ]
    }
   ],
   "source": [
    "a=int(\"adf\", base=16)\n",
    "#a=10,b=11,c=12,d=13,e=14,f=15\n",
    "b=15*16**0+13*16**1+10*16**2\n",
    "print(a)\n",
    "print(b)"
   ]
  },
  {
   "cell_type": "code",
   "execution_count": null,
   "id": "fb030899",
   "metadata": {},
   "outputs": [],
   "source": []
  }
 ],
 "metadata": {
  "kernelspec": {
   "display_name": "Python 3 (ipykernel)",
   "language": "python",
   "name": "python3"
  },
  "language_info": {
   "codemirror_mode": {
    "name": "ipython",
    "version": 3
   },
   "file_extension": ".py",
   "mimetype": "text/x-python",
   "name": "python",
   "nbconvert_exporter": "python",
   "pygments_lexer": "ipython3",
   "version": "3.11.3"
  }
 },
 "nbformat": 4,
 "nbformat_minor": 5
}
